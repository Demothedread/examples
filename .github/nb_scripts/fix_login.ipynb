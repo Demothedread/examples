{
 "cells": [
  {
   "cell_type": "code",
   "execution_count": 51,
   "metadata": {},
   "outputs": [],
   "source": [
    "import nbformat\n",
    "from pathlib import Path\n",
    "from nb_helpers.utils import find_nbs"
   ]
  },
  {
   "cell_type": "code",
   "execution_count": 52,
   "metadata": {},
   "outputs": [],
   "source": [
    "nbs_paths = find_nbs(Path.cwd())"
   ]
  },
  {
   "cell_type": "code",
   "execution_count": 53,
   "metadata": {},
   "outputs": [
    {
     "data": {
      "text/plain": [
       "Path('/Users/tcapelle/work/examples/colabs/boosting/Credit_Scorecards_with_XGBoost_and_W&B.ipynb')"
      ]
     },
     "execution_count": 53,
     "metadata": {},
     "output_type": "execute_result"
    }
   ],
   "source": [
    "nb_path = nbs_paths[3]\n",
    "nb_path"
   ]
  },
  {
   "cell_type": "code",
   "execution_count": 54,
   "metadata": {},
   "outputs": [],
   "source": [
    "def idx_login_cell(nb, delete_line=True):\n",
    "    for i, cell in enumerate(nb[\"cells\"]):\n",
    "        if cell[\"cell_type\"] == \"code\":\n",
    "            if \"login\" in cell[\"source\"]:\n",
    "                if delete_line:\n",
    "                    cell_content = cell[\"source\"].split(\"\\n\")\n",
    "                    cell_content = [line for line in cell_content if \"login\" not in line]\n",
    "                    cell[\"source\"] = \"\\n\".join(cell_content)                  \n",
    "                return i"
   ]
  },
  {
   "cell_type": "code",
   "execution_count": 55,
   "metadata": {},
   "outputs": [],
   "source": [
    "nb = nbformat.read(nb_path, 4)"
   ]
  },
  {
   "cell_type": "code",
   "execution_count": 56,
   "metadata": {},
   "outputs": [],
   "source": [
    "cell = nb[\"cells\"][1]"
   ]
  },
  {
   "cell_type": "code",
   "execution_count": 57,
   "metadata": {},
   "outputs": [
    {
     "data": {
      "text/plain": [
       "nbformat.notebooknode.NotebookNode"
      ]
     },
     "execution_count": 57,
     "metadata": {},
     "output_type": "execute_result"
    }
   ],
   "source": [
    "type(cell)"
   ]
  },
  {
   "cell_type": "code",
   "execution_count": 58,
   "metadata": {},
   "outputs": [
    {
     "data": {
      "text/plain": [
       "{'attachments': {},\n",
       " 'cell_type': 'markdown',\n",
       " 'metadata': {},\n",
       " 'source': '<img src=\"http://wandb.me/logo-im-png\" width=\"400\" alt=\"Weights & Biases\" /><br>\\n\\n<!--- @wandbcode{xgboost_vehicle_loan_default} -->\\n\\n<img src=\"http://wandb.me/mini-diagram\" width=\"600\" alt=\"Weights & Biases\" />'}"
      ]
     },
     "execution_count": 58,
     "metadata": {},
     "output_type": "execute_result"
    }
   ],
   "source": [
    "cell"
   ]
  },
  {
   "cell_type": "code",
   "execution_count": 59,
   "metadata": {},
   "outputs": [],
   "source": [
    "login_idx = idx_login_cell(nb)"
   ]
  },
  {
   "cell_type": "code",
   "execution_count": 60,
   "metadata": {},
   "outputs": [],
   "source": [
    "def insert_login_cell(nb, idx, code=\"!wandb login\"):\n",
    "    n_cells = len(nb[\"cells\"])\n",
    "    login_cell = nbformat.v4.new_code_cell(source=code)\n",
    "    nb[\"cells\"].insert(idx+1, login_cell)\n",
    "    return nb"
   ]
  },
  {
   "cell_type": "code",
   "execution_count": 61,
   "metadata": {},
   "outputs": [],
   "source": [
    "nb = insert_login_cell(nb, login_idx)"
   ]
  },
  {
   "cell_type": "code",
   "execution_count": 62,
   "metadata": {},
   "outputs": [
    {
     "data": {
      "text/plain": [
       "{'cell_type': 'code',\n",
       " 'execution_count': None,\n",
       " 'metadata': {},\n",
       " 'outputs': [],\n",
       " 'source': \"import wandb\\n\\nWANDB_PROJECT ='vehicle_loan_default'\"}"
      ]
     },
     "execution_count": 62,
     "metadata": {},
     "output_type": "execute_result"
    }
   ],
   "source": [
    "nb[\"cells\"][login_idx] "
   ]
  },
  {
   "cell_type": "code",
   "execution_count": 63,
   "metadata": {},
   "outputs": [
    {
     "data": {
      "text/plain": [
       "{'id': 'ff6708eb',\n",
       " 'cell_type': 'code',\n",
       " 'metadata': {},\n",
       " 'execution_count': None,\n",
       " 'source': '!wandb login',\n",
       " 'outputs': []}"
      ]
     },
     "execution_count": 63,
     "metadata": {},
     "output_type": "execute_result"
    }
   ],
   "source": [
    "nb[\"cells\"][login_idx+1] "
   ]
  },
  {
   "cell_type": "code",
   "execution_count": 64,
   "metadata": {},
   "outputs": [
    {
     "data": {
      "text/plain": [
       "{'attachments': {},\n",
       " 'cell_type': 'markdown',\n",
       " 'metadata': {},\n",
       " 'source': '## Vehicle Loan Dataset\\n\\nWe will be using a simplified version of the [Vehicle Loan Default Prediction dataset](https://www.kaggle.com/sneharshinde/ltfs-av-data) from L&T which has been stored in W&B Artifacts. '}"
      ]
     },
     "execution_count": 64,
     "metadata": {},
     "output_type": "execute_result"
    }
   ],
   "source": [
    "nb[\"cells\"][login_idx+2] "
   ]
  },
  {
   "cell_type": "code",
   "execution_count": 65,
   "metadata": {},
   "outputs": [],
   "source": [
    "def remove_properties(nb, props=[\"id\", \"idx_\", \"path_\"]):\n",
    "    for cell in nb[\"cells\"]:\n",
    "        for prop in props:\n",
    "            cell.pop(prop, None)\n",
    "    return nb\n",
    "\n",
    "def remove_empty_cells(nb):\n",
    "    nb[\"cells\"] = [cell for cell in nb[\"cells\"] if cell[\"source\"] != \"\"]\n",
    "    return nb"
   ]
  },
  {
   "cell_type": "code",
   "execution_count": 66,
   "metadata": {},
   "outputs": [],
   "source": [
    "nb = remove_properties(nb)\n",
    "nb = remove_empty_cells(nb)"
   ]
  },
  {
   "cell_type": "code",
   "execution_count": 67,
   "metadata": {},
   "outputs": [],
   "source": [
    "for nb_path in nbs_paths:\n",
    "    nb = nbformat.read(nb_path, 4)\n",
    "    login_idx = idx_login_cell(nb)\n",
    "    if login_idx is not None:\n",
    "        nb = insert_login_cell(nb, login_idx)\n",
    "        # delete path_ attribute\n",
    "    nb.pop(\"path_\", None)\n",
    "    nb = remove_properties(nb)\n",
    "    nb = remove_empty_cells(nb)\n",
    "    nbformat.validate(nb)\n",
    "    nbformat.write(nb, nb_path)"
   ]
  },
  {
   "cell_type": "code",
   "execution_count": null,
   "metadata": {},
   "outputs": [],
   "source": []
  }
 ],
 "metadata": {
  "kernelspec": {
   "display_name": "nbdev2",
   "language": "python",
   "name": "python3"
  },
  "language_info": {
   "codemirror_mode": {
    "name": "ipython",
    "version": 3
   },
   "file_extension": ".py",
   "mimetype": "text/x-python",
   "name": "python",
   "nbconvert_exporter": "python",
   "pygments_lexer": "ipython3",
   "version": "3.10.6"
  },
  "orig_nbformat": 4
 },
 "nbformat": 4,
 "nbformat_minor": 2
}
