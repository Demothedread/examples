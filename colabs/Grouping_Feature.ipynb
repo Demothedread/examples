{
 "accelerator": "GPU",
 "cells": [
  {
   "cell_type": "markdown",
   "id": "f4b74399",
   "metadata": {},
   "source": [
    "<a href=\"https://colab.research.google.com/github/wandb/examples/blob/master/colabs/Grouping_Feature.ipynb\" target=\"_parent\"><img src=\"https://colab.research.google.com/assets/colab-badge.svg\" alt=\"Open In Colab\"/></a>",
    ""
   ]
  },
  {
   "cell_type": "markdown",
   "metadata": {},
   "source": [
    "# Weights & Biases Grouping\n",
    "From your script, use grouping to organize individual runs into larger experiments. This is useful for distributed training and cross validation.\n",
    "\n",
    "In `wandb.init()`: \n",
    "- **group**: the first level of organization, usually this is your unique experiment name\n",
    "- **job_type**: the second level of grouping, this is often `train`, `eval`, `optimizer`, `rollout` etc.\n",
    "\n",
    "**Links**\n",
    "- [Documentation](https://docs.wandb.ai/library/grouping)\n",
    "- [Example project](https://wandb.ai/carey/group-demo?workspace=user-carey)\n",
    "- [Example dedicated group page](https://wandb.ai/carey/group-demo/groups/exp_5?workspace=user-carey)"
   ]
  },
  {
   "cell_type": "code",
   "execution_count": null,
   "metadata": {},
   "outputs": [],
   "source": [
    "!pip install wandb -qqq"
   ]
  },
  {
   "cell_type": "markdown",
   "metadata": {},
   "source": [
    "In this example, I'm setting the experiment index up front, and then incrementing it every time I re-run the cell below."
   ]
  },
  {
   "cell_type": "code",
   "execution_count": null,
   "metadata": {},
   "outputs": [],
   "source": [
    "# Set experiment index (for demo purposes)\n",
    "experiment_index = 1"
   ]
  },
  {
   "cell_type": "code",
   "execution_count": null,
   "metadata": {},
   "outputs": [],
   "source": [
    "# Simulate launching multiple different jobs that log to the same experiment\n",
    "\n",
    "import wandb\n",
    "import math\n",
    "import random\n",
    "\n",
    "for i in range(5):\n",
    "  job_type = \"rollout\"\n",
    "  if i == 2:\n",
    "    job_type = \"eval\"\n",
    "  if i == 3:\n",
    "    job_type = \"eval2\"\n",
    "  if i == 4:\n",
    "    job_type = \"optimizer\"\n",
    "\n",
    "  # Set group and job_type to see auto-grouping in the UI\n",
    "  wandb.init(project=\"group-demo\", \n",
    "             group=\"exp_\" + str(experiment_index), \n",
    "             job_type=job_type)\n",
    "\n",
    "  for j in range(100):\n",
    "    acc = 0.1 * (math.log(1 + j + .1) + random.random())\n",
    "    val_acc = 0.1 * (math.log(1+ j + 2) + random.random() + random.random())\n",
    "    if (j % 10 == 0):\n",
    "      wandb.log({\"acc\":acc, \"val_acc\":val_acc})\n",
    "  \n",
    "  # Using this to mark a run complete in a notebook context\n",
    "  wandb.finish()\n",
    "\n",
    "# I'm incrementing this so you can re-run this cell and get another experiment\n",
    "# grouped in the W&B UI\n",
    "experiment_index += 1"
   ]
  }
 ],
 "metadata": {
  "kernelspec": {
   "display_name": "Python 3",
   "name": "python3"
  }
 },
 "nbformat": 4,
 "nbformat_minor": 0
}
