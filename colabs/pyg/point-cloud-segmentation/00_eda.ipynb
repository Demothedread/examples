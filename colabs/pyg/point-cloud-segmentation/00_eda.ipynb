{
 "cells": [
  {
   "cell_type": "markdown",
   "id": "57500bde-8f7c-4e37-aff7-3aea89793d2f",
   "metadata": {},
   "source": [
    "# 🔥🔥 Explore ShapeNet Dataset using PyTorch Geometric and Weights & Biases 🪄🐝\n",
    "\n",
    "<!--- @wandbcode{pyg-dgcnn-train} -->\n",
    "\n",
    "This notebook demonstrates how to fetch and load the ShapeNet dataset for point cloud classification and segmentation tasks using [PyTorch Geometric](https://www.pyg.org/) and explore the dataset using [Weights & Biases](https://wandb.ai/site).\n",
    "\n",
    "If you wish to know how to train and evaluate the model on the ShapeNetCore dataset using Weights & Biases, you can check out the following notebooks:\n",
    "\n",
    "**Train DGCNN:** [![](https://colab.research.google.com/assets/colab-badge.svg)]()\n",
    "\n",
    "**Evaluate DGCNN:** [![](https://colab.research.google.com/assets/colab-badge.svg)]()"
   ]
  },
  {
   "cell_type": "markdown",
   "id": "3fffd9cb-f1c6-4b1b-9de9-dc66f7d09f1f",
   "metadata": {},
   "source": [
    "# Install Required Packages"
   ]
  },
  {
   "cell_type": "code",
   "execution_count": null,
   "id": "f7fc4b41-2b6f-4624-bdd7-dfa2decae773",
   "metadata": {},
   "outputs": [],
   "source": [
    "import os\n",
    "import torch\n",
    "os.environ['TORCH'] = torch.__version__\n",
    "print(torch.__version__)"
   ]
  },
  {
   "cell_type": "code",
   "execution_count": null,
   "id": "45e8441e-3b6d-4b24-abb9-deccbcc6c64a",
   "metadata": {},
   "outputs": [],
   "source": [
    "!pip install -q torch-scatter -f https://data.pyg.org/whl/torch-${TORCH}.html\n",
    "!pip install -q torch-sparse -f https://data.pyg.org/whl/torch-${TORCH}.html\n",
    "!pip install -q torch-cluster -f https://data.pyg.org/whl/torch-${TORCH}.html\n",
    "!pip install -q git+https://github.com/pyg-team/pytorch_geometric.git\n",
    "!pip install -q wandb"
   ]
  },
  {
   "cell_type": "markdown",
   "id": "8040f1cd-cf19-4028-a1f6-0009c8dda7aa",
   "metadata": {},
   "source": [
    "## Import Libraries"
   ]
  },
  {
   "cell_type": "code",
   "execution_count": 1,
   "id": "f110ae50-84a9-4bb0-83d5-7f45f21a2b61",
   "metadata": {},
   "outputs": [],
   "source": [
    "import os\n",
    "\n",
    "import wandb\n",
    "import numpy as np\n",
    "from tqdm.auto import tqdm\n",
    "\n",
    "import torch\n",
    "import torch.nn.functional as F\n",
    "from torch_scatter import scatter\n",
    "from torchmetrics.functional import jaccard_index\n",
    "\n",
    "import torch_geometric.transforms as T\n",
    "from torch_geometric.datasets import ShapeNet\n",
    "from torch_geometric.loader import DataLoader\n",
    "from torch_geometric.nn import MLP, DynamicEdgeConv"
   ]
  },
  {
   "cell_type": "code",
   "execution_count": 2,
   "id": "2a83ea19-e50e-410c-a539-6eccdb68ae71",
   "metadata": {},
   "outputs": [
    {
     "name": "stderr",
     "output_type": "stream",
     "text": [
      "\u001b[34m\u001b[1mwandb\u001b[0m: Currently logged in as: \u001b[33mgeekyrakshit\u001b[0m. Use \u001b[1m`wandb login --relogin`\u001b[0m to force relogin\n"
     ]
    },
    {
     "data": {
      "text/html": [
       "wandb version 0.13.7 is available!  To upgrade, please run:\n",
       " $ pip install wandb --upgrade"
      ],
      "text/plain": [
       "<IPython.core.display.HTML object>"
      ]
     },
     "metadata": {},
     "output_type": "display_data"
    },
    {
     "data": {
      "text/html": [
       "Tracking run with wandb version 0.13.6"
      ],
      "text/plain": [
       "<IPython.core.display.HTML object>"
      ]
     },
     "metadata": {},
     "output_type": "display_data"
    },
    {
     "data": {
      "text/html": [
       "Run data is saved locally in <code>/home/jupyter/segmentation/wandb/run-20221215_134912-3kj31zqa</code>"
      ],
      "text/plain": [
       "<IPython.core.display.HTML object>"
      ]
     },
     "metadata": {},
     "output_type": "display_data"
    },
    {
     "data": {
      "text/html": [
       "Syncing run <strong><a href=\"https://wandb.ai/geekyrakshit/point-cloud-segmentation/runs/3kj31zqa\" target=\"_blank\">twilight-sponge-23</a></strong> to <a href=\"https://wandb.ai/geekyrakshit/point-cloud-segmentation\" target=\"_blank\">Weights & Biases</a> (<a href=\"https://wandb.me/run\" target=\"_blank\">docs</a>)<br/>"
      ],
      "text/plain": [
       "<IPython.core.display.HTML object>"
      ]
     },
     "metadata": {},
     "output_type": "display_data"
    }
   ],
   "source": [
    "wandb_project = \"pyg-point-cloud\" #@param {\"type\": \"string\"}\n",
    "wandb_run_name = \"evaluate-dgcnn\" #@param {\"type\": \"string\"}\n",
    "\n",
    "wandb.init(project=wandb_project, name=wandb_run_name, job_type=\"visualize\")\n",
    "\n",
    "config = wandb.config\n",
    "config.category = 'Airplane' #@param [\"Bag\", \"Cap\", \"Car\", \"Chair\", \"Earphone\", \"Guitar\", \"Knife\", \"Lamp\", \"Laptop\", \"Motorbike\", \"Mug\", \"Pistol\", \"Rocket\", \"Skateboard\", \"Table\"] {type:\"raw\"}\n",
    "\n",
    "path = os.path.join('ShapeNet', config.category)\n",
    "pre_transform = T.NormalizeScale()\n",
    "train_dataset = ShapeNet(path, config.category, split='trainval', pre_transform=pre_transform)\n",
    "test_dataset = ShapeNet(path, config.category, split='test', pre_transform=pre_transform)"
   ]
  },
  {
   "cell_type": "markdown",
   "id": "35c96004-0dad-420d-b5f3-e01795d563ee",
   "metadata": {},
   "source": [
    "## Visualize Train-Val Dataset"
   ]
  },
  {
   "cell_type": "code",
   "execution_count": 3,
   "id": "010dba04-fa80-4a2b-9176-dadeeb23ca65",
   "metadata": {},
   "outputs": [
    {
     "data": {
      "application/vnd.jupyter.widget-view+json": {
       "model_id": "dcecf488644748a4a6ed23a4bcacb54b",
       "version_major": 2,
       "version_minor": 0
      },
      "text/plain": [
       "  0%|          | 0/2349 [00:00<?, ?it/s]"
      ]
     },
     "metadata": {},
     "output_type": "display_data"
    }
   ],
   "source": [
    "segmentation_class_frequency = {}\n",
    "for idx in tqdm(range(len(train_dataset))):\n",
    "    pc_viz = train_dataset[idx].pos.numpy().tolist()\n",
    "    segmentation_label = train_dataset[idx].y.numpy().tolist()\n",
    "    for label in set(segmentation_label):\n",
    "        segmentation_class_frequency[label] = segmentation_label.count(label)\n",
    "\n",
    "class_offset = min(list(segmentation_class_frequency.keys()))"
   ]
  },
  {
   "cell_type": "code",
   "execution_count": 4,
   "id": "f29f2964-31eb-4375-a1f4-c5bb120b8232",
   "metadata": {},
   "outputs": [
    {
     "data": {
      "application/vnd.jupyter.widget-view+json": {
       "model_id": "ad48c5ffcb4342689d7968724562e5fe",
       "version_major": 2,
       "version_minor": 0
      },
      "text/plain": [
       "  0%|          | 0/2349 [00:00<?, ?it/s]"
      ]
     },
     "metadata": {},
     "output_type": "display_data"
    }
   ],
   "source": [
    "table = wandb.Table(columns=[\n",
    "    \"Point-Cloud\", \"Segmentation-Class-Frequency\", \"Model-Category\", \"Split\"\n",
    "])\n",
    "for idx in tqdm(range(len(train_dataset))):\n",
    "    pc_viz = train_dataset[idx].pos.numpy().tolist()\n",
    "    segmentation_label = train_dataset[idx].y.numpy().tolist()\n",
    "    \n",
    "    frequency_dict = {key: 0 for key in segmentation_class_frequency.keys()}\n",
    "    for label in set(segmentation_label):\n",
    "        frequency_dict[label] = segmentation_label.count(label)\n",
    "    \n",
    "    for j in range(len(pc_viz)):\n",
    "        pc_viz[j] += [segmentation_label[j] + 1 - class_offset]\n",
    "    \n",
    "    table.add_data(\n",
    "        wandb.Object3D(np.array(pc_viz)), frequency_dict, config.category, \"Train-Val\"\n",
    "    )"
   ]
  },
  {
   "cell_type": "code",
   "execution_count": 5,
   "id": "33adc481-bc6f-4773-adc9-1d4fb6a82e2d",
   "metadata": {},
   "outputs": [],
   "source": [
    "data = [[key, segmentation_class_frequency[key]] for key in segmentation_class_frequency.keys()]\n",
    "wandb.log({\n",
    "    f\"ShapeNet Class-Frequency Distribution for {config.category} Train-Val Set\" : wandb.plot.bar(\n",
    "        wandb.Table(data=data, columns = [\"Class\", \"Frequency\"]),\n",
    "        \"Class\", \"Frequency\",\n",
    "        title=f\"ShapeNet Class-Frequency Distribution for {config.category} Train-Val Set\"\n",
    "    )\n",
    "})"
   ]
  },
  {
   "cell_type": "markdown",
   "id": "2e71c385-1b0f-428c-8559-e2fac1816261",
   "metadata": {},
   "source": [
    "## Visualize Test Dataset"
   ]
  },
  {
   "cell_type": "code",
   "execution_count": 6,
   "id": "f893cc65-779b-426b-bc9c-397c7894957a",
   "metadata": {},
   "outputs": [
    {
     "data": {
      "application/vnd.jupyter.widget-view+json": {
       "model_id": "9fdf0de471364e9e9f38ed2c9868ca3e",
       "version_major": 2,
       "version_minor": 0
      },
      "text/plain": [
       "  0%|          | 0/341 [00:00<?, ?it/s]"
      ]
     },
     "metadata": {},
     "output_type": "display_data"
    }
   ],
   "source": [
    "segmentation_class_frequency = {}\n",
    "for idx in tqdm(range(len(test_dataset))):\n",
    "    pc_viz = train_dataset[idx].pos.numpy().tolist()\n",
    "    segmentation_label = train_dataset[idx].y.numpy().tolist()\n",
    "    for label in set(segmentation_label):\n",
    "        segmentation_class_frequency[label] = segmentation_label.count(label)"
   ]
  },
  {
   "cell_type": "code",
   "execution_count": 7,
   "id": "c8001b95-57d0-43b5-9092-d874ddbca536",
   "metadata": {},
   "outputs": [
    {
     "data": {
      "application/vnd.jupyter.widget-view+json": {
       "model_id": "6fc1ae247c9b4ef0abeade76cbf197c8",
       "version_major": 2,
       "version_minor": 0
      },
      "text/plain": [
       "  0%|          | 0/341 [00:00<?, ?it/s]"
      ]
     },
     "metadata": {},
     "output_type": "display_data"
    }
   ],
   "source": [
    "for idx in tqdm(range(len(test_dataset))):\n",
    "    pc_viz = train_dataset[idx].pos.numpy().tolist()\n",
    "    segmentation_label = train_dataset[idx].y.numpy().tolist()\n",
    "    \n",
    "    frequency_dict = {key: 0 for key in segmentation_class_frequency.keys()}\n",
    "    for label in set(segmentation_label):\n",
    "        frequency_dict[label] = segmentation_label.count(label)\n",
    "    \n",
    "    for j in range(len(pc_viz)):\n",
    "        pc_viz[j] += [segmentation_label[j] + 1 - class_offset]\n",
    "    \n",
    "    table.add_data(\n",
    "        wandb.Object3D(np.array(pc_viz)), frequency_dict, config.category, \"Test\"\n",
    "    )\n",
    "\n",
    "wandb.log({\"ShapeNet-Dataset\": table})"
   ]
  },
  {
   "cell_type": "code",
   "execution_count": 8,
   "id": "e8cbb460-32ca-4814-9890-11cee3f3e22a",
   "metadata": {},
   "outputs": [],
   "source": [
    "data = [[key, segmentation_class_frequency[key]] for key in segmentation_class_frequency.keys()]\n",
    "wandb.log({\n",
    "    f\"ShapeNet Class-Frequency Distribution for Test Set\" : wandb.plot.bar(\n",
    "        wandb.Table(data=data, columns = [\"Class\", \"Frequency\"]),\n",
    "        \"Class\", \"Frequency\",\n",
    "        title=f\"ShapeNet Class-Frequency Distribution for Test Set\"\n",
    "    )\n",
    "})"
   ]
  },
  {
   "cell_type": "code",
   "execution_count": 9,
   "id": "d592a642-4ca7-40f8-af69-0a8b3b2693a8",
   "metadata": {},
   "outputs": [
    {
     "data": {
      "text/html": [
       "Waiting for W&B process to finish... <strong style=\"color:green\">(success).</strong>"
      ],
      "text/plain": [
       "<IPython.core.display.HTML object>"
      ]
     },
     "metadata": {},
     "output_type": "display_data"
    },
    {
     "data": {
      "text/html": [
       "Synced <strong style=\"color:#cdcd00\">twilight-sponge-23</strong>: <a href=\"https://wandb.ai/geekyrakshit/point-cloud-segmentation/runs/3kj31zqa\" target=\"_blank\">https://wandb.ai/geekyrakshit/point-cloud-segmentation/runs/3kj31zqa</a><br/>Synced 5 W&B file(s), 3 media file(s), 2352 artifact file(s) and 0 other file(s)"
      ],
      "text/plain": [
       "<IPython.core.display.HTML object>"
      ]
     },
     "metadata": {},
     "output_type": "display_data"
    },
    {
     "data": {
      "text/html": [
       "Find logs at: <code>./wandb/run-20221215_134912-3kj31zqa/logs</code>"
      ],
      "text/plain": [
       "<IPython.core.display.HTML object>"
      ]
     },
     "metadata": {},
     "output_type": "display_data"
    }
   ],
   "source": [
    "wandb.finish()"
   ]
  },
  {
   "cell_type": "code",
   "execution_count": null,
   "id": "e7364297-0751-4dc5-9661-4043d243018c",
   "metadata": {},
   "outputs": [],
   "source": []
  }
 ],
 "metadata": {
  "kernelspec": {
   "display_name": "Python 3 (ipykernel) (Local)",
   "language": "python",
   "name": "local-python3"
  },
  "language_info": {
   "codemirror_mode": {
    "name": "ipython",
    "version": 3
   },
   "file_extension": ".py",
   "mimetype": "text/x-python",
   "name": "python",
   "nbconvert_exporter": "python",
   "pygments_lexer": "ipython3",
   "version": "3.7.12"
  }
 },
 "nbformat": 4,
 "nbformat_minor": 5
}
