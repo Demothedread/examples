{
 "cells": [
  {
   "cell_type": "code",
   "execution_count": null,
   "id": "f110ae50-84a9-4bb0-83d5-7f45f21a2b61",
   "metadata": {},
   "outputs": [],
   "source": [
    "import os\n",
    "\n",
    "import wandb\n",
    "import numpy as np\n",
    "from tqdm.auto import tqdm\n",
    "\n",
    "import torch\n",
    "import torch.nn.functional as F\n",
    "from torch_scatter import scatter\n",
    "from torchmetrics.functional import jaccard_index\n",
    "\n",
    "import torch_geometric.transforms as T\n",
    "from torch_geometric.datasets import ShapeNet\n",
    "from torch_geometric.loader import DataLoader\n",
    "from torch_geometric.nn import MLP, DynamicEdgeConv"
   ]
  },
  {
   "cell_type": "code",
   "execution_count": null,
   "id": "2a83ea19-e50e-410c-a539-6eccdb68ae71",
   "metadata": {},
   "outputs": [],
   "source": [
    "wandb.init(project=\"point-cloud-segmentation\", entity=\"geekyrakshit\", job_type=\"visualize\")\n",
    "\n",
    "config = wandb.config\n",
    "config.category = 'Airplane'\n",
    "\n",
    "path = os.path.join('ShapeNet', config.category)\n",
    "pre_transform = T.NormalizeScale()\n",
    "train_dataset = ShapeNet(path, config.category, split='trainval', pre_transform=pre_transform)\n",
    "test_dataset = ShapeNet(path, config.category, split='test', pre_transform=pre_transform)"
   ]
  },
  {
   "cell_type": "markdown",
   "id": "35c96004-0dad-420d-b5f3-e01795d563ee",
   "metadata": {},
   "source": [
    "## Visualize Train-Val Dataset"
   ]
  },
  {
   "cell_type": "code",
   "execution_count": null,
   "id": "010dba04-fa80-4a2b-9176-dadeeb23ca65",
   "metadata": {},
   "outputs": [],
   "source": [
    "segmentation_class_frequency = {}\n",
    "for idx in tqdm(range(len(train_dataset))):\n",
    "    pc_viz = train_dataset[idx].pos.numpy().tolist()\n",
    "    segmentation_label = train_dataset[idx].y.numpy().tolist()\n",
    "    for label in set(segmentation_label):\n",
    "        segmentation_class_frequency[label] = segmentation_label.count(label)\n",
    "\n",
    "class_offset = min(list(segmentation_class_frequency.keys()))"
   ]
  },
  {
   "cell_type": "code",
   "execution_count": null,
   "id": "f29f2964-31eb-4375-a1f4-c5bb120b8232",
   "metadata": {},
   "outputs": [],
   "source": [
    "table = wandb.Table(columns=[\n",
    "    \"Point-Cloud\", \"Segmentation-Class-Frequency\", \"Model-Category\", \"Split\"\n",
    "])\n",
    "for idx in tqdm(range(len(train_dataset))):\n",
    "    pc_viz = train_dataset[idx].pos.numpy().tolist()\n",
    "    segmentation_label = train_dataset[idx].y.numpy().tolist()\n",
    "    \n",
    "    frequency_dict = {key: 0 for key in segmentation_class_frequency.keys()}\n",
    "    for label in set(segmentation_label):\n",
    "        frequency_dict[label] = segmentation_label.count(label)\n",
    "    \n",
    "    for j in range(len(pc_viz)):\n",
    "        pc_viz[j] += [segmentation_label[j] + 1 - class_offset]\n",
    "    \n",
    "    table.add_data(\n",
    "        wandb.Object3D(np.array(pc_viz)), frequency_dict, config.category, \"Train-Val\"\n",
    "    )"
   ]
  },
  {
   "cell_type": "code",
   "execution_count": null,
   "id": "33adc481-bc6f-4773-adc9-1d4fb6a82e2d",
   "metadata": {},
   "outputs": [],
   "source": [
    "data = [[key, segmentation_class_frequency[key]] for key in segmentation_class_frequency.keys()]\n",
    "wandb.log({\n",
    "    f\"ShapeNet Class-Frequency Distribution for {config.category} Train-Val Set\" : wandb.plot.bar(\n",
    "        wandb.Table(data=data, columns = [\"Class\", \"Frequency\"]),\n",
    "        \"Class\", \"Frequency\",\n",
    "        title=f\"ShapeNet Class-Frequency Distribution for {config.category} Train-Val Set\"\n",
    "    )\n",
    "})"
   ]
  },
  {
   "cell_type": "markdown",
   "id": "2e71c385-1b0f-428c-8559-e2fac1816261",
   "metadata": {},
   "source": [
    "## Visualize Test Dataset"
   ]
  },
  {
   "cell_type": "code",
   "execution_count": null,
   "id": "f893cc65-779b-426b-bc9c-397c7894957a",
   "metadata": {},
   "outputs": [],
   "source": [
    "segmentation_class_frequency = {}\n",
    "for idx in tqdm(range(len(test_dataset))):\n",
    "    pc_viz = train_dataset[idx].pos.numpy().tolist()\n",
    "    segmentation_label = train_dataset[idx].y.numpy().tolist()\n",
    "    for label in set(segmentation_label):\n",
    "        segmentation_class_frequency[label] = segmentation_label.count(label)"
   ]
  },
  {
   "cell_type": "code",
   "execution_count": null,
   "id": "c8001b95-57d0-43b5-9092-d874ddbca536",
   "metadata": {},
   "outputs": [],
   "source": [
    "for idx in tqdm(range(len(test_dataset))):\n",
    "    pc_viz = train_dataset[idx].pos.numpy().tolist()\n",
    "    segmentation_label = train_dataset[idx].y.numpy().tolist()\n",
    "    \n",
    "    frequency_dict = {key: 0 for key in segmentation_class_frequency.keys()}\n",
    "    for label in set(segmentation_label):\n",
    "        frequency_dict[label] = segmentation_label.count(label)\n",
    "    \n",
    "    for j in range(len(pc_viz)):\n",
    "        pc_viz[j] += [segmentation_label[j] + 1 - class_offset]\n",
    "    \n",
    "    table.add_data(\n",
    "        wandb.Object3D(np.array(pc_viz)), frequency_dict, config.category, \"Test\"\n",
    "    )\n",
    "\n",
    "wandb.log({\"ShapeNet-Dataset\": table})"
   ]
  },
  {
   "cell_type": "code",
   "execution_count": null,
   "id": "e8cbb460-32ca-4814-9890-11cee3f3e22a",
   "metadata": {},
   "outputs": [],
   "source": [
    "data = [[key, segmentation_class_frequency[key]] for key in segmentation_class_frequency.keys()]\n",
    "wandb.log({\n",
    "    f\"ShapeNet Class-Frequency Distribution for Test Set\" : wandb.plot.bar(\n",
    "        wandb.Table(data=data, columns = [\"Class\", \"Frequency\"]),\n",
    "        \"Class\", \"Frequency\",\n",
    "        title=f\"ShapeNet Class-Frequency Distribution for Test Set\"\n",
    "    )\n",
    "})"
   ]
  },
  {
   "cell_type": "code",
   "execution_count": null,
   "id": "d592a642-4ca7-40f8-af69-0a8b3b2693a8",
   "metadata": {},
   "outputs": [],
   "source": [
    "wandb.finish()"
   ]
  },
  {
   "cell_type": "code",
   "execution_count": null,
   "id": "e7364297-0751-4dc5-9661-4043d243018c",
   "metadata": {},
   "outputs": [],
   "source": []
  }
 ],
 "metadata": {
  "kernelspec": {
   "display_name": "Python 3 (ipykernel) (Local)",
   "language": "python",
   "name": "local-python3"
  },
  "language_info": {
   "codemirror_mode": {
    "name": "ipython",
    "version": 3
   },
   "file_extension": ".py",
   "mimetype": "text/x-python",
   "name": "python",
   "nbconvert_exporter": "python",
   "pygments_lexer": "ipython3",
   "version": "3.7.12"
  }
 },
 "nbformat": 4,
 "nbformat_minor": 5
}
