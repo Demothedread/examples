{
 "cells": [
  {
   "attachments": {},
   "cell_type": "markdown",
   "id": "927cc500",
   "metadata": {},
   "source": [
    "# 🔥🔥 Explore ModelNet Datasets using PyTorch Geometric and Weights & Biases 🪄🐝\n",
    "\n",
    "<!--- @wandbcode{pyg-modelnet-eda} -->"
   ]
  },
  {
   "attachments": {},
   "cell_type": "markdown",
   "id": "73b8e385",
   "metadata": {},
   "source": [
    "## Install Required Libraries"
   ]
  },
  {
   "cell_type": "code",
   "execution_count": null,
   "id": "c0e582cd-7d1e-4223-8352-a0b1a05f5adf",
   "metadata": {},
   "outputs": [],
   "source": [
    "import os\n",
    "import torch\n",
    "os.environ['TORCH'] = torch.__version__\n",
    "print(torch.__version__)"
   ]
  },
  {
   "attachments": {},
   "cell_type": "markdown",
   "id": "3441841e",
   "metadata": {},
   "source": [
    "We now install PyTorch Geometric according to our PyTorch Version. We also install Weights & Biases."
   ]
  },
  {
   "cell_type": "code",
   "execution_count": null,
   "id": "cb6c2bcc",
   "metadata": {},
   "outputs": [],
   "source": [
    "!pip install -q torch-scatter -f https://data.pyg.org/whl/torch-${TORCH}.html\n",
    "!pip install -q torch-sparse -f https://data.pyg.org/whl/torch-${TORCH}.html\n",
    "!pip install -q torch-cluster -f https://data.pyg.org/whl/torch-${TORCH}.html\n",
    "!pip install -q git+https://github.com/pyg-team/pytorch_geometric.git\n",
    "!pip install -q wandb"
   ]
  },
  {
   "attachments": {},
   "cell_type": "markdown",
   "id": "8f2cdd46",
   "metadata": {},
   "source": [
    "### Import Libraries"
   ]
  },
  {
   "cell_type": "code",
   "execution_count": null,
   "id": "bac559ed-172f-4fd3-b558-b0a659764fd0",
   "metadata": {},
   "outputs": [],
   "source": [
    "from glob import glob\n",
    "from PIL import Image\n",
    "from tqdm.auto import tqdm\n",
    "\n",
    "import wandb\n",
    "\n",
    "import torch\n",
    "import torch.nn.functional as F\n",
    "\n",
    "import numpy as np\n",
    "import networkx as nx\n",
    "import matplotlib.pyplot as plt\n",
    "from pyvis.network import Network\n",
    "from mpl_toolkits.mplot3d import Axes3D\n",
    "\n",
    "import torch_geometric.transforms as T\n",
    "from torch_geometric.datasets import ModelNet\n",
    "from torch_geometric.loader import DataLoader\n",
    "from torch_geometric.utils import to_networkx\n",
    "from torch_geometric.nn import knn_graph, radius_graph"
   ]
  },
  {
   "attachments": {},
   "cell_type": "markdown",
   "id": "1bd2a644",
   "metadata": {},
   "source": [
    "## Initialize Weights & Biases\n",
    "\n",
    "We need to call [`wandb.init()`](https://docs.wandb.ai/ref/python/init) once at the beginning of our program to initialize a new job. This creates a new run in W&B and launches a background process to sync data."
   ]
  },
  {
   "cell_type": "code",
   "execution_count": null,
   "id": "8aa7a7d3-e763-4d9e-a05b-1ffde74ef569",
   "metadata": {},
   "outputs": [],
   "source": [
    "wandb_project = \"pyg-point-cloud\" #@param {\"type\": \"string\"}\n",
    "wandb_run_name = \"modelnet10/train/sampling-comparison\" #@param {\"type\": \"string\"}\n",
    "\n",
    "\n",
    "wandb.init(project=wandb_project, name=wandb_run_name, job_type=\"eda\")\n",
    "\n",
    "# Set experiment configs to be synced with wandb\n",
    "config = wandb.config\n",
    "config.display_sample = 2048  #@param {type:\"slider\", min:256, max:4096, step:16}\n",
    "config.modelnet_dataset_alias = \"ModelNet10\" #@param [\"ModelNet10\", \"ModelNet40\"] {type:\"raw\"}\n",
    "\n",
    "# Classes for ModelNet10 and ModelNet40\n",
    "categories = sorted([\n",
    "    x.split(os.sep)[-2]\n",
    "    for x in glob(os.path.join(\n",
    "        config.modelnet_dataset_alias, \"raw\", '*', ''\n",
    "    ))\n",
    "])\n",
    "\n",
    "\n",
    "config.categories = categories"
   ]
  },
  {
   "attachments": {},
   "cell_type": "markdown",
   "id": "5ce9b4f7",
   "metadata": {},
   "source": [
    "## Load ModelNet Dataset using PyTorch Geometric"
   ]
  },
  {
   "cell_type": "code",
   "execution_count": null,
   "id": "1573fe1d-c5d5-437f-a743-33432c45a1ff",
   "metadata": {},
   "outputs": [],
   "source": [
    "pre_transform = T.NormalizeScale()\n",
    "transform = T.SamplePoints(config.display_sample)\n",
    "train_dataset = ModelNet(\n",
    "    root=config.modelnet_dataset_alias,\n",
    "    name=config.modelnet_dataset_alias[-2:],\n",
    "    train=True,\n",
    "    transform=transform,\n",
    "    pre_transform=pre_transform\n",
    ")\n",
    "val_dataset = ModelNet(\n",
    "    root=config.modelnet_dataset_alias,\n",
    "    name=config.modelnet_dataset_alias[-2:],\n",
    "    train=False,\n",
    "    transform=transform,\n",
    "    pre_transform=pre_transform\n",
    ")"
   ]
  },
  {
   "attachments": {},
   "cell_type": "markdown",
   "id": "e76ffe8d",
   "metadata": {},
   "source": [
    "## Log Data to [`wandb.Table`](https://docs.wandb.ai/ref/python/data-types/table)\n",
    "\n",
    "We now log the dataset using a [Weights & Biases Table](https://docs.wandb.ai/guides/data-vis), which includes visualizing the individual point clouds as W&B's interactive 3D visualization format [`wandb.object3D`](https://docs.wandb.ai/ref/python/data-types/object3d). We also log the frequency distribution of the classes in the dataset using [`wandb.plot`](https://docs.wandb.ai/guides/track/log/plots)."
   ]
  },
  {
   "cell_type": "code",
   "execution_count": null,
   "id": "274115e0-d682-48e0-a701-f4e8d3c276cc",
   "metadata": {},
   "outputs": [],
   "source": [
    "table = wandb.Table(columns=[\"Model\", \"Class\", \"Split\"])\n",
    "category_dict = {key: 0 for key in config.categories}\n",
    "for idx in tqdm(range(len(train_dataset[:20]))):\n",
    "    point_cloud = wandb.Object3D(train_dataset[idx].pos.numpy())\n",
    "    category = config.categories[int(train_dataset[idx].y.item())]\n",
    "    category_dict[category] += 1\n",
    "    table.add_data(\n",
    "        point_cloud,\n",
    "        category,\n",
    "        \"Train\"\n",
    "    )\n",
    "\n",
    "data = [[key, category_dict[key]] for key in config.categories]\n",
    "wandb.log({\n",
    "    f\"{config.modelnet_dataset_alias} Class-Frequency Distribution\" : wandb.plot.bar(\n",
    "        wandb.Table(data=data, columns = [\"Class\", \"Frequency\"]),\n",
    "        \"Class\", \"Frequency\",\n",
    "        title=f\"{config.modelnet_dataset_alias} Class-Frequency Distribution\"\n",
    "    )\n",
    "})"
   ]
  },
  {
   "cell_type": "code",
   "execution_count": null,
   "id": "7c7b7c12-3e1e-4f7b-b917-a213a488a910",
   "metadata": {},
   "outputs": [],
   "source": [
    "table = wandb.Table(columns=[\"Model\", \"Class\", \"Split\"])\n",
    "category_dict = {key: 0 for key in config.categories}\n",
    "for idx in tqdm(range(len(val_dataset[:100]))):\n",
    "    point_cloud = wandb.Object3D(val_dataset[idx].pos.numpy())\n",
    "    category = config.categories[int(val_dataset[idx].y.item())]\n",
    "    category_dict[category] += 1\n",
    "    table.add_data(\n",
    "        point_cloud,\n",
    "        category,\n",
    "        \"Test\"\n",
    "    )\n",
    "wandb.log({config.modelnet_dataset_alias: table})\n",
    "\n",
    "data = [[key, category_dict[key]] for key in config.categories]\n",
    "wandb.log({\n",
    "    f\"{config.modelnet_dataset_alias} Class-Frequency Distribution\" : wandb.plot.bar(\n",
    "        wandb.Table(data=data, columns = [\"Class\", \"Frequency\"]),\n",
    "        \"Class\", \"Frequency\",\n",
    "        title=f\"{config.modelnet_dataset_alias} Class-Frequency Distribution\"\n",
    "    )\n",
    "})"
   ]
  },
  {
   "cell_type": "code",
   "execution_count": null,
   "id": "f6f51d44-ed23-4dc0-996e-6efc3c4f7fa6",
   "metadata": {},
   "outputs": [],
   "source": [
    "wandb.finish()"
   ]
  },
  {
   "attachments": {},
   "cell_type": "markdown",
   "id": "b992544b",
   "metadata": {},
   "source": [
    "Next, you can check out the following notebook to learn how to compare different sampling strategies in PyTorch Geometric using Weights & Biases\n",
    "\n",
    "![](https://colab.research.google.com/assets/colab-badge.svg)](http://wandb.me/pyg-sampling)"
   ]
  }
 ],
 "metadata": {
  "environment": {
   "kernel": "python3",
   "name": "pytorch-gpu.1-12.m100",
   "type": "gcloud",
   "uri": "gcr.io/deeplearning-platform-release/pytorch-gpu.1-12:m100"
  },
  "kernelspec": {
   "display_name": "Python 3",
   "language": "python",
   "name": "python3"
  },
  "language_info": {
   "codemirror_mode": {
    "name": "ipython",
    "version": 3
   },
   "file_extension": ".py",
   "mimetype": "text/x-python",
   "name": "python",
   "nbconvert_exporter": "python",
   "pygments_lexer": "ipython3",
   "version": "3.9.12 (main, Apr  5 2022, 01:52:34) \n[Clang 12.0.0 ]"
  },
  "vscode": {
   "interpreter": {
    "hash": "c46d4533a0cf80e4c6573b8f3c1bd70be2b87d9445b1cb498494120f873c7315"
   }
  }
 },
 "nbformat": 4,
 "nbformat_minor": 5
}
