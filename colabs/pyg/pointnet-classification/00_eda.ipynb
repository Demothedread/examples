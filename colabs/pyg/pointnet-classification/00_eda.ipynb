{
 "cells": [
  {
   "cell_type": "code",
   "execution_count": null,
   "id": "c0e582cd-7d1e-4223-8352-a0b1a05f5adf",
   "metadata": {},
   "outputs": [],
   "source": [
    "# Install required packages.\n",
    "import os\n",
    "import torch\n",
    "os.environ['TORCH'] = torch.__version__\n",
    "print(torch.__version__)\n",
    "\n",
    "!pip install -q torch-scatter -f https://data.pyg.org/whl/torch-${TORCH}.html\n",
    "!pip install -q torch-sparse -f https://data.pyg.org/whl/torch-${TORCH}.html\n",
    "!pip install -q torch-cluster -f https://data.pyg.org/whl/torch-${TORCH}.html\n",
    "!pip install -q git+https://github.com/pyg-team/pytorch_geometric.git"
   ]
  },
  {
   "cell_type": "code",
   "execution_count": null,
   "id": "bac559ed-172f-4fd3-b558-b0a659764fd0",
   "metadata": {},
   "outputs": [],
   "source": [
    "from glob import glob\n",
    "from tqdm.auto import tqdm\n",
    "\n",
    "import wandb\n",
    "\n",
    "import torch\n",
    "import torch.nn.functional as F\n",
    "\n",
    "import torch_geometric.transforms as T\n",
    "from torch_geometric.datasets import ModelNet\n",
    "from torch_geometric.loader import DataLoader\n",
    "from torch_geometric.nn import MLP, PointConv, fps, global_max_pool, radius"
   ]
  },
  {
   "cell_type": "code",
   "execution_count": null,
   "id": "8aa7a7d3-e763-4d9e-a05b-1ffde74ef569",
   "metadata": {},
   "outputs": [],
   "source": [
    "wandb.init(project=\"pyg-point-cloud\", name=\"modelnet40-test\", entity=\"geekyrakshit\", job_type=\"eda\")\n",
    "\n",
    "config = wandb.config\n",
    "config.display_sample = 2048\n",
    "\n",
    "# Classes for ModelNet40\n",
    "categories = sorted([\n",
    "    x.split(os.sep)[-2]\n",
    "    for x in glob(os.path.join(\"ModelNet40\", \"raw\", '*', ''))\n",
    "])\n",
    "\n",
    "\n",
    "config.categories = categories"
   ]
  },
  {
   "cell_type": "code",
   "execution_count": null,
   "id": "1573fe1d-c5d5-437f-a743-33432c45a1ff",
   "metadata": {},
   "outputs": [],
   "source": [
    "pre_transform = T.NormalizeScale()\n",
    "transform = T.SamplePoints(2048)\n",
    "train_dataset = ModelNet(\n",
    "    root=\"ModelNet40\",\n",
    "    name='40',\n",
    "    train=True,\n",
    "    transform=transform,\n",
    "    pre_transform=pre_transform\n",
    ")\n",
    "val_dataset = ModelNet(\n",
    "    root=\"ModelNet40\",\n",
    "    name='40',\n",
    "    train=False,\n",
    "    transform=transform,\n",
    "    pre_transform=pre_transform\n",
    ")"
   ]
  },
  {
   "cell_type": "code",
   "execution_count": null,
   "id": "274115e0-d682-48e0-a701-f4e8d3c276cc",
   "metadata": {},
   "outputs": [],
   "source": [
    "# table = wandb.Table(columns=[\"Model\", \"Class\", \"Split\"])\n",
    "# category_dict = {key: 0 for key in config.categories}\n",
    "# for idx in tqdm(range(len(train_dataset))):\n",
    "#     point_cloud = wandb.Object3D(train_dataset[idx].pos.numpy())\n",
    "#     category = config.categories[int(train_dataset[idx].y.item())]\n",
    "#     category_dict[category] += 1\n",
    "#     table.add_data(point_cloud, category, \"Train\")\n",
    "\n",
    "# wandb.log({\"ModelNet40\": table})\n",
    "\n",
    "\n",
    "# data = [[key, category_dict[key]] for key in config.categories]\n",
    "# wandb.log({\n",
    "#     \"ModelNet40 Class-Frequency Distribution\" : wandb.plot.bar(\n",
    "#         wandb.Table(data=data, columns = [\"Class\", \"Frequency\"]),\n",
    "#         \"Class\", \"Frequency\", title=\"ModelNet40 Class-Frequency Distribution\"\n",
    "#     )\n",
    "# })"
   ]
  },
  {
   "cell_type": "code",
   "execution_count": null,
   "id": "7c7b7c12-3e1e-4f7b-b917-a213a488a910",
   "metadata": {},
   "outputs": [],
   "source": [
    "table = wandb.Table(columns=[\"Model\", \"Class\", \"Split\"])\n",
    "category_dict = {key: 0 for key in config.categories}\n",
    "for idx in tqdm(range(len(val_dataset))):\n",
    "    point_cloud = wandb.Object3D(val_dataset[idx].pos.numpy())\n",
    "    category = config.categories[int(val_dataset[idx].y.item())]\n",
    "    category_dict[category] += 1\n",
    "    table.add_data(point_cloud, category, \"Test\")\n",
    "\n",
    "wandb.log({\"ModelNet40\": table})\n",
    "\n",
    "data = [[key, category_dict[key]] for key in config.categories]\n",
    "wandb.log({\n",
    "    \"ModelNet40 Class-Frequency Distribution\" : wandb.plot.bar(\n",
    "        wandb.Table(data=data, columns = [\"Class\", \"Frequency\"]),\n",
    "        \"Class\", \"Frequency\", title=\"ModelNet40 Class-Frequency Distribution\"\n",
    "    )\n",
    "})"
   ]
  },
  {
   "cell_type": "code",
   "execution_count": null,
   "id": "f6f51d44-ed23-4dc0-996e-6efc3c4f7fa6",
   "metadata": {},
   "outputs": [],
   "source": [
    "wandb.finish()"
   ]
  },
  {
   "cell_type": "code",
   "execution_count": null,
   "id": "c49bfafe-d6e4-40b6-9313-073b4c49e30e",
   "metadata": {},
   "outputs": [],
   "source": []
  }
 ],
 "metadata": {
  "environment": {
   "kernel": "python3",
   "name": "pytorch-gpu.1-12.m100",
   "type": "gcloud",
   "uri": "gcr.io/deeplearning-platform-release/pytorch-gpu.1-12:m100"
  },
  "kernelspec": {
   "display_name": "Python 3",
   "language": "python",
   "name": "python3"
  },
  "language_info": {
   "codemirror_mode": {
    "name": "ipython",
    "version": 3
   },
   "file_extension": ".py",
   "mimetype": "text/x-python",
   "name": "python",
   "nbconvert_exporter": "python",
   "pygments_lexer": "ipython3",
   "version": "3.9.12 (main, Apr  5 2022, 01:52:34) \n[Clang 12.0.0 ]"
  },
  "vscode": {
   "interpreter": {
    "hash": "c46d4533a0cf80e4c6573b8f3c1bd70be2b87d9445b1cb498494120f873c7315"
   }
  }
 },
 "nbformat": 4,
 "nbformat_minor": 5
}
