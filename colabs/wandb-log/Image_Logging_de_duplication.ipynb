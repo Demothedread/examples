{
 "cells": [
  {
   "cell_type": "markdown",
   "metadata": {},
   "source": [
    "<a href=\"https://colab.research.google.com/github/wandb/examples/blob/master/colabs/wandb-log/Image_Logging_de_duplication.ipynb\" target=\"_parent\"><img src=\"https://colab.research.google.com/assets/colab-badge.svg\" alt=\"Open In Colab\"/></a>\n"
   ]
  },
  {
   "cell_type": "code",
   "execution_count": null,
   "metadata": {},
   "outputs": [],
   "source": [
    "!pip install wandb -qqq"
   ]
  },
  {
   "cell_type": "code",
   "execution_count": null,
   "metadata": {},
   "outputs": [],
   "source": [
    "import PIL\n",
    "import numpy as np\n",
    "\n",
    "def write_img(path):\n",
    "    PIL.Image.fromarray(np.random.rand(128,128), mode=\"L\").save(path)\n",
    "\n",
    "def setup_demo(num_images=10):\n",
    "    paths = []\n",
    "    for ndx in range(num_images):\n",
    "      path = f\"./img_{ndx}.png\"\n",
    "      write_img(path)\n",
    "      paths.append(path)\n",
    "    return paths"
   ]
  },
  {
   "cell_type": "code",
   "execution_count": null,
   "metadata": {},
   "outputs": [],
   "source": [
    "IMAGE_PATHS = setup_demo()"
   ]
  },
  {
   "cell_type": "code",
   "execution_count": null,
   "metadata": {},
   "outputs": [],
   "source": [
    "import wandb\n",
    "\n",
    "# Step 1: Add your Images to an Artifact\n",
    "\n",
    "wandb.init(project=\"image_docs\")\n",
    "art = wandb.Artifact(\"my_images\", \"dataset\")\n",
    "for path in IMAGE_PATHS:\n",
    "    art.add(wandb.Image(path), path)\n",
    "wandb.log_artifact(art)\n",
    "wandb.finish()"
   ]
  },
  {
   "cell_type": "code",
   "execution_count": null,
   "metadata": {},
   "outputs": [],
   "source": [
    "import wandb\n",
    "\n",
    "# Step 2: Image Logging De-Duplication\n",
    "\n",
    "run = wandb.init(project=\"image_docs\")\n",
    "art = wandb.use_artifact(\"my_images:latest\")\n",
    "img_1 = art.get(IMAGE_PATHS[0])\n",
    "wandb.log({\"image\": img_1})\n",
    "wandb.finish()"
   ]
  },
  {
   "cell_type": "code",
   "execution_count": null,
   "metadata": {},
   "outputs": [],
   "source": []
  }
 ],
 "metadata": {
  "kernelspec": {
   "display_name": "Python 3",
   "name": "python3"
  }
 },
 "nbformat": 4,
 "nbformat_minor": 0
}
