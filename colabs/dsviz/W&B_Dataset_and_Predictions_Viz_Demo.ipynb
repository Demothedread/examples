{
 "cells": [
  {
   "cell_type": "markdown",
   "metadata": {},
   "source": [
    "<a href=\"https://colab.research.google.com/github/wandb/examples/blob/master/colabs/dsviz/W&B_Dataset_and_Predictions_Viz_Demo.ipynb\" target=\"_parent\"><img src=\"https://colab.research.google.com/assets/colab-badge.svg\" alt=\"Open In Colab\"/></a>\n",
    "<!--- @wandbcode{dviz-segmentation} -->"
   ]
  },
  {
   "cell_type": "markdown",
   "metadata": {},
   "source": [
    "<img src=\"https://i.imgur.com/gb6B4ig.png\" width=\"400\" alt=\"Weights & Biases\" />\n",
    "<!--- @wandbcode{dviz-segmentation} -->\n",
    "\n",
    "_W&B Datasets & Predictions is currently in the early-access phase. You can use it in our production service at [wandb.ai](https://wandb.ai), with [some limitations](https://docs.wandb.com/datasets-and-predictions#current-limitations). APIs are subject to change. We'd love to hear questions, comments, and ideas! Drop us a line at feedback@wandb.com._\n",
    "\n",
    "# W&B Dataset Visualization Demo\n",
    "\n",
    "This notebook demonstrates W&B's dataset visualization features. In particular we show how [W&B Artifacts](https://docs.wandb.com/artifacts) help visualize datasets and predictions, focusing on image data. We track model and data lineage and perform interactive  analysis on the resulting datasets. The overall flow will be:\n",
    "\n",
    "1. Create a dataset\n",
    "2. Split the dataset into \"train\" and \"test\"\n",
    "3. Train a model on the \"train\" dataset\n",
    "4. Load the trained model and log predictions on both datasets\n",
    "5. Analyze the results in W&B's UI\n",
    "\n",
    "You can see live interactive examples logged to W&B in this public project: [Dsviz Demo](https://wandb.ai/stacey/dsviz-demo).\n",
    "\n",
    "### Explore your training data\n",
    "<img src=\"https://raw.githubusercontent.com/staceysv/dsviz-demo/master/notebook_images/overview_data_table.png\" width=600 height=300>\n",
    "\n",
    "### Visualize your model predictions\n",
    "<img src=\"https://raw.githubusercontent.com/staceysv/dsviz-demo/master/notebook_images/overview_val_predictions.png\" width=500 height=300>\n",
    "\n",
    "\n",
    "\n",
    "\n"
   ]
  },
  {
   "cell_type": "markdown",
   "metadata": {},
   "source": [
    "# Step 0: Setup\n",
    "\n",
    "## Install requirements & utils\n",
    "\n",
    "For brevity, we put utility functions for working with the dataset in `util.py`."
   ]
  },
  {
   "cell_type": "code",
   "execution_count": 1,
   "metadata": {},
   "outputs": [],
   "source": [
    "# # Download a util file of helper methods for this notebook\n",
    "# !curl https://raw.githubusercontent.com/staceysv/dsviz-demo/master/util.py --output util.py"
   ]
  },
  {
   "cell_type": "code",
   "execution_count": 2,
   "metadata": {},
   "outputs": [],
   "source": [
    "!rm -rf DATA"
   ]
  },
  {
   "cell_type": "code",
   "execution_count": 3,
   "metadata": {},
   "outputs": [
    {
     "name": "stdout",
     "output_type": "stream",
     "text": [
      "0.13.2\n"
     ]
    }
   ],
   "source": [
    "from fastai.vision.all import *\n",
    "import wandb\n",
    "print(wandb.__version__)"
   ]
  },
  {
   "cell_type": "markdown",
   "metadata": {},
   "source": [
    "## Login to wandb\n"
   ]
  },
  {
   "cell_type": "code",
   "execution_count": 4,
   "metadata": {},
   "outputs": [],
   "source": [
    "WANDB_PROJECT = \"BDD100k\""
   ]
  },
  {
   "cell_type": "markdown",
   "metadata": {},
   "source": [
    "Set SIZE to \"TINY\", \"MEDIUM\" or (read the warning) \"LARGE\" to select one of these datasets\n",
    "- TINY dataset: 50 images\n",
    "- MEDIUM dataset: 200 images\n",
    "- LARGE dataset: 400 images \n",
    "> warning: you may run out of RAM in Colab & need to restart the notebook between steps at this size"
   ]
  },
  {
   "cell_type": "code",
   "execution_count": 5,
   "metadata": {},
   "outputs": [],
   "source": [
    "BDD_CLASSES = {i:c for i,c in enumerate(['road', 'sidewalk', 'building', 'wall', 'fence', 'pole', 'traffic light',\n",
    "    'traffic sign', 'vegetation', 'terrain', 'sky', 'person', 'rider', 'car',\n",
    "    'truck', 'bus', 'train', 'motorcycle', 'bicycle', 'void'\n",
    "])}"
   ]
  },
  {
   "cell_type": "code",
   "execution_count": 6,
   "metadata": {},
   "outputs": [
    {
     "data": {
      "text/plain": [
       "{0: 'road',\n",
       " 1: 'sidewalk',\n",
       " 2: 'building',\n",
       " 3: 'wall',\n",
       " 4: 'fence',\n",
       " 5: 'pole',\n",
       " 6: 'traffic light',\n",
       " 7: 'traffic sign',\n",
       " 8: 'vegetation',\n",
       " 9: 'terrain',\n",
       " 10: 'sky',\n",
       " 11: 'person',\n",
       " 12: 'rider',\n",
       " 13: 'car',\n",
       " 14: 'truck',\n",
       " 15: 'bus',\n",
       " 16: 'train',\n",
       " 17: 'motorcycle',\n",
       " 18: 'bicycle',\n",
       " 19: 'void'}"
      ]
     },
     "execution_count": 6,
     "metadata": {},
     "output_type": "execute_result"
    }
   ],
   "source": [
    "BDD_CLASSES"
   ]
  },
  {
   "cell_type": "code",
   "execution_count": 7,
   "metadata": {},
   "outputs": [],
   "source": [
    "URL = \"https://storage.googleapis.com/wandb_datasets/BDD100K_seg_demo.zip\"\n",
    "\n",
    "SIZE = \"TINY\"\n",
    "PREFIX = \"bdd\"\n",
    "\n",
    "if SIZE == \"TINY\":\n",
    "    NUM_EXAMPLES = 60\n",
    "    SPLITS = {\"train\" : 40, \"valid\":10, \"test\" : 10}\n",
    "elif SIZE == \"MEDIUM\":\n",
    "    NUM_EXAMPLES = 240\n",
    "    SPLITS = {\"train\" : 160,\"valid\":40,  \"test\" : 40}\n",
    "elif SIZE == \"LARGE\": \n",
    "    NUM_EXAMPLES = 480\n",
    "    SPLITS = {\"train\" : 320,\"valid\":80, \"test\" : 80}\n",
    "\n",
    "# set global Artifact names (allowing steps to be rerun independently)\n",
    "RAW_DATA_AT = \"_\".join([PREFIX, \"raw_data\", str(NUM_EXAMPLES)])\n",
    "TRAIN_DATA_AT = \"_\".join([PREFIX, \"train_data\", str(NUM_EXAMPLES)])\n",
    "TEST_DATA_AT = \"_\".join([PREFIX, \"test_data\", str(NUM_EXAMPLES)])\n",
    "SPLIT_DATA_AT = \"_\".join([PREFIX, \"split_data\", str(NUM_EXAMPLES)])\n",
    "LOCAL_TRAIN_DIR = Path(\"DATA\")"
   ]
  },
  {
   "cell_type": "code",
   "execution_count": 8,
   "metadata": {},
   "outputs": [
    {
     "data": {
      "text/plain": [
       "('bdd_raw_data_60', 'bdd_train_data_60', 'bdd_test_data_60')"
      ]
     },
     "execution_count": 8,
     "metadata": {},
     "output_type": "execute_result"
    }
   ],
   "source": [
    "RAW_DATA_AT, TRAIN_DATA_AT, TEST_DATA_AT"
   ]
  },
  {
   "cell_type": "markdown",
   "metadata": {},
   "source": [
    "## Download the data\n",
    "\n",
    "Before we get started, we will download an example dataset to our local machine. This is a big dataset (958MB) so please be patient if you are on a slow connection. we will use fastai's `untar_data` function to download and decompress our dataset."
   ]
  },
  {
   "cell_type": "code",
   "execution_count": 9,
   "metadata": {},
   "outputs": [],
   "source": [
    "path = untar_data(URL)"
   ]
  },
  {
   "cell_type": "markdown",
   "metadata": {},
   "source": [
    "we have 2 folders, one with RGB images and one with labels:"
   ]
  },
  {
   "cell_type": "code",
   "execution_count": 10,
   "metadata": {},
   "outputs": [
    {
     "data": {
      "text/plain": [
       "(#2) [Path('/home/tcapelle/.fastai/data/BDD100K_seg_demo/images'),Path('/home/tcapelle/.fastai/data/BDD100K_seg_demo/labels')]"
      ]
     },
     "execution_count": 10,
     "metadata": {},
     "output_type": "execute_result"
    }
   ],
   "source": [
    "path.ls()"
   ]
  },
  {
   "cell_type": "code",
   "execution_count": 11,
   "metadata": {},
   "outputs": [],
   "source": [
    "fnames = get_image_files(path/\"images\")"
   ]
  },
  {
   "cell_type": "code",
   "execution_count": 12,
   "metadata": {},
   "outputs": [],
   "source": [
    "labels = get_image_files(path/\"labels\")"
   ]
  },
  {
   "cell_type": "code",
   "execution_count": 13,
   "metadata": {},
   "outputs": [
    {
     "data": {
      "text/plain": [
       "(Path('/home/tcapelle/.fastai/data/BDD100K_seg_demo/images/train/baa79505-43ff4345.jpg'),\n",
       " Path('/home/tcapelle/.fastai/data/BDD100K_seg_demo/labels/train/1a92b5b9-87a40001_train_id.png'))"
      ]
     },
     "execution_count": 13,
     "metadata": {},
     "output_type": "execute_result"
    }
   ],
   "source": [
    "fnames[0], labels[0]"
   ]
  },
  {
   "cell_type": "code",
   "execution_count": 14,
   "metadata": {},
   "outputs": [],
   "source": [
    "fname = fnames[0]"
   ]
  },
  {
   "cell_type": "markdown",
   "metadata": {},
   "source": [
    "Let's create a helper function in the `Path` class"
   ]
  },
  {
   "cell_type": "code",
   "execution_count": 15,
   "metadata": {},
   "outputs": [],
   "source": [
    "@patch\n",
    "def with_custom_suffix(self: Path, suffix):\n",
    "    return self.parent/(self.name.split(\".\")[0] + suffix)"
   ]
  },
  {
   "cell_type": "code",
   "execution_count": 16,
   "metadata": {},
   "outputs": [
    {
     "data": {
      "text/plain": [
       "Path('/home/tcapelle/.fastai/data/BDD100K_seg_demo/images/train/baa79505-43ff4345_train_id.png')"
      ]
     },
     "execution_count": 16,
     "metadata": {},
     "output_type": "execute_result"
    }
   ],
   "source": [
    "fname.with_custom_suffix(\"_train_id.png\")"
   ]
  },
  {
   "cell_type": "markdown",
   "metadata": {},
   "source": [
    "## Show some example training images"
   ]
  },
  {
   "cell_type": "code",
   "execution_count": 17,
   "metadata": {},
   "outputs": [],
   "source": [
    "def _label_func(fname):\n",
    "    \"Get the corresponding label\"\n",
    "    dataset_path = fname.parent.parent.parent\n",
    "    train_valid = fname.parent.name\n",
    "    return ((dataset_path/\"labels\")/train_valid)/(fname.with_custom_suffix(\"_train_id.png\")).name"
   ]
  },
  {
   "cell_type": "code",
   "execution_count": 18,
   "metadata": {},
   "outputs": [
    {
     "data": {
      "text/plain": [
       "Path('/home/tcapelle/.fastai/data/BDD100K_seg_demo/labels/train/baa79505-43ff4345_train_id.png')"
      ]
     },
     "execution_count": 18,
     "metadata": {},
     "output_type": "execute_result"
    }
   ],
   "source": [
    "_label_func(fname)"
   ]
  },
  {
   "cell_type": "code",
   "execution_count": 19,
   "metadata": {},
   "outputs": [
    {
     "data": {
      "image/png": "[encoded data removed]",
      "text/plain": [
       "<Figure size 1000x500 with 6 Axes>"
      ]
     },
     "metadata": {},
     "output_type": "display_data"
    }
   ],
   "source": [
    "axes = subplots(3, 2, figsize=(10,5))[1]\n",
    "for fname, ax in zip(fnames, axes):\n",
    "    label = _label_func(fname)\n",
    "    pil_img, pil_lbl = load_image(fname), load_image(label)\n",
    "    show_image(pil_img, ax=ax[0])\n",
    "    show_image(pil_lbl, ax=ax[1])"
   ]
  },
  {
   "cell_type": "markdown",
   "metadata": {
    "tags": []
   },
   "source": [
    "# Step 1: Build the dataset\n",
    "\n",
    "First, let's build a dataset for use in the rest of this project using a `wandb.Run`. A `Run` is an isolated process which can optionally depend on upstream artifacts as well as optionally produce artifacts for later consumption. In this step, we will create a `wandb.Table` during our run and output it in an artifact. This table will contain all of our raw data for later use. W&B also offers rich tools to analyze and visualize such Tables in an interactive UI.\n",
    "\n",
    "[See a live example of the raw dataset in W&B](https://wandb.ai/stacey/dsviz-demo/artifacts/raw_data/bdd_raw_data_500/afcb923f719b14370215/files/raw_examples.table.json)"
   ]
  },
  {
   "cell_type": "markdown",
   "metadata": {},
   "source": [
    "> Another option here Darek is to create a new version with Train/Valid/Test"
   ]
  },
  {
   "cell_type": "code",
   "execution_count": 20,
   "metadata": {},
   "outputs": [],
   "source": [
    "def setup_local_data():\n",
    "    LOCAL_TRAIN_DIR.mkdir(exist_ok=True)\n",
    "    (LOCAL_TRAIN_DIR/\"images\").mkdir(exist_ok=True)\n",
    "    (LOCAL_TRAIN_DIR/\"labels\").mkdir(exist_ok=True)"
   ]
  },
  {
   "cell_type": "code",
   "execution_count": 21,
   "metadata": {},
   "outputs": [],
   "source": [
    "def copy_sample_data(k=NUM_EXAMPLES):\n",
    "    setup_local_data()\n",
    "    \"Creates a local version of the sample dataset\"\n",
    "    sample_fnames = random.sample(fnames, k=k)\n",
    "    sample_labels = [_label_func(f) for f in sample_fnames]\n",
    "    \n",
    "    # copy images and labels\n",
    "    for f in sample_fnames:\n",
    "        shutil.copy(f, LOCAL_TRAIN_DIR/f\"images/{f.name}\")\n",
    "    for l in sample_labels:\n",
    "        shutil.copy(l, LOCAL_TRAIN_DIR/f\"labels/{l.name}\")"
   ]
  },
  {
   "cell_type": "code",
   "execution_count": 22,
   "metadata": {},
   "outputs": [],
   "source": [
    "copy_sample_data()"
   ]
  },
  {
   "cell_type": "code",
   "execution_count": 23,
   "metadata": {},
   "outputs": [],
   "source": [
    "def label_func(fname):\n",
    "    return (fname.parent.parent/\"labels\")/(fname.with_custom_suffix(\"_train_id.png\")).name"
   ]
  },
  {
   "cell_type": "code",
   "execution_count": 24,
   "metadata": {},
   "outputs": [],
   "source": [
    "def get_frequency_distribution(mask_data, class_labels):\n",
    "    (unique, counts) = np.unique(mask_data, return_counts=True)\n",
    "    unique = list(unique)\n",
    "    counts = list(counts)\n",
    "    frequency_dict = {}\n",
    "    for _class in class_labels.keys():\n",
    "        if _class in unique:\n",
    "            frequency_dict[class_labels[_class]] = counts[unique.index(_class)]\n",
    "        else:\n",
    "            frequency_dict[class_labels[_class]] = 0\n",
    "    return frequency_dict"
   ]
  },
  {
   "cell_type": "markdown",
   "metadata": {},
   "source": [
    "Maybe we should also log the data as files here"
   ]
  },
  {
   "cell_type": "code",
   "execution_count": 25,
   "metadata": {},
   "outputs": [],
   "source": [
    "def _create_table(image_files, class_labels):\n",
    "    \"Create a table with the dataset\"\n",
    "    labels = [str(class_labels[_lab]) for _lab in list(class_labels)]\n",
    "    table = wandb.Table(columns=[\"File_Name\", \"Images\"] + labels)\n",
    "    \n",
    "    for i, image_file in progress_bar(enumerate(image_files), total=len(image_files)):\n",
    "        image = Image.open(image_file)\n",
    "        mask_data = np.array(Image.open(label_func(image_file)))\n",
    "        frequency_distribution = get_frequency_distribution(mask_data, BDD_CLASSES)\n",
    "        table.add_data(\n",
    "            str(image_file.name),\n",
    "            wandb.Image(\n",
    "                    image,\n",
    "                    masks={\n",
    "                        \"predictions\": {\n",
    "                            \"mask_data\": mask_data,\n",
    "                            \"class_labels\": class_labels,\n",
    "                        }\n",
    "                    }\n",
    "            ),\n",
    "            *[frequency_distribution[_lab] for _lab in labels]\n",
    "        )\n",
    "    \n",
    "    return table"
   ]
  },
  {
   "cell_type": "code",
   "execution_count": 26,
   "metadata": {},
   "outputs": [
    {
     "data": {
      "text/html": [
       "\n",
       "<style>\n",
       "    /* Turns off some styling */\n",
       "    progress {\n",
       "        /* gets rid of default border in Firefox and Opera. */\n",
       "        border: none;\n",
       "        /* Needs to be in here for Safari polyfill so background images work as expected. */\n",
       "        background-size: auto;\n",
       "    }\n",
       "    .progress-bar-interrupted, .progress-bar-interrupted::-webkit-progress-bar {\n",
       "        background: #F44336;\n",
       "    }\n",
       "</style>\n"
      ],
      "text/plain": [
       "<IPython.core.display.HTML object>"
      ]
     },
     "metadata": {},
     "output_type": "display_data"
    },
    {
     "data": {
      "text/html": [
       "\n",
       "    <div>\n",
       "      <progress value='60' class='' max='60' style='width:300px; height:20px; vertical-align: middle;'></progress>\n",
       "      100.00% [60/60 00:15<00:00]\n",
       "    </div>\n",
       "    "
      ],
      "text/plain": [
       "<IPython.core.display.HTML object>"
      ]
     },
     "metadata": {},
     "output_type": "display_data"
    },
    {
     "data": {
      "text/plain": [
       "<wandb.data_types.Table at 0x7efca87d3f40>"
      ]
     },
     "execution_count": 26,
     "metadata": {},
     "output_type": "execute_result"
    }
   ],
   "source": [
    "image_files = get_image_files(LOCAL_TRAIN_DIR/\"images\", recurse=False)\n",
    "_create_table(image_files, BDD_CLASSES)"
   ]
  },
  {
   "cell_type": "code",
   "execution_count": 27,
   "metadata": {},
   "outputs": [],
   "source": [
    "def log_dataset(project: str, entity: str, path, class_labels):\n",
    "    with wandb.init(\n",
    "        project=project, \n",
    "        name=\"log_bdd100k_sample\", \n",
    "        entity=entity, \n",
    "        job_type=\"log_dataset\"\n",
    "    ):\n",
    "        table_data = []\n",
    "        labels = [str(class_labels[_lab]) for _lab in list(class_labels)]\n",
    "        \n",
    "        image_files = get_image_files(path/\"images\", recurse=False)\n",
    "        \n",
    "        artifact = wandb.Artifact(name=RAW_DATA_AT, \n",
    "                                  type=\"raw_data\",\n",
    "                                  metadata={\"classes\":class_labels, \n",
    "                                            \"num_examples\":NUM_EXAMPLES},\n",
    "                                  description=\"A Sample of the BDD100k Dataset\",\n",
    "                                 )\n",
    "        \n",
    "        print(\"Add data\")\n",
    "        artifact.add_dir(path)\n",
    "        \n",
    "        print(\"Creating Table...\")\n",
    "        table = _create_table(image_files, class_labels)\n",
    "        \n",
    "        \n",
    "        artifact.add(table, \"raw_examples\")\n",
    "        wandb.log_artifact(artifact)\n",
    "        \n",
    "        #log to workspace\n",
    "        wandb.log({\"raw_examples\":table})"
   ]
  },
  {
   "cell_type": "code",
   "execution_count": 28,
   "metadata": {},
   "outputs": [
    {
     "name": "stderr",
     "output_type": "stream",
     "text": [
      "Failed to detect the name of this notebook, you can set it manually with the WANDB_NOTEBOOK_NAME environment variable to enable code saving.\n",
      "\u001b[34m\u001b[1mwandb\u001b[0m: Currently logged in as: \u001b[33mcapecape\u001b[0m. Use \u001b[1m`wandb login --relogin`\u001b[0m to force relogin\n"
     ]
    },
    {
     "data": {
      "text/html": [
       "wandb version 0.13.4 is available!  To upgrade, please run:\n",
       " $ pip install wandb --upgrade"
      ],
      "text/plain": [
       "<IPython.core.display.HTML object>"
      ]
     },
     "metadata": {},
     "output_type": "display_data"
    },
    {
     "data": {
      "text/html": [
       "Tracking run with wandb version 0.13.2"
      ],
      "text/plain": [
       "<IPython.core.display.HTML object>"
      ]
     },
     "metadata": {},
     "output_type": "display_data"
    },
    {
     "data": {
      "text/html": [
       "Run data is saved locally in <code>/home/tcapelle/wandb/examples/colabs/dsviz/wandb/run-20221014_153105-2vrrvjhn</code>"
      ],
      "text/plain": [
       "<IPython.core.display.HTML object>"
      ]
     },
     "metadata": {},
     "output_type": "display_data"
    },
    {
     "data": {
      "text/html": [
       "Syncing run <strong><a href=\"https://wandb.ai/capecape/bdd100k/runs/2vrrvjhn\" target=\"_blank\">log_bdd100k_sample</a></strong> to <a href=\"https://wandb.ai/capecape/bdd100k\" target=\"_blank\">Weights & Biases</a> (<a href=\"https://wandb.me/run\" target=\"_blank\">docs</a>)<br/>"
      ],
      "text/plain": [
       "<IPython.core.display.HTML object>"
      ]
     },
     "metadata": {},
     "output_type": "display_data"
    },
    {
     "name": "stderr",
     "output_type": "stream",
     "text": [
      "\u001b[34m\u001b[1mwandb\u001b[0m: Adding directory to artifact (./DATA)... Done. 0.1s\n"
     ]
    },
    {
     "name": "stdout",
     "output_type": "stream",
     "text": [
      "Add data\n",
      "Creating Table...\n"
     ]
    },
    {
     "data": {
      "text/html": [
       "\n",
       "<style>\n",
       "    /* Turns off some styling */\n",
       "    progress {\n",
       "        /* gets rid of default border in Firefox and Opera. */\n",
       "        border: none;\n",
       "        /* Needs to be in here for Safari polyfill so background images work as expected. */\n",
       "        background-size: auto;\n",
       "    }\n",
       "    .progress-bar-interrupted, .progress-bar-interrupted::-webkit-progress-bar {\n",
       "        background: #F44336;\n",
       "    }\n",
       "</style>\n"
      ],
      "text/plain": [
       "<IPython.core.display.HTML object>"
      ]
     },
     "metadata": {},
     "output_type": "display_data"
    },
    {
     "data": {
      "text/html": [
       "\n",
       "    <div>\n",
       "      <progress value='60' class='' max='60' style='width:300px; height:20px; vertical-align: middle;'></progress>\n",
       "      100.00% [60/60 00:15<00:00]\n",
       "    </div>\n",
       "    "
      ],
      "text/plain": [
       "<IPython.core.display.HTML object>"
      ]
     },
     "metadata": {},
     "output_type": "display_data"
    },
    {
     "data": {
      "text/html": [
       "Waiting for W&B process to finish... <strong style=\"color:green\">(success).</strong>"
      ],
      "text/plain": [
       "<IPython.core.display.HTML object>"
      ]
     },
     "metadata": {},
     "output_type": "display_data"
    },
    {
     "data": {
      "application/vnd.jupyter.widget-view+json": {
       "model_id": "",
       "version_major": 2,
       "version_minor": 0
      },
      "text/plain": [
       "VBox(children=(Label(value='46.961 MB of 46.969 MB uploaded (1.432 MB deduped)\\r'), FloatProgress(value=0.9998…"
      ]
     },
     "metadata": {},
     "output_type": "display_data"
    },
    {
     "data": {
      "text/html": [
       "W&B sync reduced upload amount by 3.0%             "
      ],
      "text/plain": [
       "<IPython.core.display.HTML object>"
      ]
     },
     "metadata": {},
     "output_type": "display_data"
    },
    {
     "data": {
      "text/html": [
       "Synced <strong style=\"color:#cdcd00\">log_bdd100k_sample</strong>: <a href=\"https://wandb.ai/capecape/bdd100k/runs/2vrrvjhn\" target=\"_blank\">https://wandb.ai/capecape/bdd100k/runs/2vrrvjhn</a><br/>Synced 5 W&B file(s), 1 media file(s), 182 artifact file(s) and 0 other file(s)"
      ],
      "text/plain": [
       "<IPython.core.display.HTML object>"
      ]
     },
     "metadata": {},
     "output_type": "display_data"
    },
    {
     "data": {
      "text/html": [
       "Find logs at: <code>./wandb/run-20221014_153105-2vrrvjhn/logs</code>"
      ],
      "text/plain": [
       "<IPython.core.display.HTML object>"
      ]
     },
     "metadata": {},
     "output_type": "display_data"
    }
   ],
   "source": [
    "log_dataset(WANDB_PROJECT, None, LOCAL_TRAIN_DIR, BDD_CLASSES)"
   ]
  },
  {
   "cell_type": "markdown",
   "metadata": {},
   "source": [
    "# Step 2: Splitting the data into train and test\n",
    "\n",
    "Next, we will split the data into a train and a test dataset. Similar to before, we will launch a `Run` to perform this operation. Remember, this new execution could happen on a different machine as we will dynamically load the needed resources. In particular, we will load in the raw dataset from the last run and split it into 2 new datasets.\n",
    "\n",
    "See live examples of the [train data](https://wandb.ai/stacey/dsviz-segment/artifacts/train_data/bdd_train_data_200/4bb038903e618f8e0e49) and [test data](https://wandb.ai/stacey/dsviz-segment/artifacts/test_data/bdd_test_data_200/1d6aae785ea663167c82) artifacts in W&B."
   ]
  },
  {
   "cell_type": "markdown",
   "metadata": {},
   "source": [
    "### Option 1 as Tables:"
   ]
  },
  {
   "cell_type": "code",
   "execution_count": 29,
   "metadata": {},
   "outputs": [
    {
     "data": {
      "text/html": [
       "wandb version 0.13.4 is available!  To upgrade, please run:\n",
       " $ pip install wandb --upgrade"
      ],
      "text/plain": [
       "<IPython.core.display.HTML object>"
      ]
     },
     "metadata": {},
     "output_type": "display_data"
    },
    {
     "data": {
      "text/html": [
       "Tracking run with wandb version 0.13.2"
      ],
      "text/plain": [
       "<IPython.core.display.HTML object>"
      ]
     },
     "metadata": {},
     "output_type": "display_data"
    },
    {
     "data": {
      "text/html": [
       "Run data is saved locally in <code>/home/tcapelle/wandb/examples/colabs/dsviz/wandb/run-20221014_153138-1sipw4li</code>"
      ],
      "text/plain": [
       "<IPython.core.display.HTML object>"
      ]
     },
     "metadata": {},
     "output_type": "display_data"
    },
    {
     "data": {
      "text/html": [
       "Syncing run <strong><a href=\"https://wandb.ai/capecape/bdd100k/runs/1sipw4li\" target=\"_blank\">legendary-dragon-35</a></strong> to <a href=\"https://wandb.ai/capecape/bdd100k\" target=\"_blank\">Weights & Biases</a> (<a href=\"https://wandb.me/run\" target=\"_blank\">docs</a>)<br/>"
      ],
      "text/plain": [
       "<IPython.core.display.HTML object>"
      ]
     },
     "metadata": {},
     "output_type": "display_data"
    },
    {
     "name": "stdout",
     "output_type": "stream",
     "text": [
      "\n",
      "Example Data row\n",
      " ['6f995cc3-c7d16d56.jpg', <wandb.sdk.data_types.image.Image object at 0x7efca4d45720>, 216203, 0, 196276, 0, 0, 0, 0, 0, 192030, 0, 0, 0, 0, 0, 0, 0, 0, 0, 0, 317091]\n",
      "\n",
      "Example Image\n",
      "\n",
      "\n",
      "Artifact Directory Contents: \n",
      " ['bdd_train_data_60:v0', 'bdd_raw_data_60:v4', 'bdd_split_data_60:v1', 'bdd_raw_data_60:v3', 'bdd_raw_data_50:v2', 'bdd_raw_data_60:v2', 'bdd_raw_data_60:v1']\n",
      "Saving data to WandB...\n"
     ]
    },
    {
     "data": {
      "text/html": [
       "Waiting for W&B process to finish... <strong style=\"color:green\">(success).</strong>"
      ],
      "text/plain": [
       "<IPython.core.display.HTML object>"
      ]
     },
     "metadata": {},
     "output_type": "display_data"
    },
    {
     "data": {
      "application/vnd.jupyter.widget-view+json": {
       "model_id": "",
       "version_major": 2,
       "version_minor": 0
      },
      "text/plain": [
       "VBox(children=(Label(value='0.045 MB of 0.045 MB uploaded (0.001 MB deduped)\\r'), FloatProgress(value=1.0, max…"
      ]
     },
     "metadata": {},
     "output_type": "display_data"
    },
    {
     "data": {
      "text/html": [
       "W&B sync reduced upload amount by 1.2%             "
      ],
      "text/plain": [
       "<IPython.core.display.HTML object>"
      ]
     },
     "metadata": {},
     "output_type": "display_data"
    },
    {
     "data": {
      "text/html": [
       "Synced <strong style=\"color:#cdcd00\">legendary-dragon-35</strong>: <a href=\"https://wandb.ai/capecape/bdd100k/runs/1sipw4li\" target=\"_blank\">https://wandb.ai/capecape/bdd100k/runs/1sipw4li</a><br/>Synced 5 W&B file(s), 0 media file(s), 3 artifact file(s) and 0 other file(s)"
      ],
      "text/plain": [
       "<IPython.core.display.HTML object>"
      ]
     },
     "metadata": {},
     "output_type": "display_data"
    },
    {
     "data": {
      "text/html": [
       "Find logs at: <code>./wandb/run-20221014_153138-1sipw4li/logs</code>"
      ],
      "text/plain": [
       "<IPython.core.display.HTML object>"
      ]
     },
     "metadata": {},
     "output_type": "display_data"
    },
    {
     "name": "stdout",
     "output_type": "stream",
     "text": [
      "... Run Complete\n"
     ]
    },
    {
     "data": {
      "image/png": "[encoded data removed]",
      "text/plain": [
       "<Figure size 500x500 with 1 Axes>"
      ]
     },
     "metadata": {},
     "output_type": "display_data"
    }
   ],
   "source": [
    "# Initialize a run (you can use the job_type to better organize runs)\n",
    "run = wandb.init(project=WANDB_PROJECT, job_type=\"data_split\")\n",
    "\n",
    "# Get the latest version of the artifact. \n",
    "# Notice the name alias follows this convention: \"<ARTIFACT_NAME>:<VERSION>\"\n",
    "# When version is set to \"latest\", then the latest version will always be used.\n",
    "# However, you can pin to a version by using an alias such as \"raw_data:v0\"\n",
    "data_at = run.use_artifact(RAW_DATA_AT + \":latest\")\n",
    "    \n",
    "# Next, we .get the table by the same name that we saved it in the last run.\n",
    "data_table = data_at.get(\"raw_examples\")\n",
    "    \n",
    "# Print a row\n",
    "print(\"\\nExample Data row\\n\", data_table.data[0])\n",
    "    \n",
    "# Show an example image\n",
    "print(\"\\nExample Image\\n\")\n",
    "show_image(data_table.data[0][1].image)\n",
    "    \n",
    "# Notice that a new directory was made: artifacts which is managed by wandb\n",
    "print(\"\\nArtifact Directory Contents: \\n\", os.listdir(\"artifacts\"))\n",
    "\n",
    "# Now we can build two separate artifacts for later use. We will first split the raw table into two parts,\n",
    "# then create two different artifacts, each of which will hold our new tables. We create two artifacts so that\n",
    "# in future runs, we can selectively decide which subsets of data to download.\n",
    "train_table = wandb.Table(columns=data_table.columns, data=data_table.data[:SPLITS[\"train\"]])\n",
    "test_table = wandb.Table(columns=data_table.columns, data=data_table.data[SPLITS[\"train\"]:])\n",
    "\n",
    "train_artifact = wandb.Artifact(TRAIN_DATA_AT, \"train_data\")\n",
    "test_artifact = wandb.Artifact(TEST_DATA_AT, \"test_data\")\n",
    "\n",
    "# Save the tables to the artifacts with .add\n",
    "train_artifact.add(train_table, \"train_table\")\n",
    "# Note: technically our test data has ground truth labels in this example :)\n",
    "# we could modify this table to remove the labels\n",
    "test_artifact.add(test_table, \"test_table\")\n",
    "\n",
    "# Log the artifacts out as outputs of the run\n",
    "print(\"Saving data to WandB...\")\n",
    "run.log_artifact(train_artifact)\n",
    "run.log_artifact(test_artifact)\n",
    "run.finish()\n",
    "print(\"... Run Complete\")"
   ]
  },
  {
   "cell_type": "markdown",
   "metadata": {
    "tags": []
   },
   "source": [
    "### Review the splits in the Dashboard\n",
    "Notice, in this step, the raw_data `wandb.Table` was reinstatiated and the data, images, etc... came along for the ride. This makes it easy for ML practitioners on a team to share data and assets easily. To manage this, you can see that we created an artifacts directory to save local data.\n",
    "\n",
    "Now we have two new datasets. Feel free to browse them similar to our last step. However, this time, click \"Graph View\" rather than \"Files\" to see the lineage of the artifact.\n",
    "\n",
    "Naming and typing in Artifacts are powerful and flexible. In this case, we include a short prefix (\"bdd\" for Berkeley Deep Drive 100K) and the count of items in each artifact name so that these artifacts are easier to identify and track when viewed at a glance, downloaded locally, or compared to the many other versions we may create in this project (with different total counts, data split strategies, etc).\n",
    "\n",
    "![](https://raw.githubusercontent.com/staceysv/dsviz-demo/master/notebook_images/split_train_test.png)\n",
    "\n",
    "![](https://raw.githubusercontent.com/staceysv/dsviz-demo/master/notebook_images/test_data_graph.png)\n",
    "\n",
    "We will come back to this graph view later on!"
   ]
  },
  {
   "cell_type": "markdown",
   "metadata": {},
   "source": [
    "### Option 2: as CSV, what we did on the course\n",
    "This is probably done better using some sklearn package like `StratifiedGroupKFold`"
   ]
  },
  {
   "cell_type": "code",
   "execution_count": 30,
   "metadata": {},
   "outputs": [],
   "source": [
    "sample_fnames = get_image_files(LOCAL_TRAIN_DIR/\"images\")\n",
    "sample_labels = [label_func(f) for f in sample_fnames]"
   ]
  },
  {
   "cell_type": "code",
   "execution_count": 31,
   "metadata": {},
   "outputs": [],
   "source": [
    "df = pd.DataFrame(index=range(SPLITS[\"train\"]), columns=[\"image_fname\",\"label_fname\", \"split\"])\n",
    "\n",
    "def assign_split(i):\n",
    "    \"Very un-orthodox\"\n",
    "    if i < SPLITS[\"train\"]: return \"train\"\n",
    "    if i < SPLITS[\"train\"]+SPLITS[\"valid\"]: return \"valid\"\n",
    "    if i < SPLITS[\"train\"]+SPLITS[\"valid\"]+SPLITS[\"test\"]:  return \"test\""
   ]
  },
  {
   "cell_type": "code",
   "execution_count": 32,
   "metadata": {},
   "outputs": [],
   "source": [
    "for i, (img, lbl) in enumerate(zip(sample_fnames, sample_labels)):\n",
    "    df.loc[i] = img.relative_to(LOCAL_TRAIN_DIR), lbl.relative_to(LOCAL_TRAIN_DIR), assign_split(i)"
   ]
  },
  {
   "cell_type": "code",
   "execution_count": 33,
   "metadata": {},
   "outputs": [
    {
     "data": {
      "text/html": [
       "<div>\n",
       "<style scoped>\n",
       "    .dataframe tbody tr th:only-of-type {\n",
       "        vertical-align: middle;\n",
       "    }\n",
       "\n",
       "    .dataframe tbody tr th {\n",
       "        vertical-align: top;\n",
       "    }\n",
       "\n",
       "    .dataframe thead th {\n",
       "        text-align: right;\n",
       "    }\n",
       "</style>\n",
       "<table border=\"1\" class=\"dataframe\">\n",
       "  <thead>\n",
       "    <tr style=\"text-align: right;\">\n",
       "      <th></th>\n",
       "      <th>image_fname</th>\n",
       "      <th>label_fname</th>\n",
       "      <th>split</th>\n",
       "    </tr>\n",
       "  </thead>\n",
       "  <tbody>\n",
       "    <tr>\n",
       "      <th>0</th>\n",
       "      <td>images/6f995cc3-c7d16d56.jpg</td>\n",
       "      <td>labels/6f995cc3-c7d16d56_train_id.png</td>\n",
       "      <td>train</td>\n",
       "    </tr>\n",
       "    <tr>\n",
       "      <th>1</th>\n",
       "      <td>images/6b9077b7-e6a07c88.jpg</td>\n",
       "      <td>labels/6b9077b7-e6a07c88_train_id.png</td>\n",
       "      <td>train</td>\n",
       "    </tr>\n",
       "    <tr>\n",
       "      <th>2</th>\n",
       "      <td>images/00e9be89-00001580.jpg</td>\n",
       "      <td>labels/00e9be89-00001580_train_id.png</td>\n",
       "      <td>train</td>\n",
       "    </tr>\n",
       "    <tr>\n",
       "      <th>3</th>\n",
       "      <td>images/374088b9-49066168.jpg</td>\n",
       "      <td>labels/374088b9-49066168_train_id.png</td>\n",
       "      <td>train</td>\n",
       "    </tr>\n",
       "    <tr>\n",
       "      <th>4</th>\n",
       "      <td>images/a6b971ba-00000000.jpg</td>\n",
       "      <td>labels/a6b971ba-00000000_train_id.png</td>\n",
       "      <td>train</td>\n",
       "    </tr>\n",
       "    <tr>\n",
       "      <th>5</th>\n",
       "      <td>images/286f1006-c3b30000.jpg</td>\n",
       "      <td>labels/286f1006-c3b30000_train_id.png</td>\n",
       "      <td>train</td>\n",
       "    </tr>\n",
       "    <tr>\n",
       "      <th>6</th>\n",
       "      <td>images/00e9be89-00001050.jpg</td>\n",
       "      <td>labels/00e9be89-00001050_train_id.png</td>\n",
       "      <td>train</td>\n",
       "    </tr>\n",
       "    <tr>\n",
       "      <th>7</th>\n",
       "      <td>images/1f607426-1bc0137f.jpg</td>\n",
       "      <td>labels/1f607426-1bc0137f_train_id.png</td>\n",
       "      <td>train</td>\n",
       "    </tr>\n",
       "    <tr>\n",
       "      <th>8</th>\n",
       "      <td>images/1d241258-a3b2237d.jpg</td>\n",
       "      <td>labels/1d241258-a3b2237d_train_id.png</td>\n",
       "      <td>train</td>\n",
       "    </tr>\n",
       "    <tr>\n",
       "      <th>9</th>\n",
       "      <td>images/c3593016-ac7c536a.jpg</td>\n",
       "      <td>labels/c3593016-ac7c536a_train_id.png</td>\n",
       "      <td>train</td>\n",
       "    </tr>\n",
       "    <tr>\n",
       "      <th>10</th>\n",
       "      <td>images/0e233b52-81b75cdf.jpg</td>\n",
       "      <td>labels/0e233b52-81b75cdf_train_id.png</td>\n",
       "      <td>train</td>\n",
       "    </tr>\n",
       "    <tr>\n",
       "      <th>11</th>\n",
       "      <td>images/b928271b-35145ad6.jpg</td>\n",
       "      <td>labels/b928271b-35145ad6_train_id.png</td>\n",
       "      <td>train</td>\n",
       "    </tr>\n",
       "    <tr>\n",
       "      <th>12</th>\n",
       "      <td>images/0ee642f9-22c03b1a.jpg</td>\n",
       "      <td>labels/0ee642f9-22c03b1a_train_id.png</td>\n",
       "      <td>train</td>\n",
       "    </tr>\n",
       "    <tr>\n",
       "      <th>13</th>\n",
       "      <td>images/0636a908-00000000.jpg</td>\n",
       "      <td>labels/0636a908-00000000_train_id.png</td>\n",
       "      <td>train</td>\n",
       "    </tr>\n",
       "    <tr>\n",
       "      <th>14</th>\n",
       "      <td>images/bb7792f1-e7ef3677.jpg</td>\n",
       "      <td>labels/bb7792f1-e7ef3677_train_id.png</td>\n",
       "      <td>train</td>\n",
       "    </tr>\n",
       "    <tr>\n",
       "      <th>15</th>\n",
       "      <td>images/1c3f81a3-b24f007d.jpg</td>\n",
       "      <td>labels/1c3f81a3-b24f007d_train_id.png</td>\n",
       "      <td>train</td>\n",
       "    </tr>\n",
       "    <tr>\n",
       "      <th>16</th>\n",
       "      <td>images/c87a634a-d8248e08.jpg</td>\n",
       "      <td>labels/c87a634a-d8248e08_train_id.png</td>\n",
       "      <td>train</td>\n",
       "    </tr>\n",
       "    <tr>\n",
       "      <th>17</th>\n",
       "      <td>images/00e9be89-00001105.jpg</td>\n",
       "      <td>labels/00e9be89-00001105_train_id.png</td>\n",
       "      <td>train</td>\n",
       "    </tr>\n",
       "    <tr>\n",
       "      <th>18</th>\n",
       "      <td>images/4b94bae4-48184270.jpg</td>\n",
       "      <td>labels/4b94bae4-48184270_train_id.png</td>\n",
       "      <td>train</td>\n",
       "    </tr>\n",
       "    <tr>\n",
       "      <th>19</th>\n",
       "      <td>images/1797ecb1-84ee3c11.jpg</td>\n",
       "      <td>labels/1797ecb1-84ee3c11_train_id.png</td>\n",
       "      <td>train</td>\n",
       "    </tr>\n",
       "    <tr>\n",
       "      <th>20</th>\n",
       "      <td>images/6abbdc86-f7e146b1.jpg</td>\n",
       "      <td>labels/6abbdc86-f7e146b1_train_id.png</td>\n",
       "      <td>train</td>\n",
       "    </tr>\n",
       "    <tr>\n",
       "      <th>21</th>\n",
       "      <td>images/44aaeb3d-b5035d25.jpg</td>\n",
       "      <td>labels/44aaeb3d-b5035d25_train_id.png</td>\n",
       "      <td>train</td>\n",
       "    </tr>\n",
       "    <tr>\n",
       "      <th>22</th>\n",
       "      <td>images/2f0faae3-3643dd3e.jpg</td>\n",
       "      <td>labels/2f0faae3-3643dd3e_train_id.png</td>\n",
       "      <td>train</td>\n",
       "    </tr>\n",
       "    <tr>\n",
       "      <th>23</th>\n",
       "      <td>images/552e5108-554aac56.jpg</td>\n",
       "      <td>labels/552e5108-554aac56_train_id.png</td>\n",
       "      <td>train</td>\n",
       "    </tr>\n",
       "    <tr>\n",
       "      <th>24</th>\n",
       "      <td>images/5ddcc1cc-2296ab94.jpg</td>\n",
       "      <td>labels/5ddcc1cc-2296ab94_train_id.png</td>\n",
       "      <td>train</td>\n",
       "    </tr>\n",
       "    <tr>\n",
       "      <th>25</th>\n",
       "      <td>images/a91b7555-00000045.jpg</td>\n",
       "      <td>labels/a91b7555-00000045_train_id.png</td>\n",
       "      <td>train</td>\n",
       "    </tr>\n",
       "    <tr>\n",
       "      <th>26</th>\n",
       "      <td>images/2ffeeb35-2b06245b.jpg</td>\n",
       "      <td>labels/2ffeeb35-2b06245b_train_id.png</td>\n",
       "      <td>train</td>\n",
       "    </tr>\n",
       "    <tr>\n",
       "      <th>27</th>\n",
       "      <td>images/0711ee3f-00000000.jpg</td>\n",
       "      <td>labels/0711ee3f-00000000_train_id.png</td>\n",
       "      <td>train</td>\n",
       "    </tr>\n",
       "    <tr>\n",
       "      <th>28</th>\n",
       "      <td>images/1dab55ac-b91f93fe.jpg</td>\n",
       "      <td>labels/1dab55ac-b91f93fe_train_id.png</td>\n",
       "      <td>train</td>\n",
       "    </tr>\n",
       "    <tr>\n",
       "      <th>29</th>\n",
       "      <td>images/4b07927b-d7e2fecc.jpg</td>\n",
       "      <td>labels/4b07927b-d7e2fecc_train_id.png</td>\n",
       "      <td>train</td>\n",
       "    </tr>\n",
       "    <tr>\n",
       "      <th>30</th>\n",
       "      <td>images/7aef9e40-d4dc2ff3.jpg</td>\n",
       "      <td>labels/7aef9e40-d4dc2ff3_train_id.png</td>\n",
       "      <td>train</td>\n",
       "    </tr>\n",
       "    <tr>\n",
       "      <th>31</th>\n",
       "      <td>images/8a286021-385f1357.jpg</td>\n",
       "      <td>labels/8a286021-385f1357_train_id.png</td>\n",
       "      <td>train</td>\n",
       "    </tr>\n",
       "    <tr>\n",
       "      <th>32</th>\n",
       "      <td>images/20cfa949-e3ddf103.jpg</td>\n",
       "      <td>labels/20cfa949-e3ddf103_train_id.png</td>\n",
       "      <td>train</td>\n",
       "    </tr>\n",
       "    <tr>\n",
       "      <th>33</th>\n",
       "      <td>images/645eb98a-49ef0000.jpg</td>\n",
       "      <td>labels/645eb98a-49ef0000_train_id.png</td>\n",
       "      <td>train</td>\n",
       "    </tr>\n",
       "    <tr>\n",
       "      <th>34</th>\n",
       "      <td>images/b63b1c14-f01a2f6b.jpg</td>\n",
       "      <td>labels/b63b1c14-f01a2f6b_train_id.png</td>\n",
       "      <td>train</td>\n",
       "    </tr>\n",
       "    <tr>\n",
       "      <th>35</th>\n",
       "      <td>images/b19efc15-9583cded.jpg</td>\n",
       "      <td>labels/b19efc15-9583cded_train_id.png</td>\n",
       "      <td>train</td>\n",
       "    </tr>\n",
       "    <tr>\n",
       "      <th>36</th>\n",
       "      <td>images/c5f99fea-d9ccc213.jpg</td>\n",
       "      <td>labels/c5f99fea-d9ccc213_train_id.png</td>\n",
       "      <td>train</td>\n",
       "    </tr>\n",
       "    <tr>\n",
       "      <th>37</th>\n",
       "      <td>images/6e820cbd-fb669ecf.jpg</td>\n",
       "      <td>labels/6e820cbd-fb669ecf_train_id.png</td>\n",
       "      <td>train</td>\n",
       "    </tr>\n",
       "    <tr>\n",
       "      <th>38</th>\n",
       "      <td>images/6d557686-89e7ec04.jpg</td>\n",
       "      <td>labels/6d557686-89e7ec04_train_id.png</td>\n",
       "      <td>train</td>\n",
       "    </tr>\n",
       "    <tr>\n",
       "      <th>39</th>\n",
       "      <td>images/1e68a7dc-e3394c1e.jpg</td>\n",
       "      <td>labels/1e68a7dc-e3394c1e_train_id.png</td>\n",
       "      <td>train</td>\n",
       "    </tr>\n",
       "    <tr>\n",
       "      <th>40</th>\n",
       "      <td>images/c7a350a0-cbbae3f7.jpg</td>\n",
       "      <td>labels/c7a350a0-cbbae3f7_train_id.png</td>\n",
       "      <td>valid</td>\n",
       "    </tr>\n",
       "    <tr>\n",
       "      <th>41</th>\n",
       "      <td>images/5d1dd6e3-53c3171e.jpg</td>\n",
       "      <td>labels/5d1dd6e3-53c3171e_train_id.png</td>\n",
       "      <td>valid</td>\n",
       "    </tr>\n",
       "    <tr>\n",
       "      <th>42</th>\n",
       "      <td>images/8759dd07-d2c8a3ec.jpg</td>\n",
       "      <td>labels/8759dd07-d2c8a3ec_train_id.png</td>\n",
       "      <td>valid</td>\n",
       "    </tr>\n",
       "    <tr>\n",
       "      <th>43</th>\n",
       "      <td>images/79fb506e-473f5a00.jpg</td>\n",
       "      <td>labels/79fb506e-473f5a00_train_id.png</td>\n",
       "      <td>valid</td>\n",
       "    </tr>\n",
       "    <tr>\n",
       "      <th>44</th>\n",
       "      <td>images/4bdbbb47-ade30001.jpg</td>\n",
       "      <td>labels/4bdbbb47-ade30001_train_id.png</td>\n",
       "      <td>valid</td>\n",
       "    </tr>\n",
       "    <tr>\n",
       "      <th>45</th>\n",
       "      <td>images/1ee15aed-5ba3af14.jpg</td>\n",
       "      <td>labels/1ee15aed-5ba3af14_train_id.png</td>\n",
       "      <td>valid</td>\n",
       "    </tr>\n",
       "    <tr>\n",
       "      <th>46</th>\n",
       "      <td>images/a91b7555-00001160.jpg</td>\n",
       "      <td>labels/a91b7555-00001160_train_id.png</td>\n",
       "      <td>valid</td>\n",
       "    </tr>\n",
       "    <tr>\n",
       "      <th>47</th>\n",
       "      <td>images/4494459a-0c839e11.jpg</td>\n",
       "      <td>labels/4494459a-0c839e11_train_id.png</td>\n",
       "      <td>valid</td>\n",
       "    </tr>\n",
       "    <tr>\n",
       "      <th>48</th>\n",
       "      <td>images/17a50ff7-b4137f0b.jpg</td>\n",
       "      <td>labels/17a50ff7-b4137f0b_train_id.png</td>\n",
       "      <td>valid</td>\n",
       "    </tr>\n",
       "    <tr>\n",
       "      <th>49</th>\n",
       "      <td>images/9a17b2d2-9c1d075f.jpg</td>\n",
       "      <td>labels/9a17b2d2-9c1d075f_train_id.png</td>\n",
       "      <td>valid</td>\n",
       "    </tr>\n",
       "    <tr>\n",
       "      <th>50</th>\n",
       "      <td>images/4ab94891-9512d411.jpg</td>\n",
       "      <td>labels/4ab94891-9512d411_train_id.png</td>\n",
       "      <td>test</td>\n",
       "    </tr>\n",
       "    <tr>\n",
       "      <th>51</th>\n",
       "      <td>images/4ac6aa8d-a3aa30d4.jpg</td>\n",
       "      <td>labels/4ac6aa8d-a3aa30d4_train_id.png</td>\n",
       "      <td>test</td>\n",
       "    </tr>\n",
       "    <tr>\n",
       "      <th>52</th>\n",
       "      <td>images/4ffc2e24-a5d25ce4.jpg</td>\n",
       "      <td>labels/4ffc2e24-a5d25ce4_train_id.png</td>\n",
       "      <td>test</td>\n",
       "    </tr>\n",
       "    <tr>\n",
       "      <th>53</th>\n",
       "      <td>images/a91b7555-00001245.jpg</td>\n",
       "      <td>labels/a91b7555-00001245_train_id.png</td>\n",
       "      <td>test</td>\n",
       "    </tr>\n",
       "    <tr>\n",
       "      <th>54</th>\n",
       "      <td>images/0af06324-3f5aac20.jpg</td>\n",
       "      <td>labels/0af06324-3f5aac20_train_id.png</td>\n",
       "      <td>test</td>\n",
       "    </tr>\n",
       "    <tr>\n",
       "      <th>55</th>\n",
       "      <td>images/b7d277b3-26d83b90.jpg</td>\n",
       "      <td>labels/b7d277b3-26d83b90_train_id.png</td>\n",
       "      <td>test</td>\n",
       "    </tr>\n",
       "    <tr>\n",
       "      <th>56</th>\n",
       "      <td>images/00e9be89-00000100.jpg</td>\n",
       "      <td>labels/00e9be89-00000100_train_id.png</td>\n",
       "      <td>test</td>\n",
       "    </tr>\n",
       "    <tr>\n",
       "      <th>57</th>\n",
       "      <td>images/2ced6610-4c40a0e7.jpg</td>\n",
       "      <td>labels/2ced6610-4c40a0e7_train_id.png</td>\n",
       "      <td>test</td>\n",
       "    </tr>\n",
       "    <tr>\n",
       "      <th>58</th>\n",
       "      <td>images/06ac374f-5c7fb039.jpg</td>\n",
       "      <td>labels/06ac374f-5c7fb039_train_id.png</td>\n",
       "      <td>test</td>\n",
       "    </tr>\n",
       "    <tr>\n",
       "      <th>59</th>\n",
       "      <td>images/a70faa46-6630da64.jpg</td>\n",
       "      <td>labels/a70faa46-6630da64_train_id.png</td>\n",
       "      <td>test</td>\n",
       "    </tr>\n",
       "  </tbody>\n",
       "</table>\n",
       "</div>"
      ],
      "text/plain": [
       "                     image_fname                            label_fname  split\n",
       "0   images/6f995cc3-c7d16d56.jpg  labels/6f995cc3-c7d16d56_train_id.png  train\n",
       "1   images/6b9077b7-e6a07c88.jpg  labels/6b9077b7-e6a07c88_train_id.png  train\n",
       "2   images/00e9be89-00001580.jpg  labels/00e9be89-00001580_train_id.png  train\n",
       "3   images/374088b9-49066168.jpg  labels/374088b9-49066168_train_id.png  train\n",
       "4   images/a6b971ba-00000000.jpg  labels/a6b971ba-00000000_train_id.png  train\n",
       "5   images/286f1006-c3b30000.jpg  labels/286f1006-c3b30000_train_id.png  train\n",
       "6   images/00e9be89-00001050.jpg  labels/00e9be89-00001050_train_id.png  train\n",
       "7   images/1f607426-1bc0137f.jpg  labels/1f607426-1bc0137f_train_id.png  train\n",
       "8   images/1d241258-a3b2237d.jpg  labels/1d241258-a3b2237d_train_id.png  train\n",
       "9   images/c3593016-ac7c536a.jpg  labels/c3593016-ac7c536a_train_id.png  train\n",
       "10  images/0e233b52-81b75cdf.jpg  labels/0e233b52-81b75cdf_train_id.png  train\n",
       "11  images/b928271b-35145ad6.jpg  labels/b928271b-35145ad6_train_id.png  train\n",
       "12  images/0ee642f9-22c03b1a.jpg  labels/0ee642f9-22c03b1a_train_id.png  train\n",
       "13  images/0636a908-00000000.jpg  labels/0636a908-00000000_train_id.png  train\n",
       "14  images/bb7792f1-e7ef3677.jpg  labels/bb7792f1-e7ef3677_train_id.png  train\n",
       "15  images/1c3f81a3-b24f007d.jpg  labels/1c3f81a3-b24f007d_train_id.png  train\n",
       "16  images/c87a634a-d8248e08.jpg  labels/c87a634a-d8248e08_train_id.png  train\n",
       "17  images/00e9be89-00001105.jpg  labels/00e9be89-00001105_train_id.png  train\n",
       "18  images/4b94bae4-48184270.jpg  labels/4b94bae4-48184270_train_id.png  train\n",
       "19  images/1797ecb1-84ee3c11.jpg  labels/1797ecb1-84ee3c11_train_id.png  train\n",
       "20  images/6abbdc86-f7e146b1.jpg  labels/6abbdc86-f7e146b1_train_id.png  train\n",
       "21  images/44aaeb3d-b5035d25.jpg  labels/44aaeb3d-b5035d25_train_id.png  train\n",
       "22  images/2f0faae3-3643dd3e.jpg  labels/2f0faae3-3643dd3e_train_id.png  train\n",
       "23  images/552e5108-554aac56.jpg  labels/552e5108-554aac56_train_id.png  train\n",
       "24  images/5ddcc1cc-2296ab94.jpg  labels/5ddcc1cc-2296ab94_train_id.png  train\n",
       "25  images/a91b7555-00000045.jpg  labels/a91b7555-00000045_train_id.png  train\n",
       "26  images/2ffeeb35-2b06245b.jpg  labels/2ffeeb35-2b06245b_train_id.png  train\n",
       "27  images/0711ee3f-00000000.jpg  labels/0711ee3f-00000000_train_id.png  train\n",
       "28  images/1dab55ac-b91f93fe.jpg  labels/1dab55ac-b91f93fe_train_id.png  train\n",
       "29  images/4b07927b-d7e2fecc.jpg  labels/4b07927b-d7e2fecc_train_id.png  train\n",
       "30  images/7aef9e40-d4dc2ff3.jpg  labels/7aef9e40-d4dc2ff3_train_id.png  train\n",
       "31  images/8a286021-385f1357.jpg  labels/8a286021-385f1357_train_id.png  train\n",
       "32  images/20cfa949-e3ddf103.jpg  labels/20cfa949-e3ddf103_train_id.png  train\n",
       "33  images/645eb98a-49ef0000.jpg  labels/645eb98a-49ef0000_train_id.png  train\n",
       "34  images/b63b1c14-f01a2f6b.jpg  labels/b63b1c14-f01a2f6b_train_id.png  train\n",
       "35  images/b19efc15-9583cded.jpg  labels/b19efc15-9583cded_train_id.png  train\n",
       "36  images/c5f99fea-d9ccc213.jpg  labels/c5f99fea-d9ccc213_train_id.png  train\n",
       "37  images/6e820cbd-fb669ecf.jpg  labels/6e820cbd-fb669ecf_train_id.png  train\n",
       "38  images/6d557686-89e7ec04.jpg  labels/6d557686-89e7ec04_train_id.png  train\n",
       "39  images/1e68a7dc-e3394c1e.jpg  labels/1e68a7dc-e3394c1e_train_id.png  train\n",
       "40  images/c7a350a0-cbbae3f7.jpg  labels/c7a350a0-cbbae3f7_train_id.png  valid\n",
       "41  images/5d1dd6e3-53c3171e.jpg  labels/5d1dd6e3-53c3171e_train_id.png  valid\n",
       "42  images/8759dd07-d2c8a3ec.jpg  labels/8759dd07-d2c8a3ec_train_id.png  valid\n",
       "43  images/79fb506e-473f5a00.jpg  labels/79fb506e-473f5a00_train_id.png  valid\n",
       "44  images/4bdbbb47-ade30001.jpg  labels/4bdbbb47-ade30001_train_id.png  valid\n",
       "45  images/1ee15aed-5ba3af14.jpg  labels/1ee15aed-5ba3af14_train_id.png  valid\n",
       "46  images/a91b7555-00001160.jpg  labels/a91b7555-00001160_train_id.png  valid\n",
       "47  images/4494459a-0c839e11.jpg  labels/4494459a-0c839e11_train_id.png  valid\n",
       "48  images/17a50ff7-b4137f0b.jpg  labels/17a50ff7-b4137f0b_train_id.png  valid\n",
       "49  images/9a17b2d2-9c1d075f.jpg  labels/9a17b2d2-9c1d075f_train_id.png  valid\n",
       "50  images/4ab94891-9512d411.jpg  labels/4ab94891-9512d411_train_id.png   test\n",
       "51  images/4ac6aa8d-a3aa30d4.jpg  labels/4ac6aa8d-a3aa30d4_train_id.png   test\n",
       "52  images/4ffc2e24-a5d25ce4.jpg  labels/4ffc2e24-a5d25ce4_train_id.png   test\n",
       "53  images/a91b7555-00001245.jpg  labels/a91b7555-00001245_train_id.png   test\n",
       "54  images/0af06324-3f5aac20.jpg  labels/0af06324-3f5aac20_train_id.png   test\n",
       "55  images/b7d277b3-26d83b90.jpg  labels/b7d277b3-26d83b90_train_id.png   test\n",
       "56  images/00e9be89-00000100.jpg  labels/00e9be89-00000100_train_id.png   test\n",
       "57  images/2ced6610-4c40a0e7.jpg  labels/2ced6610-4c40a0e7_train_id.png   test\n",
       "58  images/06ac374f-5c7fb039.jpg  labels/06ac374f-5c7fb039_train_id.png   test\n",
       "59  images/a70faa46-6630da64.jpg  labels/a70faa46-6630da64_train_id.png   test"
      ]
     },
     "execution_count": 33,
     "metadata": {},
     "output_type": "execute_result"
    }
   ],
   "source": [
    "df"
   ]
  },
  {
   "cell_type": "code",
   "execution_count": 34,
   "metadata": {},
   "outputs": [],
   "source": [
    "df.to_csv('data_split.csv', index=False)"
   ]
  },
  {
   "cell_type": "code",
   "execution_count": 35,
   "metadata": {},
   "outputs": [
    {
     "data": {
      "text/html": [
       "wandb version 0.13.4 is available!  To upgrade, please run:\n",
       " $ pip install wandb --upgrade"
      ],
      "text/plain": [
       "<IPython.core.display.HTML object>"
      ]
     },
     "metadata": {},
     "output_type": "display_data"
    },
    {
     "data": {
      "text/html": [
       "Tracking run with wandb version 0.13.2"
      ],
      "text/plain": [
       "<IPython.core.display.HTML object>"
      ]
     },
     "metadata": {},
     "output_type": "display_data"
    },
    {
     "data": {
      "text/html": [
       "Run data is saved locally in <code>/home/tcapelle/wandb/examples/colabs/dsviz/wandb/run-20221014_153156-ufwabvhu</code>"
      ],
      "text/plain": [
       "<IPython.core.display.HTML object>"
      ]
     },
     "metadata": {},
     "output_type": "display_data"
    },
    {
     "data": {
      "text/html": [
       "Syncing run <strong><a href=\"https://wandb.ai/capecape/bdd100k/runs/ufwabvhu\" target=\"_blank\">smooth-pine-36</a></strong> to <a href=\"https://wandb.ai/capecape/bdd100k\" target=\"_blank\">Weights & Biases</a> (<a href=\"https://wandb.me/run\" target=\"_blank\">docs</a>)<br/>"
      ],
      "text/plain": [
       "<IPython.core.display.HTML object>"
      ]
     },
     "metadata": {},
     "output_type": "display_data"
    }
   ],
   "source": [
    "run = wandb.init(project=WANDB_PROJECT, job_type=\"data_split\")"
   ]
  },
  {
   "cell_type": "code",
   "execution_count": 36,
   "metadata": {},
   "outputs": [
    {
     "data": {
      "text/plain": [
       "<Artifact QXJ0aWZhY3Q6MjI4MjAwMTU0>"
      ]
     },
     "execution_count": 36,
     "metadata": {},
     "output_type": "execute_result"
    }
   ],
   "source": [
    "run.use_artifact(RAW_DATA_AT+\":latest\")"
   ]
  },
  {
   "cell_type": "code",
   "execution_count": 37,
   "metadata": {},
   "outputs": [],
   "source": [
    "split_data_at = wandb.Artifact(SPLIT_DATA_AT, type=\"split_data\")"
   ]
  },
  {
   "cell_type": "markdown",
   "metadata": {},
   "source": [
    "we should probably save the test data separetely (as a good practice)"
   ]
  },
  {
   "cell_type": "code",
   "execution_count": 38,
   "metadata": {},
   "outputs": [
    {
     "data": {
      "text/plain": [
       "<ManifestEntry digest: 7WBKbR01rnoLoR7FAnqnRg==>"
      ]
     },
     "execution_count": 38,
     "metadata": {},
     "output_type": "execute_result"
    }
   ],
   "source": [
    "split_data_at.add_file('data_split.csv')"
   ]
  },
  {
   "cell_type": "code",
   "execution_count": 39,
   "metadata": {},
   "outputs": [
    {
     "data": {
      "text/plain": [
       "<wandb.sdk.wandb_artifacts.Artifact at 0x7efca4cd9db0>"
      ]
     },
     "execution_count": 39,
     "metadata": {},
     "output_type": "execute_result"
    }
   ],
   "source": [
    "wandb.log_artifact(split_data_at)"
   ]
  },
  {
   "cell_type": "code",
   "execution_count": 40,
   "metadata": {},
   "outputs": [
    {
     "data": {
      "text/html": [
       "Waiting for W&B process to finish... <strong style=\"color:green\">(success).</strong>"
      ],
      "text/plain": [
       "<IPython.core.display.HTML object>"
      ]
     },
     "metadata": {},
     "output_type": "display_data"
    },
    {
     "data": {
      "application/vnd.jupyter.widget-view+json": {
       "model_id": "",
       "version_major": 2,
       "version_minor": 0
      },
      "text/plain": [
       "VBox(children=(Label(value='0.005 MB of 0.005 MB uploaded (0.000 MB deduped)\\r'), FloatProgress(value=1.0, max…"
      ]
     },
     "metadata": {},
     "output_type": "display_data"
    },
    {
     "data": {
      "text/html": [
       "Synced <strong style=\"color:#cdcd00\">smooth-pine-36</strong>: <a href=\"https://wandb.ai/capecape/bdd100k/runs/ufwabvhu\" target=\"_blank\">https://wandb.ai/capecape/bdd100k/runs/ufwabvhu</a><br/>Synced 4 W&B file(s), 0 media file(s), 1 artifact file(s) and 0 other file(s)"
      ],
      "text/plain": [
       "<IPython.core.display.HTML object>"
      ]
     },
     "metadata": {},
     "output_type": "display_data"
    },
    {
     "data": {
      "text/html": [
       "Find logs at: <code>./wandb/run-20221014_153156-ufwabvhu/logs</code>"
      ],
      "text/plain": [
       "<IPython.core.display.HTML object>"
      ]
     },
     "metadata": {},
     "output_type": "display_data"
    }
   ],
   "source": [
    "wandb.finish()"
   ]
  },
  {
   "cell_type": "markdown",
   "metadata": {},
   "source": [
    "# Step 3: Model Training\n",
    "\n",
    "Now we will train a model to predict semantic segmentation masks. This is a simple UNet in Fastai, intended to train quickly. As you can imagine, the model performance can be improved dramatically.\n",
    "\n",
    "See a [live example in W&B](https://wandb.ai/stacey/dsviz-demo/artifacts/val_epoch_preds/val_pred_55oxnv95/8ea156e10e0099fe58d8/files/val_epoch_results.table.json) of validation predictions logged during training, versioned per epoch."
   ]
  },
  {
   "cell_type": "code",
   "execution_count": 41,
   "metadata": {},
   "outputs": [
    {
     "data": {
      "text/html": [
       "wandb version 0.13.4 is available!  To upgrade, please run:\n",
       " $ pip install wandb --upgrade"
      ],
      "text/plain": [
       "<IPython.core.display.HTML object>"
      ]
     },
     "metadata": {},
     "output_type": "display_data"
    },
    {
     "data": {
      "text/html": [
       "Tracking run with wandb version 0.13.2"
      ],
      "text/plain": [
       "<IPython.core.display.HTML object>"
      ]
     },
     "metadata": {},
     "output_type": "display_data"
    },
    {
     "data": {
      "text/html": [
       "Run data is saved locally in <code>/home/tcapelle/wandb/examples/colabs/dsviz/wandb/run-20221014_153210-2n9bgbw2</code>"
      ],
      "text/plain": [
       "<IPython.core.display.HTML object>"
      ]
     },
     "metadata": {},
     "output_type": "display_data"
    },
    {
     "data": {
      "text/html": [
       "Syncing run <strong><a href=\"https://wandb.ai/capecape/bdd100k/runs/2n9bgbw2\" target=\"_blank\">atomic-morning-37</a></strong> to <a href=\"https://wandb.ai/capecape/bdd100k\" target=\"_blank\">Weights & Biases</a> (<a href=\"https://wandb.me/run\" target=\"_blank\">docs</a>)<br/>"
      ],
      "text/plain": [
       "<IPython.core.display.HTML object>"
      ]
     },
     "metadata": {},
     "output_type": "display_data"
    }
   ],
   "source": [
    "wandb.init(project=WANDB_PROJECT, job_type=\"download_train_data\")\n",
    "\n",
    "# fetch the latest verstion of the training data\n",
    "data_at = run.use_artifact(RAW_DATA_AT + \":latest\")\n",
    "\n",
    "# download it locally (required for this Fastai approach)\n",
    "data_dir = Path(data_at.download())"
   ]
  },
  {
   "cell_type": "code",
   "execution_count": 42,
   "metadata": {},
   "outputs": [
    {
     "data": {
      "text/plain": [
       "Path('artifacts/bdd_raw_data_60:v4')"
      ]
     },
     "execution_count": 42,
     "metadata": {},
     "output_type": "execute_result"
    }
   ],
   "source": [
    "data_dir"
   ]
  },
  {
   "cell_type": "code",
   "execution_count": 43,
   "metadata": {},
   "outputs": [],
   "source": [
    "split_at = run.use_artifact(f'{SPLIT_DATA_AT}:latest')\n",
    "split_data_dir = Path(split_at.download())\n",
    "df = pd.read_csv(split_data_dir / 'data_split.csv')\n",
    "\n",
    "# assign paths\n",
    "df[\"image_fname\"] = LOCAL_TRAIN_DIR/df[\"image_fname\"]\n",
    "df[\"label_fname\"] = LOCAL_TRAIN_DIR/df[\"label_fname\"]"
   ]
  },
  {
   "cell_type": "code",
   "execution_count": 44,
   "metadata": {},
   "outputs": [
    {
     "data": {
      "text/html": [
       "Waiting for W&B process to finish... <strong style=\"color:green\">(success).</strong>"
      ],
      "text/plain": [
       "<IPython.core.display.HTML object>"
      ]
     },
     "metadata": {},
     "output_type": "display_data"
    },
    {
     "data": {
      "application/vnd.jupyter.widget-view+json": {
       "model_id": "",
       "version_major": 2,
       "version_minor": 0
      },
      "text/plain": [
       "VBox(children=(Label(value='0.001 MB of 0.001 MB uploaded (0.000 MB deduped)\\r'), FloatProgress(value=1.0, max…"
      ]
     },
     "metadata": {},
     "output_type": "display_data"
    },
    {
     "data": {
      "text/html": [
       "Synced <strong style=\"color:#cdcd00\">atomic-morning-37</strong>: <a href=\"https://wandb.ai/capecape/bdd100k/runs/2n9bgbw2\" target=\"_blank\">https://wandb.ai/capecape/bdd100k/runs/2n9bgbw2</a><br/>Synced 4 W&B file(s), 0 media file(s), 0 artifact file(s) and 0 other file(s)"
      ],
      "text/plain": [
       "<IPython.core.display.HTML object>"
      ]
     },
     "metadata": {},
     "output_type": "display_data"
    },
    {
     "data": {
      "text/html": [
       "Find logs at: <code>./wandb/run-20221014_153210-2n9bgbw2/logs</code>"
      ],
      "text/plain": [
       "<IPython.core.display.HTML object>"
      ]
     },
     "metadata": {},
     "output_type": "display_data"
    }
   ],
   "source": [
    "wandb.finish()"
   ]
  },
  {
   "cell_type": "code",
   "execution_count": 45,
   "metadata": {},
   "outputs": [],
   "source": [
    "df[\"is_valid\"] = (df.split == \"valid\")\n",
    "df_test = df[df.split==\"test\"]\n",
    "df = df[df.split!=\"test\"]"
   ]
  },
  {
   "cell_type": "code",
   "execution_count": 46,
   "metadata": {},
   "outputs": [
    {
     "data": {
      "text/html": [
       "<div>\n",
       "<style scoped>\n",
       "    .dataframe tbody tr th:only-of-type {\n",
       "        vertical-align: middle;\n",
       "    }\n",
       "\n",
       "    .dataframe tbody tr th {\n",
       "        vertical-align: top;\n",
       "    }\n",
       "\n",
       "    .dataframe thead th {\n",
       "        text-align: right;\n",
       "    }\n",
       "</style>\n",
       "<table border=\"1\" class=\"dataframe\">\n",
       "  <thead>\n",
       "    <tr style=\"text-align: right;\">\n",
       "      <th></th>\n",
       "      <th>image_fname</th>\n",
       "      <th>label_fname</th>\n",
       "      <th>split</th>\n",
       "      <th>is_valid</th>\n",
       "    </tr>\n",
       "  </thead>\n",
       "  <tbody>\n",
       "    <tr>\n",
       "      <th>0</th>\n",
       "      <td>DATA/images/6f995cc3-c7d16d56.jpg</td>\n",
       "      <td>DATA/labels/6f995cc3-c7d16d56_train_id.png</td>\n",
       "      <td>train</td>\n",
       "      <td>False</td>\n",
       "    </tr>\n",
       "    <tr>\n",
       "      <th>1</th>\n",
       "      <td>DATA/images/6b9077b7-e6a07c88.jpg</td>\n",
       "      <td>DATA/labels/6b9077b7-e6a07c88_train_id.png</td>\n",
       "      <td>train</td>\n",
       "      <td>False</td>\n",
       "    </tr>\n",
       "    <tr>\n",
       "      <th>2</th>\n",
       "      <td>DATA/images/00e9be89-00001580.jpg</td>\n",
       "      <td>DATA/labels/00e9be89-00001580_train_id.png</td>\n",
       "      <td>train</td>\n",
       "      <td>False</td>\n",
       "    </tr>\n",
       "    <tr>\n",
       "      <th>3</th>\n",
       "      <td>DATA/images/374088b9-49066168.jpg</td>\n",
       "      <td>DATA/labels/374088b9-49066168_train_id.png</td>\n",
       "      <td>train</td>\n",
       "      <td>False</td>\n",
       "    </tr>\n",
       "    <tr>\n",
       "      <th>4</th>\n",
       "      <td>DATA/images/a6b971ba-00000000.jpg</td>\n",
       "      <td>DATA/labels/a6b971ba-00000000_train_id.png</td>\n",
       "      <td>train</td>\n",
       "      <td>False</td>\n",
       "    </tr>\n",
       "  </tbody>\n",
       "</table>\n",
       "</div>"
      ],
      "text/plain": [
       "                         image_fname  \\\n",
       "0  DATA/images/6f995cc3-c7d16d56.jpg   \n",
       "1  DATA/images/6b9077b7-e6a07c88.jpg   \n",
       "2  DATA/images/00e9be89-00001580.jpg   \n",
       "3  DATA/images/374088b9-49066168.jpg   \n",
       "4  DATA/images/a6b971ba-00000000.jpg   \n",
       "\n",
       "                                  label_fname  split  is_valid  \n",
       "0  DATA/labels/6f995cc3-c7d16d56_train_id.png  train     False  \n",
       "1  DATA/labels/6b9077b7-e6a07c88_train_id.png  train     False  \n",
       "2  DATA/labels/00e9be89-00001580_train_id.png  train     False  \n",
       "3  DATA/labels/374088b9-49066168_train_id.png  train     False  \n",
       "4  DATA/labels/a6b971ba-00000000_train_id.png  train     False  "
      ]
     },
     "execution_count": 46,
     "metadata": {},
     "output_type": "execute_result"
    }
   ],
   "source": [
    "df.head()"
   ]
  },
  {
   "cell_type": "code",
   "execution_count": 53,
   "metadata": {},
   "outputs": [],
   "source": [
    "def get_data(df, bs=4, img_size=(180, 320), augment=True):\n",
    "    block = DataBlock(blocks=(ImageBlock, MaskBlock(codes=BDD_CLASSES)),\n",
    "                  get_x=ColReader(\"image_fname\"),\n",
    "                  get_y=ColReader(\"label_fname\"),\n",
    "                  splitter=ColSplitter(),\n",
    "                  item_tfms=Resize(img_size),\n",
    "                  batch_tfms=aug_transforms() if augment else None,\n",
    "                 )\n",
    "    return block.dataloaders(df, bs=bs)"
   ]
  },
  {
   "cell_type": "code",
   "execution_count": 54,
   "metadata": {},
   "outputs": [],
   "source": [
    "dls = get_data(df)"
   ]
  },
  {
   "cell_type": "code",
   "execution_count": 55,
   "metadata": {},
   "outputs": [
    {
     "data": {
      "image/png": "[encoded data removed]",
      "text/plain": [
       "<Figure size 600x600 with 4 Axes>"
      ]
     },
     "metadata": {},
     "output_type": "display_data"
    }
   ],
   "source": [
    "dls.show_batch()"
   ]
  },
  {
   "cell_type": "code",
   "execution_count": 56,
   "metadata": {},
   "outputs": [],
   "source": [
    "from fastai.callback.wandb import WandbCallback"
   ]
  },
  {
   "cell_type": "code",
   "execution_count": 57,
   "metadata": {},
   "outputs": [],
   "source": [
    "train_config = SimpleNamespace(\n",
    "    framework=\"fastai\",\n",
    "    img_size=(180, 320),\n",
    "    batch_size=8, # keep small in Colab to be manageable\n",
    "    augment=True, # use data augmentation\n",
    "    epochs=10, # for brevity, increase for better results :)\n",
    "    data_split=0.7,\n",
    "    lr=2e-3,\n",
    "    pretrained=True  # whether to use pretrained encoder,\n",
    ")"
   ]
  },
  {
   "cell_type": "code",
   "execution_count": 58,
   "metadata": {},
   "outputs": [
    {
     "data": {
      "text/html": [
       "wandb version 0.13.4 is available!  To upgrade, please run:\n",
       " $ pip install wandb --upgrade"
      ],
      "text/plain": [
       "<IPython.core.display.HTML object>"
      ]
     },
     "metadata": {},
     "output_type": "display_data"
    },
    {
     "data": {
      "text/html": [
       "Tracking run with wandb version 0.13.2"
      ],
      "text/plain": [
       "<IPython.core.display.HTML object>"
      ]
     },
     "metadata": {},
     "output_type": "display_data"
    },
    {
     "data": {
      "text/html": [
       "Run data is saved locally in <code>/home/tcapelle/wandb/examples/colabs/dsviz/wandb/run-20221014_153243-i6m7k4x5</code>"
      ],
      "text/plain": [
       "<IPython.core.display.HTML object>"
      ]
     },
     "metadata": {},
     "output_type": "display_data"
    },
    {
     "data": {
      "text/html": [
       "Syncing run <strong><a href=\"https://wandb.ai/capecape/bdd100k/runs/i6m7k4x5\" target=\"_blank\">atomic-dragon-38</a></strong> to <a href=\"https://wandb.ai/capecape/bdd100k\" target=\"_blank\">Weights & Biases</a> (<a href=\"https://wandb.me/run\" target=\"_blank\">docs</a>)<br/>"
      ],
      "text/plain": [
       "<IPython.core.display.HTML object>"
      ]
     },
     "metadata": {},
     "output_type": "display_data"
    },
    {
     "data": {
      "text/html": [
       "<button onClick=\"this.nextSibling.style.display='block';this.style.display='none';\">Display W&B run</button><iframe src=\"https://wandb.ai/capecape/bdd100k/runs/i6m7k4x5?jupyter=true\" style=\"border:none;width:100%;height:420px;display:none;\"></iframe>"
      ],
      "text/plain": [
       "<wandb.sdk.wandb_run.Run at 0x7efca4948fa0>"
      ]
     },
     "execution_count": 58,
     "metadata": {},
     "output_type": "execute_result"
    }
   ],
   "source": [
    "wandb.init(project=WANDB_PROJECT, job_type=\"train\", config=train_config)"
   ]
  },
  {
   "cell_type": "code",
   "execution_count": 59,
   "metadata": {},
   "outputs": [],
   "source": [
    "config = wandb.config"
   ]
  },
  {
   "cell_type": "code",
   "execution_count": 60,
   "metadata": {},
   "outputs": [],
   "source": [
    "split_at = run.use_artifact(f'{SPLIT_DATA_AT}:latest')\n",
    "\n",
    "dls = get_data(df, bs=config.batch_size, img_size=config.img_size, augment=config.augment)"
   ]
  },
  {
   "cell_type": "code",
   "execution_count": 61,
   "metadata": {},
   "outputs": [],
   "source": [
    "learn = unet_learner(dls, arch=resnet18, pretrained=config.pretrained, cbs=SaveModelCallback()).to_fp16()"
   ]
  },
  {
   "cell_type": "code",
   "execution_count": 62,
   "metadata": {},
   "outputs": [
    {
     "data": {
      "text/html": [
       "\n",
       "<style>\n",
       "    /* Turns off some styling */\n",
       "    progress {\n",
       "        /* gets rid of default border in Firefox and Opera. */\n",
       "        border: none;\n",
       "        /* Needs to be in here for Safari polyfill so background images work as expected. */\n",
       "        background-size: auto;\n",
       "    }\n",
       "    .progress-bar-interrupted, .progress-bar-interrupted::-webkit-progress-bar {\n",
       "        background: #F44336;\n",
       "    }\n",
       "</style>\n"
      ],
      "text/plain": [
       "<IPython.core.display.HTML object>"
      ]
     },
     "metadata": {},
     "output_type": "display_data"
    },
    {
     "data": {
      "text/html": [
       "<table border=\"1\" class=\"dataframe\">\n",
       "  <thead>\n",
       "    <tr style=\"text-align: left;\">\n",
       "      <th>epoch</th>\n",
       "      <th>train_loss</th>\n",
       "      <th>valid_loss</th>\n",
       "      <th>time</th>\n",
       "    </tr>\n",
       "  </thead>\n",
       "  <tbody>\n",
       "    <tr>\n",
       "      <td>0</td>\n",
       "      <td>3.103486</td>\n",
       "      <td>6.387717</td>\n",
       "      <td>00:03</td>\n",
       "    </tr>\n",
       "    <tr>\n",
       "      <td>1</td>\n",
       "      <td>3.158468</td>\n",
       "      <td>2.531167</td>\n",
       "      <td>00:02</td>\n",
       "    </tr>\n",
       "    <tr>\n",
       "      <td>2</td>\n",
       "      <td>3.424855</td>\n",
       "      <td>2.432950</td>\n",
       "      <td>00:02</td>\n",
       "    </tr>\n",
       "    <tr>\n",
       "      <td>3</td>\n",
       "      <td>2.994939</td>\n",
       "      <td>2.286152</td>\n",
       "      <td>00:02</td>\n",
       "    </tr>\n",
       "    <tr>\n",
       "      <td>4</td>\n",
       "      <td>2.683334</td>\n",
       "      <td>2.120654</td>\n",
       "      <td>00:02</td>\n",
       "    </tr>\n",
       "    <tr>\n",
       "      <td>5</td>\n",
       "      <td>2.479208</td>\n",
       "      <td>2.289975</td>\n",
       "      <td>00:02</td>\n",
       "    </tr>\n",
       "    <tr>\n",
       "      <td>6</td>\n",
       "      <td>2.334862</td>\n",
       "      <td>2.164847</td>\n",
       "      <td>00:02</td>\n",
       "    </tr>\n",
       "    <tr>\n",
       "      <td>7</td>\n",
       "      <td>2.222581</td>\n",
       "      <td>2.157053</td>\n",
       "      <td>00:02</td>\n",
       "    </tr>\n",
       "    <tr>\n",
       "      <td>8</td>\n",
       "      <td>2.121106</td>\n",
       "      <td>2.160498</td>\n",
       "      <td>00:02</td>\n",
       "    </tr>\n",
       "    <tr>\n",
       "      <td>9</td>\n",
       "      <td>2.045786</td>\n",
       "      <td>2.170073</td>\n",
       "      <td>00:02</td>\n",
       "    </tr>\n",
       "  </tbody>\n",
       "</table>"
      ],
      "text/plain": [
       "<IPython.core.display.HTML object>"
      ]
     },
     "metadata": {},
     "output_type": "display_data"
    },
    {
     "name": "stdout",
     "output_type": "stream",
     "text": [
      "Better model found at epoch 0 with valid_loss value: 6.387717247009277.\n",
      "Better model found at epoch 1 with valid_loss value: 2.5311672687530518.\n",
      "Better model found at epoch 2 with valid_loss value: 2.432950258255005.\n",
      "Better model found at epoch 3 with valid_loss value: 2.286151885986328.\n",
      "Better model found at epoch 4 with valid_loss value: 2.1206536293029785.\n"
     ]
    }
   ],
   "source": [
    "learn.fit_one_cycle(config.epochs, config.lr, cbs=[WandbCallback(log_preds=False, log_model=True)])"
   ]
  },
  {
   "cell_type": "code",
   "execution_count": 63,
   "metadata": {},
   "outputs": [
    {
     "data": {
      "text/html": [
       "Waiting for W&B process to finish... <strong style=\"color:green\">(success).</strong>"
      ],
      "text/plain": [
       "<IPython.core.display.HTML object>"
      ]
     },
     "metadata": {},
     "output_type": "display_data"
    },
    {
     "data": {
      "application/vnd.jupyter.widget-view+json": {
       "model_id": "",
       "version_major": 2,
       "version_minor": 0
      },
      "text/plain": [
       "VBox(children=(Label(value='118.798 MB of 118.798 MB uploaded (0.000 MB deduped)\\r'), FloatProgress(value=1.0,…"
      ]
     },
     "metadata": {},
     "output_type": "display_data"
    },
    {
     "data": {
      "text/html": [
       "<style>\n",
       "    table.wandb td:nth-child(1) { padding: 0 10px; text-align: left ; width: auto;} td:nth-child(2) {text-align: left ; width: 100%}\n",
       "    .wandb-row { display: flex; flex-direction: row; flex-wrap: wrap; justify-content: flex-start; width: 100% }\n",
       "    .wandb-col { display: flex; flex-direction: column; flex-basis: 100%; flex: 1; padding: 10px; }\n",
       "    </style>\n",
       "<div class=\"wandb-row\"><div class=\"wandb-col\"><h3>Run history:</h3><br/><table class=\"wandb\"><tr><td>epoch</td><td>▁▁▁▁▂▂▂▂▂▃▃▃▃▃▃▄▄▄▄▄▅▅▅▅▅▅▆▆▆▆▆▆▇▇▇▇▇███</td></tr><tr><td>eps_0</td><td>▁▁▁▁▁▁▁▁▁▁▁▁▁▁▁▁▁▁▁▁▁▁▁▁▁▁▁▁▁▁▁▁▁▁▁▁▁▁▁▁</td></tr><tr><td>eps_1</td><td>▁▁▁▁▁▁▁▁▁▁▁▁▁▁▁▁▁▁▁▁▁▁▁▁▁▁▁▁▁▁▁▁▁▁▁▁▁▁▁▁</td></tr><tr><td>eps_2</td><td>▁▁▁▁▁▁▁▁▁▁▁▁▁▁▁▁▁▁▁▁▁▁▁▁▁▁▁▁▁▁▁▁▁▁▁▁▁▁▁▁</td></tr><tr><td>lr_0</td><td>▁▁▂▂▄▄▅▆▇███████▇▇▇▇▆▆▆▅▅▅▄▄▃▃▃▃▂▂▂▂▁▁▁▁</td></tr><tr><td>lr_1</td><td>▁▁▂▂▄▄▅▆▇███████▇▇▇▇▆▆▆▅▅▅▄▄▃▃▃▃▂▂▂▂▁▁▁▁</td></tr><tr><td>lr_2</td><td>▁▁▂▂▄▄▅▆▇███████▇▇▇▇▆▆▆▅▅▅▄▄▃▃▃▃▂▂▂▂▁▁▁▁</td></tr><tr><td>mom_0</td><td>███▇▆▅▄▃▂▁▁▁▁▁▁▁▂▂▂▂▃▃▃▄▄▄▅▅▆▆▆▆▇▇▇▇████</td></tr><tr><td>mom_1</td><td>███▇▆▅▄▃▂▁▁▁▁▁▁▁▂▂▂▂▃▃▃▄▄▄▅▅▆▆▆▆▇▇▇▇████</td></tr><tr><td>mom_2</td><td>███▇▆▅▄▃▂▁▁▁▁▁▁▁▂▂▂▂▃▃▃▄▄▄▅▅▆▆▆▆▇▇▇▇████</td></tr><tr><td>raw_loss</td><td>▃▃▃▂▃▄▅▂▂██▂▂▂▂▁▁▂▁▁▁▁▂▁▁▂▁▁▁▂▁▁▂▁▁▁▁▁▁▂</td></tr><tr><td>sqr_mom_0</td><td>▁▁▁▁▁▁▁▁▁▁▁▁▁▁▁▁▁▁▁▁▁▁▁▁▁▁▁▁▁▁▁▁▁▁▁▁▁▁▁▁</td></tr><tr><td>sqr_mom_1</td><td>▁▁▁▁▁▁▁▁▁▁▁▁▁▁▁▁▁▁▁▁▁▁▁▁▁▁▁▁▁▁▁▁▁▁▁▁▁▁▁▁</td></tr><tr><td>sqr_mom_2</td><td>▁▁▁▁▁▁▁▁▁▁▁▁▁▁▁▁▁▁▁▁▁▁▁▁▁▁▁▁▁▁▁▁▁▁▁▁▁▁▁▁</td></tr><tr><td>train_loss</td><td>▅▆▆▅▆▆▇▆▅▇██▇▆▆▅▅▅▄▄▄▃▃▃▃▃▃▂▂▂▂▂▂▂▂▁▁▁▁▁</td></tr><tr><td>train_samples_per_sec</td><td>▁▆▇▇▇█▇▇▇█▇▇▇▇▇▇▇▇▇▇▇▇▇▇▇▇▇▇▇▇▇▇▇▇▇▇▇▇▇▇</td></tr><tr><td>valid_loss</td><td>█▂▂▁▁▁▁▁▁▁</td></tr><tr><td>wd_0</td><td>▁▁▁▁▁▁▁▁▁▁▁▁▁▁▁▁▁▁▁▁▁▁▁▁▁▁▁▁▁▁▁▁▁▁▁▁▁▁▁▁</td></tr><tr><td>wd_1</td><td>▁▁▁▁▁▁▁▁▁▁▁▁▁▁▁▁▁▁▁▁▁▁▁▁▁▁▁▁▁▁▁▁▁▁▁▁▁▁▁▁</td></tr><tr><td>wd_2</td><td>▁▁▁▁▁▁▁▁▁▁▁▁▁▁▁▁▁▁▁▁▁▁▁▁▁▁▁▁▁▁▁▁▁▁▁▁▁▁▁▁</td></tr></table><br/></div><div class=\"wandb-col\"><h3>Run summary:</h3><br/><table class=\"wandb\"><tr><td>epoch</td><td>10</td></tr><tr><td>eps_0</td><td>1e-05</td></tr><tr><td>eps_1</td><td>1e-05</td></tr><tr><td>eps_2</td><td>1e-05</td></tr><tr><td>lr_0</td><td>0.0</td></tr><tr><td>lr_1</td><td>0.0</td></tr><tr><td>lr_2</td><td>0.0</td></tr><tr><td>mom_0</td><td>0.94982</td></tr><tr><td>mom_1</td><td>0.94982</td></tr><tr><td>mom_2</td><td>0.94982</td></tr><tr><td>raw_loss</td><td>1.8863</td></tr><tr><td>sqr_mom_0</td><td>0.99</td></tr><tr><td>sqr_mom_1</td><td>0.99</td></tr><tr><td>sqr_mom_2</td><td>0.99</td></tr><tr><td>train_loss</td><td>2.04579</td></tr><tr><td>train_samples_per_sec</td><td>96.66969</td></tr><tr><td>valid_loss</td><td>2.17007</td></tr><tr><td>wd_0</td><td>0.01</td></tr><tr><td>wd_1</td><td>0.01</td></tr><tr><td>wd_2</td><td>0.01</td></tr></table><br/></div></div>"
      ],
      "text/plain": [
       "<IPython.core.display.HTML object>"
      ]
     },
     "metadata": {},
     "output_type": "display_data"
    },
    {
     "data": {
      "text/html": [
       "Synced <strong style=\"color:#cdcd00\">atomic-dragon-38</strong>: <a href=\"https://wandb.ai/capecape/bdd100k/runs/i6m7k4x5\" target=\"_blank\">https://wandb.ai/capecape/bdd100k/runs/i6m7k4x5</a><br/>Synced 5 W&B file(s), 0 media file(s), 1 artifact file(s) and 0 other file(s)"
      ],
      "text/plain": [
       "<IPython.core.display.HTML object>"
      ]
     },
     "metadata": {},
     "output_type": "display_data"
    },
    {
     "data": {
      "text/html": [
       "Find logs at: <code>./wandb/run-20221014_153243-i6m7k4x5/logs</code>"
      ],
      "text/plain": [
       "<IPython.core.display.HTML object>"
      ]
     },
     "metadata": {},
     "output_type": "display_data"
    }
   ],
   "source": [
    "wandb.finish()"
   ]
  },
  {
   "cell_type": "markdown",
   "metadata": {},
   "source": [
    "# Step 4: Model Evaluation\n",
    "\n",
    "Now that we have a trained model, we want to score it on the test data which was held out in step 2. This code is very similar to the training step, with the execption of slightly different naming. The important difference is that we load the saved model from the artifact. Note that the test predictions will be pretty weak if you're training on the TINY dataset for only one epoch :)\n",
    "\n",
    "See a [live example in W&B](https://wandb.ai/stacey/dsviz-seg/artifacts/test_preds/test_preds_2ghlr3bh/b13a107bb3cb1e2a249c/files/test_results.table.json) of such test predictions."
   ]
  },
  {
   "cell_type": "code",
   "execution_count": 64,
   "metadata": {},
   "outputs": [],
   "source": [
    "test_dl = dls.test_dl(df_test, with_labels=True)"
   ]
  },
  {
   "cell_type": "markdown",
   "metadata": {},
   "source": [
    "some utility funcs"
   ]
  },
  {
   "cell_type": "code",
   "execution_count": 65,
   "metadata": {},
   "outputs": [
    {
     "data": {
      "text/html": [
       "\n",
       "<style>\n",
       "    /* Turns off some styling */\n",
       "    progress {\n",
       "        /* gets rid of default border in Firefox and Opera. */\n",
       "        border: none;\n",
       "        /* Needs to be in here for Safari polyfill so background images work as expected. */\n",
       "        background-size: auto;\n",
       "    }\n",
       "    .progress-bar-interrupted, .progress-bar-interrupted::-webkit-progress-bar {\n",
       "        background: #F44336;\n",
       "    }\n",
       "</style>\n"
      ],
      "text/plain": [
       "<IPython.core.display.HTML object>"
      ]
     },
     "metadata": {},
     "output_type": "display_data"
    },
    {
     "data": {
      "text/html": [],
      "text/plain": [
       "<IPython.core.display.HTML object>"
      ]
     },
     "metadata": {},
     "output_type": "display_data"
    },
    {
     "data": {
      "text/plain": [
       "(torch.Size([10, 3, 180, 320]),\n",
       " torch.Size([10, 20, 180, 320]),\n",
       " torch.Size([10, 180, 320]),\n",
       " torch.Size([10, 180, 320]))"
      ]
     },
     "execution_count": 65,
     "metadata": {},
     "output_type": "execute_result"
    }
   ],
   "source": [
    "inputs, predictions, targets, outputs = learn.get_preds(dl=test_dl, with_input=True, with_decoded=True)\n",
    "\n",
    "inputs.shape, predictions.shape, outputs.shape, targets.shape"
   ]
  },
  {
   "cell_type": "code",
   "execution_count": 66,
   "metadata": {},
   "outputs": [],
   "source": [
    "def faccuracy(inp, targ):\n",
    "    \"Foreground accuracy per item\"\n",
    "    return foreground_acc(inp.unsqueeze(0), targ.unsqueeze(0)).item()\n",
    "\n",
    "\n",
    "def dice_per_class(inp, targ):\n",
    "    \"Compute dice per class\"\n",
    "    dice_scores = []\n",
    "    eps = 1e-6\n",
    "    for c in range(inp.shape[0]):\n",
    "        dec_preds = inp.argmax(dim=0)\n",
    "        p = torch.where(dec_preds == c, 1, 0)\n",
    "        t = torch.where(targ == c, 1, 0)\n",
    "        c_inter = (p * t).float().sum().item()\n",
    "        c_union = (p + t).float().sum().item()\n",
    "        if c_union:\n",
    "            dice_scores.append(2.0 * c_inter / (c_union + eps))\n",
    "        else:\n",
    "            dice_scores.append(-1)\n",
    "    return dice_scores"
   ]
  },
  {
   "cell_type": "code",
   "execution_count": 67,
   "metadata": {},
   "outputs": [],
   "source": [
    "def create_row(sample, pred_label, prediction, class_labels):\n",
    "    \"\"\"\"A simple function to create a row of (img, target, prediction, and scores...)\"\"\"\n",
    "    (image, label) = sample\n",
    "    # compute metrics\n",
    "    dice_scores = dice_per_class(prediction, label)\n",
    "    facc = faccuracy(prediction, label)\n",
    "    image = image.permute(1, 2, 0)\n",
    "    row =[wandb.Image(\n",
    "                image,\n",
    "                masks={\n",
    "                    \"predictions\": {\n",
    "                        \"mask_data\": pred_label[0].numpy(),\n",
    "                        \"class_labels\": class_labels,\n",
    "                    },\n",
    "                    \"ground_truths\": {\n",
    "                        \"mask_data\": label.numpy(),\n",
    "                        \"class_labels\": class_labels,\n",
    "                    },\n",
    "                },\n",
    "            ),\n",
    "            *dice_scores,\n",
    "            facc,\n",
    "    ]\n",
    "    return row"
   ]
  },
  {
   "cell_type": "code",
   "execution_count": 68,
   "metadata": {},
   "outputs": [],
   "source": [
    "def create_dice_table(samples, outputs, predictions, class_labels):\n",
    "    \"Creates a wandb table with predictions and targets side by side\"\n",
    "\n",
    "    def _to_str(l):\n",
    "        return [str(x) for x in l]\n",
    "    \n",
    "    items = list(zip(samples, outputs, predictions))\n",
    "    \n",
    "    table = wandb.Table(\n",
    "        columns=[\"Image\"]\n",
    "        + _to_str(class_labels.values())\n",
    "        + [\"Foreground Acc\"],\n",
    "    )\n",
    "    # we create one row per sample\n",
    "    for item in progress_bar(items):\n",
    "        table.add_data(*create_row(*item, class_labels=class_labels))\n",
    "    \n",
    "    return table"
   ]
  },
  {
   "cell_type": "code",
   "execution_count": 69,
   "metadata": {},
   "outputs": [],
   "source": [
    "def get_predictions(learner, test_dl=None, max_n=None):\n",
    "    \"\"\"Return the samples = (x,y) and outputs (model predictions decoded), and predictions (raw preds)\"\"\"\n",
    "    test_dl = learner.dls.valid if test_dl is None else test_dl\n",
    "    inputs, predictions, targets, outputs = learner.get_preds(\n",
    "        dl=test_dl, with_input=True, with_decoded=True\n",
    "    )\n",
    "    x, y, samples, outputs = learner.dls.valid.show_results(\n",
    "        tuplify(inputs) + tuplify(targets), outputs, show=False, max_n=max_n\n",
    "    )\n",
    "    return samples, outputs, predictions"
   ]
  },
  {
   "cell_type": "code",
   "execution_count": 70,
   "metadata": {},
   "outputs": [
    {
     "data": {
      "text/html": [
       "\n",
       "<style>\n",
       "    /* Turns off some styling */\n",
       "    progress {\n",
       "        /* gets rid of default border in Firefox and Opera. */\n",
       "        border: none;\n",
       "        /* Needs to be in here for Safari polyfill so background images work as expected. */\n",
       "        background-size: auto;\n",
       "    }\n",
       "    .progress-bar-interrupted, .progress-bar-interrupted::-webkit-progress-bar {\n",
       "        background: #F44336;\n",
       "    }\n",
       "</style>\n"
      ],
      "text/plain": [
       "<IPython.core.display.HTML object>"
      ]
     },
     "metadata": {},
     "output_type": "display_data"
    },
    {
     "data": {
      "text/html": [],
      "text/plain": [
       "<IPython.core.display.HTML object>"
      ]
     },
     "metadata": {},
     "output_type": "display_data"
    }
   ],
   "source": [
    "samples, outputs, predictions = get_predictions(learn, test_dl)"
   ]
  },
  {
   "cell_type": "code",
   "execution_count": 71,
   "metadata": {},
   "outputs": [],
   "source": [
    "def table_from_dl(learn, test_dl, class_labels):\n",
    "    samples, outputs, predictions = get_predictions(learn, test_dl)\n",
    "    table = create_dice_table(samples, outputs, predictions, class_labels)\n",
    "    return table"
   ]
  },
  {
   "cell_type": "code",
   "execution_count": 72,
   "metadata": {},
   "outputs": [
    {
     "data": {
      "text/html": [
       "\n",
       "<style>\n",
       "    /* Turns off some styling */\n",
       "    progress {\n",
       "        /* gets rid of default border in Firefox and Opera. */\n",
       "        border: none;\n",
       "        /* Needs to be in here for Safari polyfill so background images work as expected. */\n",
       "        background-size: auto;\n",
       "    }\n",
       "    .progress-bar-interrupted, .progress-bar-interrupted::-webkit-progress-bar {\n",
       "        background: #F44336;\n",
       "    }\n",
       "</style>\n"
      ],
      "text/plain": [
       "<IPython.core.display.HTML object>"
      ]
     },
     "metadata": {},
     "output_type": "display_data"
    },
    {
     "data": {
      "text/html": [],
      "text/plain": [
       "<IPython.core.display.HTML object>"
      ]
     },
     "metadata": {},
     "output_type": "display_data"
    },
    {
     "data": {
      "text/html": [
       "\n",
       "<style>\n",
       "    /* Turns off some styling */\n",
       "    progress {\n",
       "        /* gets rid of default border in Firefox and Opera. */\n",
       "        border: none;\n",
       "        /* Needs to be in here for Safari polyfill so background images work as expected. */\n",
       "        background-size: auto;\n",
       "    }\n",
       "    .progress-bar-interrupted, .progress-bar-interrupted::-webkit-progress-bar {\n",
       "        background: #F44336;\n",
       "    }\n",
       "</style>\n"
      ],
      "text/plain": [
       "<IPython.core.display.HTML object>"
      ]
     },
     "metadata": {},
     "output_type": "display_data"
    },
    {
     "data": {
      "text/html": [
       "\n",
       "    <div>\n",
       "      <progress value='10' class='' max='10' style='width:300px; height:20px; vertical-align: middle;'></progress>\n",
       "      100.00% [10/10 00:02<00:00]\n",
       "    </div>\n",
       "    "
      ],
      "text/plain": [
       "<IPython.core.display.HTML object>"
      ]
     },
     "metadata": {},
     "output_type": "display_data"
    }
   ],
   "source": [
    "pred_table = table_from_dl(learn, test_dl, BDD_CLASSES)"
   ]
  },
  {
   "cell_type": "code",
   "execution_count": 73,
   "metadata": {},
   "outputs": [
    {
     "data": {
      "text/html": [
       "wandb version 0.13.4 is available!  To upgrade, please run:\n",
       " $ pip install wandb --upgrade"
      ],
      "text/plain": [
       "<IPython.core.display.HTML object>"
      ]
     },
     "metadata": {},
     "output_type": "display_data"
    },
    {
     "data": {
      "text/html": [
       "Tracking run with wandb version 0.13.2"
      ],
      "text/plain": [
       "<IPython.core.display.HTML object>"
      ]
     },
     "metadata": {},
     "output_type": "display_data"
    },
    {
     "data": {
      "text/html": [
       "Run data is saved locally in <code>/home/tcapelle/wandb/examples/colabs/dsviz/wandb/run-20221014_153335-19o9uipm</code>"
      ],
      "text/plain": [
       "<IPython.core.display.HTML object>"
      ]
     },
     "metadata": {},
     "output_type": "display_data"
    },
    {
     "data": {
      "text/html": [
       "Syncing run <strong><a href=\"https://wandb.ai/capecape/bdd100k/runs/19o9uipm\" target=\"_blank\">woven-blaze-39</a></strong> to <a href=\"https://wandb.ai/capecape/bdd100k\" target=\"_blank\">Weights & Biases</a> (<a href=\"https://wandb.me/run\" target=\"_blank\">docs</a>)<br/>"
      ],
      "text/plain": [
       "<IPython.core.display.HTML object>"
      ]
     },
     "metadata": {},
     "output_type": "display_data"
    }
   ],
   "source": [
    "wandb.init(project=WANDB_PROJECT, job_type=\"test\")\n",
    "\n",
    "# fetch the latest verstion of the training data\n",
    "data_at = run.use_artifact(RAW_DATA_AT + \":latest\")"
   ]
  },
  {
   "cell_type": "code",
   "execution_count": 74,
   "metadata": {},
   "outputs": [],
   "source": [
    "test_res_at = wandb.Artifact(\"test_results_at\", type=\"test_preds\")"
   ]
  },
  {
   "cell_type": "code",
   "execution_count": 75,
   "metadata": {},
   "outputs": [
    {
     "data": {
      "text/plain": [
       "<ManifestEntry digest: 1P4XrG+gUy/uTivZzejMKw==>"
      ]
     },
     "execution_count": 75,
     "metadata": {},
     "output_type": "execute_result"
    }
   ],
   "source": [
    "test_res_at.add(pred_table, \"pred_table\")"
   ]
  },
  {
   "cell_type": "code",
   "execution_count": 76,
   "metadata": {},
   "outputs": [],
   "source": [
    "wandb.log({\"pred_table\":pred_table})"
   ]
  },
  {
   "cell_type": "code",
   "execution_count": 77,
   "metadata": {},
   "outputs": [
    {
     "data": {
      "text/plain": [
       "<wandb.sdk.wandb_artifacts.Artifact at 0x7efc8c5545e0>"
      ]
     },
     "execution_count": 77,
     "metadata": {},
     "output_type": "execute_result"
    }
   ],
   "source": [
    "wandb.log_artifact(test_res_at)"
   ]
  },
  {
   "cell_type": "code",
   "execution_count": 78,
   "metadata": {},
   "outputs": [
    {
     "data": {
      "text/html": [
       "Waiting for W&B process to finish... <strong style=\"color:green\">(success).</strong>"
      ],
      "text/plain": [
       "<IPython.core.display.HTML object>"
      ]
     },
     "metadata": {},
     "output_type": "display_data"
    },
    {
     "data": {
      "application/vnd.jupyter.widget-view+json": {
       "model_id": "",
       "version_major": 2,
       "version_minor": 0
      },
      "text/plain": [
       "VBox(children=(Label(value='0.896 MB of 0.896 MB uploaded (0.001 MB deduped)\\r'), FloatProgress(value=1.0, max…"
      ]
     },
     "metadata": {},
     "output_type": "display_data"
    },
    {
     "data": {
      "text/html": [
       "Synced <strong style=\"color:#cdcd00\">woven-blaze-39</strong>: <a href=\"https://wandb.ai/capecape/bdd100k/runs/19o9uipm\" target=\"_blank\">https://wandb.ai/capecape/bdd100k/runs/19o9uipm</a><br/>Synced 4 W&B file(s), 1 media file(s), 32 artifact file(s) and 0 other file(s)"
      ],
      "text/plain": [
       "<IPython.core.display.HTML object>"
      ]
     },
     "metadata": {},
     "output_type": "display_data"
    },
    {
     "data": {
      "text/html": [
       "Find logs at: <code>./wandb/run-20221014_153335-19o9uipm/logs</code>"
      ],
      "text/plain": [
       "<IPython.core.display.HTML object>"
      ]
     },
     "metadata": {},
     "output_type": "display_data"
    }
   ],
   "source": [
    "wandb.finish()"
   ]
  },
  {
   "cell_type": "code",
   "execution_count": null,
   "metadata": {},
   "outputs": [],
   "source": []
  },
  {
   "cell_type": "markdown",
   "metadata": {},
   "source": [
    "===================================\n",
    "NOT DONE YET\n",
    "===================================="
   ]
  },
  {
   "cell_type": "markdown",
   "metadata": {},
   "source": [
    "# Step 5: Model Analysis\n",
    "\n",
    "This is where it all comes together. In this step, we join the train and test scoring results with the original dataset and output corresponding artifacts. The new idea introduced here is a `wandb.JoinedTable` which allows you to join two `Table`s for further analysis in the UI.\n",
    "\n",
    "[See a live example of all these tables](https://wandb.ai/stacey/dsviz-seg/artifacts/analysis/resnet_summary/b3054ed6229e43371365)"
   ]
  },
  {
   "cell_type": "code",
   "execution_count": null,
   "metadata": {},
   "outputs": [],
   "source": [
    "with wandb.init(project=WANDB_PROJECT, job_type=\"analysis\") as run:\n",
    "    \n",
    "    # Retrieve the original raw dataset\n",
    "    dataset_artifact = run.use_artifact(RAW_DATA_AT + \":latest\")\n",
    "    data_table = dataset_artifact.get(\"raw_examples\")\n",
    "    \n",
    "    # Retrieve the train and test score tables\n",
    "    train_artifact = run.use_artifact(\"resnet_pred:latest\")\n",
    "    train_table = train_artifact.get(\"model_results\")\n",
    "    \n",
    "    test_artifact = run.use_artifact(\"resnet_results:latest\")\n",
    "    test_table = test_artifact.get(\"model_test_results\")\n",
    "    \n",
    "    # Join the tables on ID column and log them as outputs.\n",
    "    train_results = wandb.JoinedTable(train_table, data_table, \"id\")\n",
    "    test_results = wandb.JoinedTable(test_table, data_table, \"id\")\n",
    "    \n",
    "    artifact = wandb.Artifact(\"resnet_summary\", \"analysis\")\n",
    "    artifact.add(train_results, \"train_results\")\n",
    "    artifact.add(test_results, \"test_results\")\n",
    "    run.log_artifact(artifact)\n",
    "    \n",
    "    print(\"Saving data to WandB...\")\n",
    "print(\"... Run Complete\")"
   ]
  },
  {
   "cell_type": "markdown",
   "metadata": {},
   "source": [
    "### Review the model analysis in the Dashboard\n",
    "Now, click on the above **Project** page (second link). This will look like the following:\n",
    "\n",
    "![](https://raw.githubusercontent.com/staceysv/dsviz-demo/master/notebook_images/project_landing.png)\n",
    "\n",
    "Click on the database icon, as previously, to see the artifacts. This time, you are seeing the artifacts for the entire project, with counts of their versions:\n",
    "\n",
    "![](https://raw.githubusercontent.com/staceysv/dsviz-demo/master/notebook_images/many_artifact_types.png)\n",
    "\n",
    "Go ahead and click the \"`model`\" artifact type, \"Files\", and \"`model.pkl`\". The viewer will provide different renderings based on the file type. For a pickled class, you get the following image. For deep networks saved as `.h5` files, you can see all the layers and their attributes.\n",
    "\n",
    "![](https://raw.githubusercontent.com/wandb/dsviz-demo/master/notebook_images/model_view.png)\n",
    "\n",
    "Next, head back to the artifact page, click Database type, expand `summary_results`, and select your most recent version. Click \"Files\" and select one of the join tables:\n",
    "\n",
    "![](https://raw.githubusercontent.com/staceysv/dsviz-demo/master/notebook_images/pred_detail.png)\n",
    "\n",
    "Zooming out a bit, you can toggle the bounding boxes, masks, group, filter, and sort the data:\n",
    "\n",
    "![](https://raw.githubusercontent.com/staceysv/dsviz-demo/master/notebook_images/zoom_out_table.png)\n",
    "\n",
    "![](https://raw.githubusercontent.com/wandb/dsviz-demo/master/notebook_images/grouped.png)\n",
    "\n",
    "Finally, click graph view, and \"explode\". Now, you can visualize the entire process end-to-end:\n",
    "\n",
    "![](https://raw.githubusercontent.com/wandb/dsviz-demo/master/notebook_images/summary_graph.png)"
   ]
  }
 ],
 "metadata": {
  "kernelspec": {
   "display_name": "Python 3 (ipykernel)",
   "language": "python",
   "name": "python3"
  },
  "language_info": {
   "codemirror_mode": {
    "name": "ipython",
    "version": 3
   },
   "file_extension": ".py",
   "mimetype": "text/x-python",
   "name": "python",
   "nbconvert_exporter": "python",
   "pygments_lexer": "ipython3",
   "version": "3.10.4"
  }
 },
 "nbformat": 4,
 "nbformat_minor": 4
}
