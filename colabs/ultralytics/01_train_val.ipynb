{
 "cells": [
  {
   "cell_type": "markdown",
   "metadata": {},
   "source": [
    "[![Open In Colab](https://colab.research.google.com/assets/colab-badge.svg)](https://colab.research.google.com/github/wandb/examples/blob/ultralytics/colabs/ultralytics/00_train.ipynb)"
   ]
  },
  {
   "cell_type": "code",
   "execution_count": null,
   "metadata": {},
   "outputs": [],
   "source": [
    "# Install Ultralytics\n",
    "!pip install -q ultralytics\n",
    "\n",
    "# Install the `feat/ultralytics`` branch from W&B,\n",
    "# which currently houses the out-of-the-box integration for Ultralytics.\n",
    "!pip install -q git+https://github.com/wandb/wandb@feat/ultralytics"
   ]
  },
  {
   "cell_type": "code",
   "execution_count": null,
   "metadata": {},
   "outputs": [],
   "source": [
    "import wandb\n",
    "from wandb.yolov8 import add_wandb_callback\n",
    "\n",
    "from ultralytics.engine.model import YOLO"
   ]
  },
  {
   "cell_type": "code",
   "execution_count": null,
   "metadata": {},
   "outputs": [],
   "source": [
    "model_name = \"yolov8n\" #@param {type:\"string\"}\n",
    "dataset_name = \"coco128.yaml\" #@param {type:\"string\"}\n",
    "\n",
    "# Initialize YOLO Model\n",
    "model = YOLO(f\"{model_name}.pt\")\n",
    "\n",
    "# Add Weights & Biases callback for Ultralytics\n",
    "add_wandb_callback(model, enable_model_checkpointing=True)\n",
    "\n",
    "# Train/fine-tune your model\n",
    "# At the end of each epoch, predictions on validation batches are logged\n",
    "# to a W&B table with insightful and interactive overlays for\n",
    "# computer vision tasks\n",
    "model.train(project=\"ultralytics\", data=dataset_name, epochs=5, imgsz=640)\n",
    "model.val()\n",
    "\n",
    "# Finish the W&B run\n",
    "wandb.finish()"
   ]
  }
 ],
 "metadata": {
  "language_info": {
   "name": "python"
  },
  "orig_nbformat": 4
 },
 "nbformat": 4,
 "nbformat_minor": 2
}
