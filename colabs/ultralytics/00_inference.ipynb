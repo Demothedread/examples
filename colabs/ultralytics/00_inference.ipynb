{
 "cells": [
  {
   "cell_type": "code",
   "execution_count": null,
   "metadata": {},
   "outputs": [],
   "source": [
    "# Install Ultralytics\n",
    "!pip install -q ultralytics\n",
    "\n",
    "# Install the `feat/ultralytics`` branch from W&B,\n",
    "# which currently houses the out-of-the-box integration for Ultralytics.\n",
    "!pip install -q git+https://github.com/wandb/wandb@feat/ultralytics"
   ]
  },
  {
   "cell_type": "code",
   "execution_count": null,
   "metadata": {},
   "outputs": [],
   "source": [
    "import wandb\n",
    "from wandb.yolov8 import add_wandb_callback\n",
    "\n",
    "from ultralytics.engine.model import YOLO"
   ]
  },
  {
   "cell_type": "code",
   "execution_count": null,
   "metadata": {},
   "outputs": [],
   "source": [
    "# Initialize Weights & Biases run\n",
    "wandb.init(project=\"ultralytics\", job_type=\"inference\")"
   ]
  },
  {
   "cell_type": "code",
   "execution_count": null,
   "metadata": {},
   "outputs": [],
   "source": [
    "model_name = 'yolov8n' #@param {type:\"string\"}\n",
    "\n",
    "# Initialize YOLO Model\n",
    "model = YOLO(f\"{model_name}.pt\")\n",
    "\n",
    "# Add Weights & Biases callback for Ultralytics\n",
    "add_wandb_callback(model, enable_model_checkpointing=True)\n",
    "\n",
    "# Perform prediction which automatically logs to a W&B Table\n",
    "# with interactive overlays for bounding boxes, segmentation masks\n",
    "model([\"./assets/img1.jpeg\", \"./assets/img3.png\", \"./assets/img4.jpeg\", \"./assets/img5.jpeg\"])\n",
    "\n",
    "# Finish the W&B run\n",
    "wandb.finish()"
   ]
  }
 ],
 "metadata": {
  "language_info": {
   "name": "python"
  },
  "orig_nbformat": 4
 },
 "nbformat": 4,
 "nbformat_minor": 2
}
