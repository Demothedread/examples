{
  "nbformat": 4,
  "nbformat_minor": 0,
  "metadata": {
    "colab": {
      "name": "W&B Tables Quickstart",
      "private_outputs": true,
      "provenance": [],
      "include_colab_link": true
    },
    "kernelspec": {
      "name": "python3",
      "display_name": "Python 3"
    },
    "language_info": {
      "name": "python"
    }
  },
  "cells": [
    {
      "cell_type": "markdown",
      "metadata": {
        "id": "view-in-github",
        "colab_type": "text"
      },
      "source": [
        "<a href=\"https://colab.research.google.com/github/wandb/examples/blob/master/colabs/tables/W%26B_Tables_Quickstart.ipynb\" target=\"_parent\"><img src=\"https://colab.research.google.com/assets/colab-badge.svg\" alt=\"Open In Colab\"/></a>"
      ]
    },
    {
      "cell_type": "markdown",
      "metadata": {
        "id": "wmtnLOCvLtU0"
      },
      "source": [
        "<img src=\"https://i.imgur.com/gb6B4ig.png\" width=\"300\" alt=\"Weights & Biases\" />\n",
        "<!--- @wandbcode{tables_quickstart} -->\n",
        "\n",
        "# W&B Tables for Data Visualization\n",
        "\n",
        "Try logging tabular data to visualize and query in the Weights & Biases interactive dashboard."
      ]
    },
    {
      "cell_type": "code",
      "metadata": {
        "id": "OEdl2Vv_7Luw"
      },
      "source": [
        "# Install Weights & Biases logging library\n",
        "!pip install wandb -qqq"
      ],
      "execution_count": null,
      "outputs": []
    },
    {
      "cell_type": "code",
      "metadata": {
        "id": "T6YDlBqY7wwk"
      },
      "source": [
        "# Import libraries\n",
        "import wandb\n",
        "import numpy as np\n",
        "import pandas as pd\n",
        "from sklearn.datasets import load_iris"
      ],
      "execution_count": null,
      "outputs": []
    },
    {
      "cell_type": "code",
      "metadata": {
        "id": "bmL6cQx97zSF"
      },
      "source": [
        "# Download a simple dataset\n",
        "iris = load_iris()\n",
        "# Load it into a dataframe\n",
        "iris_dataframe = pd.DataFrame(data=np.c_[iris['data'], iris['target']],\n",
        "                     columns=iris['feature_names'] + ['target'])"
      ],
      "execution_count": null,
      "outputs": []
    },
    {
      "cell_type": "code",
      "metadata": {
        "id": "gH1gt9S37OOp"
      },
      "source": [
        "# Start a W&B run to log data\n",
        "wandb.init(project=\"Tables-Quickstart\")\n",
        "# Log the dataframe to visualize\n",
        "wandb.log({\"iris\": iris_dataframe})\n",
        "# Finish the run (useful in notebooks)\n",
        "wandb.finish()"
      ],
      "execution_count": null,
      "outputs": []
    },
    {
      "cell_type": "markdown",
      "metadata": {
        "id": "IShc-UjDPNni"
      },
      "source": [
        "Once you execute the code cells above, look for the blue [run page](https://docs.wandb.com/ref/app/pages/run-page) link in the console, and click to view the dashboard in the Weights & Biases app.\n",
        "\n",
        "[Here's an example dashboard](https://wandb.ai/wandb/Tables%20Quickstart?workspace=user-carey) from a previous execution of this notebook.\n",
        "\n",
        "You can also run the cell below to [render the dashboard inside the notebook](http://wandb/me/jupyter-interact-colab)."
      ]
    },
    {
      "cell_type": "code",
      "metadata": {
        "id": "Z8DAn0u2tB92"
      },
      "source": [
        "%wandb charlesfrye/Tables-Quickstart -h 1024"
      ],
      "execution_count": null,
      "outputs": []
    }
  ]
}