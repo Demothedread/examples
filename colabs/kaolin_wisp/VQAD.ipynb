{
  "cells": [
    {
      "cell_type": "markdown",
      "metadata": {
        "colab_type": "text",
        "id": "view-in-github"
      },
      "source": [
        "<a href=\"https://colab.research.google.com/github/wandb/examples/blob/kaolin-wisp/colabs/kaolin_wisp/VQAD.ipynb\" target=\"_parent\"><img src=\"https://colab.research.google.com/assets/colab-badge.svg\" alt=\"Open In Colab\"/></a>"
      ]
    },
    {
      "cell_type": "code",
      "execution_count": null,
      "metadata": {
        "colab": {
          "base_uri": "https://localhost:8080/"
        },
        "id": "le6viL358T-N",
        "outputId": "6864f4d9-4510-4932-d34c-f76a1f472972"
      },
      "outputs": [],
      "source": [
        "# Install OpenEXR\n",
        "!sudo apt-get update\n",
        "!sudo apt-get install libopenexr-dev\n",
        "\n",
        "# Install Kaolin\n",
        "!git clone --recursive https://github.com/NVIDIAGameWorks/kaolin\n",
        "%cd kaolin\n",
        "!python setup.py develop\n",
        "!python -c \"import kaolin; print(kaolin.__version__)\"\n",
        "%cd ..\n",
        "\n",
        "# Install Kaolin-Wisp\n",
        "!git clone https://github.com/soumik12345/kaolin-wisp\n",
        "%cd kaolin-wisp\n",
        "!pip install -q -r requirements.txt\n",
        "!pip install -q --upgrade wandb\n",
        "!python setup.py develop\n",
        "%cd .."
      ]
    },
    {
      "cell_type": "code",
      "execution_count": null,
      "metadata": {
        "id": "dgMneVuVVYbI"
      },
      "outputs": [],
      "source": [
        "# Download Dataset\n",
        "!gdown https://drive.google.com/uc?id=18hY0DpX2bK-q9iY_cog5Q0ZI7YEjephE\n",
        "!unzip -q V8.zip\n",
        "!rm V8.zip"
      ]
    },
    {
      "cell_type": "code",
      "execution_count": null,
      "metadata": {
        "id": "YTvFMDq2Vnh9"
      },
      "outputs": [],
      "source": [
        "%cd kaolin-wisp\n",
        "!WISP_HEADLESS=1 python3 app/main.py \\\n",
        "    --config configs/vqad_nerf.yaml \\\n",
        "    --dataset-path ../V8_/ \\\n",
        "    --dataset-num-workers 4 \\\n",
        "    --wandb_project <REPLACE-WITH-YOUR-WANDB-PROJECTNAME> \\\n",
        "    --wandb_run_name test-vqad-nerf/V8 \\\n",
        "    --wandb_entity <REPLACE-WITH-YOUR-WANDB-USERNAME> \\\n",
        "    --wandb_viz_nerf_distance 5"
      ]
    }
  ],
  "metadata": {
    "accelerator": "GPU",
    "colab": {
      "authorship_tag": "ABX9TyOrRRuPx4vnjeE+85jrc6MF",
      "include_colab_link": true,
      "machine_shape": "hm",
      "provenance": []
    },
    "gpuClass": "standard",
    "kernelspec": {
      "display_name": "Python 3.9.12",
      "language": "python",
      "name": "python3"
    },
    "language_info": {
      "name": "python",
      "version": "3.9.12"
    },
    "vscode": {
      "interpreter": {
        "hash": "c46d4533a0cf80e4c6573b8f3c1bd70be2b87d9445b1cb498494120f873c7315"
      }
    }
  },
  "nbformat": 4,
  "nbformat_minor": 0
}
