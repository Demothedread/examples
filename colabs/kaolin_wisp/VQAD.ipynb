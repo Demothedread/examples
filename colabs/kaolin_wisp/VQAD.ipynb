{
 "cells": [
  {
   "cell_type": "markdown",
   "metadata": {},
   "source": [
    "<a href=\"https://colab.research.google.com/github/wandb/examples/blob/master/colabs/kaolin_wisp/VQAD.ipynb\" target=\"_parent\"><img src=\"https://colab.research.google.com/assets/colab-badge.svg\" alt=\"Open In Colab\"/></a>\n",
    "<!--- @wandbcode{kaolin-wisp-colab} -->"
   ]
  },
  {
   "cell_type": "markdown",
   "metadata": {},
   "source": [
    "# 🔥🔥 Kaolin-Wisp + WandB Demo 🪄🐝\n",
    "\n",
    "<!--- @wandbcode{kaolin-wisp-colab} -->"
   ]
  },
  {
   "cell_type": "markdown",
   "metadata": {},
   "source": [
    "## Install Kaolin Core and Kaolin Wisp"
   ]
  },
  {
   "cell_type": "code",
   "execution_count": null,
   "metadata": {
    "vscode": {
     "languageId": "python"
    }
   },
   "outputs": [],
   "source": [
    "# Install OpenEXR\n",
    "!sudo apt-get update\n",
    "!sudo apt-get install libopenexr-dev\n",
    "\n",
    "# Install Kaolin\n",
    "!git clone --recursive https://github.com/NVIDIAGameWorks/kaolin\n",
    "%cd kaolin\n",
    "!python setup.py develop\n",
    "!python -c \"import kaolin; print(kaolin.__version__)\"\n",
    "%cd ..\n",
    "\n",
    "# Install Kaolin-Wisp\n",
    "!git clone https://github.com/soumik12345/kaolin-wisp\n",
    "%cd kaolin-wisp\n",
    "!pip install -q -r requirements.txt\n",
    "!pip install -q --upgrade wandb\n",
    "!python setup.py develop\n",
    "%cd .."
   ]
  },
  {
   "cell_type": "markdown",
   "metadata": {},
   "source": [
    "## Download Sample Data for a V8 Model Engine"
   ]
  },
  {
   "cell_type": "code",
   "execution_count": null,
   "metadata": {
    "vscode": {
     "languageId": "python"
    }
   },
   "outputs": [],
   "source": [
    "# Download Dataset\n",
    "!gdown https://drive.google.com/uc?id=18hY0DpX2bK-q9iY_cog5Q0ZI7YEjephE\n",
    "!unzip -q V8.zip\n",
    "!rm V8.zip"
   ]
  },
  {
   "cell_type": "markdown",
   "metadata": {},
   "source": [
    "## Train VQAD"
   ]
  },
  {
   "cell_type": "code",
   "execution_count": null,
   "metadata": {
    "vscode": {
     "languageId": "python"
    }
   },
   "outputs": [],
   "source": [
    "%cd kaolin-wisp\n",
    "!WISP_HEADLESS=1 python3 app/main.py \\\n",
    "    --config configs/vqad_nerf.yaml \\\n",
    "    --dataset-path ../V8_/ \\\n",
    "    --dataset-num-workers 4 \\\n",
    "    --wandb_project \"vector-quantized-auto-decoder\" \\\n",
    "    --wandb_run_name test-vqad-nerf/V8 \\\n",
    "    --wandb_viz_nerf_distance 5"
   ]
  }
 ],
 "metadata": {
  "kernelspec": {
   "display_name": "Python 3.9.12",
   "language": "python",
   "name": "python3"
  }
 },
 "nbformat": 4,
 "nbformat_minor": 0
}
