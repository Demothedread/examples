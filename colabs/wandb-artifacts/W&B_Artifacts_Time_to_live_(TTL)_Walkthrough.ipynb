{
  "nbformat": 4,
  "nbformat_minor": 0,
  "metadata": {
    "colab": {
      "provenance": [],
      "collapsed_sections": [
        "R_vmH_udq8jA"
      ]
    },
    "kernelspec": {
      "name": "python3",
      "display_name": "Python 3"
    },
    "language_info": {
      "name": "python"
    },
    "widgets": {
      "application/vnd.jupyter.widget-state+json": {
        "9e700f91c85f464b8c08286bde953557": {
          "model_module": "@jupyter-widgets/controls",
          "model_name": "VBoxModel",
          "model_module_version": "1.5.0",
          "state": {
            "_dom_classes": [],
            "_model_module": "@jupyter-widgets/controls",
            "_model_module_version": "1.5.0",
            "_model_name": "VBoxModel",
            "_view_count": null,
            "_view_module": "@jupyter-widgets/controls",
            "_view_module_version": "1.5.0",
            "_view_name": "VBoxView",
            "box_style": "",
            "children": [
              "IPY_MODEL_7d648f77a348489e96244ebc4c0f9351",
              "IPY_MODEL_9d9fb509fc1b48faa63f69495bafe79a"
            ],
            "layout": "IPY_MODEL_2684f4edfaf94e5c97b7046dff102c5d"
          }
        },
        "7d648f77a348489e96244ebc4c0f9351": {
          "model_module": "@jupyter-widgets/controls",
          "model_name": "LabelModel",
          "model_module_version": "1.5.0",
          "state": {
            "_dom_classes": [],
            "_model_module": "@jupyter-widgets/controls",
            "_model_module_version": "1.5.0",
            "_model_name": "LabelModel",
            "_view_count": null,
            "_view_module": "@jupyter-widgets/controls",
            "_view_module_version": "1.5.0",
            "_view_name": "LabelView",
            "description": "",
            "description_tooltip": null,
            "layout": "IPY_MODEL_9a87992d94ce4bf580620ac371025dd0",
            "placeholder": "​",
            "style": "IPY_MODEL_01924c430f3f47dd916ffaf11dbb6fea",
            "value": "Waiting for wandb.init()...\r"
          }
        },
        "9d9fb509fc1b48faa63f69495bafe79a": {
          "model_module": "@jupyter-widgets/controls",
          "model_name": "FloatProgressModel",
          "model_module_version": "1.5.0",
          "state": {
            "_dom_classes": [],
            "_model_module": "@jupyter-widgets/controls",
            "_model_module_version": "1.5.0",
            "_model_name": "FloatProgressModel",
            "_view_count": null,
            "_view_module": "@jupyter-widgets/controls",
            "_view_module_version": "1.5.0",
            "_view_name": "ProgressView",
            "bar_style": "",
            "description": "",
            "description_tooltip": null,
            "layout": "IPY_MODEL_c145629ce46f42389024d20701396956",
            "max": 1,
            "min": 0,
            "orientation": "horizontal",
            "style": "IPY_MODEL_8aa4a771cbf14de582721fda66075e19",
            "value": 1
          }
        },
        "2684f4edfaf94e5c97b7046dff102c5d": {
          "model_module": "@jupyter-widgets/base",
          "model_name": "LayoutModel",
          "model_module_version": "1.2.0",
          "state": {
            "_model_module": "@jupyter-widgets/base",
            "_model_module_version": "1.2.0",
            "_model_name": "LayoutModel",
            "_view_count": null,
            "_view_module": "@jupyter-widgets/base",
            "_view_module_version": "1.2.0",
            "_view_name": "LayoutView",
            "align_content": null,
            "align_items": null,
            "align_self": null,
            "border": null,
            "bottom": null,
            "display": null,
            "flex": null,
            "flex_flow": null,
            "grid_area": null,
            "grid_auto_columns": null,
            "grid_auto_flow": null,
            "grid_auto_rows": null,
            "grid_column": null,
            "grid_gap": null,
            "grid_row": null,
            "grid_template_areas": null,
            "grid_template_columns": null,
            "grid_template_rows": null,
            "height": null,
            "justify_content": null,
            "justify_items": null,
            "left": null,
            "margin": null,
            "max_height": null,
            "max_width": null,
            "min_height": null,
            "min_width": null,
            "object_fit": null,
            "object_position": null,
            "order": null,
            "overflow": null,
            "overflow_x": null,
            "overflow_y": null,
            "padding": null,
            "right": null,
            "top": null,
            "visibility": null,
            "width": null
          }
        },
        "9a87992d94ce4bf580620ac371025dd0": {
          "model_module": "@jupyter-widgets/base",
          "model_name": "LayoutModel",
          "model_module_version": "1.2.0",
          "state": {
            "_model_module": "@jupyter-widgets/base",
            "_model_module_version": "1.2.0",
            "_model_name": "LayoutModel",
            "_view_count": null,
            "_view_module": "@jupyter-widgets/base",
            "_view_module_version": "1.2.0",
            "_view_name": "LayoutView",
            "align_content": null,
            "align_items": null,
            "align_self": null,
            "border": null,
            "bottom": null,
            "display": null,
            "flex": null,
            "flex_flow": null,
            "grid_area": null,
            "grid_auto_columns": null,
            "grid_auto_flow": null,
            "grid_auto_rows": null,
            "grid_column": null,
            "grid_gap": null,
            "grid_row": null,
            "grid_template_areas": null,
            "grid_template_columns": null,
            "grid_template_rows": null,
            "height": null,
            "justify_content": null,
            "justify_items": null,
            "left": null,
            "margin": null,
            "max_height": null,
            "max_width": null,
            "min_height": null,
            "min_width": null,
            "object_fit": null,
            "object_position": null,
            "order": null,
            "overflow": null,
            "overflow_x": null,
            "overflow_y": null,
            "padding": null,
            "right": null,
            "top": null,
            "visibility": null,
            "width": null
          }
        },
        "01924c430f3f47dd916ffaf11dbb6fea": {
          "model_module": "@jupyter-widgets/controls",
          "model_name": "DescriptionStyleModel",
          "model_module_version": "1.5.0",
          "state": {
            "_model_module": "@jupyter-widgets/controls",
            "_model_module_version": "1.5.0",
            "_model_name": "DescriptionStyleModel",
            "_view_count": null,
            "_view_module": "@jupyter-widgets/base",
            "_view_module_version": "1.2.0",
            "_view_name": "StyleView",
            "description_width": ""
          }
        },
        "c145629ce46f42389024d20701396956": {
          "model_module": "@jupyter-widgets/base",
          "model_name": "LayoutModel",
          "model_module_version": "1.2.0",
          "state": {
            "_model_module": "@jupyter-widgets/base",
            "_model_module_version": "1.2.0",
            "_model_name": "LayoutModel",
            "_view_count": null,
            "_view_module": "@jupyter-widgets/base",
            "_view_module_version": "1.2.0",
            "_view_name": "LayoutView",
            "align_content": null,
            "align_items": null,
            "align_self": null,
            "border": null,
            "bottom": null,
            "display": null,
            "flex": null,
            "flex_flow": null,
            "grid_area": null,
            "grid_auto_columns": null,
            "grid_auto_flow": null,
            "grid_auto_rows": null,
            "grid_column": null,
            "grid_gap": null,
            "grid_row": null,
            "grid_template_areas": null,
            "grid_template_columns": null,
            "grid_template_rows": null,
            "height": null,
            "justify_content": null,
            "justify_items": null,
            "left": null,
            "margin": null,
            "max_height": null,
            "max_width": null,
            "min_height": null,
            "min_width": null,
            "object_fit": null,
            "object_position": null,
            "order": null,
            "overflow": null,
            "overflow_x": null,
            "overflow_y": null,
            "padding": null,
            "right": null,
            "top": null,
            "visibility": null,
            "width": null
          }
        },
        "8aa4a771cbf14de582721fda66075e19": {
          "model_module": "@jupyter-widgets/controls",
          "model_name": "ProgressStyleModel",
          "model_module_version": "1.5.0",
          "state": {
            "_model_module": "@jupyter-widgets/controls",
            "_model_module_version": "1.5.0",
            "_model_name": "ProgressStyleModel",
            "_view_count": null,
            "_view_module": "@jupyter-widgets/base",
            "_view_module_version": "1.2.0",
            "_view_name": "StyleView",
            "bar_color": null,
            "description_width": ""
          }
        }
      }
    }
  },
  "cells": [
    {
      "cell_type": "markdown",
      "source": [
        "# Weights & Biases Artifacts Time-to-live (TTL) Walkthrough\n",
        "W&B Artifacts now supports setting time-to-live policies on each version of an Artifact. The feature is currently available in W&B SaaS Cloud and will be released to Enterprise customers using W&B Server in version 0.42.0. The following examples show the use TTL policy in a common Artifact logging workflow. We'll cover:\n",
        "\n",
        "- Setting a TTL policy when creating an Artifact\n",
        "- Retroactively setting TTL for a specific Artifact aliases\n",
        "- Using the W&B API to set a TTL for all versions of an Artifact"
      ],
      "metadata": {
        "id": "MHatrI1a_AcH"
      }
    },
    {
      "cell_type": "markdown",
      "source": [
        "# Setup\n",
        "Let's do a few things before we get started. Below we will:\n",
        "\n",
        "- Install the wandb and kaggle libraries (not pre-installed with Colab)\n",
        "- Mount our GDrive so we can pass our kaggle credentials\n",
        "- Create some working directories in our Colab session for storing our sample data"
      ],
      "metadata": {
        "id": "a7me0OmO_QiY"
      }
    },
    {
      "cell_type": "code",
      "execution_count": 23,
      "metadata": {
        "id": "0mRqHCicQ7Rf"
      },
      "outputs": [],
      "source": [
        "%%capture\n",
        "!pip install wandb kaggle"
      ]
    },
    {
      "cell_type": "code",
      "source": [
        "from google.colab import drive\n",
        "drive.mount('/content/drive')"
      ],
      "metadata": {
        "colab": {
          "base_uri": "https://localhost:8080/"
        },
        "id": "Tr883oPwh16a",
        "outputId": "add13460-7f9b-4b52-f024-8e9521b4b134"
      },
      "execution_count": 24,
      "outputs": [
        {
          "output_type": "stream",
          "name": "stdout",
          "text": [
            "Drive already mounted at /content/drive; to attempt to forcibly remount, call drive.mount(\"/content/drive\", force_remount=True).\n"
          ]
        }
      ]
    },
    {
      "cell_type": "markdown",
      "source": [
        "## Kaggle Credentials\n",
        "Here we copy our `kaggle.json` credentials from our GDrive to the working directory in Colab. Next we'll set the kaggle environment variables for this session."
      ],
      "metadata": {
        "id": "pfjQYdDDBym8"
      }
    },
    {
      "cell_type": "code",
      "source": [
        "import shutil\n",
        "import json\n",
        "import os\n",
        "\n",
        "shutil.copy(\"/content/drive/MyDrive/kaggle.json\", \"/content/kaggle.json\")\n",
        "\n",
        "with open(\"/content/kaggle.json\") as f:\n",
        "    kaggle_json = json.load(f)\n",
        "\n",
        "os.environ[\"KAGGLE_USERNAME\"] = kaggle_json[\"username\"]\n",
        "os.environ[\"KAGGLE_KEY\"] = kaggle_json[\"key\"]\n"
      ],
      "metadata": {
        "id": "5gyz7O6znEIq"
      },
      "execution_count": 25,
      "outputs": []
    },
    {
      "cell_type": "markdown",
      "source": [
        "## Directory Setup and Dataset Download\n",
        "We'll import some additional libraries for the walkthrough and create some folders to copy our sampled images to. For this demo we'll use the [CIFAKE dataset](https://www.kaggle.com/datasets/birdy654/cifake-real-and-ai-generated-synthetic-images?resource=download) which is available from Kaggle.\n",
        "*Make sure you import the kaggle library after you've copied your credentials to the Colab working directory.*\n",
        "\n",
        "**References**\n",
        "\n",
        "[Krizhevsky, A., & Hinton, G. (2009). Learning multiple layers of features from tiny images.](https://www.cs.toronto.edu/~kriz/learning-features-2009-TR.pdfl)\n",
        "\n",
        "[Bird, J.J., Lotfi, A. (2023). CIFAKE: Image Classification and Explainable Identification of AI-Generated Synthetic Images. arXiv preprint arXiv:2303.14126.](https://arxiv.org/abs/2303.14126)"
      ],
      "metadata": {
        "id": "CFYVeK_pCF_k"
      }
    },
    {
      "cell_type": "code",
      "source": [
        "import wandb\n",
        "import kaggle\n",
        "import random\n",
        "import numpy as np\n",
        "from datetime import timedelta\n",
        "import cv2\n",
        "\n",
        "# %%capture\n",
        "!kaggle datasets download -d birdy654/cifake-real-and-ai-generated-synthetic-images\n",
        "!mkdir -p data\n",
        "!mkdir -p data/sample/real\n",
        "!mkdir -p data/sample/fake\n",
        "!mkdir -p data/prepro/real\n",
        "!mkdir -p data/prepro/fake\n",
        "!unzip -n cifake-real-and-ai-generated-synthetic-images.zip -d data"
      ],
      "metadata": {
        "colab": {
          "base_uri": "https://localhost:8080/"
        },
        "id": "dbSHLSP1RXLR",
        "outputId": "3a24ae8f-b962-412e-a765-f9063b578275"
      },
      "execution_count": 26,
      "outputs": [
        {
          "output_type": "stream",
          "name": "stdout",
          "text": [
            "cifake-real-and-ai-generated-synthetic-images.zip: Skipping, found more recently modified local copy (use --force to force download)\n",
            "Archive:  cifake-real-and-ai-generated-synthetic-images.zip\n"
          ]
        }
      ]
    },
    {
      "cell_type": "markdown",
      "source": [
        "## Image Sampling\n",
        "For the purposes of the walkthrough, let's sample from the larger CIFAR and CIFAKE training datasets and add them to a new folder in Colab. The block below:\n",
        "\n",
        "- Creates folders for our sampled images\n",
        "- Selects a random sample of images from the CIFAR/CIFAKE training data\n",
        "- Copies the samples to our destination directories\n",
        "\n",
        "*Note: we overwrite the files everytime we execute this so we get new Artifact versions.*"
      ],
      "metadata": {
        "id": "A_UzBNeUmgp9"
      }
    },
    {
      "cell_type": "code",
      "source": [
        "n_size = 100\n",
        "\n",
        "real_source_dir = \"data/train/REAL\"\n",
        "fake_source_dir = \"data/train/FAKE\"\n",
        "\n",
        "real_sample_dir = \"data/sample/real\"\n",
        "fake_sample_dir = \"data/sample/fake\"\n",
        "\n",
        "real_images = [f for f in os.listdir(real_source_dir) if f.endswith((\".jpg\", \".jpeg\", \".png\", \".gif\", \".bmp\"))]\n",
        "fake_images = [f for f in os.listdir(fake_source_dir) if f.endswith((\".jpg\", \".jpeg\", \".png\", \".gif\", \".bmp\"))]\n",
        "\n",
        "real_sample = random.sample(real_images, n_size)\n",
        "fake_sample = random.sample(fake_images, n_size)\n",
        "\n",
        "def copy_images(image_ls, source_directory, sample_directory):\n",
        "  # Remove the contents of the destination directory\n",
        "  if os.path.exists(sample_directory):\n",
        "      for item in os.listdir(sample_directory):\n",
        "          item_path = os.path.join(sample_directory, item)\n",
        "          if os.path.isfile(item_path):\n",
        "              os.unlink(item_path)\n",
        "          elif os.path.isdir(item_path):\n",
        "              shutil.rmtree(item_path)\n",
        "  for image in image_ls:\n",
        "    source_path = os.path.join(source_directory, image)\n",
        "    destination_path = os.path.join(sample_directory, image)\n",
        "    shutil.copy(source_path, destination_path)\n",
        "\n",
        "copy_images(real_sample, real_source_dir, real_sample_dir)\n",
        "copy_images(fake_sample, fake_source_dir, fake_sample_dir)"
      ],
      "metadata": {
        "id": "14xSI8MtRZYD"
      },
      "execution_count": 27,
      "outputs": []
    },
    {
      "cell_type": "markdown",
      "source": [
        "## Image Preview\n",
        "Quick block to view some of the images in the sampled dataset."
      ],
      "metadata": {
        "id": "R_vmH_udq8jA"
      }
    },
    {
      "cell_type": "code",
      "source": [
        "import matplotlib.pyplot as plt\n",
        "import matplotlib.image as mpimg\n",
        "\n",
        "def show_sample_images(image_dir):\n",
        "  # Get a list of image files in the directory\n",
        "  image_files = [os.path.join(image_dir, f) for f in os.listdir(image_dir) if f.endswith('.jpg')]\n",
        "\n",
        "  # Take the first 5 images (you can change the number if you want more or fewer)\n",
        "  images_to_display = image_files[:5]\n",
        "\n",
        "  # Create a figure with a grid layout to display the images\n",
        "  fig, axes = plt.subplots(1, len(images_to_display), figsize=(15, 5))\n",
        "\n",
        "  # Iterate over the images and display them\n",
        "  for i, img_path in enumerate(images_to_display):\n",
        "      img = mpimg.imread(img_path)\n",
        "      axes[i].imshow(img)\n",
        "      axes[i].axis('off')  # Turn off axis labels\n",
        "\n",
        "  plt.tight_layout()\n",
        "  plt.show()"
      ],
      "metadata": {
        "id": "zu1R_x8zbxn2"
      },
      "execution_count": 28,
      "outputs": []
    },
    {
      "cell_type": "code",
      "source": [
        "show_sample_images(fake_sample_dir)"
      ],
      "metadata": {
        "colab": {
          "base_uri": "https://localhost:8080/",
          "height": 0
        },
        "id": "YloVwaX0wXPY",
        "outputId": "7b21ca9c-e738-4f7c-db11-da6048ec34cf"
      },
      "execution_count": 29,
      "outputs": [
        {
          "output_type": "display_data",
          "data": {
            "text/plain": [
              "<Figure size 1500x500 with 5 Axes>"
            ],
            "image/png": "[encoded data removed]"
          },
          "metadata": {}
        }
      ]
    },
    {
      "cell_type": "markdown",
      "source": [
        "# Setting TTL on New Artifacts\n",
        "Below we create two new Artifacts for our real and fake data. Because we have internal retention policies in hypothetical organization we'd like to remove any Artifact that has real data (potentially containing personal data). Below we:\n",
        "\n",
        "- Create a W&B Run to track the logging of these raw data Artifacts\n",
        "- Set the ttl attribute on the real raw data\n",
        "- Log our two Artifacts"
      ],
      "metadata": {
        "id": "O1dJVJd5sHLC"
      }
    },
    {
      "cell_type": "code",
      "source": [
        "with wandb.init(entity=\"wandb-smle\", project=\"artifacts-ttl-demo\", job_type=\"raw-data\") as run:\n",
        "  raw_real_art = wandb.Artifact(\n",
        "      \"real-raw\", type=\"dataset\",\n",
        "      description=\"Raw sample images from CIFAR\"\n",
        "  )\n",
        "\n",
        "  raw_real_art.add_dir(real_sample_dir)\n",
        "  raw_real_art.ttl = timedelta(days=10)\n",
        "  run.log_artifact(raw_real_art)\n",
        "\n",
        "  raw_fake_art = wandb.Artifact(\n",
        "      \"fake-raw\", type=\"dataset\",\n",
        "      description=\"Raw sample images from Bird and Lofti (2023)\"\n",
        "  )\n",
        "\n",
        "  raw_fake_art.add_dir(fake_sample_dir)\n",
        "  run.log_artifact(raw_fake_art)\n",
        "\n",
        "  run.finish()"
      ],
      "metadata": {
        "colab": {
          "base_uri": "https://localhost:8080/",
          "height": 289,
          "referenced_widgets": [
            "9e700f91c85f464b8c08286bde953557",
            "7d648f77a348489e96244ebc4c0f9351",
            "9d9fb509fc1b48faa63f69495bafe79a",
            "2684f4edfaf94e5c97b7046dff102c5d",
            "9a87992d94ce4bf580620ac371025dd0",
            "01924c430f3f47dd916ffaf11dbb6fea",
            "c145629ce46f42389024d20701396956",
            "8aa4a771cbf14de582721fda66075e19"
          ]
        },
        "id": "cMz3PnQxwbNX",
        "outputId": "36c16d61-c03c-4742-83da-18e6f80650bd"
      },
      "execution_count": 30,
      "outputs": [
        {
          "output_type": "display_data",
          "data": {
            "text/plain": [
              "VBox(children=(Label(value='Waiting for wandb.init()...\\r'), FloatProgress(value=0.011112787244443704, max=1.0…"
            ],
            "application/vnd.jupyter.widget-view+json": {
              "version_major": 2,
              "version_minor": 0,
              "model_id": "9e700f91c85f464b8c08286bde953557"
            }
          },
          "metadata": {}
        },
        {
          "output_type": "display_data",
          "data": {
            "text/plain": [
              "<IPython.core.display.HTML object>"
            ],
            "text/html": [
              "Tracking run with wandb version 0.15.10"
            ]
          },
          "metadata": {}
        },
        {
          "output_type": "display_data",
          "data": {
            "text/plain": [
              "<IPython.core.display.HTML object>"
            ],
            "text/html": [
              "Run data is saved locally in <code>/content/wandb/run-20230913_161422-qtbn9hm8</code>"
            ]
          },
          "metadata": {}
        },
        {
          "output_type": "display_data",
          "data": {
            "text/plain": [
              "<IPython.core.display.HTML object>"
            ],
            "text/html": [
              "Syncing run <strong><a href='https://wandb.ai/wandb-smle/artifacts-ttl-demo/runs/qtbn9hm8' target=\"_blank\">stellar-leaf-31</a></strong> to <a href='https://wandb.ai/wandb-smle/artifacts-ttl-demo' target=\"_blank\">Weights & Biases</a> (<a href='https://wandb.me/run' target=\"_blank\">docs</a>)<br/>"
            ]
          },
          "metadata": {}
        },
        {
          "output_type": "display_data",
          "data": {
            "text/plain": [
              "<IPython.core.display.HTML object>"
            ],
            "text/html": [
              " View project at <a href='https://wandb.ai/wandb-smle/artifacts-ttl-demo' target=\"_blank\">https://wandb.ai/wandb-smle/artifacts-ttl-demo</a>"
            ]
          },
          "metadata": {}
        },
        {
          "output_type": "display_data",
          "data": {
            "text/plain": [
              "<IPython.core.display.HTML object>"
            ],
            "text/html": [
              " View run at <a href='https://wandb.ai/wandb-smle/artifacts-ttl-demo/runs/qtbn9hm8' target=\"_blank\">https://wandb.ai/wandb-smle/artifacts-ttl-demo/runs/qtbn9hm8</a>"
            ]
          },
          "metadata": {}
        },
        {
          "output_type": "stream",
          "name": "stderr",
          "text": [
            "\u001b[34m\u001b[1mwandb\u001b[0m: Adding directory to artifact (./data/sample/real)... Done. 0.2s\n",
            "\u001b[34m\u001b[1mwandb\u001b[0m: Adding directory to artifact (./data/sample/fake)... Done. 0.1s\n"
          ]
        },
        {
          "output_type": "display_data",
          "data": {
            "text/plain": [
              "<IPython.core.display.HTML object>"
            ],
            "text/html": [
              "Waiting for W&B process to finish... <strong style=\"color:green\">(success).</strong>"
            ]
          },
          "metadata": {}
        },
        {
          "output_type": "display_data",
          "data": {
            "text/plain": [
              "<IPython.core.display.HTML object>"
            ],
            "text/html": [
              " View run <strong style=\"color:#cdcd00\">stellar-leaf-31</strong> at: <a href='https://wandb.ai/wandb-smle/artifacts-ttl-demo/runs/qtbn9hm8' target=\"_blank\">https://wandb.ai/wandb-smle/artifacts-ttl-demo/runs/qtbn9hm8</a><br/> View job at <a href='https://wandb.ai/wandb-smle/artifacts-ttl-demo/jobs/QXJ0aWZhY3RDb2xsZWN0aW9uOjk3MjI3NjE1/version_details/v10' target=\"_blank\">https://wandb.ai/wandb-smle/artifacts-ttl-demo/jobs/QXJ0aWZhY3RDb2xsZWN0aW9uOjk3MjI3NjE1/version_details/v10</a><br/>Synced 5 W&B file(s), 0 media file(s), 204 artifact file(s) and 1 other file(s)"
            ]
          },
          "metadata": {}
        },
        {
          "output_type": "display_data",
          "data": {
            "text/plain": [
              "<IPython.core.display.HTML object>"
            ],
            "text/html": [
              "Find logs at: <code>./wandb/run-20230913_161422-qtbn9hm8/logs</code>"
            ]
          },
          "metadata": {}
        }
      ]
    },
    {
      "cell_type": "markdown",
      "source": [
        "# Updating/Retroactively Setting TTL on Artifacts\n",
        "In our hypothetical organization we've been given approval to retain a specific version of our data indefinitely. We've also been given approval to extend the retention date of an additional dataset. Below we'll:\n",
        "\n",
        "- Extend the TTL of an Artifact tagged with the `extended` alias\n",
        "- Remove the TTL of an Artifact tagged with the `compliant` alias\n",
        "- Programmatically check the status of these two Artifacts"
      ],
      "metadata": {
        "id": "LJOrsEJYuMGV"
      }
    },
    {
      "cell_type": "code",
      "source": [
        "with wandb.init(entity=\"wandb-smle\", project=\"artifacts-ttl-demo\", job_type=\"modify-ttl\") as run:\n",
        "  extended_art = run.use_artifact(\"wandb-smle/artifacts-ttl-demo/real-raw:extended\")\n",
        "  extended_art.ttl = timedelta(days=365)  # Delete in a year\n",
        "  extended_art.save()\n",
        "\n",
        "  compliant_art = run.use_artifact(\"wandb-smle/artifacts-ttl-demo/real-raw:compliant\")\n",
        "  compliant_art.ttl = None\n",
        "  compliant_art.save()\n",
        "\n",
        "  print(extended_art.ttl)\n",
        "  print(compliant_art.ttl)\n",
        "\n",
        "  run.finish()"
      ],
      "metadata": {
        "colab": {
          "base_uri": "https://localhost:8080/",
          "height": 225
        },
        "id": "FxacP20q1-GC",
        "outputId": "c8cd9898-8d9d-46d5-a150-4e1b7674f378"
      },
      "execution_count": 31,
      "outputs": [
        {
          "output_type": "display_data",
          "data": {
            "text/plain": [
              "<IPython.core.display.HTML object>"
            ],
            "text/html": [
              "Tracking run with wandb version 0.15.10"
            ]
          },
          "metadata": {}
        },
        {
          "output_type": "display_data",
          "data": {
            "text/plain": [
              "<IPython.core.display.HTML object>"
            ],
            "text/html": [
              "Run data is saved locally in <code>/content/wandb/run-20230913_161514-3m7gk3vo</code>"
            ]
          },
          "metadata": {}
        },
        {
          "output_type": "display_data",
          "data": {
            "text/plain": [
              "<IPython.core.display.HTML object>"
            ],
            "text/html": [
              "Syncing run <strong><a href='https://wandb.ai/wandb-smle/artifacts-ttl-demo/runs/3m7gk3vo' target=\"_blank\">soft-water-32</a></strong> to <a href='https://wandb.ai/wandb-smle/artifacts-ttl-demo' target=\"_blank\">Weights & Biases</a> (<a href='https://wandb.me/run' target=\"_blank\">docs</a>)<br/>"
            ]
          },
          "metadata": {}
        },
        {
          "output_type": "display_data",
          "data": {
            "text/plain": [
              "<IPython.core.display.HTML object>"
            ],
            "text/html": [
              " View project at <a href='https://wandb.ai/wandb-smle/artifacts-ttl-demo' target=\"_blank\">https://wandb.ai/wandb-smle/artifacts-ttl-demo</a>"
            ]
          },
          "metadata": {}
        },
        {
          "output_type": "display_data",
          "data": {
            "text/plain": [
              "<IPython.core.display.HTML object>"
            ],
            "text/html": [
              " View run at <a href='https://wandb.ai/wandb-smle/artifacts-ttl-demo/runs/3m7gk3vo' target=\"_blank\">https://wandb.ai/wandb-smle/artifacts-ttl-demo/runs/3m7gk3vo</a>"
            ]
          },
          "metadata": {}
        },
        {
          "output_type": "stream",
          "name": "stdout",
          "text": [
            "365 days, 0:00:00\n",
            "None\n"
          ]
        },
        {
          "output_type": "display_data",
          "data": {
            "text/plain": [
              "<IPython.core.display.HTML object>"
            ],
            "text/html": [
              "Waiting for W&B process to finish... <strong style=\"color:green\">(success).</strong>"
            ]
          },
          "metadata": {}
        },
        {
          "output_type": "display_data",
          "data": {
            "text/plain": [
              "<IPython.core.display.HTML object>"
            ],
            "text/html": [
              " View run <strong style=\"color:#cdcd00\">soft-water-32</strong> at: <a href='https://wandb.ai/wandb-smle/artifacts-ttl-demo/runs/3m7gk3vo' target=\"_blank\">https://wandb.ai/wandb-smle/artifacts-ttl-demo/runs/3m7gk3vo</a><br/> View job at <a href='https://wandb.ai/wandb-smle/artifacts-ttl-demo/jobs/QXJ0aWZhY3RDb2xsZWN0aW9uOjk3MjI3NjE1/version_details/v11' target=\"_blank\">https://wandb.ai/wandb-smle/artifacts-ttl-demo/jobs/QXJ0aWZhY3RDb2xsZWN0aW9uOjk3MjI3NjE1/version_details/v11</a><br/>Synced 5 W&B file(s), 0 media file(s), 4 artifact file(s) and 1 other file(s)"
            ]
          },
          "metadata": {}
        },
        {
          "output_type": "display_data",
          "data": {
            "text/plain": [
              "<IPython.core.display.HTML object>"
            ],
            "text/html": [
              "Find logs at: <code>./wandb/run-20230913_161514-3m7gk3vo/logs</code>"
            ]
          },
          "metadata": {}
        }
      ]
    },
    {
      "cell_type": "markdown",
      "source": [
        "# Use W&B Import/Export API to Iterate Artifact Versions and Set TTL\n",
        "Let's say we've received approval to retain all of the data within a given Artifact and we'd like to remove all TTL policies for every version of an Artifact. Below we:\n",
        "\n",
        "- Use the W&B API to get a list of all Runs in a project\n",
        "- Get a list of all versions of a specific Artifact (e.g. `fake-raw`)\n",
        "- Iterate over each  version and remove any existing TTL policy associated with the version"
      ],
      "metadata": {
        "id": "ooXdOtbP8muO"
      }
    },
    {
      "cell_type": "code",
      "source": [
        "# Artifact metadata extraction\n",
        "api = wandb.Api()\n",
        "\n",
        "# Define entity and project\n",
        "entity, project = \"wandb-smle\", \"artifacts-ttl-demo\"\n",
        "\n",
        "runs = api.runs(entity + \"/\" + project)\n",
        "\n",
        "version_names = []\n",
        "for run in runs:\n",
        "    for artifact in iter(run.logged_artifacts()):\n",
        "        if \"fake-raw\" in artifact.name:\n",
        "          # Can be edited to just display individual elements\n",
        "          version_names.append(f\"{artifact.name}/{artifact.version}\")\n",
        "\n",
        "with wandb.init(entity=\"wandb-smle\", project=\"artifacts-ttl-demo\", job_type=\"modify-ttl\") as run:\n",
        "  for version in version_names:\n",
        "    version_art = run.use_artifact(f\"wandb-smle/artifacts-ttl-demo/{'/'.join(version.split('/')[:-1])}\")\n",
        "    version_art.ttl = None\n",
        "    version_art.save()\n",
        "    print(version_art.ttl)\n"
      ],
      "metadata": {
        "colab": {
          "base_uri": "https://localhost:8080/",
          "height": 399
        },
        "id": "wAHUP_gSyZpK",
        "outputId": "fbffb707-ced7-4f75-cce3-093b561fd6d3"
      },
      "execution_count": 32,
      "outputs": [
        {
          "output_type": "display_data",
          "data": {
            "text/plain": [
              "<IPython.core.display.HTML object>"
            ],
            "text/html": [
              "Tracking run with wandb version 0.15.10"
            ]
          },
          "metadata": {}
        },
        {
          "output_type": "display_data",
          "data": {
            "text/plain": [
              "<IPython.core.display.HTML object>"
            ],
            "text/html": [
              "Run data is saved locally in <code>/content/wandb/run-20230913_161554-3gez2c1s</code>"
            ]
          },
          "metadata": {}
        },
        {
          "output_type": "display_data",
          "data": {
            "text/plain": [
              "<IPython.core.display.HTML object>"
            ],
            "text/html": [
              "Syncing run <strong><a href='https://wandb.ai/wandb-smle/artifacts-ttl-demo/runs/3gez2c1s' target=\"_blank\">ancient-eon-33</a></strong> to <a href='https://wandb.ai/wandb-smle/artifacts-ttl-demo' target=\"_blank\">Weights & Biases</a> (<a href='https://wandb.me/run' target=\"_blank\">docs</a>)<br/>"
            ]
          },
          "metadata": {}
        },
        {
          "output_type": "display_data",
          "data": {
            "text/plain": [
              "<IPython.core.display.HTML object>"
            ],
            "text/html": [
              " View project at <a href='https://wandb.ai/wandb-smle/artifacts-ttl-demo' target=\"_blank\">https://wandb.ai/wandb-smle/artifacts-ttl-demo</a>"
            ]
          },
          "metadata": {}
        },
        {
          "output_type": "display_data",
          "data": {
            "text/plain": [
              "<IPython.core.display.HTML object>"
            ],
            "text/html": [
              " View run at <a href='https://wandb.ai/wandb-smle/artifacts-ttl-demo/runs/3gez2c1s' target=\"_blank\">https://wandb.ai/wandb-smle/artifacts-ttl-demo/runs/3gez2c1s</a>"
            ]
          },
          "metadata": {}
        },
        {
          "output_type": "stream",
          "name": "stdout",
          "text": [
            "None\n",
            "None\n",
            "None\n",
            "None\n",
            "None\n",
            "None\n",
            "None\n",
            "None\n",
            "None\n",
            "None\n",
            "None\n",
            "None\n"
          ]
        },
        {
          "output_type": "display_data",
          "data": {
            "text/plain": [
              "<IPython.core.display.HTML object>"
            ],
            "text/html": [
              "Waiting for W&B process to finish... <strong style=\"color:green\">(success).</strong>"
            ]
          },
          "metadata": {}
        },
        {
          "output_type": "display_data",
          "data": {
            "text/plain": [
              "<IPython.core.display.HTML object>"
            ],
            "text/html": [
              " View run <strong style=\"color:#cdcd00\">ancient-eon-33</strong> at: <a href='https://wandb.ai/wandb-smle/artifacts-ttl-demo/runs/3gez2c1s' target=\"_blank\">https://wandb.ai/wandb-smle/artifacts-ttl-demo/runs/3gez2c1s</a><br/> View job at <a href='https://wandb.ai/wandb-smle/artifacts-ttl-demo/jobs/QXJ0aWZhY3RDb2xsZWN0aW9uOjk3MjI3NjE1/version_details/v12' target=\"_blank\">https://wandb.ai/wandb-smle/artifacts-ttl-demo/jobs/QXJ0aWZhY3RDb2xsZWN0aW9uOjk3MjI3NjE1/version_details/v12</a><br/>Synced 5 W&B file(s), 0 media file(s), 4 artifact file(s) and 1 other file(s)"
            ]
          },
          "metadata": {}
        },
        {
          "output_type": "display_data",
          "data": {
            "text/plain": [
              "<IPython.core.display.HTML object>"
            ],
            "text/html": [
              "Find logs at: <code>./wandb/run-20230913_161554-3gez2c1s/logs</code>"
            ]
          },
          "metadata": {}
        }
      ]
    },
    {
      "cell_type": "markdown",
      "source": [
        "# Traverse an Artifact Graph to Set Downstream TTL\n",
        "In this last section, we'll do some preprocessing on our images and log those as downstream Artifacts. Once again we'll use the W&B Import/Export API to set a TTL policy on our downstream images for images that originated from our \"real\" dataset."
      ],
      "metadata": {
        "id": "KZoqaXbP_AAh"
      }
    },
    {
      "cell_type": "markdown",
      "source": [
        "## Preprocess and log a new Artifact"
      ],
      "metadata": {
        "id": "S6rxKhOaQSEW"
      }
    },
    {
      "cell_type": "code",
      "source": [
        "real_prepro_dir = \"data/prepro/real\"\n",
        "fake_prepro_dir = \"data/prepro/fake\"\n",
        "\n",
        "def preprocess_image(image_path):\n",
        "  \"\"\"Preprocesses an image by resizing it to 256x256, normalizing it to [0, 1], and flipping it horizontally with 50% probability.\"\"\"\n",
        "  image = cv2.imread(image_path)\n",
        "  image = cv2.resize(image, (256, 256))\n",
        "  image = cv2.normalize(image, None, 0, 1, cv2.NORM_MINMAX)\n",
        "  if np.random.random() > 0.5:\n",
        "    image = cv2.flip(image, 1)\n",
        "  return image\n",
        "\n",
        "with wandb.init(entity=\"wandb-smle\", project=\"artifacts-ttl-demo\", job_type=\"preprocessing\") as run:\n",
        "  real_art = run.use_artifact(\"wandb-smle/artifacts-ttl-demo/real-raw:latest\")\n",
        "  real_images = real_art.download()\n",
        "\n",
        "  for image_file in os.listdir(real_images):\n",
        "    image_path = os.path.join(real_images, image_file)\n",
        "    preprocessed_image = preprocess_image(image_path)\n",
        "    cv2.imwrite(os.path.join(\"data/prepro/real/\", image_file), preprocessed_image)\n",
        "\n",
        "  prepro_real_art = wandb.Artifact(\n",
        "      \"real-prepro\", type=\"dataset\",\n",
        "      description=\"Preprocessed images from CIFAR\"\n",
        "  )\n",
        "\n",
        "  prepro_real_art.add_dir(real_prepro_dir)\n",
        "  run.log_artifact(prepro_real_art)\n",
        "  run.finish()"
      ],
      "metadata": {
        "colab": {
          "base_uri": "https://localhost:8080/",
          "height": 225
        },
        "id": "tYaUqAmD_t55",
        "outputId": "e722cdfa-916d-4c46-f3de-e8656eb2f2dc"
      },
      "execution_count": 33,
      "outputs": [
        {
          "output_type": "display_data",
          "data": {
            "text/plain": [
              "<IPython.core.display.HTML object>"
            ],
            "text/html": [
              "Tracking run with wandb version 0.15.10"
            ]
          },
          "metadata": {}
        },
        {
          "output_type": "display_data",
          "data": {
            "text/plain": [
              "<IPython.core.display.HTML object>"
            ],
            "text/html": [
              "Run data is saved locally in <code>/content/wandb/run-20230913_161625-uwjgm5o8</code>"
            ]
          },
          "metadata": {}
        },
        {
          "output_type": "display_data",
          "data": {
            "text/plain": [
              "<IPython.core.display.HTML object>"
            ],
            "text/html": [
              "Syncing run <strong><a href='https://wandb.ai/wandb-smle/artifacts-ttl-demo/runs/uwjgm5o8' target=\"_blank\">rich-wildflower-34</a></strong> to <a href='https://wandb.ai/wandb-smle/artifacts-ttl-demo' target=\"_blank\">Weights & Biases</a> (<a href='https://wandb.me/run' target=\"_blank\">docs</a>)<br/>"
            ]
          },
          "metadata": {}
        },
        {
          "output_type": "display_data",
          "data": {
            "text/plain": [
              "<IPython.core.display.HTML object>"
            ],
            "text/html": [
              " View project at <a href='https://wandb.ai/wandb-smle/artifacts-ttl-demo' target=\"_blank\">https://wandb.ai/wandb-smle/artifacts-ttl-demo</a>"
            ]
          },
          "metadata": {}
        },
        {
          "output_type": "display_data",
          "data": {
            "text/plain": [
              "<IPython.core.display.HTML object>"
            ],
            "text/html": [
              " View run at <a href='https://wandb.ai/wandb-smle/artifacts-ttl-demo/runs/uwjgm5o8' target=\"_blank\">https://wandb.ai/wandb-smle/artifacts-ttl-demo/runs/uwjgm5o8</a>"
            ]
          },
          "metadata": {}
        },
        {
          "output_type": "stream",
          "name": "stderr",
          "text": [
            "\u001b[34m\u001b[1mwandb\u001b[0m: \\ 1 of 100 files downloaded...\r\u001b[34m\u001b[1mwandb\u001b[0m:   100 of 100 files downloaded.  \n",
            "\u001b[34m\u001b[1mwandb\u001b[0m: Adding directory to artifact (./data/prepro/real)... Done. 0.1s\n"
          ]
        },
        {
          "output_type": "display_data",
          "data": {
            "text/plain": [
              "<IPython.core.display.HTML object>"
            ],
            "text/html": [
              "Waiting for W&B process to finish... <strong style=\"color:green\">(success).</strong>"
            ]
          },
          "metadata": {}
        },
        {
          "output_type": "display_data",
          "data": {
            "text/plain": [
              "<IPython.core.display.HTML object>"
            ],
            "text/html": [
              " View run <strong style=\"color:#cdcd00\">rich-wildflower-34</strong> at: <a href='https://wandb.ai/wandb-smle/artifacts-ttl-demo/runs/uwjgm5o8' target=\"_blank\">https://wandb.ai/wandb-smle/artifacts-ttl-demo/runs/uwjgm5o8</a><br/> View job at <a href='https://wandb.ai/wandb-smle/artifacts-ttl-demo/jobs/QXJ0aWZhY3RDb2xsZWN0aW9uOjk3MjI3NjE1/version_details/v13' target=\"_blank\">https://wandb.ai/wandb-smle/artifacts-ttl-demo/jobs/QXJ0aWZhY3RDb2xsZWN0aW9uOjk3MjI3NjE1/version_details/v13</a><br/>Synced 5 W&B file(s), 0 media file(s), 204 artifact file(s) and 1 other file(s)"
            ]
          },
          "metadata": {}
        },
        {
          "output_type": "display_data",
          "data": {
            "text/plain": [
              "<IPython.core.display.HTML object>"
            ],
            "text/html": [
              "Find logs at: <code>./wandb/run-20230913_161625-uwjgm5o8/logs</code>"
            ]
          },
          "metadata": {}
        }
      ]
    },
    {
      "cell_type": "markdown",
      "source": [
        "## Traverse the Artifact Graph and Set TTL\n",
        "Let's take a look at the original real dataset and traverse downstream runs and Artifacts to set a TTL policy on anything that originated from the real dataset."
      ],
      "metadata": {
        "id": "a7hhzRobQYYo"
      }
    },
    {
      "cell_type": "code",
      "source": [
        "api = wandb.Api()\n",
        "\n",
        "# For demo purposes we'll just do this on the latest version of the real dataset\n",
        "artifact = api.artifact(\"wandb-smle/artifacts-ttl-demo/real-raw:latest\")\n",
        "consumer_runs = artifact.used_by()\n",
        "\n",
        "# Same pattern from above to get all downstream versions\n",
        "version_names = []\n",
        "for run in consumer_runs:\n",
        "    for artifact in iter(run.logged_artifacts()):\n",
        "        # filter for datasets only\n",
        "        if artifact.type == \"dataset\":\n",
        "          # Can be edited to just display individual elements\n",
        "          version_names.append(f\"{artifact.name}/{artifact.version}\")\n",
        "\n",
        "with wandb.init(entity=\"wandb-smle\", project=\"artifacts-ttl-demo\", job_type=\"modify-ttl\") as run:\n",
        "  for version in version_names:\n",
        "    version_art = run.use_artifact(f\"wandb-smle/artifacts-ttl-demo/{'/'.join(version.split('/')[:-1])}\")\n",
        "    # set ttl to a random integer so we can see changes in the UI after we run this\n",
        "    version_art.ttl = timedelta(days=random.randint(1,100))\n",
        "    version_art.save()\n",
        "    run.finish()"
      ],
      "metadata": {
        "colab": {
          "base_uri": "https://localhost:8080/",
          "height": 191
        },
        "id": "JOUPEh8ARCvE",
        "outputId": "12b7dbda-df52-42f1-f8d2-3ec598bf7203"
      },
      "execution_count": 34,
      "outputs": [
        {
          "output_type": "display_data",
          "data": {
            "text/plain": [
              "<IPython.core.display.HTML object>"
            ],
            "text/html": [
              "Tracking run with wandb version 0.15.10"
            ]
          },
          "metadata": {}
        },
        {
          "output_type": "display_data",
          "data": {
            "text/plain": [
              "<IPython.core.display.HTML object>"
            ],
            "text/html": [
              "Run data is saved locally in <code>/content/wandb/run-20230913_161652-pi4w8b08</code>"
            ]
          },
          "metadata": {}
        },
        {
          "output_type": "display_data",
          "data": {
            "text/plain": [
              "<IPython.core.display.HTML object>"
            ],
            "text/html": [
              "Syncing run <strong><a href='https://wandb.ai/wandb-smle/artifacts-ttl-demo/runs/pi4w8b08' target=\"_blank\">scarlet-fog-35</a></strong> to <a href='https://wandb.ai/wandb-smle/artifacts-ttl-demo' target=\"_blank\">Weights & Biases</a> (<a href='https://wandb.me/run' target=\"_blank\">docs</a>)<br/>"
            ]
          },
          "metadata": {}
        },
        {
          "output_type": "display_data",
          "data": {
            "text/plain": [
              "<IPython.core.display.HTML object>"
            ],
            "text/html": [
              " View project at <a href='https://wandb.ai/wandb-smle/artifacts-ttl-demo' target=\"_blank\">https://wandb.ai/wandb-smle/artifacts-ttl-demo</a>"
            ]
          },
          "metadata": {}
        },
        {
          "output_type": "display_data",
          "data": {
            "text/plain": [
              "<IPython.core.display.HTML object>"
            ],
            "text/html": [
              " View run at <a href='https://wandb.ai/wandb-smle/artifacts-ttl-demo/runs/pi4w8b08' target=\"_blank\">https://wandb.ai/wandb-smle/artifacts-ttl-demo/runs/pi4w8b08</a>"
            ]
          },
          "metadata": {}
        },
        {
          "output_type": "display_data",
          "data": {
            "text/plain": [
              "<IPython.core.display.HTML object>"
            ],
            "text/html": [
              "Waiting for W&B process to finish... <strong style=\"color:green\">(success).</strong>"
            ]
          },
          "metadata": {}
        },
        {
          "output_type": "display_data",
          "data": {
            "text/plain": [
              "<IPython.core.display.HTML object>"
            ],
            "text/html": [
              " View run <strong style=\"color:#cdcd00\">scarlet-fog-35</strong> at: <a href='https://wandb.ai/wandb-smle/artifacts-ttl-demo/runs/pi4w8b08' target=\"_blank\">https://wandb.ai/wandb-smle/artifacts-ttl-demo/runs/pi4w8b08</a><br/> View job at <a href='https://wandb.ai/wandb-smle/artifacts-ttl-demo/jobs/QXJ0aWZhY3RDb2xsZWN0aW9uOjk3MjI3NjE1/version_details/v14' target=\"_blank\">https://wandb.ai/wandb-smle/artifacts-ttl-demo/jobs/QXJ0aWZhY3RDb2xsZWN0aW9uOjk3MjI3NjE1/version_details/v14</a><br/>Synced 4 W&B file(s), 0 media file(s), 4 artifact file(s) and 1 other file(s)"
            ]
          },
          "metadata": {}
        },
        {
          "output_type": "display_data",
          "data": {
            "text/plain": [
              "<IPython.core.display.HTML object>"
            ],
            "text/html": [
              "Find logs at: <code>./wandb/run-20230913_161652-pi4w8b08/logs</code>"
            ]
          },
          "metadata": {}
        }
      ]
    }
  ]
}