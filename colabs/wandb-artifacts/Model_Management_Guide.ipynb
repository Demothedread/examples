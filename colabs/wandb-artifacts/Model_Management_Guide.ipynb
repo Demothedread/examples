{
  "nbformat": 4,
  "nbformat_minor": 0,
  "metadata": {
    "colab": {
      "name": "Model Management Guide (Public)",
      "provenance": [],
      "collapsed_sections": []
    },
    "kernelspec": {
      "name": "python3",
      "display_name": "Python 3"
    },
    "language_info": {
      "name": "python"
    },
    "widgets": {
      "application/vnd.jupyter.widget-state+json": {
        "c545274e012e4a788550767485c69fac": {
          "model_module": "@jupyter-widgets/controls",
          "model_name": "VBoxModel",
          "model_module_version": "1.5.0",
          "state": {
            "_dom_classes": [],
            "_model_module": "@jupyter-widgets/controls",
            "_model_module_version": "1.5.0",
            "_model_name": "VBoxModel",
            "_view_count": null,
            "_view_module": "@jupyter-widgets/controls",
            "_view_module_version": "1.5.0",
            "_view_name": "VBoxView",
            "box_style": "",
            "children": [
              "IPY_MODEL_612503262aed47c0b28fad79c2838ee1",
              "IPY_MODEL_12faa1a74541436ebc375ff6eb8abb86"
            ],
            "layout": "IPY_MODEL_0b4bf8366d9d444c8b6504563ddb888b"
          }
        },
        "612503262aed47c0b28fad79c2838ee1": {
          "model_module": "@jupyter-widgets/controls",
          "model_name": "LabelModel",
          "model_module_version": "1.5.0",
          "state": {
            "_dom_classes": [],
            "_model_module": "@jupyter-widgets/controls",
            "_model_module_version": "1.5.0",
            "_model_name": "LabelModel",
            "_view_count": null,
            "_view_module": "@jupyter-widgets/controls",
            "_view_module_version": "1.5.0",
            "_view_name": "LabelView",
            "description": "",
            "description_tooltip": null,
            "layout": "IPY_MODEL_8dfeb762c6d3417d8161bf9fb4cee62f",
            "placeholder": "​",
            "style": "IPY_MODEL_b0e34d86c4ae42b4a254ab8f6f4665e6",
            "value": "22.958 MB of 22.958 MB uploaded (0.000 MB deduped)\r"
          }
        },
        "12faa1a74541436ebc375ff6eb8abb86": {
          "model_module": "@jupyter-widgets/controls",
          "model_name": "FloatProgressModel",
          "model_module_version": "1.5.0",
          "state": {
            "_dom_classes": [],
            "_model_module": "@jupyter-widgets/controls",
            "_model_module_version": "1.5.0",
            "_model_name": "FloatProgressModel",
            "_view_count": null,
            "_view_module": "@jupyter-widgets/controls",
            "_view_module_version": "1.5.0",
            "_view_name": "ProgressView",
            "bar_style": "",
            "description": "",
            "description_tooltip": null,
            "layout": "IPY_MODEL_6c40ce802d944f258ddbb4e59a127495",
            "max": 1,
            "min": 0,
            "orientation": "horizontal",
            "style": "IPY_MODEL_800da098d2da416fa14fe1a8b4f82af6",
            "value": 1
          }
        },
        "0b4bf8366d9d444c8b6504563ddb888b": {
          "model_module": "@jupyter-widgets/base",
          "model_name": "LayoutModel",
          "model_module_version": "1.2.0",
          "state": {
            "_model_module": "@jupyter-widgets/base",
            "_model_module_version": "1.2.0",
            "_model_name": "LayoutModel",
            "_view_count": null,
            "_view_module": "@jupyter-widgets/base",
            "_view_module_version": "1.2.0",
            "_view_name": "LayoutView",
            "align_content": null,
            "align_items": null,
            "align_self": null,
            "border": null,
            "bottom": null,
            "display": null,
            "flex": null,
            "flex_flow": null,
            "grid_area": null,
            "grid_auto_columns": null,
            "grid_auto_flow": null,
            "grid_auto_rows": null,
            "grid_column": null,
            "grid_gap": null,
            "grid_row": null,
            "grid_template_areas": null,
            "grid_template_columns": null,
            "grid_template_rows": null,
            "height": null,
            "justify_content": null,
            "justify_items": null,
            "left": null,
            "margin": null,
            "max_height": null,
            "max_width": null,
            "min_height": null,
            "min_width": null,
            "object_fit": null,
            "object_position": null,
            "order": null,
            "overflow": null,
            "overflow_x": null,
            "overflow_y": null,
            "padding": null,
            "right": null,
            "top": null,
            "visibility": null,
            "width": null
          }
        },
        "8dfeb762c6d3417d8161bf9fb4cee62f": {
          "model_module": "@jupyter-widgets/base",
          "model_name": "LayoutModel",
          "model_module_version": "1.2.0",
          "state": {
            "_model_module": "@jupyter-widgets/base",
            "_model_module_version": "1.2.0",
            "_model_name": "LayoutModel",
            "_view_count": null,
            "_view_module": "@jupyter-widgets/base",
            "_view_module_version": "1.2.0",
            "_view_name": "LayoutView",
            "align_content": null,
            "align_items": null,
            "align_self": null,
            "border": null,
            "bottom": null,
            "display": null,
            "flex": null,
            "flex_flow": null,
            "grid_area": null,
            "grid_auto_columns": null,
            "grid_auto_flow": null,
            "grid_auto_rows": null,
            "grid_column": null,
            "grid_gap": null,
            "grid_row": null,
            "grid_template_areas": null,
            "grid_template_columns": null,
            "grid_template_rows": null,
            "height": null,
            "justify_content": null,
            "justify_items": null,
            "left": null,
            "margin": null,
            "max_height": null,
            "max_width": null,
            "min_height": null,
            "min_width": null,
            "object_fit": null,
            "object_position": null,
            "order": null,
            "overflow": null,
            "overflow_x": null,
            "overflow_y": null,
            "padding": null,
            "right": null,
            "top": null,
            "visibility": null,
            "width": null
          }
        },
        "b0e34d86c4ae42b4a254ab8f6f4665e6": {
          "model_module": "@jupyter-widgets/controls",
          "model_name": "DescriptionStyleModel",
          "model_module_version": "1.5.0",
          "state": {
            "_model_module": "@jupyter-widgets/controls",
            "_model_module_version": "1.5.0",
            "_model_name": "DescriptionStyleModel",
            "_view_count": null,
            "_view_module": "@jupyter-widgets/base",
            "_view_module_version": "1.2.0",
            "_view_name": "StyleView",
            "description_width": ""
          }
        },
        "6c40ce802d944f258ddbb4e59a127495": {
          "model_module": "@jupyter-widgets/base",
          "model_name": "LayoutModel",
          "model_module_version": "1.2.0",
          "state": {
            "_model_module": "@jupyter-widgets/base",
            "_model_module_version": "1.2.0",
            "_model_name": "LayoutModel",
            "_view_count": null,
            "_view_module": "@jupyter-widgets/base",
            "_view_module_version": "1.2.0",
            "_view_name": "LayoutView",
            "align_content": null,
            "align_items": null,
            "align_self": null,
            "border": null,
            "bottom": null,
            "display": null,
            "flex": null,
            "flex_flow": null,
            "grid_area": null,
            "grid_auto_columns": null,
            "grid_auto_flow": null,
            "grid_auto_rows": null,
            "grid_column": null,
            "grid_gap": null,
            "grid_row": null,
            "grid_template_areas": null,
            "grid_template_columns": null,
            "grid_template_rows": null,
            "height": null,
            "justify_content": null,
            "justify_items": null,
            "left": null,
            "margin": null,
            "max_height": null,
            "max_width": null,
            "min_height": null,
            "min_width": null,
            "object_fit": null,
            "object_position": null,
            "order": null,
            "overflow": null,
            "overflow_x": null,
            "overflow_y": null,
            "padding": null,
            "right": null,
            "top": null,
            "visibility": null,
            "width": null
          }
        },
        "800da098d2da416fa14fe1a8b4f82af6": {
          "model_module": "@jupyter-widgets/controls",
          "model_name": "ProgressStyleModel",
          "model_module_version": "1.5.0",
          "state": {
            "_model_module": "@jupyter-widgets/controls",
            "_model_module_version": "1.5.0",
            "_model_name": "ProgressStyleModel",
            "_view_count": null,
            "_view_module": "@jupyter-widgets/base",
            "_view_module_version": "1.2.0",
            "_view_name": "StyleView",
            "bar_color": null,
            "description_width": ""
          }
        },
        "debffed77b2e43d6a781da3cfc920bd0": {
          "model_module": "@jupyter-widgets/controls",
          "model_name": "VBoxModel",
          "model_module_version": "1.5.0",
          "state": {
            "_dom_classes": [],
            "_model_module": "@jupyter-widgets/controls",
            "_model_module_version": "1.5.0",
            "_model_name": "VBoxModel",
            "_view_count": null,
            "_view_module": "@jupyter-widgets/controls",
            "_view_module_version": "1.5.0",
            "_view_name": "VBoxView",
            "box_style": "",
            "children": [
              "IPY_MODEL_6692c8d5314b4ffe91f587db9287350b",
              "IPY_MODEL_7ea7531879814b139e572fe90c5969d2"
            ],
            "layout": "IPY_MODEL_be71c00ab2c54c6c91e319d90ebfca23"
          }
        },
        "6692c8d5314b4ffe91f587db9287350b": {
          "model_module": "@jupyter-widgets/controls",
          "model_name": "LabelModel",
          "model_module_version": "1.5.0",
          "state": {
            "_dom_classes": [],
            "_model_module": "@jupyter-widgets/controls",
            "_model_module_version": "1.5.0",
            "_model_name": "LabelModel",
            "_view_count": null,
            "_view_module": "@jupyter-widgets/controls",
            "_view_module_version": "1.5.0",
            "_view_name": "LabelView",
            "description": "",
            "description_tooltip": null,
            "layout": "IPY_MODEL_b95e84ad5c44451ebbbe604f611f928e",
            "placeholder": "​",
            "style": "IPY_MODEL_4ed44cb6ac884176bc927bae55c7b66e",
            "value": "0.116 MB of 0.116 MB uploaded (0.000 MB deduped)\r"
          }
        },
        "7ea7531879814b139e572fe90c5969d2": {
          "model_module": "@jupyter-widgets/controls",
          "model_name": "FloatProgressModel",
          "model_module_version": "1.5.0",
          "state": {
            "_dom_classes": [],
            "_model_module": "@jupyter-widgets/controls",
            "_model_module_version": "1.5.0",
            "_model_name": "FloatProgressModel",
            "_view_count": null,
            "_view_module": "@jupyter-widgets/controls",
            "_view_module_version": "1.5.0",
            "_view_name": "ProgressView",
            "bar_style": "",
            "description": "",
            "description_tooltip": null,
            "layout": "IPY_MODEL_46402bfc848e4d5b84598a346209b996",
            "max": 1,
            "min": 0,
            "orientation": "horizontal",
            "style": "IPY_MODEL_75ea3bd0a9094218866f828a59dcf637",
            "value": 1
          }
        },
        "be71c00ab2c54c6c91e319d90ebfca23": {
          "model_module": "@jupyter-widgets/base",
          "model_name": "LayoutModel",
          "model_module_version": "1.2.0",
          "state": {
            "_model_module": "@jupyter-widgets/base",
            "_model_module_version": "1.2.0",
            "_model_name": "LayoutModel",
            "_view_count": null,
            "_view_module": "@jupyter-widgets/base",
            "_view_module_version": "1.2.0",
            "_view_name": "LayoutView",
            "align_content": null,
            "align_items": null,
            "align_self": null,
            "border": null,
            "bottom": null,
            "display": null,
            "flex": null,
            "flex_flow": null,
            "grid_area": null,
            "grid_auto_columns": null,
            "grid_auto_flow": null,
            "grid_auto_rows": null,
            "grid_column": null,
            "grid_gap": null,
            "grid_row": null,
            "grid_template_areas": null,
            "grid_template_columns": null,
            "grid_template_rows": null,
            "height": null,
            "justify_content": null,
            "justify_items": null,
            "left": null,
            "margin": null,
            "max_height": null,
            "max_width": null,
            "min_height": null,
            "min_width": null,
            "object_fit": null,
            "object_position": null,
            "order": null,
            "overflow": null,
            "overflow_x": null,
            "overflow_y": null,
            "padding": null,
            "right": null,
            "top": null,
            "visibility": null,
            "width": null
          }
        },
        "b95e84ad5c44451ebbbe604f611f928e": {
          "model_module": "@jupyter-widgets/base",
          "model_name": "LayoutModel",
          "model_module_version": "1.2.0",
          "state": {
            "_model_module": "@jupyter-widgets/base",
            "_model_module_version": "1.2.0",
            "_model_name": "LayoutModel",
            "_view_count": null,
            "_view_module": "@jupyter-widgets/base",
            "_view_module_version": "1.2.0",
            "_view_name": "LayoutView",
            "align_content": null,
            "align_items": null,
            "align_self": null,
            "border": null,
            "bottom": null,
            "display": null,
            "flex": null,
            "flex_flow": null,
            "grid_area": null,
            "grid_auto_columns": null,
            "grid_auto_flow": null,
            "grid_auto_rows": null,
            "grid_column": null,
            "grid_gap": null,
            "grid_row": null,
            "grid_template_areas": null,
            "grid_template_columns": null,
            "grid_template_rows": null,
            "height": null,
            "justify_content": null,
            "justify_items": null,
            "left": null,
            "margin": null,
            "max_height": null,
            "max_width": null,
            "min_height": null,
            "min_width": null,
            "object_fit": null,
            "object_position": null,
            "order": null,
            "overflow": null,
            "overflow_x": null,
            "overflow_y": null,
            "padding": null,
            "right": null,
            "top": null,
            "visibility": null,
            "width": null
          }
        },
        "4ed44cb6ac884176bc927bae55c7b66e": {
          "model_module": "@jupyter-widgets/controls",
          "model_name": "DescriptionStyleModel",
          "model_module_version": "1.5.0",
          "state": {
            "_model_module": "@jupyter-widgets/controls",
            "_model_module_version": "1.5.0",
            "_model_name": "DescriptionStyleModel",
            "_view_count": null,
            "_view_module": "@jupyter-widgets/base",
            "_view_module_version": "1.2.0",
            "_view_name": "StyleView",
            "description_width": ""
          }
        },
        "46402bfc848e4d5b84598a346209b996": {
          "model_module": "@jupyter-widgets/base",
          "model_name": "LayoutModel",
          "model_module_version": "1.2.0",
          "state": {
            "_model_module": "@jupyter-widgets/base",
            "_model_module_version": "1.2.0",
            "_model_name": "LayoutModel",
            "_view_count": null,
            "_view_module": "@jupyter-widgets/base",
            "_view_module_version": "1.2.0",
            "_view_name": "LayoutView",
            "align_content": null,
            "align_items": null,
            "align_self": null,
            "border": null,
            "bottom": null,
            "display": null,
            "flex": null,
            "flex_flow": null,
            "grid_area": null,
            "grid_auto_columns": null,
            "grid_auto_flow": null,
            "grid_auto_rows": null,
            "grid_column": null,
            "grid_gap": null,
            "grid_row": null,
            "grid_template_areas": null,
            "grid_template_columns": null,
            "grid_template_rows": null,
            "height": null,
            "justify_content": null,
            "justify_items": null,
            "left": null,
            "margin": null,
            "max_height": null,
            "max_width": null,
            "min_height": null,
            "min_width": null,
            "object_fit": null,
            "object_position": null,
            "order": null,
            "overflow": null,
            "overflow_x": null,
            "overflow_y": null,
            "padding": null,
            "right": null,
            "top": null,
            "visibility": null,
            "width": null
          }
        },
        "75ea3bd0a9094218866f828a59dcf637": {
          "model_module": "@jupyter-widgets/controls",
          "model_name": "ProgressStyleModel",
          "model_module_version": "1.5.0",
          "state": {
            "_model_module": "@jupyter-widgets/controls",
            "_model_module_version": "1.5.0",
            "_model_name": "ProgressStyleModel",
            "_view_count": null,
            "_view_module": "@jupyter-widgets/base",
            "_view_module_version": "1.2.0",
            "_view_name": "StyleView",
            "bar_color": null,
            "description_width": ""
          }
        }
      }
    }
  },
  "cells": [
    {
      "cell_type": "markdown",
      "source": [
        "# W&B Model Management Guide Companion Notebook\n",
        "\n",
        "**Please add `artifact-portfolios` to your bio in order to enable beta features required to complete this guide.**\n",
        "\n",
        "This is a comparnion notebook to the [W&B Model Management Guide](https://docs.wandb.ai/guides/models).\n",
        "\n",
        "**Table of Contents**\n",
        "* **Cell 1**: Installs `wandb` python library\n",
        "* **Cell 2** (Form): Allows you to specify some parameters and defines a handful of helper functions. Note: there is not any `wandb` specific library calls in these helper functions - they are purely used to allow the example cells to be more terse and focus on the key aspects of Model Management\n",
        "* **Cell 3**: (Train, Log, & Link Models) Covers steps [2. Traing & log a Model](https://docs.wandb.ai/guides/models#2.-train-and-log-model-versions) and [3. Link Model Versions to the Collection](https://docs.wandb.ai/guides/models#3.-link-model-versions-to-the-portfolio)\n",
        "* **Cell 4**: (Use, Evaluate, and Promote a Model) Covers steps [4. Using a Model Version](https://docs.wandb.ai/guides/models#4.-use-a-model-version), [5. Evaluate Model Performance](https://docs.wandb.ai/guides/models#5.-evaluate-model-performance), and [6. Promote a Version to Production](https://docs.wandb.ai/guides/models#6.-promote-a-version-to-production)\n",
        "\n",
        "\n"
      ],
      "metadata": {
        "id": "NPdc6YcP8obM"
      }
    },
    {
      "cell_type": "markdown",
      "source": [
        "# Setup\n",
        "**Stop! 🛑** Please complete [Step 1 of the tutorial](https://docs.wandb.ai/guides/models#1.-create-a-new-model-collection) before continuing. This will ensure you have a **Model Collection** defined in your project. Enter the Project name where you created the Collection in `project_name` and the name of the Collection in the `model_collection_name` fields respectively."
      ],
      "metadata": {
        "id": "mma3zZAWt1qy"
      }
    },
    {
      "cell_type": "code",
      "execution_count": null,
      "metadata": {
        "colab": {
          "base_uri": "https://localhost:8080/"
        },
        "id": "3R4W8dVg8l7E",
        "outputId": "6f3e85d8-5bed-4ab3-973e-ceded5727aea"
      },
      "outputs": [
        {
          "output_type": "stream",
          "name": "stdout",
          "text": [
            "\u001b[K     |████████████████████████████████| 1.8 MB 1.9 MB/s \n",
            "\u001b[K     |████████████████████████████████| 181 kB 17.2 MB/s \n",
            "\u001b[K     |████████████████████████████████| 145 kB 35.6 MB/s \n",
            "\u001b[K     |████████████████████████████████| 63 kB 1.4 MB/s \n",
            "\u001b[?25h  Building wheel for pathtools (setup.py) ... \u001b[?25l\u001b[?25hdone\n"
          ]
        }
      ],
      "source": [
        "!pip install wandb -U -qqq"
      ]
    },
    {
      "cell_type": "code",
      "source": [
        "project_name = \"model_management_docs_official_v0\" #@param {type:\"string\"}\n",
        "# dataset_name = \"mnist\" #@param {type:\"string\"}\n",
        "dataset_name = \"mnist\"\n",
        "model_collection_name = \"MNIST Grayscale 28x28\" #@param {type:\"string\"}\n",
        "use_beta_apis = False #@param {type:\"boolean\"}\n",
        "\n",
        "import torch\n",
        "from torchvision import datasets, transforms\n",
        "import torch.nn as nn\n",
        "import torch.nn.functional as F\n",
        "import torch.optim as optim\n",
        "from torch.utils.data import TensorDataset, DataLoader\n",
        "from torch.optim.lr_scheduler import StepLR\n",
        "\n",
        "class Net(nn.Module):\n",
        "    def __init__(self):\n",
        "        super(Net, self).__init__()\n",
        "        self.conv1 = nn.Conv2d(1, 32, 3, 1)\n",
        "        self.conv2 = nn.Conv2d(32, 64, 3, 1)\n",
        "        self.dropout1 = nn.Dropout(0.25)\n",
        "        self.dropout2 = nn.Dropout(0.5)\n",
        "        self.fc1 = nn.Linear(9216, 128)\n",
        "        self.fc2 = nn.Linear(128, 10)\n",
        "\n",
        "    def forward(self, x):\n",
        "        x = self.conv1(x)\n",
        "        x = F.relu(x)\n",
        "        x = self.conv2(x)\n",
        "        x = F.relu(x)\n",
        "        x = F.max_pool2d(x, 2)\n",
        "        x = self.dropout1(x)\n",
        "        x = torch.flatten(x, 1)\n",
        "        x = self.fc1(x)\n",
        "        x = F.relu(x)\n",
        "        x = self.dropout2(x)\n",
        "        x = self.fc2(x)\n",
        "        output = F.log_softmax(x, dim=1)\n",
        "        return output\n",
        "\n",
        "def build_training_data(train_size, val_size, batch_size, data_path):\n",
        "  mnist_data = datasets.MNIST(\n",
        "      data_path, \n",
        "      download  = True, \n",
        "      transform = transforms.Compose([\n",
        "        transforms.ToTensor(), \n",
        "        ])\n",
        "      )\n",
        "\n",
        "  extra = 60000 - train_size - val_size\n",
        "  assert extra >= 0\n",
        "  splits = torch.utils.data.random_split(mnist_data, [train_size, val_size, extra])\n",
        "  return torch.utils.data.DataLoader(splits[0], batch_size=batch_size), torch.utils.data.DataLoader(splits[1], batch_size=val_size)\n",
        "\n",
        "def build_test_data(test_size, data_path):\n",
        "  mnist_data = datasets.MNIST(\n",
        "      data_path, \n",
        "      train = False,\n",
        "      download  = True, \n",
        "      transform = transforms.Compose([\n",
        "        transforms.ToTensor(), \n",
        "        ])\n",
        "      )\n",
        "\n",
        "  extra = 10000 - test_size\n",
        "  assert extra >= 0\n",
        "  splits = torch.utils.data.random_split(mnist_data, [test_size, extra])\n",
        "  return torch.utils.data.DataLoader(splits[0], batch_size=test_size)\n",
        "\n",
        "def build_model(learning_rate, gamma):\n",
        "  device = torch.device(\"cpu\")\n",
        "  model = Net().to(device)\n",
        "  optimizer = optim.Adadelta(model.parameters(), lr = learning_rate)\n",
        "  scheduler = StepLR(optimizer, step_size = 1, gamma = gamma)\n",
        "  return model, optimizer, scheduler\n",
        "\n",
        "def train_model_batch(model, optimizer, batch_x, batch_y):\n",
        "  model.train()\n",
        "  data, target = batch_x.to(\"cpu\"), batch_y.to(\"cpu\")\n",
        "  optimizer.zero_grad()\n",
        "  preds = model(data)\n",
        "  loss = F.nll_loss(preds, target)\n",
        "  loss.backward()\n",
        "  optimizer.step()\n",
        "  return loss.item(), preds\n",
        "\n",
        "def train_model_epoch(model, optimizer, train_loader, on_batch_end):\n",
        "  for batch_ndx, batch in enumerate(train_loader):\n",
        "    train_loss, preds = train_model_batch(model, optimizer, batch[0], batch[1])\n",
        "    on_batch_end(batch_ndx, batch, preds, train_loss)\n",
        "\n",
        "def train_model(model, optimizer, scheduler, train_loader, val_loader, num_epochs, on_batch_end, on_epoch_end):\n",
        "  for epoch_ndx in range(num_epochs):\n",
        "    def patched_on_batch_end(batch_ndx, batch, preds, train_loss):\n",
        "      on_batch_end(epoch_ndx, batch_ndx, batch, preds, train_loss)\n",
        "    train_model_epoch(model, optimizer, train_loader, patched_on_batch_end)\n",
        "    on_epoch_end(epoch_ndx)\n",
        "    scheduler.step()\n",
        "\n",
        "def evaluate_model(model, eval_data):\n",
        "    device = torch.device(\"cpu\")\n",
        "    model.eval()\n",
        "    test_loss = 0\n",
        "    correct = 0\n",
        "    preds = []\n",
        "    with torch.no_grad():\n",
        "        for data, target in eval_data:\n",
        "            data, target = data.to(device), target.to(device)\n",
        "            output = model(data)\n",
        "            test_loss += F.nll_loss(\n",
        "                output, target, reduction=\"sum\"\n",
        "            ).item()  # sum up batch loss\n",
        "            pred = output.argmax(\n",
        "                dim=1, keepdim=True\n",
        "            )  # get the index of the max log-probability\n",
        "            preds += list(pred.flatten().tolist())\n",
        "            correct += pred.eq(target.view_as(pred)).sum().item()\n",
        "    test_loss /= len(eval_data.dataset)\n",
        "    accuracy = 100.0 * correct / len(eval_data.dataset)\n",
        "    return test_loss, accuracy, preds\n"
      ],
      "metadata": {
        "id": "bFkIb24F9BDO",
        "cellView": "form"
      },
      "execution_count": null,
      "outputs": []
    },
    {
      "cell_type": "markdown",
      "source": [
        "# Train, Log, & Link Models"
      ],
      "metadata": {
        "id": "rsuDGJZiB2J3"
      }
    },
    {
      "cell_type": "code",
      "source": [
        "import wandb\n",
        "from wandb.beta.workflows import log_model, link_model\n",
        "\n",
        "import torch\n",
        "import cloudpickle\n",
        "\n",
        "# Startup a W&B Run\n",
        "wandb.init(project=project_name, \n",
        "  job_type=\"model_trainer\",\n",
        "  config={\n",
        "      \"train_size\": 100,\n",
        "      \"val_size\": 30,\n",
        "      \"batch_size\": 64,\n",
        "      \"learning_rate\": 1.0,\n",
        "      \"gamma\": 0.75,\n",
        "      \"epochs\": 5,\n",
        "  }\n",
        ")\n",
        "\n",
        "# Load in the training data\n",
        "train_size = wandb.config[\"train_size\"]\n",
        "val_size = wandb.config[\"val_size\"]\n",
        "batch_size=wandb.config[\"batch_size\"]\n",
        "train_data_path = \"./train_data\"\n",
        "train, val = build_training_data(train_size, val_size, batch_size, train_data_path)\n",
        "\n",
        "# (Optional) Declare dataset dependency\n",
        "art = wandb.Artifact(f\"{dataset_name}-train\", \"dataset\")\n",
        "art.add_dir(train_data_path)\n",
        "wandb.use_artifact(art)\n",
        "\n",
        "# Define a model\n",
        "learning_rate = wandb.config[\"learning_rate\"]\n",
        "gamma = wandb.config[\"gamma\"]\n",
        "model, optimizer, scheduler = build_model(learning_rate, gamma)\n",
        "\n",
        "# Setup callbacks:\n",
        "def on_batch_end(epoch_ndx, batch_ndx, batch, preds, train_loss):\n",
        "  wandb.log({\n",
        "      \"epoch_ndx\": epoch_ndx,\n",
        "      \"batch_ndx\": batch_ndx,\n",
        "      \"train_loss\": train_loss,\n",
        "      \"learning_rate\": optimizer.param_groups[0][\"lr\"]\n",
        "  })\n",
        "\n",
        "best_loss = float(\"inf\")\n",
        "best_model = None\n",
        "def on_epoch_end(epoch_ndx):\n",
        "  global best_loss\n",
        "  global best_model\n",
        "  val_loss, val_acc, preds = evaluate_model(model, val)\n",
        "  is_best = val_loss < best_loss\n",
        "  if is_best:\n",
        "    best_loss = val_loss\n",
        "\n",
        "  ##### W&B MODEL MANAGEMENT SPEICIFIC CALLS ######\n",
        "  if use_beta_apis:\n",
        "    model_version = log_model(model, \"mnist\", [\"best\"] if is_best else None)\n",
        "    if is_best:\n",
        "      best_model = model_version\n",
        "  else:\n",
        "    art = wandb.Artifact(f\"mnist-{wandb.run.id}\", \"model\")\n",
        "    torch.save(model, \"model.pt\", pickle_module=cloudpickle)\n",
        "    art.add_file(\"model.pt\")\n",
        "    wandb.log_artifact(art, aliases=[\"best\", \"latest\"] if is_best else None)\n",
        "    if is_best:\n",
        "      best_model = art\n",
        "  wandb.log({\n",
        "      \"epoch_ndx\": epoch_ndx,\n",
        "      \"val_loss\": val_loss,\n",
        "      \"val_acc\": val_acc,\n",
        "      \"learning_rate\": optimizer.param_groups[0][\"lr\"],\n",
        "      \"best_loss\": best_loss\n",
        "  })\n",
        "  print(f\"Epoch {epoch_ndx}: val_loss: {val_loss}, val_acc: {val_acc}\")\n",
        "  \n",
        "\n",
        "# Train the Model\n",
        "epochs = wandb.config[\"epochs\"]\n",
        "train_model(model, optimizer, scheduler, train, val, epochs, on_batch_end, on_epoch_end)\n",
        "\n",
        "##### W&B MODEL MANAGEMENT SPEICIFIC CALLS ######\n",
        "if use_beta_apis:\n",
        "  link_model(best_model, model_collection_name)\n",
        "else:\n",
        "  wandb.run.link_artifact(best_model, model_collection_name, [\"latest\"])\n",
        "\n",
        "# Finish the Run\n",
        "wandb.finish()"
      ],
      "metadata": {
        "colab": {
          "base_uri": "https://localhost:8080/",
          "height": 494,
          "referenced_widgets": [
            "c545274e012e4a788550767485c69fac",
            "612503262aed47c0b28fad79c2838ee1",
            "12faa1a74541436ebc375ff6eb8abb86",
            "0b4bf8366d9d444c8b6504563ddb888b",
            "8dfeb762c6d3417d8161bf9fb4cee62f",
            "b0e34d86c4ae42b4a254ab8f6f4665e6",
            "6c40ce802d944f258ddbb4e59a127495",
            "800da098d2da416fa14fe1a8b4f82af6"
          ]
        },
        "id": "LS9z1VsDB1VV",
        "outputId": "f2fdb6ef-d405-42fe-efb3-864d55a59129"
      },
      "execution_count": null,
      "outputs": [
        {
          "output_type": "display_data",
          "data": {
            "text/plain": [
              "<IPython.core.display.HTML object>"
            ],
            "text/html": [
              "Tracking run with wandb version 0.12.16"
            ]
          },
          "metadata": {}
        },
        {
          "output_type": "display_data",
          "data": {
            "text/plain": [
              "<IPython.core.display.HTML object>"
            ],
            "text/html": [
              "Run data is saved locally in <code>/content/wandb/run-20220512_192202-zws7gt0n</code>"
            ]
          },
          "metadata": {}
        },
        {
          "output_type": "display_data",
          "data": {
            "text/plain": [
              "<IPython.core.display.HTML object>"
            ],
            "text/html": [
              "Syncing run <strong><a href=\"https://wandb.ai/timssweeney/model_management_docs_official_v0/runs/zws7gt0n\" target=\"_blank\">vibrant-wood-3</a></strong> to <a href=\"https://wandb.ai/timssweeney/model_management_docs_official_v0\" target=\"_blank\">Weights & Biases</a> (<a href=\"https://wandb.me/run\" target=\"_blank\">docs</a>)<br/>"
            ]
          },
          "metadata": {}
        },
        {
          "output_type": "stream",
          "name": "stderr",
          "text": [
            "\u001b[34m\u001b[1mwandb\u001b[0m: Adding directory to artifact (./train_data)... Done. 0.2s\n"
          ]
        },
        {
          "output_type": "stream",
          "name": "stdout",
          "text": [
            "Epoch 0: val_loss: 2.2376441955566406, val_acc: 13.333333333333334\n",
            "Epoch 1: val_loss: 2.1073472340901693, val_acc: 20.0\n",
            "Epoch 2: val_loss: 1.9300413767496745, val_acc: 33.333333333333336\n",
            "Epoch 3: val_loss: 1.7272534688313803, val_acc: 36.666666666666664\n",
            "Epoch 4: val_loss: 1.5247809092203777, val_acc: 46.666666666666664\n"
          ]
        },
        {
          "output_type": "display_data",
          "data": {
            "text/plain": [
              "<IPython.core.display.HTML object>"
            ],
            "text/html": [
              "Waiting for W&B process to finish... <strong style=\"color:green\">(success).</strong>"
            ]
          },
          "metadata": {}
        },
        {
          "output_type": "display_data",
          "data": {
            "text/plain": [
              "VBox(children=(Label(value='22.934 MB of 22.934 MB uploaded (0.000 MB deduped)\\r'), FloatProgress(value=1.0, m…"
            ],
            "application/vnd.jupyter.widget-view+json": {
              "version_major": 2,
              "version_minor": 0,
              "model_id": "c545274e012e4a788550767485c69fac"
            }
          },
          "metadata": {}
        },
        {
          "output_type": "display_data",
          "data": {
            "text/plain": [
              "<IPython.core.display.HTML object>"
            ],
            "text/html": [
              "<style>\n",
              "    table.wandb td:nth-child(1) { padding: 0 10px; text-align: left ; width: auto;} td:nth-child(2) {text-align: left ; width: 100%}\n",
              "    .wandb-row { display: flex; flex-direction: row; flex-wrap: wrap; justify-content: flex-start; width: 100% }\n",
              "    .wandb-col { display: flex; flex-direction: column; flex-basis: 100%; flex: 1; padding: 10px; }\n",
              "    </style>\n",
              "<div class=\"wandb-row\"><div class=\"wandb-col\"><h3>Run history:</h3><br/><table class=\"wandb\"><tr><td>batch_ndx</td><td>▁█▁█▁█▁█▁█</td></tr><tr><td>best_loss</td><td>█▇▅▃▁</td></tr><tr><td>epoch_ndx</td><td>▁▁▁▃▃▃▅▅▅▆▆▆███</td></tr><tr><td>learning_rate</td><td>███▅▅▅▄▄▄▂▂▂▁▁▁</td></tr><tr><td>train_loss</td><td>███▇▆▅▅▄▃▁</td></tr><tr><td>val_acc</td><td>▁▂▅▆█</td></tr><tr><td>val_loss</td><td>█▇▅▃▁</td></tr></table><br/></div><div class=\"wandb-col\"><h3>Run summary:</h3><br/><table class=\"wandb\"><tr><td>batch_ndx</td><td>1</td></tr><tr><td>best_loss</td><td>1.52478</td></tr><tr><td>epoch_ndx</td><td>4</td></tr><tr><td>learning_rate</td><td>0.31641</td></tr><tr><td>train_loss</td><td>1.35139</td></tr><tr><td>val_acc</td><td>46.66667</td></tr><tr><td>val_loss</td><td>1.52478</td></tr></table><br/></div></div>"
            ]
          },
          "metadata": {}
        },
        {
          "output_type": "display_data",
          "data": {
            "text/plain": [
              "<IPython.core.display.HTML object>"
            ],
            "text/html": [
              "Synced <strong style=\"color:#cdcd00\">vibrant-wood-3</strong>: <a href=\"https://wandb.ai/timssweeney/model_management_docs_official_v0/runs/zws7gt0n\" target=\"_blank\">https://wandb.ai/timssweeney/model_management_docs_official_v0/runs/zws7gt0n</a><br/>Synced 5 W&B file(s), 0 media file(s), 7 artifact file(s) and 1 other file(s)"
            ]
          },
          "metadata": {}
        },
        {
          "output_type": "display_data",
          "data": {
            "text/plain": [
              "<IPython.core.display.HTML object>"
            ],
            "text/html": [
              "Find logs at: <code>./wandb/run-20220512_192202-zws7gt0n/logs</code>"
            ]
          },
          "metadata": {}
        }
      ]
    },
    {
      "cell_type": "markdown",
      "source": [
        "# Use, Evaluate, and Promote a Model"
      ],
      "metadata": {
        "id": "m43gLivkw9eU"
      }
    },
    {
      "cell_type": "code",
      "source": [
        "import wandb\n",
        "from wandb.beta.workflows import use_model\n",
        "\n",
        "import torch\n",
        "# Startup a W&B Run\n",
        "wandb.init(project=project_name, \n",
        "  job_type=\"model_evaluator\",\n",
        "  config={\n",
        "      \"test_size\": 100,\n",
        "  }\n",
        ")\n",
        "\n",
        "# Load in the test data\n",
        "test_size = wandb.config[\"test_size\"]\n",
        "test_data_path = \"./test_data\"\n",
        "test = build_test_data(test_size, test_data_path)\n",
        "\n",
        "# (Optional) Declare dataset dependency\n",
        "art = wandb.Artifact(f\"{dataset_name}-test\", \"dataset\")\n",
        "art.add_dir(test_data_path)\n",
        "wandb.use_artifact(art)\n",
        "\n",
        "##### W&B MODEL MANAGEMENT SPEICIFIC CALLS ######\n",
        "if use_beta_apis:\n",
        "  model_art = use_model(f\"{model_collection_name}:latest\")\n",
        "  model_obj = model_art.model_obj()\n",
        "else:\n",
        "  model_art = wandb.use_artifact(f\"{model_collection_name}:latest\")\n",
        "  model_path = model_art.get_path(\"model.pt\").download()\n",
        "  model_obj = torch.load(model_path)\n",
        "\n",
        "model_obj.eval()\n",
        "val_loss, val_acc, preds = evaluate_model(model_obj, test)\n",
        "\n",
        "table = wandb.Table(data=[], columns=[])\n",
        "table.add_column(\"image\", [wandb.Image(i.numpy()) for i in list(test)[0][0]])\n",
        "table.add_column(\"label\", list(test)[0][1].tolist())\n",
        "table.add_column(\"pred\", preds)\n",
        "\n",
        "wandb.log({\n",
        "    \"test_loss\": val_loss,\n",
        "    \"test_acc\": val_acc,\n",
        "    \"predictions\": table\n",
        "})\n",
        "\n",
        "##### W&B MODEL MANAGEMENT SPEICIFIC CALLS ######\n",
        "if use_beta_apis:\n",
        "  link_model(model_art, model_collection_name, aliases=[\"production\"])\n",
        "else:\n",
        "  wandb.run.link_artifact(model_art, model_collection_name, [\"latest\", \"production\"])\n",
        "\n",
        "\n",
        "wandb.finish()"
      ],
      "metadata": {
        "id": "4-d4nB8Q-53X",
        "colab": {
          "base_uri": "https://localhost:8080/",
          "height": 298,
          "referenced_widgets": [
            "debffed77b2e43d6a781da3cfc920bd0",
            "6692c8d5314b4ffe91f587db9287350b",
            "7ea7531879814b139e572fe90c5969d2",
            "be71c00ab2c54c6c91e319d90ebfca23",
            "b95e84ad5c44451ebbbe604f611f928e",
            "4ed44cb6ac884176bc927bae55c7b66e",
            "46402bfc848e4d5b84598a346209b996",
            "75ea3bd0a9094218866f828a59dcf637"
          ]
        },
        "outputId": "35d933e8-7681-402c-e645-49893a97b8e8"
      },
      "execution_count": null,
      "outputs": [
        {
          "output_type": "display_data",
          "data": {
            "text/plain": [
              "<IPython.core.display.HTML object>"
            ],
            "text/html": [
              "Tracking run with wandb version 0.12.16"
            ]
          },
          "metadata": {}
        },
        {
          "output_type": "display_data",
          "data": {
            "text/plain": [
              "<IPython.core.display.HTML object>"
            ],
            "text/html": [
              "Run data is saved locally in <code>/content/wandb/run-20220512_192221-42qyy4wm</code>"
            ]
          },
          "metadata": {}
        },
        {
          "output_type": "display_data",
          "data": {
            "text/plain": [
              "<IPython.core.display.HTML object>"
            ],
            "text/html": [
              "Syncing run <strong><a href=\"https://wandb.ai/timssweeney/model_management_docs_official_v0/runs/42qyy4wm\" target=\"_blank\">mild-vortex-4</a></strong> to <a href=\"https://wandb.ai/timssweeney/model_management_docs_official_v0\" target=\"_blank\">Weights & Biases</a> (<a href=\"https://wandb.me/run\" target=\"_blank\">docs</a>)<br/>"
            ]
          },
          "metadata": {}
        },
        {
          "output_type": "stream",
          "name": "stderr",
          "text": [
            "\u001b[34m\u001b[1mwandb\u001b[0m: Adding directory to artifact (./test_data)... Done. 0.2s\n"
          ]
        },
        {
          "output_type": "display_data",
          "data": {
            "text/plain": [
              "<IPython.core.display.HTML object>"
            ],
            "text/html": [
              "Waiting for W&B process to finish... <strong style=\"color:green\">(success).</strong>"
            ]
          },
          "metadata": {}
        },
        {
          "output_type": "display_data",
          "data": {
            "text/plain": [
              "VBox(children=(Label(value='0.091 MB of 0.091 MB uploaded (0.000 MB deduped)\\r'), FloatProgress(value=1.0, max…"
            ],
            "application/vnd.jupyter.widget-view+json": {
              "version_major": 2,
              "version_minor": 0,
              "model_id": "debffed77b2e43d6a781da3cfc920bd0"
            }
          },
          "metadata": {}
        },
        {
          "output_type": "display_data",
          "data": {
            "text/plain": [
              "<IPython.core.display.HTML object>"
            ],
            "text/html": [
              "<style>\n",
              "    table.wandb td:nth-child(1) { padding: 0 10px; text-align: left ; width: auto;} td:nth-child(2) {text-align: left ; width: 100%}\n",
              "    .wandb-row { display: flex; flex-direction: row; flex-wrap: wrap; justify-content: flex-start; width: 100% }\n",
              "    .wandb-col { display: flex; flex-direction: column; flex-basis: 100%; flex: 1; padding: 10px; }\n",
              "    </style>\n",
              "<div class=\"wandb-row\"><div class=\"wandb-col\"><h3>Run history:</h3><br/><table class=\"wandb\"><tr><td>test_acc</td><td>▁</td></tr><tr><td>test_loss</td><td>▁</td></tr></table><br/></div><div class=\"wandb-col\"><h3>Run summary:</h3><br/><table class=\"wandb\"><tr><td>test_acc</td><td>48.0</td></tr><tr><td>test_loss</td><td>1.6166</td></tr></table><br/></div></div>"
            ]
          },
          "metadata": {}
        },
        {
          "output_type": "display_data",
          "data": {
            "text/plain": [
              "<IPython.core.display.HTML object>"
            ],
            "text/html": [
              "Synced <strong style=\"color:#cdcd00\">mild-vortex-4</strong>: <a href=\"https://wandb.ai/timssweeney/model_management_docs_official_v0/runs/42qyy4wm\" target=\"_blank\">https://wandb.ai/timssweeney/model_management_docs_official_v0/runs/42qyy4wm</a><br/>Synced 5 W&B file(s), 1 media file(s), 103 artifact file(s) and 1 other file(s)"
            ]
          },
          "metadata": {}
        },
        {
          "output_type": "display_data",
          "data": {
            "text/plain": [
              "<IPython.core.display.HTML object>"
            ],
            "text/html": [
              "Find logs at: <code>./wandb/run-20220512_192221-42qyy4wm/logs</code>"
            ]
          },
          "metadata": {}
        }
      ]
    },
    {
      "cell_type": "code",
      "source": [
        ""
      ],
      "metadata": {
        "id": "TwGrwdE26nHi"
      },
      "execution_count": null,
      "outputs": []
    }
  ]
}