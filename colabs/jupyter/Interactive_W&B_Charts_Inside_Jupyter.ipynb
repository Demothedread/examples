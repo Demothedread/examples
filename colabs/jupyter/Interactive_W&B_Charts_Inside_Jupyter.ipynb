{
  "nbformat": 4,
  "nbformat_minor": 0,
  "metadata": {
    "colab": {
      "name": "Interactive W&B Charts Inside Jupyter",
      "private_outputs": true,
      "provenance": [],
      "collapsed_sections": [],
      "toc_visible": true,
      "include_colab_link": true
    },
    "kernelspec": {
      "name": "python3",
      "display_name": "Python 3"
    }
  },
  "cells": [
    {
      "cell_type": "markdown",
      "metadata": {
        "id": "view-in-github",
        "colab_type": "text"
      },
      "source": [
        "<a href=\"https://colab.research.google.com/github/wandb/examples/blob/master/colabs/jupyter/Interactive_W%26B_Charts_Inside_Jupyter.ipynb\" target=\"_parent\"><img src=\"https://colab.research.google.com/assets/colab-badge.svg\" alt=\"Open In Colab\"/></a>"
      ]
    },
    {
      "cell_type": "markdown",
      "metadata": {
        "id": "6ZbmJQQjla6g"
      },
      "source": [
        "<img src=\"https://i.imgur.com/gb6B4ig.png\" width=\"400\" alt=\"Weights & Biases\" />\n",
        "\n",
        "Use Weights & Biases for machine learning experiment tracking, dataset versioning, and project collaboration.\n",
        "\n",
        "<div><img /></div>\n",
        "\n",
        "<img src=\"https://i.imgur.com/uEtWSEb.png\" width=\"650\" alt=\"Weights & Biases\" />\n",
        "\n",
        "<div><img /></div>"
      ]
    },
    {
      "cell_type": "markdown",
      "metadata": {
        "id": "TnrQXj80n4dQ"
      },
      "source": [
        "# Interactive W&B Charts Inside Jupyter\n",
        "\n",
        "Here's a quick demo of the W&B  feature for Jupyter notebooks.\n",
        "\n",
        "In a nutshell, the steps are:\n",
        "\n",
        "1. Initialize a new run. \n",
        "2. Use one of two methods to display the run beneath a cell.\n",
        "3. Log to W&B and see live updating graphs appear inside your notebook.\n",
        "\n",
        "Here's a (static) preview:\n",
        "\n",
        "<img src=\"https://i.imgur.com/Y5xqTc2.png\" alt= \"weights and biases jupyter integration\" width=\"500\" />\n",
        "\n"
      ]
    },
    {
      "cell_type": "markdown",
      "metadata": {
        "id": "YVVjauOQgo4M"
      },
      "source": [
        "## Import, install, and log in"
      ]
    },
    {
      "cell_type": "code",
      "metadata": {
        "id": "t34ksM04m0TN"
      },
      "source": [
        "!pip install wandb -qqq\n",
        "import wandb"
      ],
      "execution_count": null,
      "outputs": []
    },
    {
      "cell_type": "code",
      "metadata": {
        "id": "IapqlQ5Bm4e_"
      },
      "source": [
        "wandb.login()"
      ],
      "execution_count": null,
      "outputs": []
    },
    {
      "cell_type": "markdown",
      "metadata": {
        "id": "NOllAVGDgtFS"
      },
      "source": [
        "## Method 1: Display a W&B `Run`"
      ]
    },
    {
      "cell_type": "markdown",
      "metadata": {
        "id": "9cE7oiDqhFyA"
      },
      "source": [
        "The result of the last line of each cell in a Jupyter notebook is \"displayed\" automatically.\n",
        "\n",
        "Our `Run` objects hook into this system to display an interactive window."
      ]
    },
    {
      "cell_type": "code",
      "metadata": {
        "id": "ha6En5zim59J"
      },
      "source": [
        "wandb.init(project=\"jupyter-projo\",\n",
        "           config={\"batch_size\": 128,\n",
        "                   \"learning_rate\": 0.01,\n",
        "                   \"dataset\": \"CIFAR-100\",})"
      ],
      "execution_count": null,
      "outputs": []
    },
    {
      "cell_type": "markdown",
      "metadata": {
        "id": "sXzcrQ7XiAWE"
      },
      "source": [
        "Anything logged as part of this experiment (until you call `wandb.finish`)\n",
        "will be added to that chart.\n",
        "\n",
        "Run the cell below to see!"
      ]
    },
    {
      "cell_type": "code",
      "metadata": {
        "id": "B6m1zEz8h2EQ"
      },
      "source": [
        "import random\n",
        "import time\n",
        "\n",
        "for step in range(10):\n",
        "  wandb.log({'acc': random.random(), 'loss': random.random()})\n",
        "  time.sleep(1)"
      ],
      "execution_count": null,
      "outputs": []
    },
    {
      "cell_type": "markdown",
      "metadata": {
        "id": "8vs5vAgaiVrB"
      },
      "source": [
        "Note that `wandb` also prints a URL. That URL points to the webpage where your results are stored -- nothing to worry about if your notebook crashes or your kernel dies, it's all there!"
      ]
    },
    {
      "cell_type": "markdown",
      "metadata": {
        "id": "nEQiVeu5il5G"
      },
      "source": [
        "### Finishing the run"
      ]
    },
    {
      "cell_type": "markdown",
      "metadata": {
        "id": "Ay670rqvit7v"
      },
      "source": [
        "When you are done with your experiment,\n",
        "call `wandb.finish` to let us know there's nothing more to log.\n",
        "\n",
        "We'll print out a handy summary and history of your run,\n",
        "plus links to the webpages where all your run's information is store.\n",
        "\n",
        "> **Hot Tip!** If you turn on [code saving](https://docs.wandb.ai/ref/app/features/panels/code) in your W&B [settings](https://wandb.ai/settings),\n",
        "we'll also save a copy of the notebook and its \"session history\": all the cells you ran, in order, in the state that you ran them in, with their outputs. Handy!"
      ]
    },
    {
      "cell_type": "code",
      "metadata": {
        "id": "zoHIiCEBigz0"
      },
      "source": [
        "if wandb.run is not None:\n",
        "  wandb.finish()"
      ],
      "execution_count": null,
      "outputs": []
    },
    {
      "cell_type": "markdown",
      "metadata": {
        "id": "w1FA1S1igvnI"
      },
      "source": [
        "## Method 2: Use the `%%wandb` magic"
      ]
    },
    {
      "cell_type": "markdown",
      "metadata": {
        "id": "GdSy9WemkS5x"
      },
      "source": [
        "If you'd rather keep your charts closer to the code generating them,\n",
        "you can also use the `%%wandb`\n",
        "🪄[magic](https://ipython.readthedocs.io/en/stable/interactive/magics.html)🪄\n",
        "at the top of any cell you run after calling `wandb.init`\n",
        "to create an interactive window underneath that cell."
      ]
    },
    {
      "cell_type": "code",
      "metadata": {
        "id": "v69L4lrdnS-t"
      },
      "source": [
        "# start the run\n",
        "wandb.init(project=\"jupyter-projo\",\n",
        "          config={\"batch_size\": 128,\n",
        "                  \"learning_rate\": 0.01,\n",
        "                  \"dataset\": \"CIFAR-100\",})\n",
        "\n",
        "# last line of the cell is no longer a Run object\n",
        "wandb.config.update({\"dropout\": 0.5})"
      ],
      "execution_count": null,
      "outputs": []
    },
    {
      "cell_type": "code",
      "metadata": {
        "id": "qrSzl_ldjvGk"
      },
      "source": [
        "%%wandb\n",
        "# new cell, starting with %%wandb\n",
        "\n",
        "for step in range(10):\n",
        "  wandb.log({'acc': random.random(), 'loss': random.random()})\n",
        "  time.sleep(1)"
      ],
      "execution_count": null,
      "outputs": []
    }
  ]
}