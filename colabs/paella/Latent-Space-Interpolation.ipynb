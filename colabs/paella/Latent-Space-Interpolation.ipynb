{
 "cells": [
  {
   "cell_type": "code",
   "execution_count": 1,
   "id": "833f912f-98d0-4055-933c-9803ab1a34ed",
   "metadata": {},
   "outputs": [],
   "source": [
    "import os\n",
    "import time\n",
    "import wandb\n",
    "import requests\n",
    "import numpy as np\n",
    "from PIL import Image\n",
    "from io import BytesIO\n",
    "from tqdm.notebook import tqdm\n",
    "import matplotlib.pyplot as plt\n",
    "\n",
    "import torch\n",
    "from torch import nn\n",
    "import torchvision\n",
    "\n",
    "import open_clip\n",
    "from rudalle import get_vae\n",
    "from einops import rearrange\n",
    "from open_clip import tokenizer\n",
    "\n",
    "from Paella.modules import DenoiseUNet"
   ]
  },
  {
   "cell_type": "code",
   "execution_count": 2,
   "id": "1b41825a-63f3-4551-9c4d-a809297f7e0d",
   "metadata": {},
   "outputs": [
    {
     "name": "stderr",
     "output_type": "stream",
     "text": [
      "\u001b[34m\u001b[1mwandb\u001b[0m: Currently logged in as: \u001b[33mgeekyrakshit\u001b[0m. Use \u001b[1m`wandb login --relogin`\u001b[0m to force relogin\n"
     ]
    },
    {
     "data": {
      "text/html": [
       "Tracking run with wandb version 0.13.5"
      ],
      "text/plain": [
       "<IPython.core.display.HTML object>"
      ]
     },
     "metadata": {},
     "output_type": "display_data"
    },
    {
     "data": {
      "text/html": [
       "Run data is saved locally in <code>/home/jupyter/wandb/run-20221117_200201-2zy8px07</code>"
      ],
      "text/plain": [
       "<IPython.core.display.HTML object>"
      ]
     },
     "metadata": {},
     "output_type": "display_data"
    },
    {
     "data": {
      "text/html": [
       "Syncing run <strong><a href=\"https://wandb.ai/geekyrakshit/paella/runs/2zy8px07\" target=\"_blank\">ancient-plasma-31</a></strong> to <a href=\"https://wandb.ai/geekyrakshit/paella\" target=\"_blank\">Weights & Biases</a> (<a href=\"https://wandb.me/run\" target=\"_blank\">docs</a>)<br/>"
      ],
      "text/plain": [
       "<IPython.core.display.HTML object>"
      ]
     },
     "metadata": {},
     "output_type": "display_data"
    }
   ],
   "source": [
    "wandb.init(project=\"paella\", entity=\"geekyrakshit\", job_type=\"latent-interpolation\")\n",
    "\n",
    "\n",
    "config = wandb.config\n",
    "config.text_model_artifact = \"geekyrakshit/paella/text-model:v0\"\n",
    "config.image_model_artifact = \"geekyrakshit/paella/fine-tuned-image-model:v0\"\n",
    "config.seed = 42\n",
    "config.prompt_1 = \"High quality front portrait photo of a tiger.\"\n",
    "config.prompt_2 = \"High quality front portrait photo of a dog.\"\n",
    "config.interpolation_mode = \"lerp\" # [\"lerp\", \"spherical-lerp\"]\n",
    "# config.interpolation_mode = \"spherical-lerp\" # [\"lerp\", \"spherical-lerp\"]\n",
    "config.num_images = 10\n",
    "\n",
    "# Seed Everything\n",
    "torch.manual_seed(config.seed)\n",
    "torch.random.manual_seed(config.seed)\n",
    "torch.cuda.manual_seed(config.seed)\n",
    "torch.backends.cudnn.deterministic = True\n",
    "torch.backends.cudnn.benchmark = True"
   ]
  },
  {
   "cell_type": "code",
   "execution_count": 3,
   "id": "61548bce-9af0-4141-84bd-23c9b522fb44",
   "metadata": {},
   "outputs": [
    {
     "name": "stderr",
     "output_type": "stream",
     "text": [
      "\u001b[34m\u001b[1mwandb\u001b[0m: Downloading large artifact text-model:v0, 2205.13MB. 1 files... \n",
      "\u001b[34m\u001b[1mwandb\u001b[0m:   1 of 1 files downloaded.  \n",
      "Done. 0:0:0.1\n",
      "\u001b[34m\u001b[1mwandb\u001b[0m: Downloading large artifact fine-tuned-image-model:v0, 2205.13MB. 1 files... \n",
      "\u001b[34m\u001b[1mwandb\u001b[0m:   1 of 1 files downloaded.  \n",
      "Done. 0:0:0.1\n"
     ]
    }
   ],
   "source": [
    "text_model_path = os.path.join(wandb.use_artifact(\n",
    "    config.text_model_artifact, type='model'\n",
    ").download(), \"model_600000.pt\")\n",
    "image_model_path = os.path.join(wandb.use_artifact(\n",
    "    config.image_model_artifact, type='model'\n",
    ").download(), \"model_50000_img.pt\")"
   ]
  },
  {
   "cell_type": "code",
   "execution_count": 4,
   "id": "7b03d40b-65b6-4939-95ef-4bf2ce3b0133",
   "metadata": {},
   "outputs": [
    {
     "name": "stdout",
     "output_type": "stream",
     "text": [
      "Using device: cuda:0\n"
     ]
    }
   ],
   "source": [
    "device = torch.device(\"cuda:0\" if torch.cuda.is_available() else \"cpu\")\n",
    "print(\"Using device:\", device)"
   ]
  },
  {
   "cell_type": "code",
   "execution_count": 5,
   "id": "9ffdcff9-c5a4-4158-a1ba-52beff090801",
   "metadata": {},
   "outputs": [],
   "source": [
    "def log_interpolation_results(images):\n",
    "    images = [wandb.Image(image) for image in (images.cpu().numpy() * 255.0).astype(np.uint8)]\n",
    "    table = wandb.Table(columns=[\"Seed\", \"Prompt-1\", \"Prompt-2\", \"Interpolation-Mode\", \"Interpolated-Images\"])\n",
    "    table.add_data(config.seed, config.prompt_1, config.prompt_2, config.interpolation_mode, images)\n",
    "    wandb.log({\"Latent-Interpolation-Results\": table})"
   ]
  },
  {
   "cell_type": "code",
   "execution_count": 6,
   "id": "7eb4b944-fbe6-431a-adf8-6ef3e72a4c82",
   "metadata": {},
   "outputs": [],
   "source": [
    "def log(t, eps=1e-20):\n",
    "    return torch.log(t + eps)\n",
    "\n",
    "def gumbel_noise(t):\n",
    "    noise = torch.zeros_like(t).uniform_(0, 1)\n",
    "    return -log(-log(noise))\n",
    "\n",
    "def gumbel_sample(t, temperature=1., dim=-1):\n",
    "    return ((t / max(temperature, 1e-10)) + gumbel_noise(t)).argmax(dim=dim)\n",
    "\n",
    "def sample(\n",
    "    model, c, x=None, mask=None, T=12, size=(32, 32),\n",
    "    starting_t=0, temp_range=[1.0, 1.0], typical_filtering=True,\n",
    "    typical_mass=0.2, typical_min_tokens=1, classifier_free_scale=-1,\n",
    "    renoise_steps=11, renoise_mode='start'\n",
    "):\n",
    "    with torch.inference_mode():\n",
    "        r_range = torch.linspace(0, 1, T+1)[:-1][:, None].expand(-1, c.size(0)).to(c.device)\n",
    "        temperatures = torch.linspace(temp_range[0], temp_range[1], T)\n",
    "        preds = []\n",
    "        if x is None:\n",
    "            x = torch.randint(0, model.num_labels, size=(c.size(0), *size), device=c.device)\n",
    "        elif mask is not None:\n",
    "            noise = torch.randint(0, model.num_labels, size=(c.size(0), *size), device=c.device)\n",
    "            x = noise * mask + (1-mask) * x\n",
    "        init_x = x.clone()\n",
    "        for i in range(starting_t, T):\n",
    "            if renoise_mode == 'prev':\n",
    "                prev_x = x.clone()\n",
    "            r, temp = r_range[i], temperatures[i]\n",
    "            logits = model(x, c, r)\n",
    "            if classifier_free_scale >= 0:\n",
    "                logits_uncond = model(x, torch.zeros_like(c), r)\n",
    "                logits = torch.lerp(logits_uncond, logits, classifier_free_scale)\n",
    "            x = logits\n",
    "            x_flat = x.permute(0, 2, 3, 1).reshape(-1, x.size(1))\n",
    "            if typical_filtering:\n",
    "                x_flat_norm = torch.nn.functional.log_softmax(x_flat, dim=-1)\n",
    "                x_flat_norm_p = torch.exp(x_flat_norm)\n",
    "                entropy = -(x_flat_norm * x_flat_norm_p).nansum(-1, keepdim=True)\n",
    "\n",
    "                c_flat_shifted = torch.abs((-x_flat_norm) - entropy)\n",
    "                c_flat_sorted, x_flat_indices = torch.sort(c_flat_shifted, descending=False)\n",
    "                x_flat_cumsum = x_flat.gather(-1, x_flat_indices).softmax(dim=-1).cumsum(dim=-1)\n",
    "\n",
    "                last_ind = (x_flat_cumsum < typical_mass).sum(dim=-1)\n",
    "                sorted_indices_to_remove = c_flat_sorted > c_flat_sorted.gather(1, last_ind.view(-1, 1))\n",
    "                if typical_min_tokens > 1:\n",
    "                    sorted_indices_to_remove[..., :typical_min_tokens] = 0\n",
    "                indices_to_remove = sorted_indices_to_remove.scatter(1, x_flat_indices, sorted_indices_to_remove)\n",
    "                x_flat = x_flat.masked_fill(indices_to_remove, -float(\"Inf\"))\n",
    "            # x_flat = torch.multinomial(x_flat.div(temp).softmax(-1), num_samples=1)[:, 0]\n",
    "            x_flat = gumbel_sample(x_flat, temperature=temp)\n",
    "            x = x_flat.view(x.size(0), *x.shape[2:])\n",
    "            if mask is not None:\n",
    "                x = x * mask + (1-mask) * init_x\n",
    "            if i < renoise_steps:\n",
    "                if renoise_mode == 'start':\n",
    "                    x, _ = model.add_noise(x, r_range[i+1], random_x=init_x)\n",
    "                elif renoise_mode == 'prev':\n",
    "                    x, _ = model.add_noise(x, r_range[i+1], random_x=prev_x)\n",
    "                else: # 'rand'\n",
    "                    x, _ = model.add_noise(x, r_range[i+1])\n",
    "            preds.append(x.detach())\n",
    "    return preds"
   ]
  },
  {
   "cell_type": "code",
   "execution_count": 7,
   "id": "eeaf0fdd-95fb-4154-91bb-806f9aed6c5a",
   "metadata": {},
   "outputs": [
    {
     "name": "stdout",
     "output_type": "stream",
     "text": [
      "Working with z of shape (1, 256, 32, 32) = 262144 dimensions.\n"
     ]
    },
    {
     "name": "stderr",
     "output_type": "stream",
     "text": [
      "/opt/conda/lib/python3.7/site-packages/huggingface_hub/file_download.py:595: FutureWarning: `cached_download` is the legacy way to download files from the HF hub, please consider upgrading to `hf_hub_download`\n",
      "  FutureWarning,\n"
     ]
    },
    {
     "name": "stdout",
     "output_type": "stream",
     "text": [
      "vae --> ready\n",
      "\n"
     ]
    }
   ],
   "source": [
    "vqmodel = get_vae().to(device)\n",
    "vqmodel.eval().requires_grad_(False)\n",
    "\n",
    "clip_model, _, _ = open_clip.create_model_and_transforms('ViT-g-14', pretrained='laion2b_s12b_b42k')\n",
    "clip_model = clip_model.to(device).eval().requires_grad_(False)\n",
    "\n",
    "\n",
    "def encode(x):\n",
    "    return vqmodel.model.encode((2 * x - 1))[-1][-1]\n",
    "    \n",
    "def decode(img_seq, shape=(32,32)):\n",
    "        img_seq = img_seq.view(img_seq.shape[0], -1)\n",
    "        b, n = img_seq.shape\n",
    "        one_hot_indices = torch.nn.functional.one_hot(img_seq, num_classes=vqmodel.num_tokens).float()\n",
    "        z = (one_hot_indices @ vqmodel.model.quantize.embed.weight)\n",
    "        z = rearrange(z, 'b (h w) c -> b c h w', h=shape[0], w=shape[1])\n",
    "        img = vqmodel.model.decode(z)\n",
    "        img = (img.clamp(-1., 1.) + 1) * 0.5\n",
    "        return img\n",
    "    \n",
    "state_dict = torch.load(text_model_path, map_location=device)\n",
    "model = DenoiseUNet(num_labels=8192).to(device)\n",
    "model.load_state_dict(state_dict)\n",
    "model.eval().requires_grad_()\n",
    "print()"
   ]
  },
  {
   "cell_type": "code",
   "execution_count": 8,
   "id": "00b740f5-0b4e-465a-bf90-a5b5860cc785",
   "metadata": {},
   "outputs": [
    {
     "data": {
      "application/vnd.jupyter.widget-view+json": {
       "model_id": "7e852bf303454a279a6a710fd0be2a93",
       "version_major": 2,
       "version_minor": 0
      },
      "text/plain": [
       "  0%|          | 0/10 [00:00<?, ?it/s]"
      ]
     },
     "metadata": {},
     "output_type": "display_data"
    }
   ],
   "source": [
    "encoded_prompt_1 = tokenizer.tokenize([config.prompt_1]).to(device)\n",
    "encoded_prompt_2 = tokenizer.tokenize([config.prompt_2]).to(device)\n",
    "\n",
    "if config.interpolation_mode == \"lerp\":\n",
    "    with torch.inference_mode():\n",
    "        with torch.autocast(device_type=\"cuda\"):\n",
    "            clip_embeddings_1 = clip_model.encode_text(encoded_prompt_1).float()\n",
    "            clip_embeddings_2 = clip_model.encode_text(encoded_prompt_2).float()\n",
    "            l = torch.linspace(0, 1, config.num_images).to(device)\n",
    "            embeddings = []\n",
    "            for i in tqdm(l):\n",
    "                lerp = torch.lerp(clip_embeddings_1, clip_embeddings_2, i)\n",
    "                embeddings.append(lerp)\n",
    "            embeddings = torch.cat(embeddings)\n",
    "            s = time.time()\n",
    "            sampled = sample(\n",
    "                model, embeddings, T=12, size=(32, 32), starting_t=0, temp_range=[1.0, 1.0],\n",
    "                typical_filtering=True, typical_mass=0.2, typical_min_tokens=1,\n",
    "                classifier_free_scale=4, renoise_steps=11\n",
    "            )\n",
    "            wandb.log({\"Interpolation-Time\": time.time() - s})\n",
    "        sampled = decode(sampled[-1]).permute(0, 2, 3, 1)\n",
    "elif config.interpolation_mode == \"spherical-lerp\":\n",
    "    with torch.inference_mode():\n",
    "        with torch.autocast(device_type=\"cuda\"):\n",
    "            clip_embeddings_1 = clip_model.encode_text(encoded_prompt_1).float()\n",
    "            clip_embeddings_2 = clip_model.encode_text(encoded_prompt_2).float()\n",
    "            l = torch.linspace(0, 1, config.num_images).to(device)\n",
    "            s = time.time()\n",
    "            outputs = []\n",
    "            for i in tqdm(l):\n",
    "                low, high = clip_embeddings_1, clip_embeddings_2\n",
    "                low_norm = low/torch.norm(low, dim=1, keepdim=True)\n",
    "                high_norm = high/torch.norm(high, dim=1, keepdim=True)\n",
    "                omega = torch.acos((low_norm * high_norm).sum(1)).unsqueeze(1)\n",
    "                so = torch.sin(omega)\n",
    "                lerp = (torch.sin((1.0 - i) * omega) / so) * low + (torch.sin(i * omega) / so) * high\n",
    "                with torch.random.fork_rng():\n",
    "                    torch.random.manual_seed(config.seed)\n",
    "                    sampled = sample(\n",
    "                        model, lerp, T=12, size=(32, 32), starting_t=0, temp_range=[1.0, 1.0],\n",
    "                        typical_filtering=True, typical_mass=0.2, typical_min_tokens=1,\n",
    "                        classifier_free_scale=5, renoise_steps=11\n",
    "                    )\n",
    "                    outputs.append(sampled[-1])\n",
    "            wandb.log({\"Interpolation-Time\": time.time() - s})\n",
    "        sampled = torch.cat(outputs)\n",
    "        sampled = decode(sampled).permute(0, 2, 3, 1)"
   ]
  },
  {
   "cell_type": "code",
   "execution_count": 9,
   "id": "de5f608e-f9c2-419b-b9d1-3a1722d055be",
   "metadata": {},
   "outputs": [
    {
     "data": {
      "text/html": [
       "Waiting for W&B process to finish... <strong style=\"color:green\">(success).</strong>"
      ],
      "text/plain": [
       "<IPython.core.display.HTML object>"
      ]
     },
     "metadata": {},
     "output_type": "display_data"
    },
    {
     "data": {
      "application/vnd.jupyter.widget-view+json": {
       "model_id": "71a7b16c7f73422bb65a6774272584b8",
       "version_major": 2,
       "version_minor": 0
      },
      "text/plain": [
       "VBox(children=(Label(value='1.039 MB of 1.039 MB uploaded (0.000 MB deduped)\\r'), FloatProgress(value=0.999721…"
      ]
     },
     "metadata": {},
     "output_type": "display_data"
    },
    {
     "data": {
      "text/html": [
       "<style>\n",
       "    table.wandb td:nth-child(1) { padding: 0 10px; text-align: left ; width: auto;} td:nth-child(2) {text-align: left ; width: 100%}\n",
       "    .wandb-row { display: flex; flex-direction: row; flex-wrap: wrap; justify-content: flex-start; width: 100% }\n",
       "    .wandb-col { display: flex; flex-direction: column; flex-basis: 100%; flex: 1; padding: 10px; }\n",
       "    </style>\n",
       "<div class=\"wandb-row\"><div class=\"wandb-col\"><h3>Run history:</h3><br/><table class=\"wandb\"><tr><td>Interpolation-Time</td><td>▁</td></tr></table><br/></div><div class=\"wandb-col\"><h3>Run summary:</h3><br/><table class=\"wandb\"><tr><td>Interpolation-Time</td><td>2.55802</td></tr></table><br/></div></div>"
      ],
      "text/plain": [
       "<IPython.core.display.HTML object>"
      ]
     },
     "metadata": {},
     "output_type": "display_data"
    },
    {
     "data": {
      "text/html": [
       "Synced <strong style=\"color:#cdcd00\">ancient-plasma-31</strong>: <a href=\"https://wandb.ai/geekyrakshit/paella/runs/2zy8px07\" target=\"_blank\">https://wandb.ai/geekyrakshit/paella/runs/2zy8px07</a><br/>Synced 6 W&B file(s), 1 media file(s), 11 artifact file(s) and 0 other file(s)"
      ],
      "text/plain": [
       "<IPython.core.display.HTML object>"
      ]
     },
     "metadata": {},
     "output_type": "display_data"
    },
    {
     "data": {
      "text/html": [
       "Find logs at: <code>./wandb/run-20221117_200201-2zy8px07/logs</code>"
      ],
      "text/plain": [
       "<IPython.core.display.HTML object>"
      ]
     },
     "metadata": {},
     "output_type": "display_data"
    }
   ],
   "source": [
    "log_interpolation_results(sampled)\n",
    "wandb.finish()"
   ]
  },
  {
   "cell_type": "code",
   "execution_count": null,
   "id": "ffa7516b-bd77-41a3-b9d3-95b110f57106",
   "metadata": {},
   "outputs": [],
   "source": []
  }
 ],
 "metadata": {
  "environment": {
   "kernel": "python3",
   "name": "pytorch-gpu.1-12.m100",
   "type": "gcloud",
   "uri": "gcr.io/deeplearning-platform-release/pytorch-gpu.1-12:m100"
  },
  "kernelspec": {
   "display_name": "Python 3",
   "language": "python",
   "name": "python3"
  },
  "language_info": {
   "codemirror_mode": {
    "name": "ipython",
    "version": 3
   },
   "file_extension": ".py",
   "mimetype": "text/x-python",
   "name": "python",
   "nbconvert_exporter": "python",
   "pygments_lexer": "ipython3",
   "version": "3.7.12"
  }
 },
 "nbformat": 4,
 "nbformat_minor": 5
}
