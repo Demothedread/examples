{
 "cells": [
  {
   "cell_type": "code",
   "execution_count": 1,
   "id": "25439e07-57df-4b4a-a095-f02fd5b82a31",
   "metadata": {},
   "outputs": [],
   "source": [
    "import os\n",
    "import time\n",
    "import wandb\n",
    "import requests\n",
    "import numpy as np\n",
    "from PIL import Image\n",
    "from io import BytesIO\n",
    "from tqdm.notebook import tqdm\n",
    "import matplotlib.pyplot as plt\n",
    "\n",
    "import torch\n",
    "from torch import nn\n",
    "import torchvision\n",
    "\n",
    "import open_clip\n",
    "from rudalle import get_vae\n",
    "from einops import rearrange\n",
    "from open_clip import tokenizer\n",
    "\n",
    "from Paella.modules import DenoiseUNet"
   ]
  },
  {
   "cell_type": "code",
   "execution_count": 2,
   "id": "e9f71025-a469-415e-ad7e-656080e8ef08",
   "metadata": {},
   "outputs": [
    {
     "name": "stderr",
     "output_type": "stream",
     "text": [
      "\u001b[34m\u001b[1mwandb\u001b[0m: Currently logged in as: \u001b[33mgeekyrakshit\u001b[0m. Use \u001b[1m`wandb login --relogin`\u001b[0m to force relogin\n"
     ]
    },
    {
     "data": {
      "text/html": [
       "Tracking run with wandb version 0.13.5"
      ],
      "text/plain": [
       "<IPython.core.display.HTML object>"
      ]
     },
     "metadata": {},
     "output_type": "display_data"
    },
    {
     "data": {
      "text/html": [
       "Run data is saved locally in <code>/home/jupyter/examples/colabs/paella/wandb/run-20221118_130838-9zri5gyi</code>"
      ],
      "text/plain": [
       "<IPython.core.display.HTML object>"
      ]
     },
     "metadata": {},
     "output_type": "display_data"
    },
    {
     "data": {
      "text/html": [
       "Syncing run <strong><a href=\"https://wandb.ai/geekyrakshit/paella/runs/9zri5gyi\" target=\"_blank\">happy-grass-54</a></strong> to <a href=\"https://wandb.ai/geekyrakshit/paella\" target=\"_blank\">Weights & Biases</a> (<a href=\"https://wandb.me/run\" target=\"_blank\">docs</a>)<br/>"
      ],
      "text/plain": [
       "<IPython.core.display.HTML object>"
      ]
     },
     "metadata": {},
     "output_type": "display_data"
    },
    {
     "name": "stderr",
     "output_type": "stream",
     "text": [
      "\u001b[34m\u001b[1mwandb\u001b[0m: Downloading large artifact text-model:v0, 2205.13MB. 1 files... \n",
      "\u001b[34m\u001b[1mwandb\u001b[0m:   1 of 1 files downloaded.  \n",
      "Done. 0:0:0.1\n"
     ]
    }
   ],
   "source": [
    "wandb.init(project=\"paella\", entity=\"geekyrakshit\", job_type=\"outpainting\")\n",
    "\n",
    "\n",
    "config = wandb.config\n",
    "config.model_artifact = \"geekyrakshit/paella/text-model:v0\"\n",
    "config.seed = 42\n",
    "config.batch_size = 3\n",
    "config.latent_shape = (32, 32)\n",
    "config.image_url = \"https://media.istockphoto.com/id/1193591781/photo/obedient-dog-breed-welsh-corgi-pembroke-sitting-and-smiles-on-a-white-background-not-isolate.jpg?s=612x612&w=0&k=20&c=ZDKTgSFQFG9QvuDziGsnt55kvQoqJtIhrmVRkpYqxtQ=\"\n",
    "config.prompt = \"black & white photograph of a rocket from the bottom.\"\n",
    "config.target_size = 256\n",
    "config.batch_size = 5\n",
    "config.canvas_size = (40, 64)\n",
    "config.top_left = (0, 16)\n",
    "\n",
    "# Seed Everything\n",
    "torch.manual_seed(config.seed)\n",
    "torch.random.manual_seed(config.seed)\n",
    "torch.cuda.manual_seed(config.seed)\n",
    "torch.backends.cudnn.deterministic = True\n",
    "torch.backends.cudnn.benchmark = True\n",
    "\n",
    "# Download Model from Weights & Biases Artifacts\n",
    "text_model_path = os.path.join(wandb.use_artifact(config.model_artifact, type='model').download(), \"model_600000.pt\")"
   ]
  },
  {
   "cell_type": "code",
   "execution_count": 3,
   "id": "a38d18fc-075f-4a05-9a66-97c8a9ae9d93",
   "metadata": {},
   "outputs": [
    {
     "name": "stdout",
     "output_type": "stream",
     "text": [
      "Using device: cuda:0\n"
     ]
    }
   ],
   "source": [
    "device = torch.device(\"cuda:0\" if torch.cuda.is_available() else \"cpu\")\n",
    "print(\"Using device:\", device)"
   ]
  },
  {
   "cell_type": "code",
   "execution_count": 4,
   "id": "2c956e5b-df8b-4d4d-93d6-fbbd23523241",
   "metadata": {},
   "outputs": [],
   "source": [
    "def log_inoutpainting_results(input_image, generated_images, encoded_tokens, mask):\n",
    "    generated_images = [\n",
    "        wandb.Image(image)\n",
    "        for image in (generated_images.cpu().numpy() * 255.0).astype(np.uint8)\n",
    "    ]\n",
    "    encoded_tokens = [wandb.Image(\n",
    "        token,\n",
    "        masks={\n",
    "            \"mask\": {\n",
    "                \"mask_data\": mask,\n",
    "                \"class_labels\": {\n",
    "                    0: \"non-masked\",\n",
    "                    1: \"region-of-interest\"\n",
    "                }\n",
    "            }\n",
    "        }\n",
    "    ) for token in encoded_tokens]\n",
    "    table = wandb.Table(\n",
    "        columns=[\"Seed\", \"URL\", \"Input-Image\", \"Prompt\", \"Job-Type\", \"Encoded-Tokens\", \"Generated-Image\"]\n",
    "    )\n",
    "    table.add_data(\n",
    "        config.seed,\n",
    "        config.image_url,\n",
    "        wandb.Image(input_image),\n",
    "        config.prompt,\n",
    "        wandb.run.job_type,\n",
    "        encoded_tokens,\n",
    "        generated_images\n",
    "    )\n",
    "    wandb.log({\"Inpainting-Outpainting-Results\": table})"
   ]
  },
  {
   "cell_type": "code",
   "execution_count": 5,
   "id": "871f433c-5c86-472d-8313-cfa74eec7a0f",
   "metadata": {},
   "outputs": [],
   "source": [
    "def log(t, eps=1e-20):\n",
    "    return torch.log(t + eps)\n",
    "\n",
    "def gumbel_noise(t):\n",
    "    noise = torch.zeros_like(t).uniform_(0, 1)\n",
    "    return -log(-log(noise))\n",
    "\n",
    "def gumbel_sample(t, temperature=1., dim=-1):\n",
    "    return ((t / max(temperature, 1e-10)) + gumbel_noise(t)).argmax(dim=dim)\n",
    "\n",
    "def sample(\n",
    "    model, c, x=None, mask=None, T=12, size=(32, 32),\n",
    "    starting_t=0, temp_range=[1.0, 1.0], typical_filtering=True,\n",
    "    typical_mass=0.2, typical_min_tokens=1, classifier_free_scale=-1,\n",
    "    renoise_steps=11, renoise_mode='start'\n",
    "):\n",
    "    with torch.inference_mode():\n",
    "        r_range = torch.linspace(0, 1, T+1)[:-1][:, None].expand(-1, c.size(0)).to(c.device)\n",
    "        temperatures = torch.linspace(temp_range[0], temp_range[1], T)\n",
    "        preds = []\n",
    "        if x is None:\n",
    "            x = torch.randint(0, model.num_labels, size=(c.size(0), *size), device=c.device)\n",
    "        elif mask is not None:\n",
    "            noise = torch.randint(0, model.num_labels, size=(c.size(0), *size), device=c.device)\n",
    "            x = noise * mask + (1-mask) * x\n",
    "        init_x = x.clone()\n",
    "        for i in range(starting_t, T):\n",
    "            if renoise_mode == 'prev':\n",
    "                prev_x = x.clone()\n",
    "            r, temp = r_range[i], temperatures[i]\n",
    "            logits = model(x, c, r)\n",
    "            if classifier_free_scale >= 0:\n",
    "                logits_uncond = model(x, torch.zeros_like(c), r)\n",
    "                logits = torch.lerp(logits_uncond, logits, classifier_free_scale)\n",
    "            x = logits\n",
    "            x_flat = x.permute(0, 2, 3, 1).reshape(-1, x.size(1))\n",
    "            if typical_filtering:\n",
    "                x_flat_norm = torch.nn.functional.log_softmax(x_flat, dim=-1)\n",
    "                x_flat_norm_p = torch.exp(x_flat_norm)\n",
    "                entropy = -(x_flat_norm * x_flat_norm_p).nansum(-1, keepdim=True)\n",
    "\n",
    "                c_flat_shifted = torch.abs((-x_flat_norm) - entropy)\n",
    "                c_flat_sorted, x_flat_indices = torch.sort(c_flat_shifted, descending=False)\n",
    "                x_flat_cumsum = x_flat.gather(-1, x_flat_indices).softmax(dim=-1).cumsum(dim=-1)\n",
    "\n",
    "                last_ind = (x_flat_cumsum < typical_mass).sum(dim=-1)\n",
    "                sorted_indices_to_remove = c_flat_sorted > c_flat_sorted.gather(1, last_ind.view(-1, 1))\n",
    "                if typical_min_tokens > 1:\n",
    "                    sorted_indices_to_remove[..., :typical_min_tokens] = 0\n",
    "                indices_to_remove = sorted_indices_to_remove.scatter(1, x_flat_indices, sorted_indices_to_remove)\n",
    "                x_flat = x_flat.masked_fill(indices_to_remove, -float(\"Inf\"))\n",
    "            x_flat = gumbel_sample(x_flat, temperature=temp)\n",
    "            x = x_flat.view(x.size(0), *x.shape[2:])\n",
    "            if mask is not None:\n",
    "                x = x * mask + (1-mask) * init_x\n",
    "            if i < renoise_steps:\n",
    "                if renoise_mode == 'start':\n",
    "                    x, _ = model.add_noise(x, r_range[i+1], random_x=init_x)\n",
    "                elif renoise_mode == 'prev':\n",
    "                    x, _ = model.add_noise(x, r_range[i+1], random_x=prev_x)\n",
    "                else: # 'rand'\n",
    "                    x, _ = model.add_noise(x, r_range[i+1])\n",
    "            preds.append(x.detach())\n",
    "    return preds"
   ]
  },
  {
   "cell_type": "code",
   "execution_count": 6,
   "id": "536ad909-0764-44d1-bf79-b8e905a760b0",
   "metadata": {},
   "outputs": [
    {
     "name": "stdout",
     "output_type": "stream",
     "text": [
      "Working with z of shape (1, 256, 32, 32) = 262144 dimensions.\n"
     ]
    },
    {
     "name": "stderr",
     "output_type": "stream",
     "text": [
      "/opt/conda/lib/python3.7/site-packages/huggingface_hub/file_download.py:595: FutureWarning: `cached_download` is the legacy way to download files from the HF hub, please consider upgrading to `hf_hub_download`\n",
      "  FutureWarning,\n"
     ]
    },
    {
     "name": "stdout",
     "output_type": "stream",
     "text": [
      "vae --> ready\n",
      "\n"
     ]
    }
   ],
   "source": [
    "vqmodel = get_vae().to(device)\n",
    "vqmodel.eval().requires_grad_(False)\n",
    "\n",
    "clip_model, _, _ = open_clip.create_model_and_transforms('ViT-g-14', pretrained='laion2b_s12b_b42k')\n",
    "clip_model = clip_model.to(device).eval().requires_grad_(False)\n",
    "\n",
    "\n",
    "def encode(x):\n",
    "    return vqmodel.model.encode((2 * x - 1))[-1][-1]\n",
    "    \n",
    "def decode(img_seq, shape=(32,32)):\n",
    "        img_seq = img_seq.view(img_seq.shape[0], -1)\n",
    "        b, n = img_seq.shape\n",
    "        one_hot_indices = torch.nn.functional.one_hot(img_seq, num_classes=vqmodel.num_tokens).float()\n",
    "        z = (one_hot_indices @ vqmodel.model.quantize.embed.weight)\n",
    "        z = rearrange(z, 'b (h w) c -> b c h w', h=shape[0], w=shape[1])\n",
    "        img = vqmodel.model.decode(z)\n",
    "        img = (img.clamp(-1., 1.) + 1) * 0.5\n",
    "        return img\n",
    "    \n",
    "state_dict = torch.load(text_model_path, map_location=device)\n",
    "model = DenoiseUNet(num_labels=8192).to(device)\n",
    "model.load_state_dict(state_dict)\n",
    "model.eval().requires_grad_()\n",
    "print()"
   ]
  },
  {
   "cell_type": "code",
   "execution_count": 7,
   "id": "edf4cc02-c1bf-4b6b-aeef-8c121322bd9f",
   "metadata": {},
   "outputs": [],
   "source": [
    "response = requests.get(config.image_url)\n",
    "original_image = Image.open(BytesIO(response.content)).convert(\"RGB\")\n",
    "\n",
    "preprocess = torchvision.transforms.Compose([\n",
    "    torchvision.transforms.Resize(config.target_size),\n",
    "    torchvision.transforms.ToTensor(),\n",
    "])\n",
    "\n",
    "images = preprocess(original_image).unsqueeze(0).expand(config.batch_size, -1, -1, -1).to(device)[:, :3]"
   ]
  },
  {
   "cell_type": "code",
   "execution_count": 10,
   "id": "07446a5c-ac79-46cd-898b-fb29048d30a7",
   "metadata": {},
   "outputs": [],
   "source": [
    "tokenized_text_and_image = tokenizer.tokenize([config.prompt] * images.shape[0]).to(device)\n",
    "with torch.inference_mode():\n",
    "    with torch.autocast(device_type=\"cuda\"):\n",
    "        clip_embeddings = clip_model.encode_text(tokenized_text_and_image).float()\n",
    "        encoded_tokens = encode(images)\n",
    "        canvas = torch.zeros((images.shape[0], *config.canvas_size), dtype=torch.long).to(device)\n",
    "        canvas[\n",
    "            :,\n",
    "            config.top_left[0]: config.top_left[0] + encoded_tokens.shape[1],\n",
    "            config.top_left[1]: config.top_left[1] + encoded_tokens.shape[2]\n",
    "        ] = encoded_tokens\n",
    "        mask = torch.ones_like(canvas)\n",
    "        mask[\n",
    "            :,\n",
    "            config.top_left[0]: config.top_left[0] + encoded_tokens.shape[1],\n",
    "            config.top_left[1]: config.top_left[1] + encoded_tokens.shape[2]\n",
    "        ] = 0\n",
    "        s = time.time()\n",
    "        sampled = sample(\n",
    "            model, clip_embeddings, x=canvas, mask=mask, T=12,\n",
    "            size=config.canvas_size, starting_t=0, temp_range=[1.0, 1.0],\n",
    "            typical_filtering=True, typical_mass=0.2, typical_min_tokens=1,\n",
    "            classifier_free_scale=4, renoise_steps=11\n",
    "        )\n",
    "        wandb.log({\"Sampling-Time\": time.time() - s})\n",
    "    sampled = decode(sampled[-1], config.canvas_size).permute(0, 2, 3, 1)\n",
    "    mask = mask[0:1].cpu().numpy()[0]\n",
    "    encoded_tokens = encoded_tokens.cpu().numpy()"
   ]
  },
  {
   "cell_type": "code",
   "execution_count": 11,
   "id": "de73e4a4-8e9e-41de-9138-be7b3209db18",
   "metadata": {},
   "outputs": [
    {
     "data": {
      "text/html": [
       "Waiting for W&B process to finish... <strong style=\"color:green\">(success).</strong>"
      ],
      "text/plain": [
       "<IPython.core.display.HTML object>"
      ]
     },
     "metadata": {},
     "output_type": "display_data"
    },
    {
     "data": {
      "application/vnd.jupyter.widget-view+json": {
       "model_id": "7fe93972212b47048517c9b1c6f730fa",
       "version_major": 2,
       "version_minor": 0
      },
      "text/plain": [
       "VBox(children=(Label(value='0.866 MB of 0.866 MB uploaded (0.000 MB deduped)\\r'), FloatProgress(value=1.0, max…"
      ]
     },
     "metadata": {},
     "output_type": "display_data"
    },
    {
     "data": {
      "text/html": [
       "Synced <strong style=\"color:#cdcd00\">happy-grass-54</strong>: <a href=\"https://wandb.ai/geekyrakshit/paella/runs/9zri5gyi\" target=\"_blank\">https://wandb.ai/geekyrakshit/paella/runs/9zri5gyi</a><br/>Synced 6 W&B file(s), 1 media file(s), 14 artifact file(s) and 0 other file(s)"
      ],
      "text/plain": [
       "<IPython.core.display.HTML object>"
      ]
     },
     "metadata": {},
     "output_type": "display_data"
    },
    {
     "data": {
      "text/html": [
       "Find logs at: <code>./wandb/run-20221118_130838-9zri5gyi/logs</code>"
      ],
      "text/plain": [
       "<IPython.core.display.HTML object>"
      ]
     },
     "metadata": {},
     "output_type": "display_data"
    }
   ],
   "source": [
    "log_inoutpainting_results(original_image, sampled, encoded_tokens, mask)\n",
    "wandb.finish()"
   ]
  },
  {
   "cell_type": "code",
   "execution_count": null,
   "id": "cecd9119-ad2f-4968-9395-e89626fbb032",
   "metadata": {},
   "outputs": [],
   "source": []
  }
 ],
 "metadata": {
  "environment": {
   "kernel": "python3",
   "name": "pytorch-gpu.1-12.m100",
   "type": "gcloud",
   "uri": "gcr.io/deeplearning-platform-release/pytorch-gpu.1-12:m100"
  },
  "kernelspec": {
   "display_name": "Python 3",
   "language": "python",
   "name": "python3"
  },
  "language_info": {
   "codemirror_mode": {
    "name": "ipython",
    "version": 3
   },
   "file_extension": ".py",
   "mimetype": "text/x-python",
   "name": "python",
   "nbconvert_exporter": "python",
   "pygments_lexer": "ipython3",
   "version": "3.7.12"
  }
 },
 "nbformat": 4,
 "nbformat_minor": 5
}
