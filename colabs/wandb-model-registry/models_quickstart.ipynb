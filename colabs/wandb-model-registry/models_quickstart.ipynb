{
  "nbformat": 4,
  "nbformat_minor": 0,
  "metadata": {
    "colab": {
      "private_outputs": true,
      "provenance": []
    },
    "kernelspec": {
      "name": "python3",
      "display_name": "Python 3"
    },
    "language_info": {
      "name": "python"
    }
  },
  "cells": [
    {
      "cell_type": "markdown",
      "source": [
        "# W&B Models Quickstart\n",
        "\n",
        "Quickly see the mechanics for logging and linking a model to the Weights & Biases model registry:\n",
        "1. `run = wandb.init()`: Start a run to track training\n",
        "2. `run.log_artifact()`: Track your trained model weights as an artifact\n",
        "3. `run.link_artifact()`: Save that model, and link it to the registry\n"
      ],
      "metadata": {
        "id": "Kag3OlSZorC0"
      }
    },
    {
      "cell_type": "code",
      "execution_count": null,
      "metadata": {
        "id": "ZWVm6iQymQZ9"
      },
      "outputs": [],
      "source": [
        "!pip install wandb -qqq"
      ]
    },
    {
      "cell_type": "code",
      "source": [
        "import wandb\n",
        "import random\n",
        "\n",
        "# Start a new W&B run\n",
        "with wandb.init(project=\"models_quickstart\") as run:\n",
        "\n",
        "  # Simulate logging model metrics\n",
        "  run.log({\"acc\": random.random()})\n",
        "\n",
        "  # Create a simulated model file\n",
        "  with open(\"my_model.h5\", \"w\") as f: f.write(\"Model: \" + str(random.random()))\n",
        "\n",
        "  # Save the dummy model to W&B\n",
        "  best_model = wandb.Artifact(f\"model_{run.id}\", type='model')\n",
        "  best_model.add_file('my_model.h5')\n",
        "  run.log_artifact(best_model)\n",
        "\n",
        "  # Link the model to the Model Registry\n",
        "  run.link_artifact(best_model, 'model-registry/My Registered Model')\n",
        "\n",
        "  run.finish()"
      ],
      "metadata": {
        "id": "n3WbzTGcmTAX"
      },
      "execution_count": null,
      "outputs": []
    },
    {
      "cell_type": "markdown",
      "source": [
        "## How do you use Models in a real project?\n",
        "This example keeps it simple. We're not training a real model, just focusing on the model mechanics of `log_artifact()` and `link_artifact()`. \n",
        "\n",
        "In the real world, you don't want to link _every_ model version to the registry. Instead, use the model registry as a place to bookmark and organize your best models.\n",
        "\n",
        "Learn more in the [Models docs](https://docs.wandb.ai/guides/models)."
      ],
      "metadata": {
        "id": "-N8kWZiQpcwg"
      }
    }
  ]
}
