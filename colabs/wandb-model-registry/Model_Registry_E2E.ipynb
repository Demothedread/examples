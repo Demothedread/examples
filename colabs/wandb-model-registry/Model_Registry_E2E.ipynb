{
  "cells": [
    {
      "cell_type": "markdown",
      "metadata": {
        "id": "b11cdc8b"
      },
      "source": [
        "<a href=\"https://colab.research.google.com/github/wandb/examples/blob/master/colabs/wandb-model-registry/Model_Registry_E2E.ipynb\" target=\"_parent\"><img src=\"https://colab.research.google.com/assets/colab-badge.svg\" alt=\"Open In Colab\"/></a>\n",
        "<!--- @wandbcode{pytorch-lightning-colab} -->"
      ]
    },
    {
      "cell_type": "markdown",
      "metadata": {
        "id": "zpvc1aywAZb3"
      },
      "source": [
        "<img src=\"https://wandb.me/logo-im-png\" width=\"400\" alt=\"Weights & Biases\" />\n",
        "\n",
        "<!--- @wandbcode{pytorch-lightning-colab} -->\n",
        "\n",
        "## Model Registry Tutorial\n",
        "The model registry is a central place to house and organize all the model tasks and their associated artifacts being worked on across an org:\n",
        "- Model checkpoint management\n",
        "- Document your models with rich model cards\n",
        "- Maintain a history of all the models being used/deployed\n",
        "- Facilitate clean hand-offs and stage management of models\n",
        "- Tag and organize various model tasks\n",
        "- Set up automatic notifications when models progress\n",
        "\n",
        "This tutorial will walkthrough how to track the model development lifecycle for a simple image classification task. \n"
      ]
    },
    {
      "cell_type": "markdown",
      "metadata": {
        "id": "stprDNedAZb4"
      },
      "source": [
        "### 🛠️ Install `wandb`\n"
      ]
    },
    {
      "cell_type": "code",
      "execution_count": 2,
      "metadata": {
        "colab": {
          "base_uri": "https://localhost:8080/"
        },
        "id": "1MqWme-pAZb6",
        "outputId": "53590048-6921-4c2c-add8-6c7fd6bf2cac"
      },
      "outputs": [
        {
          "output_type": "stream",
          "name": "stdout",
          "text": [
            "\u001b[2K     \u001b[90m━━━━━━━━━━━━━━━━━━━━━━━━━━━━━━━━━━━━━━━━\u001b[0m \u001b[32m2.0/2.0 MB\u001b[0m \u001b[31m19.8 MB/s\u001b[0m eta \u001b[36m0:00:00\u001b[0m\n",
            "\u001b[2K     \u001b[90m━━━━━━━━━━━━━━━━━━━━━━━━━━━━━━━━━━━━━━━━\u001b[0m \u001b[32m14.6/14.6 MB\u001b[0m \u001b[31m69.5 MB/s\u001b[0m eta \u001b[36m0:00:00\u001b[0m\n",
            "\u001b[2K     \u001b[90m━━━━━━━━━━━━━━━━━━━━━━━━━━━━━━━━━━━━━━\u001b[0m \u001b[32m719.0/719.0 kB\u001b[0m \u001b[31m39.9 MB/s\u001b[0m eta \u001b[36m0:00:00\u001b[0m\n",
            "\u001b[?25h  Preparing metadata (setup.py) ... \u001b[?25l\u001b[?25hdone\n",
            "\u001b[2K     \u001b[90m━━━━━━━━━━━━━━━━━━━━━━━━━━━━━━━━━━━━━━\u001b[0m \u001b[32m203.3/203.3 kB\u001b[0m \u001b[31m10.3 MB/s\u001b[0m eta \u001b[36m0:00:00\u001b[0m\n",
            "\u001b[2K     \u001b[90m━━━━━━━━━━━━━━━━━━━━━━━━━━━━━━━━━━━━━━\u001b[0m \u001b[32m184.3/184.3 kB\u001b[0m \u001b[31m14.1 MB/s\u001b[0m eta \u001b[36m0:00:00\u001b[0m\n",
            "\u001b[2K     \u001b[90m━━━━━━━━━━━━━━━━━━━━━━━━━━━━━━━━━━━━━━\u001b[0m \u001b[32m519.2/519.2 kB\u001b[0m \u001b[31m24.9 MB/s\u001b[0m eta \u001b[36m0:00:00\u001b[0m\n",
            "\u001b[2K     \u001b[90m━━━━━━━━━━━━━━━━━━━━━━━━━━━━━━━━━━━━━━━━\u001b[0m \u001b[32m1.0/1.0 MB\u001b[0m \u001b[31m21.5 MB/s\u001b[0m eta \u001b[36m0:00:00\u001b[0m\n",
            "\u001b[2K     \u001b[90m━━━━━━━━━━━━━━━━━━━━━━━━━━━━━━━━━━━━━━━━\u001b[0m \u001b[32m62.7/62.7 kB\u001b[0m \u001b[31m4.8 MB/s\u001b[0m eta \u001b[36m0:00:00\u001b[0m\n",
            "\u001b[2K     \u001b[90m━━━━━━━━━━━━━━━━━━━━━━━━━━━━━━━━━━━━━━━\u001b[0m \u001b[32m149.6/149.6 kB\u001b[0m \u001b[31m8.0 MB/s\u001b[0m eta \u001b[36m0:00:00\u001b[0m\n",
            "\u001b[2K     \u001b[90m━━━━━━━━━━━━━━━━━━━━━━━━━━━━━━━━━━━━━━━\u001b[0m \u001b[32m114.5/114.5 kB\u001b[0m \u001b[31m4.0 MB/s\u001b[0m eta \u001b[36m0:00:00\u001b[0m\n",
            "\u001b[2K     \u001b[90m━━━━━━━━━━━━━━━━━━━━━━━━━━━━━━━━━━━━━━━\u001b[0m \u001b[32m268.8/268.8 kB\u001b[0m \u001b[31m9.0 MB/s\u001b[0m eta \u001b[36m0:00:00\u001b[0m\n",
            "\u001b[?25h  Building wheel for pathtools (setup.py) ... \u001b[?25l\u001b[?25hdone\n"
          ]
        }
      ],
      "source": [
        "!pip install -q wandb onnx pytorch-lightning"
      ]
    },
    {
      "cell_type": "markdown",
      "metadata": {
        "id": "OBTwaNGPAZb7"
      },
      "source": [
        "## Login to W&B\n",
        "- You can explicitly login using `wandb login` or `wandb.login()` (See below)\n",
        "- Alternatively you can set environment variables. There are several env variables which you can set to change the behavior of W&B logging. The most important are:\n",
        "    - `WANDB_API_KEY` - find this in your \"Settings\" section under your profile \n",
        "    - `WANDB_BASE_URL` - this is the url of the W&B server\n",
        "- Find your API Token in \"Profile\" -> \"Setttings\" in the W&B App\n",
        "\n",
        "![api_token](https://drive.google.com/uc?export=view&id=1Xn7hnn0rfPu_EW0A_-32oCXqDmpA0-kx)"
      ]
    },
    {
      "cell_type": "code",
      "source": [
        "!wandb login"
      ],
      "metadata": {
        "colab": {
          "base_uri": "https://localhost:8080/"
        },
        "id": "pTywCvZIpwb2",
        "outputId": "4f5cd125-ad11-4ed9-ac2f-410bb57c45f6"
      },
      "execution_count": 3,
      "outputs": [
        {
          "output_type": "stream",
          "name": "stdout",
          "text": [
            "\u001b[34m\u001b[1mwandb\u001b[0m: Logging into wandb.ai. (Learn how to deploy a W&B server locally: https://wandb.me/wandb-server)\n",
            "\u001b[34m\u001b[1mwandb\u001b[0m: You can find your API key in your browser here: https://wandb.ai/authorize\n",
            "\u001b[34m\u001b[1mwandb\u001b[0m: Paste an API key from your profile and hit enter, or press ctrl+c to quit: \n",
            "\u001b[34m\u001b[1mwandb\u001b[0m: Appending key for api.wandb.ai to your netrc file: /root/.netrc\n"
          ]
        }
      ]
    },
    {
      "cell_type": "markdown",
      "metadata": {
        "id": "J5chx7ARAZb9"
      },
      "source": [
        "## Log Data and Model Checkpoints as Artifacts  \n",
        "W&B Artifacts allows you to track and version arbitrary serialized data (e.g. datasets, model checkpoints, evaluation results). When you create an artifact, you give it a name and a type, and that artifact is forever linked to the experimental system of record. If the underlying data changes, and you log that data asset again, W&B will automatically create new versions through checksummming its contents. W&B Artifacts can be thought of as a lightweight abstraction layer on top of shared unstructured file systems. \n",
        "\n",
        "### Anatomy of an artifact \n",
        "\n",
        "The `Artifact` class will correspond to an entry in the W&B Artifact registry.  The artifact has \n",
        "* a name\n",
        "* a type\n",
        "* metadata\n",
        "* description\n",
        "* files, directory of files, or references\n",
        "\n",
        "Example usage:\n",
        "```\n",
        "run = wandb.init(project = \"my-project\")\n",
        "artifact = wandb.Artifact(name = \"my_artifact\", type = \"data\")\n",
        "artifact.add_file(\"/path/to/my/file.txt\")\n",
        "run.log_artifact(artifact)\n",
        "run.finish()\n",
        "```\n",
        "\n",
        "In this tutorial, the first thing we will do is download a training dataset and log it as an artifact to be used downstream in the training job. "
      ]
    },
    {
      "cell_type": "code",
      "source": [
        "#@title Enter your W&B project and entity\n",
        "\n",
        "# FORM VARIABLES\n",
        "PROJECT_NAME = \"model-registry-tutorial\" #@param {type:\"string\"}\n",
        "ENTITY = None #@param {type:\"string\"}\n",
        "\n",
        "# set SIZE to \"TINY\", \"SMALL\", \"MEDIUM\", or \"LARGE\"\n",
        "# to select one of these three datasets\n",
        "# TINY dataset: 100 images, 30MB\n",
        "# SMALL dataset: 1000 images, 312MB\n",
        "# MEDIUM dataset: 5000 images, 1.5GB\n",
        "# LARGE dataset: 12,000 images, 3.6GB\n",
        "\n",
        "SIZE = \"TINY\"\n",
        "\n",
        "if SIZE == \"TINY\":\n",
        "  src_url = \"https://storage.googleapis.com/wandb_datasets/nature_100.zip\"\n",
        "  src_zip = \"nature_100.zip\"\n",
        "  DATA_SRC = \"nature_100\"\n",
        "  IMAGES_PER_LABEL = 10\n",
        "  BALANCED_SPLITS = {\"train\" : 8, \"val\" : 1, \"test\": 1}\n",
        "elif SIZE == \"SMALL\":\n",
        "  src_url = \"https://storage.googleapis.com/wandb_datasets/nature_1K.zip\"\n",
        "  src_zip = \"nature_1K.zip\"\n",
        "  DATA_SRC = \"nature_1K\"\n",
        "  IMAGES_PER_LABEL = 100\n",
        "  BALANCED_SPLITS = {\"train\" : 80, \"val\" : 10, \"test\": 10}\n",
        "elif SIZE == \"MEDIUM\":\n",
        "  src_url = \"https://storage.googleapis.com/wandb_datasets/nature_12K.zip\"\n",
        "  src_zip = \"nature_12K.zip\"\n",
        "  DATA_SRC = \"inaturalist_12K/train\" # (technically a subset of only 10K images)\n",
        "  IMAGES_PER_LABEL = 500\n",
        "  BALANCED_SPLITS = {\"train\" : 400, \"val\" : 50, \"test\": 50}\n",
        "elif SIZE == \"LARGE\":\n",
        "  src_url = \"https://storage.googleapis.com/wandb_datasets/nature_12K.zip\"\n",
        "  src_zip = \"nature_12K.zip\"\n",
        "  DATA_SRC = \"inaturalist_12K/train\" # (technically a subset of only 10K images)\n",
        "  IMAGES_PER_LABEL = 1000\n",
        "  BALANCED_SPLITS = {\"train\" : 800, \"val\" : 100, \"test\": 100}"
      ],
      "metadata": {
        "id": "IX1H-FaMljWk"
      },
      "execution_count": 4,
      "outputs": []
    },
    {
      "cell_type": "code",
      "source": [
        "%%capture\n",
        "!curl -SL $src_url > $src_zip\n",
        "!unzip $src_zip"
      ],
      "metadata": {
        "id": "M-5VTcSblqrs"
      },
      "execution_count": 5,
      "outputs": []
    },
    {
      "cell_type": "code",
      "source": [
        "import wandb\n",
        "import pandas as pd\n",
        "import os\n",
        "\n",
        "with wandb.init(project=PROJECT_NAME, entity=ENTITY, job_type='log_datasets') as run:\n",
        "  img_paths = []\n",
        "  for root, dirs, files in os.walk('nature_100', topdown=False):\n",
        "    for name in files:\n",
        "        img_path = os.path.join(root, name)\n",
        "        label = img_path.split('/')[1]\n",
        "        img_paths.append([img_path, label])\n",
        "\n",
        "  index_df = pd.DataFrame(columns=['image_path', 'label'], data=img_paths)\n",
        "  index_df.to_csv('index.csv', index=False)\n",
        "\n",
        "  train_art = wandb.Artifact(name='Nature_100', type='raw_images', description='nature image dataset with 10 classes, 10 images per class')\n",
        "  train_art.add_dir('nature_100')\n",
        "\n",
        "  # Also adding a csv indicating the labels of each image\n",
        "  train_art.add_file('index.csv')\n",
        "  wandb.log_artifact(train_art)"
      ],
      "metadata": {
        "colab": {
          "base_uri": "https://localhost:8080/",
          "height": 197
        },
        "id": "StZxJQAdtQwP",
        "outputId": "9094609b-38a9-4b2e-f4eb-91359ac32bc3"
      },
      "execution_count": 6,
      "outputs": [
        {
          "output_type": "stream",
          "name": "stderr",
          "text": [
            "\u001b[34m\u001b[1mwandb\u001b[0m: Currently logged in as: \u001b[33m_scott\u001b[0m. Use \u001b[1m`wandb login --relogin`\u001b[0m to force relogin\n"
          ]
        },
        {
          "output_type": "display_data",
          "data": {
            "text/plain": [
              "<IPython.core.display.HTML object>"
            ],
            "text/html": [
              "Tracking run with wandb version 0.15.2"
            ]
          },
          "metadata": {}
        },
        {
          "output_type": "display_data",
          "data": {
            "text/plain": [
              "<IPython.core.display.HTML object>"
            ],
            "text/html": [
              "Run data is saved locally in <code>/content/wandb/run-20230509_102008-o4fe028u</code>"
            ]
          },
          "metadata": {}
        },
        {
          "output_type": "display_data",
          "data": {
            "text/plain": [
              "<IPython.core.display.HTML object>"
            ],
            "text/html": [
              "Syncing run <strong><a href='https://wandb.ai/_scott/model-registry-tutorial/runs/o4fe028u' target=\"_blank\">playful-sun-1</a></strong> to <a href='https://wandb.ai/_scott/model-registry-tutorial' target=\"_blank\">Weights & Biases</a> (<a href='https://wandb.me/run' target=\"_blank\">docs</a>)<br/>"
            ]
          },
          "metadata": {}
        },
        {
          "output_type": "display_data",
          "data": {
            "text/plain": [
              "<IPython.core.display.HTML object>"
            ],
            "text/html": [
              " View project at <a href='https://wandb.ai/_scott/model-registry-tutorial' target=\"_blank\">https://wandb.ai/_scott/model-registry-tutorial</a>"
            ]
          },
          "metadata": {}
        },
        {
          "output_type": "display_data",
          "data": {
            "text/plain": [
              "<IPython.core.display.HTML object>"
            ],
            "text/html": [
              " View run at <a href='https://wandb.ai/_scott/model-registry-tutorial/runs/o4fe028u' target=\"_blank\">https://wandb.ai/_scott/model-registry-tutorial/runs/o4fe028u</a>"
            ]
          },
          "metadata": {}
        },
        {
          "output_type": "stream",
          "name": "stderr",
          "text": [
            "\u001b[34m\u001b[1mwandb\u001b[0m: Adding directory to artifact (./nature_100)... Done. 0.2s\n"
          ]
        },
        {
          "output_type": "display_data",
          "data": {
            "text/plain": [
              "<IPython.core.display.HTML object>"
            ],
            "text/html": [
              "Waiting for W&B process to finish... <strong style=\"color:green\">(success).</strong>"
            ]
          },
          "metadata": {}
        },
        {
          "output_type": "display_data",
          "data": {
            "text/plain": [
              "<IPython.core.display.HTML object>"
            ],
            "text/html": [
              " View run <strong style=\"color:#cdcd00\">playful-sun-1</strong> at: <a href='https://wandb.ai/_scott/model-registry-tutorial/runs/o4fe028u' target=\"_blank\">https://wandb.ai/_scott/model-registry-tutorial/runs/o4fe028u</a><br/>Synced 5 W&B file(s), 0 media file(s), 101 artifact file(s) and 0 other file(s)"
            ]
          },
          "metadata": {}
        },
        {
          "output_type": "display_data",
          "data": {
            "text/plain": [
              "<IPython.core.display.HTML object>"
            ],
            "text/html": [
              "Find logs at: <code>./wandb/run-20230509_102008-o4fe028u/logs</code>"
            ]
          },
          "metadata": {}
        }
      ]
    },
    {
      "cell_type": "markdown",
      "source": [
        "### Using Artifact names and aliases to easily hand-off and abstract data assets\n",
        "- By simply referring to the `name:alias` combination of a dataset or model, we can better standardize components of a workflow\n",
        "- For instance, you can build PyTorch `Dataset`'s or `DataModule`'s which take as arguments W&B Artifact names and aliases to load appropriately\n",
        "\n",
        "You can now see all the metadata associated with this dataset, the W&B runs consuming it, and the whole lineage of upstream and downstream artifacts!\n",
        "\n",
        "![api_token](https://drive.google.com/uc?export=view&id=1fEEddXMkabgcgusja0g8zMz8whlP2Y5P)"
      ],
      "metadata": {
        "id": "QIvbYD0RyF9_"
      }
    },
    {
      "cell_type": "code",
      "source": [
        "from torchvision import transforms\n",
        "import pytorch_lightning as pl\n",
        "import torch\n",
        "from torch.utils.data import Dataset, DataLoader, random_split\n",
        "from skimage import io, transform\n",
        "from torchvision import transforms, utils, models\n",
        "import math\n",
        "\n",
        "class NatureDataset(Dataset):\n",
        "    def __init__(self, \n",
        "                 wandb_run, \n",
        "                 artifact_name_alias=\"Nature_100:latest\", \n",
        "                 local_target_dir=\"Nature_100:latest\", \n",
        "                 transform=None):\n",
        "        self.local_target_dir = local_target_dir\n",
        "        self.transform = transform\n",
        "\n",
        "        # Pull down the artifact locally to load it into memory\n",
        "        art = wandb_run.use_artifact(artifact_name_alias)\n",
        "        path_at = art.download(root=self.local_target_dir)\n",
        "\n",
        "        self.ref_df = pd.read_csv(os.path.join(self.local_target_dir, 'index.csv'))\n",
        "        self.class_names = self.ref_df.iloc[:, 1].unique().tolist()\n",
        "        self.idx_to_class = {k: v for k, v in enumerate(self.class_names)}\n",
        "        self.class_to_idx = {v: k for k, v in enumerate(self.class_names)}\n",
        "\n",
        "    def __len__(self):\n",
        "        return len(self.ref_df)\n",
        "\n",
        "    def __getitem__(self, idx):\n",
        "        if torch.is_tensor(idx):\n",
        "            idx = idx.tolist()\n",
        "\n",
        "        img_path = self.ref_df.iloc[idx, 0]\n",
        "\n",
        "        image = io.imread(img_path)\n",
        "        label = self.ref_df.iloc[idx, 1]\n",
        "        label = torch.tensor(self.class_to_idx[label], dtype=torch.long)\n",
        "\n",
        "        if self.transform:\n",
        "            image = self.transform(image)\n",
        "\n",
        "        return image, label\n",
        "\n",
        "\n",
        "class NatureDatasetModule(pl.LightningDataModule):\n",
        "    def __init__(self,\n",
        "                 wandb_run,\n",
        "                 artifact_name_alias: str = \"Nature_100:latest\",\n",
        "                 local_target_dir: str = \"Nature_100:latest\",\n",
        "                 batch_size: int = 16,\n",
        "                 input_size: int = 224,\n",
        "                 seed: int = 42):\n",
        "        super().__init__()\n",
        "        self.wandb_run = wandb_run\n",
        "        self.artifact_name_alias = artifact_name_alias\n",
        "        self.local_target_dir = local_target_dir\n",
        "        self.batch_size = batch_size\n",
        "        self.input_size = input_size\n",
        "        self.seed = seed\n",
        "\n",
        "    def setup(self, stage=None):\n",
        "        self.nature_dataset = NatureDataset(wandb_run=self.wandb_run,\n",
        "                                            artifact_name_alias=self.artifact_name_alias,\n",
        "                                            local_target_dir=self.local_target_dir,\n",
        "                                            transform=transforms.Compose([transforms.ToTensor(),\n",
        "                                                                          transforms.CenterCrop(self.input_size),\n",
        "                                                                          transforms.Normalize((0.485, 0.456, 0.406),\n",
        "                                                                                               (0.229, 0.224, 0.225))]))\n",
        "\n",
        "        nature_length = len(self.nature_dataset)\n",
        "        train_size = math.floor(0.8 * nature_length)\n",
        "        val_size = math.floor(0.2 * nature_length)\n",
        "        self.nature_train, self.nature_val = random_split(self.nature_dataset,\n",
        "                                                          [train_size, val_size],\n",
        "                                                          generator=torch.Generator().manual_seed(self.seed))\n",
        "        return self\n",
        "\n",
        "    def train_dataloader(self):\n",
        "        return DataLoader(self.nature_train, batch_size=self.batch_size)\n",
        "\n",
        "    def val_dataloader(self):\n",
        "        return DataLoader(self.nature_val, batch_size=self.batch_size)\n",
        "\n",
        "    def predict_dataloader(self):\n",
        "        pass\n",
        "\n",
        "    def teardown(self, stage: str):\n",
        "        pass"
      ],
      "metadata": {
        "id": "v2YlZzi8moc9"
      },
      "execution_count": 7,
      "outputs": []
    },
    {
      "cell_type": "markdown",
      "source": [
        "## Model Training"
      ],
      "metadata": {
        "id": "Xl38Rty61Zwg"
      }
    },
    {
      "cell_type": "markdown",
      "source": [
        "### Writing the Model Class and Validation Function"
      ],
      "metadata": {
        "id": "zI8jfFe_2k9N"
      }
    },
    {
      "cell_type": "code",
      "source": [
        "import torch.nn.functional as F\n",
        "import torch.optim as optim\n",
        "from torch.optim.lr_scheduler import StepLR\n",
        "import onnx\n",
        "\n",
        "def set_parameter_requires_grad(model, feature_extracting):\n",
        "    if feature_extracting:\n",
        "        for param in model.parameters():\n",
        "            param.requires_grad = False\n",
        "\n",
        "def initialize_model(model_name, num_classes, feature_extract, use_pretrained=True):\n",
        "    # Initialize these variables which will be set in this if statement. Each of these\n",
        "    #   variables is model specific.\n",
        "    model_ft = None\n",
        "    input_size = 0\n",
        "\n",
        "    if model_name == \"resnet\":\n",
        "        \"\"\" Resnet18\n",
        "        \"\"\"\n",
        "        model_ft = models.resnet18(pretrained=use_pretrained)\n",
        "        set_parameter_requires_grad(model_ft, feature_extract)\n",
        "        num_ftrs = model_ft.fc.in_features\n",
        "        model_ft.fc = torch.nn.Linear(num_ftrs, num_classes)\n",
        "        input_size = 224\n",
        "\n",
        "    elif model_name == \"alexnet\":\n",
        "        \"\"\" Alexnet\n",
        "        \"\"\"\n",
        "        model_ft = models.alexnet(pretrained=use_pretrained)\n",
        "        set_parameter_requires_grad(model_ft, feature_extract)\n",
        "        num_ftrs = model_ft.classifier[6].in_features\n",
        "        model_ft.classifier[6] = torch.nn.Linear(num_ftrs, num_classes)\n",
        "        input_size = 224\n",
        "\n",
        "    elif model_name == \"vgg\":\n",
        "        \"\"\" VGG11_bn\n",
        "        \"\"\"\n",
        "        model_ft = models.vgg11_bn(pretrained=use_pretrained)\n",
        "        set_parameter_requires_grad(model_ft, feature_extract)\n",
        "        num_ftrs = model_ft.classifier[6].in_features\n",
        "        model_ft.classifier[6] = torch.nn.Linear(num_ftrs, num_classes)\n",
        "        input_size = 224\n",
        "\n",
        "    elif model_name == \"squeezenet\":\n",
        "        \"\"\" Squeezenet\n",
        "        \"\"\"\n",
        "        model_ft = models.squeezenet1_0(pretrained=use_pretrained)\n",
        "        set_parameter_requires_grad(model_ft, feature_extract)\n",
        "        model_ft.classifier[1] = torch.nn.Conv2d(512, num_classes, kernel_size=(1, 1), stride=(1, 1))\n",
        "        model_ft.num_classes = num_classes\n",
        "        input_size = 224\n",
        "\n",
        "    elif model_name == \"densenet\":\n",
        "        \"\"\" Densenet\n",
        "        \"\"\"\n",
        "        model_ft = models.densenet121(pretrained=use_pretrained)\n",
        "        set_parameter_requires_grad(model_ft, feature_extract)\n",
        "        num_ftrs = model_ft.classifier.in_features\n",
        "        model_ft.classifier = torch.nn.Linear(num_ftrs, num_classes)\n",
        "        input_size = 224\n",
        "        \n",
        "    else:\n",
        "        print(\"Invalid model name, exiting...\")\n",
        "        exit()\n",
        "\n",
        "    return model_ft, input_size\n",
        "\n",
        "class NaturePyTorchModule(torch.nn.Module):\n",
        "    def __init__(self,\n",
        "                 model_name,\n",
        "                 num_classes=10,\n",
        "                 feature_extract=True,\n",
        "                 lr=0.01):\n",
        "        '''method used to define our model parameters'''\n",
        "        super().__init__()\n",
        "\n",
        "        self.model_name = model_name\n",
        "        self.num_classes = num_classes\n",
        "        self.feature_extract = feature_extract\n",
        "        self.lr = lr\n",
        "        self.model, self.input_size = initialize_model(model_name=self.model_name,\n",
        "                                                       num_classes=self.num_classes,\n",
        "                                                       feature_extract=True)\n",
        "\n",
        "    def forward(self, x):\n",
        "        '''method used for inference input -> output'''\n",
        "        x = self.model(x)\n",
        "\n",
        "        return x\n",
        "\n",
        "def evaluate_model(model, eval_data, idx_to_class, class_names, epoch_ndx):\n",
        "    device = torch.device(\"cpu\")\n",
        "    model.eval()\n",
        "    test_loss = 0\n",
        "    correct = 0\n",
        "    preds = []\n",
        "    actual = []\n",
        "    \n",
        "    val_table = wandb.Table(columns=['pred', 'actual', 'image'])\n",
        "\n",
        "    with torch.no_grad():\n",
        "        for data, target in eval_data:\n",
        "            data, target = data.to(device), target.to(device)\n",
        "            output = model(data)\n",
        "            test_loss += F.nll_loss(\n",
        "                output, target, reduction=\"sum\"\n",
        "            ).item()  # sum up batch loss\n",
        "            pred = output.argmax(\n",
        "                dim=1, keepdim=True\n",
        "            )  # get the index of the max log-probability\n",
        "            preds += list(pred.flatten().tolist())\n",
        "            actual += target.numpy().tolist()\n",
        "            correct += pred.eq(target.view_as(pred)).sum().item()\n",
        "\n",
        "            for idx, img in enumerate(data):\n",
        "                img = img.numpy().transpose(1, 2, 0)\n",
        "                pred_class = idx_to_class[pred.numpy()[idx][0]]\n",
        "                target_class = idx_to_class[target.numpy()[idx]]\n",
        "                val_table.add_data(pred_class, target_class, wandb.Image(img))\n",
        "\n",
        "    test_loss /= len(eval_data.dataset)\n",
        "    accuracy = 100.0 * correct / len(eval_data.dataset)\n",
        "    conf_mat = wandb.plot.confusion_matrix(y_true=actual, preds=preds, class_names=class_names)\n",
        "    return test_loss, accuracy, preds, val_table, conf_mat"
      ],
      "metadata": {
        "id": "f04KD3i5rCq2"
      },
      "execution_count": 8,
      "outputs": []
    },
    {
      "cell_type": "markdown",
      "source": [
        "### Tracking the Training Loop\n",
        "During training, it is a best practice to checkpoint your models overtime, so if training gets interrupted or your instance crashes you can resume from where you left off. With artifact logging, we can track all our checkpoints with W&B and attach any metadata we want (like format of serialization, class labels, etc.). That way, when someone needs to consume a checkpoint they know how to use it. When logging models of any form as artifacts, ensure to set the `type` of the artifact to `model`. \n"
      ],
      "metadata": {
        "id": "WgaXzVaLtoQY"
      }
    },
    {
      "cell_type": "code",
      "source": [
        "%%wandb -h 600\n",
        "\n",
        "run = wandb.init(project=PROJECT_NAME,\n",
        "                     entity=ENTITY,\n",
        "                     job_type='training',\n",
        "                     config={'model_type': 'squeezenet',\n",
        "                             'lr': 1.0,\n",
        "                             'gamma': 0.75,\n",
        "                             'batch_size': 16,\n",
        "                             'epochs': 5})\n",
        "\n",
        "model = NaturePyTorchModule(wandb.config['model_type'])\n",
        "wandb.watch(model)\n",
        "\n",
        "wandb.config['input_size'] = 224\n",
        "\n",
        "nature_module = NatureDatasetModule(wandb_run = run,\n",
        "                                    artifact_name_alias=\"Nature_100:latest\",\n",
        "                                    local_target_dir=\"Nature_100:latest\", \n",
        "                                    batch_size=wandb.config['batch_size'],\n",
        "                                    input_size=wandb.config['input_size'])\n",
        "nature_module.setup()\n",
        "\n",
        "# Train the model\n",
        "learning_rate = wandb.config[\"lr\"]\n",
        "gamma = wandb.config[\"gamma\"]\n",
        "epochs = wandb.config[\"epochs\"]\n",
        "\n",
        "device = torch.device(\"cpu\")\n",
        "optimizer = optim.Adadelta(model.parameters(), lr=wandb.config['lr'])\n",
        "scheduler = StepLR(optimizer, step_size=1, gamma=wandb.config['gamma'])\n",
        "\n",
        "best_loss = float(\"inf\")\n",
        "best_model = None\n",
        "\n",
        "for epoch_ndx in range(epochs):\n",
        "  model.train()\n",
        "  for batch_ndx, batch in enumerate(nature_module.train_dataloader()):\n",
        "      data, target = batch[0].to(\"cpu\"), batch[1].to(\"cpu\")\n",
        "      optimizer.zero_grad()\n",
        "      preds = model(data)\n",
        "      loss = F.nll_loss(preds, target)\n",
        "      loss.backward()\n",
        "      optimizer.step()\n",
        "      scheduler.step()\n",
        "\n",
        "      ### Log your metrics ###\n",
        "      wandb.log({\n",
        "          \"train/epoch_ndx\": epoch_ndx,\n",
        "          \"train/batch_ndx\": batch_ndx,\n",
        "          \"train/train_loss\": loss,\n",
        "          \"train/learning_rate\": optimizer.param_groups[0][\"lr\"]\n",
        "      })\n",
        "\n",
        "  ### Evaluation at the end of each epoch ###\n",
        "  model.eval()\n",
        "  test_loss, accuracy, preds, val_table, conf_mat = evaluate_model(model,\n",
        "                                                                  nature_module.val_dataloader(), \n",
        "                                                                  nature_module.nature_dataset.idx_to_class,\n",
        "                                                                  nature_module.nature_dataset.class_names,\n",
        "                                                                  epoch_ndx)\n",
        "\n",
        "  is_best = test_loss < best_loss\n",
        "\n",
        "  wandb.log({'eval/test_loss': test_loss,\n",
        "              'eval/accuracy': accuracy,\n",
        "              'eval/conf_mat': conf_mat,\n",
        "              'eval/val_table': val_table})\n",
        "\n",
        "  ### Checkpoing your model weights ###\n",
        "  x = torch.randn(1, 3, 224, 224, requires_grad=True)\n",
        "  torch.onnx.export(model,              # model being run\n",
        "            x,                         # model input (or a tuple for multiple inputs)\n",
        "            \"model.onnx\",   # where to save the model (can be a file or file-like object)\n",
        "            export_params=True,        # store the trained parameter weights inside the model file\n",
        "            opset_version=10,          # the ONNX version to export the model to\n",
        "            do_constant_folding=True,  # whether to execute constant folding for optimization\n",
        "            input_names = ['input'],   # the model's input names\n",
        "            output_names = ['output'], # the model's output names\n",
        "            dynamic_axes={'input' : {0 : 'batch_size'},    # variable length axes\n",
        "                          'output' : {0 : 'batch_size'}})\n",
        "\n",
        "  art = wandb.Artifact(f\"nature-{wandb.run.id}\", \n",
        "                        type=\"model\",\n",
        "                        metadata={'format': 'onnx',\n",
        "                                'num_classes': len(nature_module.nature_dataset.class_names),\n",
        "                                'model_type': wandb.config['model_type'],\n",
        "                                'model_input_size': wandb.config['input_size'],\n",
        "                                'index_to_class': nature_module.nature_dataset.idx_to_class})\n",
        "\n",
        "  art.add_file(\"model.onnx\")\n",
        "\n",
        "  ### Add aliases to keep track of your best checkpoints over time\n",
        "  wandb.log_artifact(art, aliases=[\"best\", \"latest\"] if is_best else None)\n",
        "  if is_best:\n",
        "      best_model = art"
      ],
      "metadata": {
        "colab": {
          "base_uri": "https://localhost:8080/",
          "height": 1000
        },
        "id": "wTb1Ueh-rKGY",
        "outputId": "faf5b700-8525-40e9-84a1-97152cce3e20"
      },
      "execution_count": 9,
      "outputs": [
        {
          "output_type": "display_data",
          "data": {
            "text/plain": [
              "<IPython.core.display.HTML object>"
            ],
            "text/html": [
              "Tracking run with wandb version 0.15.2"
            ]
          },
          "metadata": {}
        },
        {
          "output_type": "display_data",
          "data": {
            "text/plain": [
              "<IPython.core.display.HTML object>"
            ],
            "text/html": [
              "Run data is saved locally in <code>/content/wandb/run-20230509_102037-5czor6h7</code>"
            ]
          },
          "metadata": {}
        },
        {
          "output_type": "display_data",
          "data": {
            "text/plain": [
              "<wandb.jupyter.IFrame at 0x7f7276cda410>"
            ],
            "text/html": [
              "<iframe src='https://wandb.ai/_scott/model-registry-tutorial/runs/5czor6h7?jupyter=true' style='border:none;width:100%;height:600px;'></iframe>"
            ]
          },
          "metadata": {}
        },
        {
          "output_type": "display_data",
          "data": {
            "text/plain": [
              "<IPython.core.display.HTML object>"
            ],
            "text/html": [
              " View project at <a href='https://wandb.ai/_scott/model-registry-tutorial' target=\"_blank\">https://wandb.ai/_scott/model-registry-tutorial</a>"
            ]
          },
          "metadata": {}
        },
        {
          "output_type": "display_data",
          "data": {
            "text/plain": [
              "<IPython.core.display.HTML object>"
            ],
            "text/html": [
              " View run at <a href='https://wandb.ai/_scott/model-registry-tutorial/runs/5czor6h7' target=\"_blank\">https://wandb.ai/_scott/model-registry-tutorial/runs/5czor6h7</a>"
            ]
          },
          "metadata": {}
        },
        {
          "output_type": "stream",
          "name": "stderr",
          "text": [
            "/usr/local/lib/python3.10/dist-packages/torchvision/models/_utils.py:208: UserWarning: The parameter 'pretrained' is deprecated since 0.13 and may be removed in the future, please use 'weights' instead.\n",
            "  warnings.warn(\n",
            "/usr/local/lib/python3.10/dist-packages/torchvision/models/_utils.py:223: UserWarning: Arguments other than a weight enum or `None` for 'weights' are deprecated since 0.13 and may be removed in the future. The current behavior is equivalent to passing `weights=SqueezeNet1_0_Weights.IMAGENET1K_V1`. You can also use `weights=SqueezeNet1_0_Weights.DEFAULT` to get the most up-to-date weights.\n",
            "  warnings.warn(msg)\n",
            "Downloading: \"https://download.pytorch.org/models/squeezenet1_0-b66bff10.pth\" to /root/.cache/torch/hub/checkpoints/squeezenet1_0-b66bff10.pth\n",
            "100%|██████████| 4.78M/4.78M [00:00<00:00, 65.1MB/s]\n",
            "\u001b[34m\u001b[1mwandb\u001b[0m:   101 of 101 files downloaded.  \n"
          ]
        },
        {
          "output_type": "stream",
          "name": "stdout",
          "text": [
            "============= Diagnostic Run torch.onnx.export version 2.0.0+cu118 =============\n",
            "verbose: False, log level: Level.ERROR\n",
            "======================= 0 NONE 0 NOTE 0 WARNING 0 ERROR ========================\n",
            "\n",
            "============= Diagnostic Run torch.onnx.export version 2.0.0+cu118 =============\n",
            "verbose: False, log level: Level.ERROR\n",
            "======================= 0 NONE 0 NOTE 0 WARNING 0 ERROR ========================\n",
            "\n",
            "============= Diagnostic Run torch.onnx.export version 2.0.0+cu118 =============\n",
            "verbose: False, log level: Level.ERROR\n",
            "======================= 0 NONE 0 NOTE 0 WARNING 0 ERROR ========================\n",
            "\n",
            "============= Diagnostic Run torch.onnx.export version 2.0.0+cu118 =============\n",
            "verbose: False, log level: Level.ERROR\n",
            "======================= 0 NONE 0 NOTE 0 WARNING 0 ERROR ========================\n",
            "\n",
            "============= Diagnostic Run torch.onnx.export version 2.0.0+cu118 =============\n",
            "verbose: False, log level: Level.ERROR\n",
            "======================= 0 NONE 0 NOTE 0 WARNING 0 ERROR ========================\n",
            "\n"
          ]
        }
      ]
    },
    {
      "cell_type": "markdown",
      "source": [
        "### Manage all your model checkpoints for a project under one roof. \n",
        "\n",
        "![api_token](https://drive.google.com/uc?export=view&id=1z7nXRgqHTPYjfR1SoP-CkezyxklbAZlM)"
      ],
      "metadata": {
        "id": "SqJULhh4zoBV"
      }
    },
    {
      "cell_type": "markdown",
      "source": [
        "### Note: Syncing with W&B Offline\n",
        "If for some reason, network communication is lost during the course of training, you can always sync progress with `wandb sync`\n",
        "\n",
        "The W&B sdk caches all logged data in a local directory `wandb` and when you call `wandb sync`, this syncs the your local state with the web app. "
      ],
      "metadata": {
        "id": "RGxOtJEB2cnK"
      }
    },
    {
      "cell_type": "markdown",
      "source": [
        "## Model Registry \n",
        "After logging a bunch of checkpoints across multiple runs during experimentation, now comes time to hand-off the best checkpoint to the next stage of the workflow (e.g. testing, deployment). \n",
        "\n",
        "The Model Registry is a central page that lives above individual W&B projects. It houses **Registered Models**, portfolios that store \"links\" to the valuable checkpoints living in individual W&B Projects. \n",
        "\n",
        "The model registry offers a centralized place to house the best checkpoints for all your model tasks. Any `model` artifact you log can be \"linked\" to a Registered Model. "
      ],
      "metadata": {
        "id": "zbfr9zPe68nb"
      }
    },
    {
      "cell_type": "markdown",
      "source": [
        "### Creating **Registered Models** and Linking through the UI\n",
        "#### 1. Access your team's model registry by going the team page and selecting `Model Registry`\n",
        "\n",
        "![model registry](https://drive.google.com/uc?export=view&id=1ZtJwBsFWPTm4Sg5w8vHhRpvDSeQPwsKw)\n",
        "\n",
        "#### 2. Create a new Registered Model. \n",
        "\n",
        "![model registry](https://drive.google.com/uc?export=view&id=1RuayTZHNE0LJCxt1t0l6-2zjwiV4aDXe)\n",
        "\n",
        "#### 3. Go to the artifacts tab of the project that holds all your model checkpoints\n",
        "\n",
        "![model registry](https://drive.google.com/uc?export=view&id=1LfTLrRNpBBPaUb_RmBIE7fWFMG0h3e0E)\n",
        "\n",
        "#### 4. Click \"Link to Registry\" for the model artifact version you want. "
      ],
      "metadata": {
        "id": "SqeBFGmQAdZ3"
      }
    },
    {
      "cell_type": "markdown",
      "source": [
        "### Creating Registered Models and Linking through the **API**\n",
        "You can [link a model via api](https://docs.wandb.ai/guides/models) with `wandb.run.link_artifact` passing in the artifact object, and the name of the **Registered Model**, along with aliases you want to append to it. **Registered Models** are entity (team) scoped in W&B so only members of a team can see and access the **Registered Models** there. You indicate a registered model name via api with `<entity>/model-registry/<registered-model-name>`. If a Registered Model doesn't exist, one will be created automatically."
      ],
      "metadata": {
        "id": "pft_kO36AhSP"
      }
    },
    {
      "cell_type": "code",
      "source": [
        "if entity:\n",
        "\twandb.run.link_artifact(best_model, f'{entity}/model-registry/Model Registry Tutorial', aliases=['staging'])\n",
        "else:\n",
        "\tprint('Must indicate entity where Registered Model will exist')\n",
        "wandb.finish()"
      ],
      "metadata": {
        "id": "GKlZqzRU8UEO",
        "colab": {
          "base_uri": "https://localhost:8080/",
          "height": 364,
          "referenced_widgets": [
            "d23348b00c0a459ba861ad9c9d2242a3",
            "01c9417360dc487d9d9f398c7222f946",
            "cdbb2ec81bf54b2b82eee48b51087efe",
            "dd23c5aa0f4a4f9cbc2c93966a49252e",
            "147f5f4057974dee92d215baeb78963e",
            "0a64addfaf1f460d8c5c5487e8e0dc29",
            "b805f5af54e74c1e8cf1876c1c8cfef4",
            "2d5e80997a9343e4a810fd33b2d807ca"
          ]
        },
        "outputId": "6a351daf-496f-4af5-b45e-c1beba905f0a"
      },
      "execution_count": 10,
      "outputs": [
        {
          "output_type": "display_data",
          "data": {
            "text/plain": [
              "<IPython.core.display.HTML object>"
            ],
            "text/html": [
              "Waiting for W&B process to finish... <strong style=\"color:green\">(success).</strong>"
            ]
          },
          "metadata": {}
        },
        {
          "output_type": "display_data",
          "data": {
            "text/plain": [
              "VBox(children=(Label(value='17.754 MB of 17.754 MB uploaded (1.754 MB deduped)\\r'), FloatProgress(value=1.0, m…"
            ],
            "application/vnd.jupyter.widget-view+json": {
              "version_major": 2,
              "version_minor": 0,
              "model_id": "d23348b00c0a459ba861ad9c9d2242a3"
            }
          },
          "metadata": {}
        },
        {
          "output_type": "display_data",
          "data": {
            "text/plain": [
              "<IPython.core.display.HTML object>"
            ],
            "text/html": [
              "<style>\n",
              "    table.wandb td:nth-child(1) { padding: 0 10px; text-align: left ; width: auto;} td:nth-child(2) {text-align: left ; width: 100%}\n",
              "    .wandb-row { display: flex; flex-direction: row; flex-wrap: wrap; justify-content: flex-start; width: 100% }\n",
              "    .wandb-col { display: flex; flex-direction: column; flex-basis: 100%; flex: 1; padding: 10px; }\n",
              "    </style>\n",
              "<div class=\"wandb-row\"><div class=\"wandb-col\"><h3>Run history:</h3><br/><table class=\"wandb\"><tr><td>eval/accuracy</td><td>▁▁▁▁▁</td></tr><tr><td>eval/test_loss</td><td>█▃▁▁▁</td></tr><tr><td>train/batch_ndx</td><td>▁▃▅▆█▁▃▅▆█▁▃▅▆█▁▃▅▆█▁▃▅▆█</td></tr><tr><td>train/epoch_ndx</td><td>▁▁▁▁▁▃▃▃▃▃▅▅▅▅▅▆▆▆▆▆█████</td></tr><tr><td>train/learning_rate</td><td>█▆▅▄▃▃▂▂▂▂▁▁▁▁▁▁▁▁▁▁▁▁▁▁▁</td></tr><tr><td>train/train_loss</td><td>█▇▆▆▅▄▃▂▃▃▂▂▁▃▂▂▂▁▂▂▂▂▁▃▂</td></tr></table><br/></div><div class=\"wandb-col\"><h3>Run summary:</h3><br/><table class=\"wandb\"><tr><td>eval/accuracy</td><td>0.0</td></tr><tr><td>eval/test_loss</td><td>-5.84736</td></tr><tr><td>train/batch_ndx</td><td>4</td></tr><tr><td>train/epoch_ndx</td><td>4</td></tr><tr><td>train/learning_rate</td><td>0.00075</td></tr><tr><td>train/train_loss</td><td>-6.91882</td></tr></table><br/></div></div>"
            ]
          },
          "metadata": {}
        },
        {
          "output_type": "display_data",
          "data": {
            "text/plain": [
              "<IPython.core.display.HTML object>"
            ],
            "text/html": [
              " View run <strong style=\"color:#cdcd00\">autumn-snow-2</strong> at: <a href='https://wandb.ai/_scott/model-registry-tutorial/runs/5czor6h7' target=\"_blank\">https://wandb.ai/_scott/model-registry-tutorial/runs/5czor6h7</a><br/>Synced 5 W&B file(s), 10 media file(s), 49 artifact file(s) and 0 other file(s)"
            ]
          },
          "metadata": {}
        },
        {
          "output_type": "display_data",
          "data": {
            "text/plain": [
              "<IPython.core.display.HTML object>"
            ],
            "text/html": [
              "Find logs at: <code>./wandb/run-20230509_102037-5czor6h7/logs</code>"
            ]
          },
          "metadata": {}
        }
      ]
    },
    {
      "cell_type": "markdown",
      "source": [
        "### What is \"Linking\"?\n",
        "When you link to the registry, this creates a new version of that Registered Model, which is just a pointer to the artifact version living in that project. There's a reason W&B segregates the versioning of artifacts in a project from the versioning of a Registered Model. The process of linking a model artifact version is equivalent to \"bookmarking\" that artifact version under a Registered Model task. \n",
        "\n",
        "Typically during R&D/experimentation, researchers generate 100s, if not 1000s of model checkpoint artifacts, but only one or two of them actually \"see the light of day.\" This process of linking those checkpoints to a separate, versioned registry helps delineate the model development side from the model deployment/consumption side of the workflow. The globally understood version/alias of a model should be unpolluted from all the experimental versions being generated in R&D and thus the versioning of a Registered Model increments according to new \"bookmarked\" models as opposed to model checkpoint logging. "
      ],
      "metadata": {
        "id": "1Ug_T4cT05I_"
      }
    },
    {
      "cell_type": "markdown",
      "source": [
        "## Create a Centralized Hub for all your models\n",
        "- Add a model card, tags, slack notifactions to your Registered Model\n",
        "- Change aliases to reflect when models move through different phases\n",
        "- Embed the model registry in reports for model documentation and regression reports. See this report as an [example](https://api.wandb.ai/links/wandb-smle/r82bj9at)\n",
        "![model registry](https://drive.google.com/uc?export=view&id=1lKPgaw-Ak4WK_91aBMcLvUMJL6pDQpgO)\n"
      ],
      "metadata": {
        "id": "v0ciQmyC0tvV"
      }
    },
    {
      "cell_type": "markdown",
      "source": [
        "### Set up Slack Notifications when new models get linked to the registry\n",
        "\n",
        "![model registry](https://drive.google.com/uc?export=view&id=1RsWCa6maJYD5y34gQ0nwWiKSWUCqcjT9)"
      ],
      "metadata": {
        "id": "gG44IEf-2yq-"
      }
    },
    {
      "cell_type": "markdown",
      "source": [
        "## Consuming a Registered Model\n",
        "You now can consume any registered model via API by referring the corresponding `name:alias`. Model consumers, whether they are engineers, researchers, or CI/CD processes, can go to the model registry as the central hub for all models that should \"see the light of day\": those that need to go through testing or move to production. "
      ],
      "metadata": {
        "id": "yqASj5fUweUU"
      }
    },
    {
      "cell_type": "code",
      "source": [
        "%%wandb -h 600\n",
        "\n",
        "run = wandb.init(project=PROJECT_NAME, entity=ENTITY, job_type='inference')\n",
        "artifact = run.use_artifact('wandb/model-registry/Model Registry Tutorial:staging', type='model')\n",
        "artifact_dir = artifact.download()\n",
        "wandb.finish()"
      ],
      "metadata": {
        "id": "l_rldM-T3cA4",
        "colab": {
          "base_uri": "https://localhost:8080/",
          "height": 832,
          "referenced_widgets": [
            "b50a8f4259ee41f78212a8458d684cef",
            "a4669c6ec8e94953b6360bda05ac1257",
            "eeb00a70b8e749a4b714af4c2a60d7d8",
            "fe2bf7351d9c4cb0a2b1fda7a252d6b8",
            "40c0dc71c7e247cd9a7119a473e7da73",
            "d70e4dbf8d5743c281959830d98d1b9d",
            "e596db42346047829df96d576284b10b",
            "075b8234cfc64daba0a1127bd6e93bea"
          ]
        },
        "outputId": "aaeb1244-c1e5-476d-944a-5d8814c94ab4"
      },
      "execution_count": 11,
      "outputs": [
        {
          "output_type": "display_data",
          "data": {
            "text/plain": [
              "<IPython.core.display.HTML object>"
            ],
            "text/html": [
              "Tracking run with wandb version 0.15.2"
            ]
          },
          "metadata": {}
        },
        {
          "output_type": "display_data",
          "data": {
            "text/plain": [
              "<IPython.core.display.HTML object>"
            ],
            "text/html": [
              "Run data is saved locally in <code>/content/wandb/run-20230509_102443-150nz960</code>"
            ]
          },
          "metadata": {}
        },
        {
          "output_type": "display_data",
          "data": {
            "text/plain": [
              "<wandb.jupyter.IFrame at 0x7f7276cdbeb0>"
            ],
            "text/html": [
              "<iframe src='https://wandb.ai/_scott/model-registry-tutorial/runs/150nz960?jupyter=true' style='border:none;width:100%;height:600px;'></iframe>"
            ]
          },
          "metadata": {}
        },
        {
          "output_type": "display_data",
          "data": {
            "text/plain": [
              "<IPython.core.display.HTML object>"
            ],
            "text/html": [
              " View project at <a href='https://wandb.ai/_scott/model-registry-tutorial' target=\"_blank\">https://wandb.ai/_scott/model-registry-tutorial</a>"
            ]
          },
          "metadata": {}
        },
        {
          "output_type": "display_data",
          "data": {
            "text/plain": [
              "<IPython.core.display.HTML object>"
            ],
            "text/html": [
              " View run at <a href='https://wandb.ai/_scott/model-registry-tutorial/runs/150nz960' target=\"_blank\">https://wandb.ai/_scott/model-registry-tutorial/runs/150nz960</a>"
            ]
          },
          "metadata": {}
        },
        {
          "output_type": "stream",
          "name": "stderr",
          "text": [
            "\u001b[34m\u001b[1mwandb\u001b[0m:   1 of 1 files downloaded.  \n"
          ]
        },
        {
          "output_type": "display_data",
          "data": {
            "text/plain": [
              "<IPython.core.display.HTML object>"
            ],
            "text/html": [
              "Waiting for W&B process to finish... <strong style=\"color:green\">(success).</strong>"
            ]
          },
          "metadata": {}
        },
        {
          "output_type": "display_data",
          "data": {
            "text/plain": [
              "VBox(children=(Label(value='0.001 MB of 0.001 MB uploaded (0.000 MB deduped)\\r'), FloatProgress(value=1.0, max…"
            ],
            "application/vnd.jupyter.widget-view+json": {
              "version_major": 2,
              "version_minor": 0,
              "model_id": "b50a8f4259ee41f78212a8458d684cef"
            }
          },
          "metadata": {}
        },
        {
          "output_type": "display_data",
          "data": {
            "text/plain": [
              "<IPython.core.display.HTML object>"
            ],
            "text/html": [
              " View run <strong style=\"color:#cdcd00\">resilient-wind-3</strong> at: <a href='https://wandb.ai/_scott/model-registry-tutorial/runs/150nz960' target=\"_blank\">https://wandb.ai/_scott/model-registry-tutorial/runs/150nz960</a><br/>Synced 5 W&B file(s), 0 media file(s), 0 artifact file(s) and 0 other file(s)"
            ]
          },
          "metadata": {}
        },
        {
          "output_type": "display_data",
          "data": {
            "text/plain": [
              "<IPython.core.display.HTML object>"
            ],
            "text/html": [
              "Find logs at: <code>./wandb/run-20230509_102443-150nz960/logs</code>"
            ]
          },
          "metadata": {}
        }
      ]
    }
  ],
  "metadata": {
    "kernelspec": {
      "display_name": "Python 3 (ipykernel)",
      "language": "python",
      "name": "python3"
    },
    "colab": {
      "provenance": [],
      "collapsed_sections": [
        "zI8jfFe_2k9N"
      ]
    },
    "accelerator": "GPU",
    "gpuClass": "standard",
    "widgets": {
      "application/vnd.jupyter.widget-state+json": {
        "d23348b00c0a459ba861ad9c9d2242a3": {
          "model_module": "@jupyter-widgets/controls",
          "model_name": "VBoxModel",
          "model_module_version": "1.5.0",
          "state": {
            "_dom_classes": [],
            "_model_module": "@jupyter-widgets/controls",
            "_model_module_version": "1.5.0",
            "_model_name": "VBoxModel",
            "_view_count": null,
            "_view_module": "@jupyter-widgets/controls",
            "_view_module_version": "1.5.0",
            "_view_name": "VBoxView",
            "box_style": "",
            "children": [
              "IPY_MODEL_01c9417360dc487d9d9f398c7222f946",
              "IPY_MODEL_cdbb2ec81bf54b2b82eee48b51087efe"
            ],
            "layout": "IPY_MODEL_dd23c5aa0f4a4f9cbc2c93966a49252e"
          }
        },
        "01c9417360dc487d9d9f398c7222f946": {
          "model_module": "@jupyter-widgets/controls",
          "model_name": "LabelModel",
          "model_module_version": "1.5.0",
          "state": {
            "_dom_classes": [],
            "_model_module": "@jupyter-widgets/controls",
            "_model_module_version": "1.5.0",
            "_model_name": "LabelModel",
            "_view_count": null,
            "_view_module": "@jupyter-widgets/controls",
            "_view_module_version": "1.5.0",
            "_view_name": "LabelView",
            "description": "",
            "description_tooltip": null,
            "layout": "IPY_MODEL_147f5f4057974dee92d215baeb78963e",
            "placeholder": "​",
            "style": "IPY_MODEL_0a64addfaf1f460d8c5c5487e8e0dc29",
            "value": "17.754 MB of 17.754 MB uploaded (1.754 MB deduped)\r"
          }
        },
        "cdbb2ec81bf54b2b82eee48b51087efe": {
          "model_module": "@jupyter-widgets/controls",
          "model_name": "FloatProgressModel",
          "model_module_version": "1.5.0",
          "state": {
            "_dom_classes": [],
            "_model_module": "@jupyter-widgets/controls",
            "_model_module_version": "1.5.0",
            "_model_name": "FloatProgressModel",
            "_view_count": null,
            "_view_module": "@jupyter-widgets/controls",
            "_view_module_version": "1.5.0",
            "_view_name": "ProgressView",
            "bar_style": "",
            "description": "",
            "description_tooltip": null,
            "layout": "IPY_MODEL_b805f5af54e74c1e8cf1876c1c8cfef4",
            "max": 1,
            "min": 0,
            "orientation": "horizontal",
            "style": "IPY_MODEL_2d5e80997a9343e4a810fd33b2d807ca",
            "value": 1
          }
        },
        "dd23c5aa0f4a4f9cbc2c93966a49252e": {
          "model_module": "@jupyter-widgets/base",
          "model_name": "LayoutModel",
          "model_module_version": "1.2.0",
          "state": {
            "_model_module": "@jupyter-widgets/base",
            "_model_module_version": "1.2.0",
            "_model_name": "LayoutModel",
            "_view_count": null,
            "_view_module": "@jupyter-widgets/base",
            "_view_module_version": "1.2.0",
            "_view_name": "LayoutView",
            "align_content": null,
            "align_items": null,
            "align_self": null,
            "border": null,
            "bottom": null,
            "display": null,
            "flex": null,
            "flex_flow": null,
            "grid_area": null,
            "grid_auto_columns": null,
            "grid_auto_flow": null,
            "grid_auto_rows": null,
            "grid_column": null,
            "grid_gap": null,
            "grid_row": null,
            "grid_template_areas": null,
            "grid_template_columns": null,
            "grid_template_rows": null,
            "height": null,
            "justify_content": null,
            "justify_items": null,
            "left": null,
            "margin": null,
            "max_height": null,
            "max_width": null,
            "min_height": null,
            "min_width": null,
            "object_fit": null,
            "object_position": null,
            "order": null,
            "overflow": null,
            "overflow_x": null,
            "overflow_y": null,
            "padding": null,
            "right": null,
            "top": null,
            "visibility": null,
            "width": null
          }
        },
        "147f5f4057974dee92d215baeb78963e": {
          "model_module": "@jupyter-widgets/base",
          "model_name": "LayoutModel",
          "model_module_version": "1.2.0",
          "state": {
            "_model_module": "@jupyter-widgets/base",
            "_model_module_version": "1.2.0",
            "_model_name": "LayoutModel",
            "_view_count": null,
            "_view_module": "@jupyter-widgets/base",
            "_view_module_version": "1.2.0",
            "_view_name": "LayoutView",
            "align_content": null,
            "align_items": null,
            "align_self": null,
            "border": null,
            "bottom": null,
            "display": null,
            "flex": null,
            "flex_flow": null,
            "grid_area": null,
            "grid_auto_columns": null,
            "grid_auto_flow": null,
            "grid_auto_rows": null,
            "grid_column": null,
            "grid_gap": null,
            "grid_row": null,
            "grid_template_areas": null,
            "grid_template_columns": null,
            "grid_template_rows": null,
            "height": null,
            "justify_content": null,
            "justify_items": null,
            "left": null,
            "margin": null,
            "max_height": null,
            "max_width": null,
            "min_height": null,
            "min_width": null,
            "object_fit": null,
            "object_position": null,
            "order": null,
            "overflow": null,
            "overflow_x": null,
            "overflow_y": null,
            "padding": null,
            "right": null,
            "top": null,
            "visibility": null,
            "width": null
          }
        },
        "0a64addfaf1f460d8c5c5487e8e0dc29": {
          "model_module": "@jupyter-widgets/controls",
          "model_name": "DescriptionStyleModel",
          "model_module_version": "1.5.0",
          "state": {
            "_model_module": "@jupyter-widgets/controls",
            "_model_module_version": "1.5.0",
            "_model_name": "DescriptionStyleModel",
            "_view_count": null,
            "_view_module": "@jupyter-widgets/base",
            "_view_module_version": "1.2.0",
            "_view_name": "StyleView",
            "description_width": ""
          }
        },
        "b805f5af54e74c1e8cf1876c1c8cfef4": {
          "model_module": "@jupyter-widgets/base",
          "model_name": "LayoutModel",
          "model_module_version": "1.2.0",
          "state": {
            "_model_module": "@jupyter-widgets/base",
            "_model_module_version": "1.2.0",
            "_model_name": "LayoutModel",
            "_view_count": null,
            "_view_module": "@jupyter-widgets/base",
            "_view_module_version": "1.2.0",
            "_view_name": "LayoutView",
            "align_content": null,
            "align_items": null,
            "align_self": null,
            "border": null,
            "bottom": null,
            "display": null,
            "flex": null,
            "flex_flow": null,
            "grid_area": null,
            "grid_auto_columns": null,
            "grid_auto_flow": null,
            "grid_auto_rows": null,
            "grid_column": null,
            "grid_gap": null,
            "grid_row": null,
            "grid_template_areas": null,
            "grid_template_columns": null,
            "grid_template_rows": null,
            "height": null,
            "justify_content": null,
            "justify_items": null,
            "left": null,
            "margin": null,
            "max_height": null,
            "max_width": null,
            "min_height": null,
            "min_width": null,
            "object_fit": null,
            "object_position": null,
            "order": null,
            "overflow": null,
            "overflow_x": null,
            "overflow_y": null,
            "padding": null,
            "right": null,
            "top": null,
            "visibility": null,
            "width": null
          }
        },
        "2d5e80997a9343e4a810fd33b2d807ca": {
          "model_module": "@jupyter-widgets/controls",
          "model_name": "ProgressStyleModel",
          "model_module_version": "1.5.0",
          "state": {
            "_model_module": "@jupyter-widgets/controls",
            "_model_module_version": "1.5.0",
            "_model_name": "ProgressStyleModel",
            "_view_count": null,
            "_view_module": "@jupyter-widgets/base",
            "_view_module_version": "1.2.0",
            "_view_name": "StyleView",
            "bar_color": null,
            "description_width": ""
          }
        },
        "b50a8f4259ee41f78212a8458d684cef": {
          "model_module": "@jupyter-widgets/controls",
          "model_name": "VBoxModel",
          "model_module_version": "1.5.0",
          "state": {
            "_dom_classes": [],
            "_model_module": "@jupyter-widgets/controls",
            "_model_module_version": "1.5.0",
            "_model_name": "VBoxModel",
            "_view_count": null,
            "_view_module": "@jupyter-widgets/controls",
            "_view_module_version": "1.5.0",
            "_view_name": "VBoxView",
            "box_style": "",
            "children": [
              "IPY_MODEL_a4669c6ec8e94953b6360bda05ac1257",
              "IPY_MODEL_eeb00a70b8e749a4b714af4c2a60d7d8"
            ],
            "layout": "IPY_MODEL_fe2bf7351d9c4cb0a2b1fda7a252d6b8"
          }
        },
        "a4669c6ec8e94953b6360bda05ac1257": {
          "model_module": "@jupyter-widgets/controls",
          "model_name": "LabelModel",
          "model_module_version": "1.5.0",
          "state": {
            "_dom_classes": [],
            "_model_module": "@jupyter-widgets/controls",
            "_model_module_version": "1.5.0",
            "_model_name": "LabelModel",
            "_view_count": null,
            "_view_module": "@jupyter-widgets/controls",
            "_view_module_version": "1.5.0",
            "_view_name": "LabelView",
            "description": "",
            "description_tooltip": null,
            "layout": "IPY_MODEL_40c0dc71c7e247cd9a7119a473e7da73",
            "placeholder": "​",
            "style": "IPY_MODEL_d70e4dbf8d5743c281959830d98d1b9d",
            "value": "0.001 MB of 0.001 MB uploaded (0.000 MB deduped)\r"
          }
        },
        "eeb00a70b8e749a4b714af4c2a60d7d8": {
          "model_module": "@jupyter-widgets/controls",
          "model_name": "FloatProgressModel",
          "model_module_version": "1.5.0",
          "state": {
            "_dom_classes": [],
            "_model_module": "@jupyter-widgets/controls",
            "_model_module_version": "1.5.0",
            "_model_name": "FloatProgressModel",
            "_view_count": null,
            "_view_module": "@jupyter-widgets/controls",
            "_view_module_version": "1.5.0",
            "_view_name": "ProgressView",
            "bar_style": "",
            "description": "",
            "description_tooltip": null,
            "layout": "IPY_MODEL_e596db42346047829df96d576284b10b",
            "max": 1,
            "min": 0,
            "orientation": "horizontal",
            "style": "IPY_MODEL_075b8234cfc64daba0a1127bd6e93bea",
            "value": 1
          }
        },
        "fe2bf7351d9c4cb0a2b1fda7a252d6b8": {
          "model_module": "@jupyter-widgets/base",
          "model_name": "LayoutModel",
          "model_module_version": "1.2.0",
          "state": {
            "_model_module": "@jupyter-widgets/base",
            "_model_module_version": "1.2.0",
            "_model_name": "LayoutModel",
            "_view_count": null,
            "_view_module": "@jupyter-widgets/base",
            "_view_module_version": "1.2.0",
            "_view_name": "LayoutView",
            "align_content": null,
            "align_items": null,
            "align_self": null,
            "border": null,
            "bottom": null,
            "display": null,
            "flex": null,
            "flex_flow": null,
            "grid_area": null,
            "grid_auto_columns": null,
            "grid_auto_flow": null,
            "grid_auto_rows": null,
            "grid_column": null,
            "grid_gap": null,
            "grid_row": null,
            "grid_template_areas": null,
            "grid_template_columns": null,
            "grid_template_rows": null,
            "height": null,
            "justify_content": null,
            "justify_items": null,
            "left": null,
            "margin": null,
            "max_height": null,
            "max_width": null,
            "min_height": null,
            "min_width": null,
            "object_fit": null,
            "object_position": null,
            "order": null,
            "overflow": null,
            "overflow_x": null,
            "overflow_y": null,
            "padding": null,
            "right": null,
            "top": null,
            "visibility": null,
            "width": null
          }
        },
        "40c0dc71c7e247cd9a7119a473e7da73": {
          "model_module": "@jupyter-widgets/base",
          "model_name": "LayoutModel",
          "model_module_version": "1.2.0",
          "state": {
            "_model_module": "@jupyter-widgets/base",
            "_model_module_version": "1.2.0",
            "_model_name": "LayoutModel",
            "_view_count": null,
            "_view_module": "@jupyter-widgets/base",
            "_view_module_version": "1.2.0",
            "_view_name": "LayoutView",
            "align_content": null,
            "align_items": null,
            "align_self": null,
            "border": null,
            "bottom": null,
            "display": null,
            "flex": null,
            "flex_flow": null,
            "grid_area": null,
            "grid_auto_columns": null,
            "grid_auto_flow": null,
            "grid_auto_rows": null,
            "grid_column": null,
            "grid_gap": null,
            "grid_row": null,
            "grid_template_areas": null,
            "grid_template_columns": null,
            "grid_template_rows": null,
            "height": null,
            "justify_content": null,
            "justify_items": null,
            "left": null,
            "margin": null,
            "max_height": null,
            "max_width": null,
            "min_height": null,
            "min_width": null,
            "object_fit": null,
            "object_position": null,
            "order": null,
            "overflow": null,
            "overflow_x": null,
            "overflow_y": null,
            "padding": null,
            "right": null,
            "top": null,
            "visibility": null,
            "width": null
          }
        },
        "d70e4dbf8d5743c281959830d98d1b9d": {
          "model_module": "@jupyter-widgets/controls",
          "model_name": "DescriptionStyleModel",
          "model_module_version": "1.5.0",
          "state": {
            "_model_module": "@jupyter-widgets/controls",
            "_model_module_version": "1.5.0",
            "_model_name": "DescriptionStyleModel",
            "_view_count": null,
            "_view_module": "@jupyter-widgets/base",
            "_view_module_version": "1.2.0",
            "_view_name": "StyleView",
            "description_width": ""
          }
        },
        "e596db42346047829df96d576284b10b": {
          "model_module": "@jupyter-widgets/base",
          "model_name": "LayoutModel",
          "model_module_version": "1.2.0",
          "state": {
            "_model_module": "@jupyter-widgets/base",
            "_model_module_version": "1.2.0",
            "_model_name": "LayoutModel",
            "_view_count": null,
            "_view_module": "@jupyter-widgets/base",
            "_view_module_version": "1.2.0",
            "_view_name": "LayoutView",
            "align_content": null,
            "align_items": null,
            "align_self": null,
            "border": null,
            "bottom": null,
            "display": null,
            "flex": null,
            "flex_flow": null,
            "grid_area": null,
            "grid_auto_columns": null,
            "grid_auto_flow": null,
            "grid_auto_rows": null,
            "grid_column": null,
            "grid_gap": null,
            "grid_row": null,
            "grid_template_areas": null,
            "grid_template_columns": null,
            "grid_template_rows": null,
            "height": null,
            "justify_content": null,
            "justify_items": null,
            "left": null,
            "margin": null,
            "max_height": null,
            "max_width": null,
            "min_height": null,
            "min_width": null,
            "object_fit": null,
            "object_position": null,
            "order": null,
            "overflow": null,
            "overflow_x": null,
            "overflow_y": null,
            "padding": null,
            "right": null,
            "top": null,
            "visibility": null,
            "width": null
          }
        },
        "075b8234cfc64daba0a1127bd6e93bea": {
          "model_module": "@jupyter-widgets/controls",
          "model_name": "ProgressStyleModel",
          "model_module_version": "1.5.0",
          "state": {
            "_model_module": "@jupyter-widgets/controls",
            "_model_module_version": "1.5.0",
            "_model_name": "ProgressStyleModel",
            "_view_count": null,
            "_view_module": "@jupyter-widgets/base",
            "_view_module_version": "1.2.0",
            "_view_name": "StyleView",
            "bar_color": null,
            "description_width": ""
          }
        }
      }
    }
  },
  "nbformat": 4,
  "nbformat_minor": 0
}
