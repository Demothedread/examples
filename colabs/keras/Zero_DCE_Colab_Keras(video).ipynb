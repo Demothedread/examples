{
  "cells": [
    {
      "cell_type": "markdown",
      "source": [
        "\n",
        "<img src=\"https://wandb.me/logo-im-png\" width=\"400\" alt=\"Weights & Biases\" />\n",
        "<img src=\"https://keras.io/img/logo-k-keras-wb.png\" width=\"200\" alt=\"Keras\" />\n",
        "<!--- @wandbcode{zero_dce_video} -->"
      ],
      "metadata": {
        "id": "-p6mE0XAbm9Y"
      }
    },
    {
      "cell_type": "markdown",
      "metadata": {
        "id": "4Lqte68-9xus"
      },
      "source": [
        "# Zero-DCE for low-light image enhancement\n",
        "\n",
        "**Author:** [Soumik Rakshit](http://github.com/soumik12345)<br>\n",
        "**Description:** Implementing Zero-Reference Deep Curve Estimation for low-light image enhancement.<br>\n",
        "*Modified for the video by:* [Ivan Goncharov](http://github.com/ivangrov)  <br>"
      ]
    },
    {
      "cell_type": "markdown",
      "metadata": {
        "id": "e1l6VqnN9xux"
      },
      "source": [
        "## Introduction\n",
        "\n",
        "**Zero-Reference Deep Curve Estimation** or **Zero-DCE** formulates low-light image\n",
        "enhancement as the task of estimating an image-specific\n",
        "[*tonal curve*](https://en.wikipedia.org/wiki/Curve_(tonality)) with a deep neural network.\n",
        "In this example, we train a lightweight deep network, **DCE-Net**, to estimate\n",
        "pixel-wise and high-order tonal curves for dynamic range adjustment of a given image.\n",
        "\n",
        "Zero-DCE takes a low-light image as input and produces high-order tonal curves as its output.\n",
        "These curves are then used for pixel-wise adjustment on the dynamic range of the input to\n",
        "obtain an enhanced image. The curve estimation process is done in such a way that it maintains\n",
        "the range of the enhanced image and preserves the contrast of neighboring pixels. This\n",
        "curve estimation is inspired by curves adjustment used in photo editing software such as\n",
        "Adobe Photoshop where users can adjust points throughout an image’s tonal range.\n",
        "\n",
        "Zero-DCE is appealing because of its relaxed assumptions with regard to reference images:\n",
        "it does not require any input/output image pairs during training.\n",
        "This is achieved through a set of carefully formulated non-reference loss functions,\n",
        "which implicitly measure the enhancement quality and guide the training of the network.\n",
        "\n",
        "### References\n",
        "\n",
        "- [Zero-Reference Deep Curve Estimation for Low-Light Image Enhancement](https://arxiv.org/pdf/2001.06826.pdf)\n",
        "- [Curves adjustment in Adobe Photoshop](https://helpx.adobe.com/photoshop/using/curves-adjustment.html)"
      ]
    },
    {
      "cell_type": "markdown",
      "metadata": {
        "id": "4QJC-FmS9xuz"
      },
      "source": [
        "## Downloading LOLDataset\n",
        "\n",
        "The **LoL Dataset** has been created for low-light image enhancement. It provides 485\n",
        "images for training and 15 for testing. Each image pair in the dataset consists of a\n",
        "low-light input image and its corresponding well-exposed reference image."
      ]
    },
    {
      "cell_type": "code",
      "source": [
        "!pip install -q wandb"
      ],
      "metadata": {
        "colab": {
          "base_uri": "https://localhost:8080/"
        },
        "id": "zVGE6m50-Xwm",
        "outputId": "ba211636-a9c0-4476-a000-bbe7a4b4a3c0"
      },
      "execution_count": null,
      "outputs": [
        {
          "output_type": "stream",
          "name": "stdout",
          "text": [
            "\u001b[K     |████████████████████████████████| 1.8 MB 5.3 MB/s \n",
            "\u001b[K     |████████████████████████████████| 145 kB 51.2 MB/s \n",
            "\u001b[K     |████████████████████████████████| 181 kB 35.9 MB/s \n",
            "\u001b[K     |████████████████████████████████| 63 kB 269 kB/s \n",
            "\u001b[?25h  Building wheel for pathtools (setup.py) ... \u001b[?25l\u001b[?25hdone\n"
          ]
        }
      ]
    },
    {
      "cell_type": "code",
      "source": [
        "import wandb\n",
        "from wandb.keras import WandbCallback"
      ],
      "metadata": {
        "id": "zG3yqTOj_D1v"
      },
      "execution_count": null,
      "outputs": []
    },
    {
      "cell_type": "markdown",
      "source": [
        "# Downloading Lol dataset using W&B Artifacts"
      ],
      "metadata": {
        "id": "u9xr7UlEhgmH"
      }
    },
    {
      "cell_type": "code",
      "execution_count": null,
      "metadata": {
        "id": "oagzFihW9xu0"
      },
      "outputs": [],
      "source": [
        "import os\n",
        "import random\n",
        "import numpy as np\n",
        "from glob import glob\n",
        "from PIL import Image, ImageOps\n",
        "import matplotlib.pyplot as plt\n",
        "\n",
        "import tensorflow as tf\n",
        "from tensorflow import keras\n",
        "from tensorflow.keras import layers"
      ]
    },
    {
      "cell_type": "code",
      "source": [
        "run = wandb.init()\n",
        "artifact = run.use_artifact('ivangoncharov/Low Light Enhancement with Zero-DCE/Lol_Dataset:v0', type='dataset')\n",
        "artifact_dir = artifact.download()\n",
        "artifact_path = os.path.join(artifact_dir, \"lol_dataset.zip\")\n",
        "!unzip $artifact_path"
      ],
      "metadata": {
        "colab": {
          "base_uri": "https://localhost:8080/",
          "height": 1000
        },
        "id": "t7WH7uNYhdp0",
        "outputId": "9acd518d-54be-41fc-dd35-7ede5de0bdca"
      },
      "execution_count": null,
      "outputs": [
        {
          "output_type": "display_data",
          "data": {
            "text/plain": [
              "<IPython.core.display.Javascript object>"
            ],
            "application/javascript": [
              "\n",
              "        window._wandbApiKey = new Promise((resolve, reject) => {\n",
              "            function loadScript(url) {\n",
              "            return new Promise(function(resolve, reject) {\n",
              "                let newScript = document.createElement(\"script\");\n",
              "                newScript.onerror = reject;\n",
              "                newScript.onload = resolve;\n",
              "                document.body.appendChild(newScript);\n",
              "                newScript.src = url;\n",
              "            });\n",
              "            }\n",
              "            loadScript(\"https://cdn.jsdelivr.net/npm/postmate/build/postmate.min.js\").then(() => {\n",
              "            const iframe = document.createElement('iframe')\n",
              "            iframe.style.cssText = \"width:0;height:0;border:none\"\n",
              "            document.body.appendChild(iframe)\n",
              "            const handshake = new Postmate({\n",
              "                container: iframe,\n",
              "                url: 'https://wandb.ai/authorize'\n",
              "            });\n",
              "            const timeout = setTimeout(() => reject(\"Couldn't auto authenticate\"), 5000)\n",
              "            handshake.then(function(child) {\n",
              "                child.on('authorize', data => {\n",
              "                    clearTimeout(timeout)\n",
              "                    resolve(data)\n",
              "                });\n",
              "            });\n",
              "            })\n",
              "        });\n",
              "    "
            ]
          },
          "metadata": {}
        },
        {
          "output_type": "stream",
          "name": "stderr",
          "text": [
            "\u001b[34m\u001b[1mwandb\u001b[0m: Appending key for api.wandb.ai to your netrc file: /root/.netrc\n"
          ]
        },
        {
          "output_type": "display_data",
          "data": {
            "text/plain": [
              "<IPython.core.display.HTML object>"
            ],
            "text/html": [
              "Tracking run with wandb version 0.12.17"
            ]
          },
          "metadata": {}
        },
        {
          "output_type": "display_data",
          "data": {
            "text/plain": [
              "<IPython.core.display.HTML object>"
            ],
            "text/html": [
              "Run data is saved locally in <code>/content/wandb/run-20220530_004109-6j65vfsn</code>"
            ]
          },
          "metadata": {}
        },
        {
          "output_type": "display_data",
          "data": {
            "text/plain": [
              "<IPython.core.display.HTML object>"
            ],
            "text/html": [
              "Syncing run <strong><a href=\"https://wandb.ai/ivangoncharov/uncategorized/runs/6j65vfsn\" target=\"_blank\">dainty-firefly-50</a></strong> to <a href=\"https://wandb.ai/ivangoncharov/uncategorized\" target=\"_blank\">Weights & Biases</a> (<a href=\"https://wandb.me/run\" target=\"_blank\">docs</a>)<br/>"
            ]
          },
          "metadata": {}
        },
        {
          "output_type": "stream",
          "name": "stderr",
          "text": [
            "\u001b[34m\u001b[1mwandb\u001b[0m: Downloading large artifact Lol_Dataset:v0, 331.09MB. 1 files... Done. 0:0:0\n"
          ]
        },
        {
          "output_type": "stream",
          "name": "stdout",
          "text": [
            "Archive:  ./artifacts/Lol_Dataset:v0/lol_dataset.zip\n",
            "   creating: lol_dataset/\n",
            "   creating: lol_dataset/eval15/\n",
            "   creating: lol_dataset/eval15/high/\n",
            "  inflating: lol_dataset/eval15/high/748.png  \n",
            "  inflating: lol_dataset/eval15/high/665.png  \n",
            "  inflating: lol_dataset/eval15/high/111.png  \n",
            "  inflating: lol_dataset/eval15/high/493.png  \n",
            "  inflating: lol_dataset/eval15/high/22.png  \n",
            "  inflating: lol_dataset/eval15/high/23.png  \n",
            "  inflating: lol_dataset/eval15/high/669.png  \n",
            "  inflating: lol_dataset/eval15/high/547.png  \n",
            "  inflating: lol_dataset/eval15/high/778.png  \n",
            "  inflating: lol_dataset/eval15/high/55.png  \n",
            "  inflating: lol_dataset/eval15/high/179.png  \n",
            "  inflating: lol_dataset/eval15/high/780.png  \n",
            "  inflating: lol_dataset/eval15/high/79.png  \n",
            "  inflating: lol_dataset/eval15/high/146.png  \n",
            "  inflating: lol_dataset/eval15/high/1.png  \n",
            "  inflating: lol_dataset/eval15/.DS_Store  \n",
            "   creating: lol_dataset/eval15/low/\n",
            "  inflating: lol_dataset/eval15/low/748.png  \n",
            "  inflating: lol_dataset/eval15/low/665.png  \n",
            "  inflating: lol_dataset/eval15/low/111.png  \n",
            "  inflating: lol_dataset/eval15/low/493.png  \n",
            "  inflating: lol_dataset/eval15/low/22.png  \n",
            "  inflating: lol_dataset/eval15/low/23.png  \n",
            "  inflating: lol_dataset/eval15/low/669.png  \n",
            "  inflating: lol_dataset/eval15/low/547.png  \n",
            "  inflating: lol_dataset/eval15/low/778.png  \n",
            "  inflating: lol_dataset/eval15/low/55.png  \n",
            "  inflating: lol_dataset/eval15/low/179.png  \n",
            "  inflating: lol_dataset/eval15/low/780.png  \n",
            "  inflating: lol_dataset/eval15/low/79.png  \n",
            "  inflating: lol_dataset/eval15/low/146.png  \n",
            "  inflating: lol_dataset/eval15/low/1.png  \n",
            "   creating: lol_dataset/our485/\n",
            "   creating: lol_dataset/our485/high/\n",
            "  inflating: lol_dataset/our485/high/638.png  \n",
            "  inflating: lol_dataset/our485/high/176.png  \n",
            "  inflating: lol_dataset/our485/high/88.png  \n",
            "  inflating: lol_dataset/our485/high/610.png  \n",
            "  inflating: lol_dataset/our485/high/604.png  \n",
            "  inflating: lol_dataset/our485/high/162.png  \n",
            "  inflating: lol_dataset/our485/high/189.png  \n",
            "  inflating: lol_dataset/our485/high/77.png  \n",
            "  inflating: lol_dataset/our485/high/63.png  \n",
            "  inflating: lol_dataset/our485/high/758.png  \n",
            "  inflating: lol_dataset/our485/high/764.png  \n",
            "  inflating: lol_dataset/our485/high/770.png  \n",
            "  inflating: lol_dataset/our485/high/228.png  \n",
            "  inflating: lol_dataset/our485/high/566.png  \n",
            "  inflating: lol_dataset/our485/high/200.png  \n",
            "  inflating: lol_dataset/our485/high/572.png  \n",
            "  inflating: lol_dataset/our485/high/598.png  \n",
            "  inflating: lol_dataset/our485/high/215.png  \n",
            "  inflating: lol_dataset/our485/high/573.png  \n",
            "  inflating: lol_dataset/our485/high/567.png  \n",
            "  inflating: lol_dataset/our485/high/201.png  \n",
            "  inflating: lol_dataset/our485/high/229.png  \n",
            "  inflating: lol_dataset/our485/high/771.png  \n",
            "  inflating: lol_dataset/our485/high/765.png  \n",
            "  inflating: lol_dataset/our485/high/759.png  \n",
            "  inflating: lol_dataset/our485/high/62.png  \n",
            "  inflating: lol_dataset/our485/high/188.png  \n",
            "  inflating: lol_dataset/our485/high/76.png  \n",
            "  inflating: lol_dataset/our485/high/605.png  \n",
            "  inflating: lol_dataset/our485/high/611.png  \n",
            "  inflating: lol_dataset/our485/high/89.png  \n",
            "  inflating: lol_dataset/our485/high/639.png  \n",
            "  inflating: lol_dataset/our485/high/149.png  \n",
            "  inflating: lol_dataset/our485/high/607.png  \n",
            "  inflating: lol_dataset/our485/high/613.png  \n",
            "  inflating: lol_dataset/our485/high/175.png  \n",
            "  inflating: lol_dataset/our485/high/60.png  \n",
            "  inflating: lol_dataset/our485/high/74.png  \n",
            "  inflating: lol_dataset/our485/high/48.png  \n",
            "  inflating: lol_dataset/our485/high/773.png  \n",
            "  inflating: lol_dataset/our485/high/559.png  \n",
            "  inflating: lol_dataset/our485/high/571.png  \n",
            "  inflating: lol_dataset/our485/high/203.png  \n",
            "  inflating: lol_dataset/our485/high/565.png  \n",
            "  inflating: lol_dataset/our485/high/202.png  \n",
            "  inflating: lol_dataset/our485/high/564.png  \n",
            "  inflating: lol_dataset/our485/high/570.png  \n",
            "  inflating: lol_dataset/our485/high/216.png  \n",
            "  inflating: lol_dataset/our485/high/558.png  \n",
            "  inflating: lol_dataset/our485/high/766.png  \n",
            "  inflating: lol_dataset/our485/high/772.png  \n",
            "  inflating: lol_dataset/our485/high/75.png  \n",
            "  inflating: lol_dataset/our485/high/61.png  \n",
            "  inflating: lol_dataset/our485/high/612.png  \n",
            "  inflating: lol_dataset/our485/high/174.png  \n",
            "  inflating: lol_dataset/our485/high/160.png  \n",
            "  inflating: lol_dataset/our485/high/606.png  \n",
            "  inflating: lol_dataset/our485/high/616.png  \n",
            "  inflating: lol_dataset/our485/high/59.png  \n",
            "  inflating: lol_dataset/our485/high/776.png  \n",
            "  inflating: lol_dataset/our485/high/762.png  \n",
            "  inflating: lol_dataset/our485/high/789.png  \n",
            "  inflating: lol_dataset/our485/high/212.png  \n",
            "  inflating: lol_dataset/our485/high/.DS_Store  \n",
            "  inflating: lol_dataset/our485/high/574.png  \n",
            "  inflating: lol_dataset/our485/high/560.png  \n",
            "  inflating: lol_dataset/our485/high/206.png  \n",
            "  inflating: lol_dataset/our485/high/548.png  \n",
            "  inflating: lol_dataset/our485/high/549.png  \n",
            "  inflating: lol_dataset/our485/high/561.png  \n",
            "  inflating: lol_dataset/our485/high/207.png  \n",
            "  inflating: lol_dataset/our485/high/213.png  \n",
            "  inflating: lol_dataset/our485/high/575.png  \n",
            "  inflating: lol_dataset/our485/high/788.png  \n",
            "  inflating: lol_dataset/our485/high/763.png  \n",
            "  inflating: lol_dataset/our485/high/777.png  \n",
            "  inflating: lol_dataset/our485/high/70.png  \n",
            "  inflating: lol_dataset/our485/high/64.png  \n",
            "  inflating: lol_dataset/our485/high/58.png  \n",
            "  inflating: lol_dataset/our485/high/159.png  \n",
            "  inflating: lol_dataset/our485/high/171.png  \n",
            "  inflating: lol_dataset/our485/high/617.png  \n",
            "  inflating: lol_dataset/our485/high/615.png  \n",
            "  inflating: lol_dataset/our485/high/173.png  \n",
            "  inflating: lol_dataset/our485/high/167.png  \n",
            "  inflating: lol_dataset/our485/high/601.png  \n",
            "  inflating: lol_dataset/our485/high/99.png  \n",
            "  inflating: lol_dataset/our485/high/629.png  \n",
            "  inflating: lol_dataset/our485/high/198.png  \n",
            "  inflating: lol_dataset/our485/high/761.png  \n",
            "  inflating: lol_dataset/our485/high/775.png  \n",
            "  inflating: lol_dataset/our485/high/563.png  \n",
            "  inflating: lol_dataset/our485/high/211.png  \n",
            "  inflating: lol_dataset/our485/high/239.png  \n",
            "  inflating: lol_dataset/our485/high/588.png  \n",
            "  inflating: lol_dataset/our485/high/238.png  \n",
            "  inflating: lol_dataset/our485/high/576.png  \n",
            "  inflating: lol_dataset/our485/high/210.png  \n",
            "  inflating: lol_dataset/our485/high/204.png  \n",
            "  inflating: lol_dataset/our485/high/562.png  \n",
            "  inflating: lol_dataset/our485/high/774.png  \n",
            "  inflating: lol_dataset/our485/high/760.png  \n",
            "  inflating: lol_dataset/our485/high/199.png  \n",
            "  inflating: lol_dataset/our485/high/67.png  \n",
            "  inflating: lol_dataset/our485/high/73.png  \n",
            "  inflating: lol_dataset/our485/high/9.png  \n",
            "  inflating: lol_dataset/our485/high/628.png  \n",
            "  inflating: lol_dataset/our485/high/98.png  \n",
            "  inflating: lol_dataset/our485/high/600.png  \n",
            "  inflating: lol_dataset/our485/high/614.png  \n",
            "  inflating: lol_dataset/our485/high/172.png  \n",
            "  inflating: lol_dataset/our485/high/471.png  \n",
            "  inflating: lol_dataset/our485/high/129.png  \n",
            "  inflating: lol_dataset/our485/high/115.png  \n",
            "  inflating: lol_dataset/our485/high/101.png  \n",
            "  inflating: lol_dataset/our485/high/667.png  \n",
            "  inflating: lol_dataset/our485/high/14.png  \n",
            "  inflating: lol_dataset/our485/high/698.png  \n",
            "  inflating: lol_dataset/our485/high/28.png  \n",
            "  inflating: lol_dataset/our485/high/713.png  \n",
            "  inflating: lol_dataset/our485/high/539.png  \n",
            "  inflating: lol_dataset/our485/high/263.png  \n",
            "  inflating: lol_dataset/our485/high/505.png  \n",
            "  inflating: lol_dataset/our485/high/511.png  \n",
            "  inflating: lol_dataset/our485/high/262.png  \n",
            "  inflating: lol_dataset/our485/high/504.png  \n",
            "  inflating: lol_dataset/our485/high/538.png  \n",
            "  inflating: lol_dataset/our485/high/712.png  \n",
            "  inflating: lol_dataset/our485/high/699.png  \n",
            "  inflating: lol_dataset/our485/high/15.png  \n",
            "  inflating: lol_dataset/our485/high/100.png  \n",
            "  inflating: lol_dataset/our485/high/666.png  \n",
            "  inflating: lol_dataset/our485/high/114.png  \n",
            "  inflating: lol_dataset/our485/high/128.png  \n",
            "  inflating: lol_dataset/our485/high/464.png  \n",
            "  inflating: lol_dataset/our485/high/470.png  \n",
            "  inflating: lol_dataset/our485/high/328.png  \n",
            "  inflating: lol_dataset/our485/high/472.png  \n",
            "  inflating: lol_dataset/our485/high/499.png  \n",
            "  inflating: lol_dataset/our485/high/658.png  \n",
            "  inflating: lol_dataset/our485/high/664.png  \n",
            "  inflating: lol_dataset/our485/high/102.png  \n",
            "  inflating: lol_dataset/our485/high/116.png  \n",
            "  inflating: lol_dataset/our485/high/670.png  \n",
            "  inflating: lol_dataset/our485/high/17.png  \n",
            "  inflating: lol_dataset/our485/high/738.png  \n",
            "  inflating: lol_dataset/our485/high/710.png  \n",
            "  inflating: lol_dataset/our485/high/704.png  \n",
            "  inflating: lol_dataset/our485/high/248.png  \n",
            "  inflating: lol_dataset/our485/high/512.png  \n",
            "  inflating: lol_dataset/our485/high/506.png  \n",
            "  inflating: lol_dataset/our485/high/260.png  \n",
            "  inflating: lol_dataset/our485/high/507.png  \n",
            "  inflating: lol_dataset/our485/high/261.png  \n",
            "  inflating: lol_dataset/our485/high/249.png  \n",
            "  inflating: lol_dataset/our485/high/711.png  \n",
            "  inflating: lol_dataset/our485/high/739.png  \n",
            "  inflating: lol_dataset/our485/high/16.png  \n",
            "  inflating: lol_dataset/our485/high/117.png  \n",
            "  inflating: lol_dataset/our485/high/671.png  \n",
            "  inflating: lol_dataset/our485/high/103.png  \n",
            "  inflating: lol_dataset/our485/high/659.png  \n",
            "  inflating: lol_dataset/our485/high/498.png  \n",
            "  inflating: lol_dataset/our485/high/473.png  \n",
            "  inflating: lol_dataset/our485/high/477.png  \n",
            "  inflating: lol_dataset/our485/high/488.png  \n",
            "  inflating: lol_dataset/our485/high/107.png  \n",
            "  inflating: lol_dataset/our485/high/661.png  \n",
            "  inflating: lol_dataset/our485/high/675.png  \n",
            "  inflating: lol_dataset/our485/high/113.png  \n",
            "  inflating: lol_dataset/our485/high/649.png  \n",
            "  inflating: lol_dataset/our485/high/12.png  \n",
            "  inflating: lol_dataset/our485/high/715.png  \n",
            "  inflating: lol_dataset/our485/high/701.png  \n",
            "  inflating: lol_dataset/our485/high/729.png  \n",
            "  inflating: lol_dataset/our485/high/517.png  \n",
            "  inflating: lol_dataset/our485/high/265.png  \n",
            "  inflating: lol_dataset/our485/high/259.png  \n",
            "  inflating: lol_dataset/our485/high/258.png  \n",
            "  inflating: lol_dataset/our485/high/264.png  \n",
            "  inflating: lol_dataset/our485/high/502.png  \n",
            "  inflating: lol_dataset/our485/high/728.png  \n",
            "  inflating: lol_dataset/our485/high/700.png  \n",
            "  inflating: lol_dataset/our485/high/714.png  \n",
            "  inflating: lol_dataset/our485/high/13.png  \n",
            "  inflating: lol_dataset/our485/high/648.png  \n",
            "  inflating: lol_dataset/our485/high/674.png  \n",
            "  inflating: lol_dataset/our485/high/112.png  \n",
            "  inflating: lol_dataset/our485/high/106.png  \n",
            "  inflating: lol_dataset/our485/high/660.png  \n",
            "  inflating: lol_dataset/our485/high/489.png  \n",
            "  inflating: lol_dataset/our485/high/476.png  \n",
            "  inflating: lol_dataset/our485/high/474.png  \n",
            "  inflating: lol_dataset/our485/high/460.png  \n",
            "  inflating: lol_dataset/our485/high/110.png  \n",
            "  inflating: lol_dataset/our485/high/676.png  \n",
            "  inflating: lol_dataset/our485/high/662.png  \n",
            "  inflating: lol_dataset/our485/high/104.png  \n",
            "  inflating: lol_dataset/our485/high/138.png  \n",
            "  inflating: lol_dataset/our485/high/39.png  \n",
            "  inflating: lol_dataset/our485/high/689.png  \n",
            "  inflating: lol_dataset/our485/high/702.png  \n",
            "  inflating: lol_dataset/our485/high/716.png  \n",
            "  inflating: lol_dataset/our485/high/500.png  \n",
            "  inflating: lol_dataset/our485/high/514.png  \n",
            "  inflating: lol_dataset/our485/high/528.png  \n",
            "  inflating: lol_dataset/our485/high/529.png  \n",
            "  inflating: lol_dataset/our485/high/515.png  \n",
            "  inflating: lol_dataset/our485/high/501.png  \n",
            "  inflating: lol_dataset/our485/high/267.png  \n",
            "  inflating: lol_dataset/our485/high/717.png  \n",
            "  inflating: lol_dataset/our485/high/703.png  \n",
            "  inflating: lol_dataset/our485/high/10.png  \n",
            "  inflating: lol_dataset/our485/high/688.png  \n",
            "  inflating: lol_dataset/our485/high/38.png  \n",
            "  inflating: lol_dataset/our485/high/139.png  \n",
            "  inflating: lol_dataset/our485/high/663.png  \n",
            "  inflating: lol_dataset/our485/high/105.png  \n",
            "  inflating: lol_dataset/our485/high/677.png  \n",
            "  inflating: lol_dataset/our485/high/475.png  \n",
            "  inflating: lol_dataset/our485/high/478.png  \n",
            "  inflating: lol_dataset/our485/high/450.png  \n",
            "  inflating: lol_dataset/our485/high/487.png  \n",
            "  inflating: lol_dataset/our485/high/120.png  \n",
            "  inflating: lol_dataset/our485/high/646.png  \n",
            "  inflating: lol_dataset/our485/high/35.png  \n",
            "  inflating: lol_dataset/our485/high/21.png  \n",
            "  inflating: lol_dataset/our485/high/691.png  \n",
            "  inflating: lol_dataset/our485/high/685.png  \n",
            "  inflating: lol_dataset/our485/high/726.png  \n",
            "  inflating: lol_dataset/our485/high/732.png  \n",
            "  inflating: lol_dataset/our485/high/242.png  \n",
            "  inflating: lol_dataset/our485/high/524.png  \n",
            "  inflating: lol_dataset/our485/high/530.png  \n",
            "  inflating: lol_dataset/our485/high/531.png  \n",
            "  inflating: lol_dataset/our485/high/257.png  \n",
            "  inflating: lol_dataset/our485/high/243.png  \n",
            "  inflating: lol_dataset/our485/high/525.png  \n",
            "  inflating: lol_dataset/our485/high/733.png  \n",
            "  inflating: lol_dataset/our485/high/727.png  \n",
            "  inflating: lol_dataset/our485/high/684.png  \n",
            "  inflating: lol_dataset/our485/high/690.png  \n",
            "  inflating: lol_dataset/our485/high/121.png  \n",
            "  inflating: lol_dataset/our485/high/647.png  \n",
            "  inflating: lol_dataset/our485/high/653.png  \n",
            "  inflating: lol_dataset/our485/high/135.png  \n",
            "  inflating: lol_dataset/our485/high/109.png  \n",
            "  inflating: lol_dataset/our485/high/486.png  \n",
            "  inflating: lol_dataset/our485/high/492.png  \n",
            "  inflating: lol_dataset/our485/high/479.png  \n",
            "  inflating: lol_dataset/our485/high/484.png  \n",
            "  inflating: lol_dataset/our485/high/490.png  \n",
            "  inflating: lol_dataset/our485/high/679.png  \n",
            "  inflating: lol_dataset/our485/high/645.png  \n",
            "  inflating: lol_dataset/our485/high/123.png  \n",
            "  inflating: lol_dataset/our485/high/137.png  \n",
            "  inflating: lol_dataset/our485/high/651.png  \n",
            "  inflating: lol_dataset/our485/high/36.png  \n",
            "  inflating: lol_dataset/our485/high/686.png  \n",
            "  inflating: lol_dataset/our485/high/692.png  \n",
            "  inflating: lol_dataset/our485/high/719.png  \n",
            "  inflating: lol_dataset/our485/high/731.png  \n",
            "  inflating: lol_dataset/our485/high/725.png  \n",
            "  inflating: lol_dataset/our485/high/533.png  \n",
            "  inflating: lol_dataset/our485/high/527.png  \n",
            "  inflating: lol_dataset/our485/high/241.png  \n",
            "  inflating: lol_dataset/our485/high/526.png  \n",
            "  inflating: lol_dataset/our485/high/240.png  \n",
            "  inflating: lol_dataset/our485/high/254.png  \n",
            "  inflating: lol_dataset/our485/high/532.png  \n",
            "  inflating: lol_dataset/our485/high/724.png  \n",
            "  inflating: lol_dataset/our485/high/730.png  \n",
            "  inflating: lol_dataset/our485/high/718.png  \n",
            "  inflating: lol_dataset/our485/high/693.png  \n",
            "  inflating: lol_dataset/our485/high/687.png  \n",
            "  inflating: lol_dataset/our485/high/136.png  \n",
            "  inflating: lol_dataset/our485/high/650.png  \n",
            "  inflating: lol_dataset/our485/high/644.png  \n",
            "  inflating: lol_dataset/our485/high/122.png  \n",
            "  inflating: lol_dataset/our485/high/678.png  \n",
            "  inflating: lol_dataset/our485/high/491.png  \n",
            "  inflating: lol_dataset/our485/high/485.png  \n",
            "  inflating: lol_dataset/our485/high/330.png  \n",
            "  inflating: lol_dataset/our485/high/481.png  \n",
            "  inflating: lol_dataset/our485/high/495.png  \n",
            "  inflating: lol_dataset/our485/high/126.png  \n",
            "  inflating: lol_dataset/our485/high/640.png  \n",
            "  inflating: lol_dataset/our485/high/654.png  \n",
            "  inflating: lol_dataset/our485/high/132.png  \n",
            "  inflating: lol_dataset/our485/high/668.png  \n",
            "  inflating: lol_dataset/our485/high/683.png  \n",
            "  inflating: lol_dataset/our485/high/697.png  \n",
            "  inflating: lol_dataset/our485/high/27.png  \n",
            "  inflating: lol_dataset/our485/high/33.png  \n",
            "  inflating: lol_dataset/our485/high/734.png  \n",
            "  inflating: lol_dataset/our485/high/720.png  \n",
            "  inflating: lol_dataset/our485/high/708.png  \n",
            "  inflating: lol_dataset/our485/high/250.png  \n",
            "  inflating: lol_dataset/our485/high/244.png  \n",
            "  inflating: lol_dataset/our485/high/522.png  \n",
            "  inflating: lol_dataset/our485/high/523.png  \n",
            "  inflating: lol_dataset/our485/high/537.png  \n",
            "  inflating: lol_dataset/our485/high/251.png  \n",
            "  inflating: lol_dataset/our485/high/709.png  \n",
            "  inflating: lol_dataset/our485/high/721.png  \n",
            "  inflating: lol_dataset/our485/high/735.png  \n",
            "  inflating: lol_dataset/our485/high/26.png  \n",
            "  inflating: lol_dataset/our485/high/696.png  \n",
            "  inflating: lol_dataset/our485/high/682.png  \n",
            "  inflating: lol_dataset/our485/high/655.png  \n",
            "  inflating: lol_dataset/our485/high/127.png  \n",
            "  inflating: lol_dataset/our485/high/641.png  \n",
            "  inflating: lol_dataset/our485/high/494.png  \n",
            "  inflating: lol_dataset/our485/high/480.png  \n",
            "  inflating: lol_dataset/our485/high/469.png  \n",
            "  inflating: lol_dataset/our485/high/496.png  \n",
            "  inflating: lol_dataset/our485/high/482.png  \n",
            "  inflating: lol_dataset/our485/high/131.png  \n",
            "  inflating: lol_dataset/our485/high/643.png  \n",
            "  inflating: lol_dataset/our485/high/125.png  \n",
            "  inflating: lol_dataset/our485/high/119.png  \n",
            "  inflating: lol_dataset/our485/high/694.png  \n",
            "  inflating: lol_dataset/our485/high/680.png  \n",
            "  inflating: lol_dataset/our485/high/18.png  \n",
            "  inflating: lol_dataset/our485/high/24.png  \n",
            "  inflating: lol_dataset/our485/high/723.png  \n",
            "  inflating: lol_dataset/our485/high/737.png  \n",
            "  inflating: lol_dataset/our485/high/247.png  \n",
            "  inflating: lol_dataset/our485/high/253.png  \n",
            "  inflating: lol_dataset/our485/high/535.png  \n",
            "  inflating: lol_dataset/our485/high/508.png  \n",
            "  inflating: lol_dataset/our485/high/252.png  \n",
            "  inflating: lol_dataset/our485/high/534.png  \n",
            "  inflating: lol_dataset/our485/high/246.png  \n",
            "  inflating: lol_dataset/our485/high/736.png  \n",
            "  inflating: lol_dataset/our485/high/722.png  \n",
            "  inflating: lol_dataset/our485/high/25.png  \n",
            "  inflating: lol_dataset/our485/high/681.png  \n",
            "  inflating: lol_dataset/our485/high/695.png  \n",
            "  inflating: lol_dataset/our485/high/118.png  \n",
            "  inflating: lol_dataset/our485/high/642.png  \n",
            "  inflating: lol_dataset/our485/high/124.png  \n",
            "  inflating: lol_dataset/our485/high/130.png  \n",
            "  inflating: lol_dataset/our485/high/483.png  \n",
            "  inflating: lol_dataset/our485/high/497.png  \n",
            "  inflating: lol_dataset/our485/high/468.png  \n",
            "  inflating: lol_dataset/our485/high/95.png  \n",
            "  inflating: lol_dataset/our485/high/81.png  \n",
            "  inflating: lol_dataset/our485/high/157.png  \n",
            "  inflating: lol_dataset/our485/high/625.png  \n",
            "  inflating: lol_dataset/our485/high/143.png  \n",
            "  inflating: lol_dataset/our485/high/56.png  \n",
            "  inflating: lol_dataset/our485/high/42.png  \n",
            "  inflating: lol_dataset/our485/high/194.png  \n",
            "  inflating: lol_dataset/our485/high/180.png  \n",
            "  inflating: lol_dataset/our485/high/779.png  \n",
            "  inflating: lol_dataset/our485/high/745.png  \n",
            "  inflating: lol_dataset/our485/high/751.png  \n",
            "  inflating: lol_dataset/our485/high/786.png  \n",
            "  inflating: lol_dataset/our485/high/209.png  \n",
            "  inflating: lol_dataset/our485/high/221.png  \n",
            "  inflating: lol_dataset/our485/high/235.png  \n",
            "  inflating: lol_dataset/our485/high/553.png  \n",
            "  inflating: lol_dataset/our485/high/590.png  \n",
            "  inflating: lol_dataset/our485/high/591.png  \n",
            "  inflating: lol_dataset/our485/high/585.png  \n",
            "  inflating: lol_dataset/our485/high/552.png  \n",
            "  inflating: lol_dataset/our485/high/546.png  \n",
            "  inflating: lol_dataset/our485/high/220.png  \n",
            "  inflating: lol_dataset/our485/high/787.png  \n",
            "  inflating: lol_dataset/our485/high/750.png  \n",
            "  inflating: lol_dataset/our485/high/744.png  \n",
            "  inflating: lol_dataset/our485/high/195.png  \n",
            "  inflating: lol_dataset/our485/high/43.png  \n",
            "  inflating: lol_dataset/our485/high/5.png  \n",
            "  inflating: lol_dataset/our485/high/57.png  \n",
            "  inflating: lol_dataset/our485/high/624.png  \n",
            "  inflating: lol_dataset/our485/high/142.png  \n",
            "  inflating: lol_dataset/our485/high/630.png  \n",
            "  inflating: lol_dataset/our485/high/80.png  \n",
            "  inflating: lol_dataset/our485/high/94.png  \n",
            "  inflating: lol_dataset/our485/high/342.png  \n",
            "  inflating: lol_dataset/our485/high/82.png  \n",
            "  inflating: lol_dataset/our485/high/96.png  \n",
            "  inflating: lol_dataset/our485/high/140.png  \n",
            "  inflating: lol_dataset/our485/high/626.png  \n",
            "  inflating: lol_dataset/our485/high/154.png  \n",
            "  inflating: lol_dataset/our485/high/183.png  \n",
            "  inflating: lol_dataset/our485/high/69.png  \n",
            "  inflating: lol_dataset/our485/high/752.png  \n",
            "  inflating: lol_dataset/our485/high/746.png  \n",
            "  inflating: lol_dataset/our485/high/785.png  \n",
            "  inflating: lol_dataset/our485/high/578.png  \n",
            "  inflating: lol_dataset/our485/high/550.png  \n",
            "  inflating: lol_dataset/our485/high/236.png  \n",
            "  inflating: lol_dataset/our485/high/222.png  \n",
            "  inflating: lol_dataset/our485/high/544.png  \n",
            "  inflating: lol_dataset/our485/high/593.png  \n",
            "  inflating: lol_dataset/our485/high/587.png  \n",
            "  inflating: lol_dataset/our485/high/586.png  \n",
            "  inflating: lol_dataset/our485/high/592.png  \n",
            "  inflating: lol_dataset/our485/high/545.png  \n",
            "  inflating: lol_dataset/our485/high/551.png  \n",
            "  inflating: lol_dataset/our485/high/237.png  \n",
            "  inflating: lol_dataset/our485/high/579.png  \n",
            "  inflating: lol_dataset/our485/high/784.png  \n",
            "  inflating: lol_dataset/our485/high/747.png  \n",
            "  inflating: lol_dataset/our485/high/68.png  \n",
            "  inflating: lol_dataset/our485/high/196.png  \n",
            "  inflating: lol_dataset/our485/high/54.png  \n",
            "  inflating: lol_dataset/our485/high/6.png  \n",
            "  inflating: lol_dataset/our485/high/40.png  \n",
            "  inflating: lol_dataset/our485/high/633.png  \n",
            "  inflating: lol_dataset/our485/high/141.png  \n",
            "  inflating: lol_dataset/our485/high/627.png  \n",
            "  inflating: lol_dataset/our485/high/97.png  \n",
            "  inflating: lol_dataset/our485/high/169.png  \n",
            "  inflating: lol_dataset/our485/high/83.png  \n",
            "  inflating: lol_dataset/our485/high/623.png  \n",
            "  inflating: lol_dataset/our485/high/145.png  \n",
            "  inflating: lol_dataset/our485/high/151.png  \n",
            "  inflating: lol_dataset/our485/high/637.png  \n",
            "  inflating: lol_dataset/our485/high/87.png  \n",
            "  inflating: lol_dataset/our485/high/93.png  \n",
            "  inflating: lol_dataset/our485/high/78.png  \n",
            "  inflating: lol_dataset/our485/high/186.png  \n",
            "  inflating: lol_dataset/our485/high/44.png  \n",
            "  inflating: lol_dataset/our485/high/2.png  \n",
            "  inflating: lol_dataset/our485/high/50.png  \n",
            "  inflating: lol_dataset/our485/high/757.png  \n",
            "  inflating: lol_dataset/our485/high/743.png  \n",
            "  inflating: lol_dataset/our485/high/233.png  \n",
            "  inflating: lol_dataset/our485/high/555.png  \n",
            "  inflating: lol_dataset/our485/high/541.png  \n",
            "  inflating: lol_dataset/our485/high/227.png  \n",
            "  inflating: lol_dataset/our485/high/569.png  \n",
            "  inflating: lol_dataset/our485/high/596.png  \n",
            "  inflating: lol_dataset/our485/high/583.png  \n",
            "  inflating: lol_dataset/our485/high/597.png  \n",
            "  inflating: lol_dataset/our485/high/568.png  \n",
            "  inflating: lol_dataset/our485/high/540.png  \n",
            "  inflating: lol_dataset/our485/high/232.png  \n",
            "  inflating: lol_dataset/our485/high/554.png  \n",
            "  inflating: lol_dataset/our485/high/781.png  \n",
            "  inflating: lol_dataset/our485/high/51.png  \n",
            "  inflating: lol_dataset/our485/high/45.png  \n",
            "  inflating: lol_dataset/our485/high/193.png  \n",
            "  inflating: lol_dataset/our485/high/187.png  \n",
            "  inflating: lol_dataset/our485/high/92.png  \n",
            "  inflating: lol_dataset/our485/high/86.png  \n",
            "  inflating: lol_dataset/our485/high/150.png  \n",
            "  inflating: lol_dataset/our485/high/622.png  \n",
            "  inflating: lol_dataset/our485/high/144.png  \n",
            "  inflating: lol_dataset/our485/high/344.png  \n",
            "  inflating: lol_dataset/our485/high/634.png  \n",
            "  inflating: lol_dataset/our485/high/152.png  \n",
            "  inflating: lol_dataset/our485/high/620.png  \n",
            "  inflating: lol_dataset/our485/high/608.png  \n",
            "  inflating: lol_dataset/our485/high/84.png  \n",
            "  inflating: lol_dataset/our485/high/191.png  \n",
            "  inflating: lol_dataset/our485/high/185.png  \n",
            "  inflating: lol_dataset/our485/high/53.png  \n",
            "  inflating: lol_dataset/our485/high/47.png  \n",
            "  inflating: lol_dataset/our485/high/740.png  \n",
            "  inflating: lol_dataset/our485/high/783.png  \n",
            "  inflating: lol_dataset/our485/high/542.png  \n",
            "  inflating: lol_dataset/our485/high/556.png  \n",
            "  inflating: lol_dataset/our485/high/230.png  \n",
            "  inflating: lol_dataset/our485/high/595.png  \n",
            "  inflating: lol_dataset/our485/high/594.png  \n",
            "  inflating: lol_dataset/our485/high/580.png  \n",
            "  inflating: lol_dataset/our485/high/219.png  \n",
            "  inflating: lol_dataset/our485/high/557.png  \n",
            "  inflating: lol_dataset/our485/high/231.png  \n",
            "  inflating: lol_dataset/our485/high/225.png  \n",
            "  inflating: lol_dataset/our485/high/543.png  \n",
            "  inflating: lol_dataset/our485/high/782.png  \n",
            "  inflating: lol_dataset/our485/high/769.png  \n",
            "  inflating: lol_dataset/our485/high/741.png  \n",
            "  inflating: lol_dataset/our485/high/46.png  \n",
            "  inflating: lol_dataset/our485/high/52.png  \n",
            "  inflating: lol_dataset/our485/high/184.png  \n",
            "  inflating: lol_dataset/our485/high/91.png  \n",
            "  inflating: lol_dataset/our485/high/609.png  \n",
            "  inflating: lol_dataset/our485/high/147.png  \n",
            "  inflating: lol_dataset/our485/high/621.png  \n",
            "   creating: lol_dataset/our485/low/\n",
            "  inflating: lol_dataset/our485/low/638.png  \n",
            "  inflating: lol_dataset/our485/low/176.png  \n",
            "  inflating: lol_dataset/our485/low/88.png  \n",
            "  inflating: lol_dataset/our485/low/610.png  \n",
            "  inflating: lol_dataset/our485/low/604.png  \n",
            "  inflating: lol_dataset/our485/low/162.png  \n",
            "  inflating: lol_dataset/our485/low/189.png  \n",
            "  inflating: lol_dataset/our485/low/77.png  \n",
            "  inflating: lol_dataset/our485/low/63.png  \n",
            "  inflating: lol_dataset/our485/low/758.png  \n",
            "  inflating: lol_dataset/our485/low/764.png  \n",
            "  inflating: lol_dataset/our485/low/770.png  \n",
            "  inflating: lol_dataset/our485/low/228.png  \n",
            "  inflating: lol_dataset/our485/low/566.png  \n",
            "  inflating: lol_dataset/our485/low/200.png  \n",
            "  inflating: lol_dataset/our485/low/572.png  \n",
            "  inflating: lol_dataset/our485/low/598.png  \n",
            "  inflating: lol_dataset/our485/low/215.png  \n",
            "  inflating: lol_dataset/our485/low/573.png  \n",
            "  inflating: lol_dataset/our485/low/567.png  \n",
            "  inflating: lol_dataset/our485/low/201.png  \n",
            "  inflating: lol_dataset/our485/low/229.png  \n",
            "  inflating: lol_dataset/our485/low/771.png  \n",
            "  inflating: lol_dataset/our485/low/765.png  \n",
            "  inflating: lol_dataset/our485/low/759.png  \n",
            "  inflating: lol_dataset/our485/low/62.png  \n",
            "  inflating: lol_dataset/our485/low/188.png  \n",
            "  inflating: lol_dataset/our485/low/76.png  \n",
            "  inflating: lol_dataset/our485/low/605.png  \n",
            "  inflating: lol_dataset/our485/low/611.png  \n",
            "  inflating: lol_dataset/our485/low/89.png  \n",
            "  inflating: lol_dataset/our485/low/639.png  \n",
            "  inflating: lol_dataset/our485/low/149.png  \n",
            "  inflating: lol_dataset/our485/low/607.png  \n",
            "  inflating: lol_dataset/our485/low/613.png  \n",
            "  inflating: lol_dataset/our485/low/175.png  \n",
            "  inflating: lol_dataset/our485/low/60.png  \n",
            "  inflating: lol_dataset/our485/low/74.png  \n",
            "  inflating: lol_dataset/our485/low/48.png  \n",
            "  inflating: lol_dataset/our485/low/773.png  \n",
            "  inflating: lol_dataset/our485/low/559.png  \n",
            "  inflating: lol_dataset/our485/low/571.png  \n",
            "  inflating: lol_dataset/our485/low/203.png  \n",
            "  inflating: lol_dataset/our485/low/565.png  \n",
            "  inflating: lol_dataset/our485/low/202.png  \n",
            "  inflating: lol_dataset/our485/low/564.png  \n",
            "  inflating: lol_dataset/our485/low/570.png  \n",
            "  inflating: lol_dataset/our485/low/216.png  \n",
            "  inflating: lol_dataset/our485/low/558.png  \n",
            "  inflating: lol_dataset/our485/low/766.png  \n",
            "  inflating: lol_dataset/our485/low/772.png  \n",
            "  inflating: lol_dataset/our485/low/75.png  \n",
            "  inflating: lol_dataset/our485/low/61.png  \n",
            "  inflating: lol_dataset/our485/low/612.png  \n",
            "  inflating: lol_dataset/our485/low/174.png  \n",
            "  inflating: lol_dataset/our485/low/160.png  \n",
            "  inflating: lol_dataset/our485/low/606.png  \n",
            "  inflating: lol_dataset/our485/low/616.png  \n",
            "  inflating: lol_dataset/our485/low/59.png  \n",
            "  inflating: lol_dataset/our485/low/776.png  \n",
            "  inflating: lol_dataset/our485/low/762.png  \n",
            "  inflating: lol_dataset/our485/low/789.png  \n",
            "  inflating: lol_dataset/our485/low/212.png  \n",
            "  inflating: lol_dataset/our485/low/.DS_Store  \n",
            "  inflating: lol_dataset/our485/low/574.png  \n",
            "  inflating: lol_dataset/our485/low/560.png  \n",
            "  inflating: lol_dataset/our485/low/206.png  \n",
            "  inflating: lol_dataset/our485/low/548.png  \n",
            "  inflating: lol_dataset/our485/low/549.png  \n",
            "  inflating: lol_dataset/our485/low/561.png  \n",
            "  inflating: lol_dataset/our485/low/207.png  \n",
            "  inflating: lol_dataset/our485/low/213.png  \n",
            "  inflating: lol_dataset/our485/low/575.png  \n",
            "  inflating: lol_dataset/our485/low/788.png  \n",
            "  inflating: lol_dataset/our485/low/763.png  \n",
            "  inflating: lol_dataset/our485/low/777.png  \n",
            "  inflating: lol_dataset/our485/low/70.png  \n",
            "  inflating: lol_dataset/our485/low/64.png  \n",
            "  inflating: lol_dataset/our485/low/58.png  \n",
            "  inflating: lol_dataset/our485/low/159.png  \n",
            "  inflating: lol_dataset/our485/low/171.png  \n",
            "  inflating: lol_dataset/our485/low/617.png  \n",
            "  inflating: lol_dataset/our485/low/615.png  \n",
            "  inflating: lol_dataset/our485/low/173.png  \n",
            "  inflating: lol_dataset/our485/low/167.png  \n",
            "  inflating: lol_dataset/our485/low/601.png  \n",
            "  inflating: lol_dataset/our485/low/99.png  \n",
            "  inflating: lol_dataset/our485/low/629.png  \n",
            "  inflating: lol_dataset/our485/low/198.png  \n",
            "  inflating: lol_dataset/our485/low/761.png  \n",
            "  inflating: lol_dataset/our485/low/775.png  \n",
            "  inflating: lol_dataset/our485/low/563.png  \n",
            "  inflating: lol_dataset/our485/low/211.png  \n",
            "  inflating: lol_dataset/our485/low/239.png  \n",
            "  inflating: lol_dataset/our485/low/588.png  \n",
            "  inflating: lol_dataset/our485/low/238.png  \n",
            "  inflating: lol_dataset/our485/low/576.png  \n",
            "  inflating: lol_dataset/our485/low/210.png  \n",
            "  inflating: lol_dataset/our485/low/204.png  \n",
            "  inflating: lol_dataset/our485/low/562.png  \n",
            "  inflating: lol_dataset/our485/low/774.png  \n",
            "  inflating: lol_dataset/our485/low/760.png  \n",
            "  inflating: lol_dataset/our485/low/199.png  \n",
            "  inflating: lol_dataset/our485/low/67.png  \n",
            "  inflating: lol_dataset/our485/low/73.png  \n",
            "  inflating: lol_dataset/our485/low/9.png  \n",
            "  inflating: lol_dataset/our485/low/628.png  \n",
            "  inflating: lol_dataset/our485/low/98.png  \n",
            "  inflating: lol_dataset/our485/low/600.png  \n",
            "  inflating: lol_dataset/our485/low/614.png  \n",
            "  inflating: lol_dataset/our485/low/172.png  \n",
            "  inflating: lol_dataset/our485/low/471.png  \n",
            "  inflating: lol_dataset/our485/low/129.png  \n",
            "  inflating: lol_dataset/our485/low/115.png  \n",
            "  inflating: lol_dataset/our485/low/101.png  \n",
            "  inflating: lol_dataset/our485/low/667.png  \n",
            "  inflating: lol_dataset/our485/low/14.png  \n",
            "  inflating: lol_dataset/our485/low/698.png  \n",
            "  inflating: lol_dataset/our485/low/28.png  \n",
            "  inflating: lol_dataset/our485/low/713.png  \n",
            "  inflating: lol_dataset/our485/low/539.png  \n",
            "  inflating: lol_dataset/our485/low/263.png  \n",
            "  inflating: lol_dataset/our485/low/505.png  \n",
            "  inflating: lol_dataset/our485/low/511.png  \n",
            "  inflating: lol_dataset/our485/low/262.png  \n",
            "  inflating: lol_dataset/our485/low/504.png  \n",
            "  inflating: lol_dataset/our485/low/538.png  \n",
            "  inflating: lol_dataset/our485/low/712.png  \n",
            "  inflating: lol_dataset/our485/low/699.png  \n",
            "  inflating: lol_dataset/our485/low/15.png  \n",
            "  inflating: lol_dataset/our485/low/100.png  \n",
            "  inflating: lol_dataset/our485/low/666.png  \n",
            "  inflating: lol_dataset/our485/low/114.png  \n",
            "  inflating: lol_dataset/our485/low/128.png  \n",
            "  inflating: lol_dataset/our485/low/464.png  \n",
            "  inflating: lol_dataset/our485/low/470.png  \n",
            "  inflating: lol_dataset/our485/low/328.png  \n",
            "  inflating: lol_dataset/our485/low/472.png  \n",
            "  inflating: lol_dataset/our485/low/499.png  \n",
            "  inflating: lol_dataset/our485/low/658.png  \n",
            "  inflating: lol_dataset/our485/low/664.png  \n",
            "  inflating: lol_dataset/our485/low/102.png  \n",
            "  inflating: lol_dataset/our485/low/116.png  \n",
            "  inflating: lol_dataset/our485/low/670.png  \n",
            "  inflating: lol_dataset/our485/low/17.png  \n",
            "  inflating: lol_dataset/our485/low/738.png  \n",
            "  inflating: lol_dataset/our485/low/710.png  \n",
            "  inflating: lol_dataset/our485/low/704.png  \n",
            "  inflating: lol_dataset/our485/low/248.png  \n",
            "  inflating: lol_dataset/our485/low/512.png  \n",
            "  inflating: lol_dataset/our485/low/506.png  \n",
            "  inflating: lol_dataset/our485/low/260.png  \n",
            "  inflating: lol_dataset/our485/low/507.png  \n",
            "  inflating: lol_dataset/our485/low/261.png  \n",
            "  inflating: lol_dataset/our485/low/249.png  \n",
            "  inflating: lol_dataset/our485/low/711.png  \n",
            "  inflating: lol_dataset/our485/low/739.png  \n",
            "  inflating: lol_dataset/our485/low/16.png  \n",
            "  inflating: lol_dataset/our485/low/117.png  \n",
            "  inflating: lol_dataset/our485/low/671.png  \n",
            "  inflating: lol_dataset/our485/low/103.png  \n",
            "  inflating: lol_dataset/our485/low/659.png  \n",
            "  inflating: lol_dataset/our485/low/498.png  \n",
            "  inflating: lol_dataset/our485/low/473.png  \n",
            "  inflating: lol_dataset/our485/low/477.png  \n",
            "  inflating: lol_dataset/our485/low/488.png  \n",
            "  inflating: lol_dataset/our485/low/107.png  \n",
            "  inflating: lol_dataset/our485/low/661.png  \n",
            "  inflating: lol_dataset/our485/low/675.png  \n",
            "  inflating: lol_dataset/our485/low/113.png  \n",
            "  inflating: lol_dataset/our485/low/649.png  \n",
            "  inflating: lol_dataset/our485/low/12.png  \n",
            "  inflating: lol_dataset/our485/low/715.png  \n",
            "  inflating: lol_dataset/our485/low/701.png  \n",
            "  inflating: lol_dataset/our485/low/729.png  \n",
            "  inflating: lol_dataset/our485/low/517.png  \n",
            "  inflating: lol_dataset/our485/low/265.png  \n",
            "  inflating: lol_dataset/our485/low/259.png  \n",
            "  inflating: lol_dataset/our485/low/258.png  \n",
            "  inflating: lol_dataset/our485/low/264.png  \n",
            "  inflating: lol_dataset/our485/low/502.png  \n",
            "  inflating: lol_dataset/our485/low/728.png  \n",
            "  inflating: lol_dataset/our485/low/700.png  \n",
            "  inflating: lol_dataset/our485/low/714.png  \n",
            "  inflating: lol_dataset/our485/low/13.png  \n",
            "  inflating: lol_dataset/our485/low/648.png  \n",
            "  inflating: lol_dataset/our485/low/674.png  \n",
            "  inflating: lol_dataset/our485/low/112.png  \n",
            "  inflating: lol_dataset/our485/low/106.png  \n",
            "  inflating: lol_dataset/our485/low/660.png  \n",
            "  inflating: lol_dataset/our485/low/489.png  \n",
            "  inflating: lol_dataset/our485/low/476.png  \n",
            "  inflating: lol_dataset/our485/low/474.png  \n",
            "  inflating: lol_dataset/our485/low/460.png  \n",
            "  inflating: lol_dataset/our485/low/110.png  \n",
            "  inflating: lol_dataset/our485/low/676.png  \n",
            "  inflating: lol_dataset/our485/low/662.png  \n",
            "  inflating: lol_dataset/our485/low/104.png  \n",
            "  inflating: lol_dataset/our485/low/138.png  \n",
            "  inflating: lol_dataset/our485/low/39.png  \n",
            "  inflating: lol_dataset/our485/low/689.png  \n",
            "  inflating: lol_dataset/our485/low/702.png  \n",
            "  inflating: lol_dataset/our485/low/716.png  \n",
            "  inflating: lol_dataset/our485/low/500.png  \n",
            "  inflating: lol_dataset/our485/low/514.png  \n",
            "  inflating: lol_dataset/our485/low/528.png  \n",
            "  inflating: lol_dataset/our485/low/529.png  \n",
            "  inflating: lol_dataset/our485/low/515.png  \n",
            "  inflating: lol_dataset/our485/low/501.png  \n",
            "  inflating: lol_dataset/our485/low/267.png  \n",
            "  inflating: lol_dataset/our485/low/717.png  \n",
            "  inflating: lol_dataset/our485/low/703.png  \n",
            "  inflating: lol_dataset/our485/low/10.png  \n",
            "  inflating: lol_dataset/our485/low/688.png  \n",
            "  inflating: lol_dataset/our485/low/38.png  \n",
            "  inflating: lol_dataset/our485/low/139.png  \n",
            "  inflating: lol_dataset/our485/low/663.png  \n",
            "  inflating: lol_dataset/our485/low/105.png  \n",
            "  inflating: lol_dataset/our485/low/677.png  \n",
            "  inflating: lol_dataset/our485/low/475.png  \n",
            "  inflating: lol_dataset/our485/low/478.png  \n",
            "  inflating: lol_dataset/our485/low/450.png  \n",
            "  inflating: lol_dataset/our485/low/487.png  \n",
            "  inflating: lol_dataset/our485/low/120.png  \n",
            "  inflating: lol_dataset/our485/low/646.png  \n",
            "  inflating: lol_dataset/our485/low/35.png  \n",
            "  inflating: lol_dataset/our485/low/21.png  \n",
            "  inflating: lol_dataset/our485/low/691.png  \n",
            "  inflating: lol_dataset/our485/low/685.png  \n",
            "  inflating: lol_dataset/our485/low/726.png  \n",
            "  inflating: lol_dataset/our485/low/732.png  \n",
            "  inflating: lol_dataset/our485/low/242.png  \n",
            "  inflating: lol_dataset/our485/low/524.png  \n",
            "  inflating: lol_dataset/our485/low/530.png  \n",
            "  inflating: lol_dataset/our485/low/531.png  \n",
            "  inflating: lol_dataset/our485/low/257.png  \n",
            "  inflating: lol_dataset/our485/low/243.png  \n",
            "  inflating: lol_dataset/our485/low/525.png  \n",
            "  inflating: lol_dataset/our485/low/733.png  \n",
            "  inflating: lol_dataset/our485/low/727.png  \n",
            "  inflating: lol_dataset/our485/low/684.png  \n",
            "  inflating: lol_dataset/our485/low/690.png  \n",
            "  inflating: lol_dataset/our485/low/121.png  \n",
            "  inflating: lol_dataset/our485/low/647.png  \n",
            "  inflating: lol_dataset/our485/low/653.png  \n",
            "  inflating: lol_dataset/our485/low/135.png  \n",
            "  inflating: lol_dataset/our485/low/109.png  \n",
            "  inflating: lol_dataset/our485/low/486.png  \n",
            "  inflating: lol_dataset/our485/low/492.png  \n",
            "  inflating: lol_dataset/our485/low/479.png  \n",
            "  inflating: lol_dataset/our485/low/484.png  \n",
            "  inflating: lol_dataset/our485/low/490.png  \n",
            "  inflating: lol_dataset/our485/low/679.png  \n",
            "  inflating: lol_dataset/our485/low/645.png  \n",
            "  inflating: lol_dataset/our485/low/123.png  \n",
            "  inflating: lol_dataset/our485/low/137.png  \n",
            "  inflating: lol_dataset/our485/low/651.png  \n",
            "  inflating: lol_dataset/our485/low/36.png  \n",
            "  inflating: lol_dataset/our485/low/686.png  \n",
            "  inflating: lol_dataset/our485/low/692.png  \n",
            "  inflating: lol_dataset/our485/low/719.png  \n",
            "  inflating: lol_dataset/our485/low/731.png  \n",
            "  inflating: lol_dataset/our485/low/725.png  \n",
            "  inflating: lol_dataset/our485/low/533.png  \n",
            "  inflating: lol_dataset/our485/low/527.png  \n",
            "  inflating: lol_dataset/our485/low/241.png  \n",
            "  inflating: lol_dataset/our485/low/526.png  \n",
            "  inflating: lol_dataset/our485/low/240.png  \n",
            "  inflating: lol_dataset/our485/low/254.png  \n",
            "  inflating: lol_dataset/our485/low/532.png  \n",
            "  inflating: lol_dataset/our485/low/724.png  \n",
            "  inflating: lol_dataset/our485/low/730.png  \n",
            "  inflating: lol_dataset/our485/low/718.png  \n",
            "  inflating: lol_dataset/our485/low/693.png  \n",
            "  inflating: lol_dataset/our485/low/687.png  \n",
            "  inflating: lol_dataset/our485/low/136.png  \n",
            "  inflating: lol_dataset/our485/low/650.png  \n",
            "  inflating: lol_dataset/our485/low/644.png  \n",
            "  inflating: lol_dataset/our485/low/122.png  \n",
            "  inflating: lol_dataset/our485/low/678.png  \n",
            "  inflating: lol_dataset/our485/low/491.png  \n",
            "  inflating: lol_dataset/our485/low/485.png  \n",
            "  inflating: lol_dataset/our485/low/330.png  \n",
            "  inflating: lol_dataset/our485/low/481.png  \n",
            "  inflating: lol_dataset/our485/low/495.png  \n",
            "  inflating: lol_dataset/our485/low/126.png  \n",
            "  inflating: lol_dataset/our485/low/640.png  \n",
            "  inflating: lol_dataset/our485/low/654.png  \n",
            "  inflating: lol_dataset/our485/low/132.png  \n",
            "  inflating: lol_dataset/our485/low/668.png  \n",
            "  inflating: lol_dataset/our485/low/683.png  \n",
            "  inflating: lol_dataset/our485/low/697.png  \n",
            "  inflating: lol_dataset/our485/low/27.png  \n",
            "  inflating: lol_dataset/our485/low/33.png  \n",
            "  inflating: lol_dataset/our485/low/734.png  \n",
            "  inflating: lol_dataset/our485/low/720.png  \n",
            "  inflating: lol_dataset/our485/low/708.png  \n",
            "  inflating: lol_dataset/our485/low/250.png  \n",
            "  inflating: lol_dataset/our485/low/244.png  \n",
            "  inflating: lol_dataset/our485/low/522.png  \n",
            "  inflating: lol_dataset/our485/low/523.png  \n",
            "  inflating: lol_dataset/our485/low/537.png  \n",
            "  inflating: lol_dataset/our485/low/251.png  \n",
            "  inflating: lol_dataset/our485/low/709.png  \n",
            "  inflating: lol_dataset/our485/low/721.png  \n",
            "  inflating: lol_dataset/our485/low/735.png  \n",
            "  inflating: lol_dataset/our485/low/26.png  \n",
            "  inflating: lol_dataset/our485/low/696.png  \n",
            "  inflating: lol_dataset/our485/low/682.png  \n",
            "  inflating: lol_dataset/our485/low/655.png  \n",
            "  inflating: lol_dataset/our485/low/127.png  \n",
            "  inflating: lol_dataset/our485/low/641.png  \n",
            "  inflating: lol_dataset/our485/low/494.png  \n",
            "  inflating: lol_dataset/our485/low/480.png  \n",
            "  inflating: lol_dataset/our485/low/469.png  \n",
            "  inflating: lol_dataset/our485/low/496.png  \n",
            "  inflating: lol_dataset/our485/low/482.png  \n",
            "  inflating: lol_dataset/our485/low/131.png  \n",
            "  inflating: lol_dataset/our485/low/643.png  \n",
            "  inflating: lol_dataset/our485/low/125.png  \n",
            "  inflating: lol_dataset/our485/low/119.png  \n",
            "  inflating: lol_dataset/our485/low/694.png  \n",
            "  inflating: lol_dataset/our485/low/680.png  \n",
            "  inflating: lol_dataset/our485/low/18.png  \n",
            "  inflating: lol_dataset/our485/low/24.png  \n",
            "  inflating: lol_dataset/our485/low/723.png  \n",
            "  inflating: lol_dataset/our485/low/737.png  \n",
            "  inflating: lol_dataset/our485/low/247.png  \n",
            "  inflating: lol_dataset/our485/low/253.png  \n",
            "  inflating: lol_dataset/our485/low/535.png  \n",
            "  inflating: lol_dataset/our485/low/508.png  \n",
            "  inflating: lol_dataset/our485/low/252.png  \n",
            "  inflating: lol_dataset/our485/low/534.png  \n",
            "  inflating: lol_dataset/our485/low/246.png  \n",
            "  inflating: lol_dataset/our485/low/736.png  \n",
            "  inflating: lol_dataset/our485/low/722.png  \n",
            "  inflating: lol_dataset/our485/low/25.png  \n",
            "  inflating: lol_dataset/our485/low/681.png  \n",
            "  inflating: lol_dataset/our485/low/695.png  \n",
            "  inflating: lol_dataset/our485/low/118.png  \n",
            "  inflating: lol_dataset/our485/low/642.png  \n",
            "  inflating: lol_dataset/our485/low/124.png  \n",
            "  inflating: lol_dataset/our485/low/130.png  \n",
            "  inflating: lol_dataset/our485/low/483.png  \n",
            "  inflating: lol_dataset/our485/low/497.png  \n",
            "  inflating: lol_dataset/our485/low/468.png  \n",
            "  inflating: lol_dataset/our485/low/95.png  \n",
            "  inflating: lol_dataset/our485/low/81.png  \n",
            "  inflating: lol_dataset/our485/low/157.png  \n",
            "  inflating: lol_dataset/our485/low/625.png  \n",
            "  inflating: lol_dataset/our485/low/143.png  \n",
            "  inflating: lol_dataset/our485/low/56.png  \n",
            "  inflating: lol_dataset/our485/low/42.png  \n",
            "  inflating: lol_dataset/our485/low/194.png  \n",
            "  inflating: lol_dataset/our485/low/180.png  \n",
            "  inflating: lol_dataset/our485/low/779.png  \n",
            "  inflating: lol_dataset/our485/low/745.png  \n",
            "  inflating: lol_dataset/our485/low/751.png  \n",
            "  inflating: lol_dataset/our485/low/786.png  \n",
            "  inflating: lol_dataset/our485/low/209.png  \n",
            "  inflating: lol_dataset/our485/low/221.png  \n",
            "  inflating: lol_dataset/our485/low/235.png  \n",
            "  inflating: lol_dataset/our485/low/553.png  \n",
            "  inflating: lol_dataset/our485/low/590.png  \n",
            "  inflating: lol_dataset/our485/low/591.png  \n",
            "  inflating: lol_dataset/our485/low/585.png  \n",
            "  inflating: lol_dataset/our485/low/552.png  \n",
            "  inflating: lol_dataset/our485/low/546.png  \n",
            "  inflating: lol_dataset/our485/low/220.png  \n",
            "  inflating: lol_dataset/our485/low/787.png  \n",
            "  inflating: lol_dataset/our485/low/750.png  \n",
            "  inflating: lol_dataset/our485/low/744.png  \n",
            "  inflating: lol_dataset/our485/low/195.png  \n",
            "  inflating: lol_dataset/our485/low/43.png  \n",
            "  inflating: lol_dataset/our485/low/5.png  \n",
            "  inflating: lol_dataset/our485/low/57.png  \n",
            "  inflating: lol_dataset/our485/low/624.png  \n",
            "  inflating: lol_dataset/our485/low/142.png  \n",
            "  inflating: lol_dataset/our485/low/630.png  \n",
            "  inflating: lol_dataset/our485/low/80.png  \n",
            "  inflating: lol_dataset/our485/low/94.png  \n",
            "  inflating: lol_dataset/our485/low/342.png  \n",
            "  inflating: lol_dataset/our485/low/82.png  \n",
            "  inflating: lol_dataset/our485/low/96.png  \n",
            "  inflating: lol_dataset/our485/low/140.png  \n",
            "  inflating: lol_dataset/our485/low/626.png  \n",
            "  inflating: lol_dataset/our485/low/154.png  \n",
            "  inflating: lol_dataset/our485/low/183.png  \n",
            "  inflating: lol_dataset/our485/low/69.png  \n",
            "  inflating: lol_dataset/our485/low/752.png  \n",
            "  inflating: lol_dataset/our485/low/746.png  \n",
            "  inflating: lol_dataset/our485/low/785.png  \n",
            "  inflating: lol_dataset/our485/low/578.png  \n",
            "  inflating: lol_dataset/our485/low/550.png  \n",
            "  inflating: lol_dataset/our485/low/236.png  \n",
            "  inflating: lol_dataset/our485/low/222.png  \n",
            "  inflating: lol_dataset/our485/low/544.png  \n",
            "  inflating: lol_dataset/our485/low/593.png  \n",
            "  inflating: lol_dataset/our485/low/587.png  \n",
            "  inflating: lol_dataset/our485/low/586.png  \n",
            "  inflating: lol_dataset/our485/low/592.png  \n",
            "  inflating: lol_dataset/our485/low/545.png  \n",
            "  inflating: lol_dataset/our485/low/551.png  \n",
            "  inflating: lol_dataset/our485/low/237.png  \n",
            "  inflating: lol_dataset/our485/low/579.png  \n",
            "  inflating: lol_dataset/our485/low/784.png  \n",
            "  inflating: lol_dataset/our485/low/747.png  \n",
            "  inflating: lol_dataset/our485/low/68.png  \n",
            "  inflating: lol_dataset/our485/low/196.png  \n",
            "  inflating: lol_dataset/our485/low/54.png  \n",
            "  inflating: lol_dataset/our485/low/6.png  \n",
            "  inflating: lol_dataset/our485/low/40.png  \n",
            "  inflating: lol_dataset/our485/low/633.png  \n",
            "  inflating: lol_dataset/our485/low/141.png  \n",
            "  inflating: lol_dataset/our485/low/627.png  \n",
            "  inflating: lol_dataset/our485/low/97.png  \n",
            "  inflating: lol_dataset/our485/low/169.png  \n",
            "  inflating: lol_dataset/our485/low/83.png  \n",
            "  inflating: lol_dataset/our485/low/623.png  \n",
            "  inflating: lol_dataset/our485/low/145.png  \n",
            "  inflating: lol_dataset/our485/low/151.png  \n",
            "  inflating: lol_dataset/our485/low/637.png  \n",
            "  inflating: lol_dataset/our485/low/87.png  \n",
            "  inflating: lol_dataset/our485/low/93.png  \n",
            "  inflating: lol_dataset/our485/low/78.png  \n",
            "  inflating: lol_dataset/our485/low/186.png  \n",
            "  inflating: lol_dataset/our485/low/44.png  \n",
            "  inflating: lol_dataset/our485/low/2.png  \n",
            "  inflating: lol_dataset/our485/low/50.png  \n",
            "  inflating: lol_dataset/our485/low/757.png  \n",
            "  inflating: lol_dataset/our485/low/743.png  \n",
            "  inflating: lol_dataset/our485/low/233.png  \n",
            "  inflating: lol_dataset/our485/low/555.png  \n",
            "  inflating: lol_dataset/our485/low/541.png  \n",
            "  inflating: lol_dataset/our485/low/227.png  \n",
            "  inflating: lol_dataset/our485/low/569.png  \n",
            "  inflating: lol_dataset/our485/low/596.png  \n",
            "  inflating: lol_dataset/our485/low/583.png  \n",
            "  inflating: lol_dataset/our485/low/597.png  \n",
            "  inflating: lol_dataset/our485/low/568.png  \n",
            "  inflating: lol_dataset/our485/low/540.png  \n",
            "  inflating: lol_dataset/our485/low/232.png  \n",
            "  inflating: lol_dataset/our485/low/554.png  \n",
            "  inflating: lol_dataset/our485/low/781.png  \n",
            "  inflating: lol_dataset/our485/low/51.png  \n",
            "  inflating: lol_dataset/our485/low/45.png  \n",
            "  inflating: lol_dataset/our485/low/193.png  \n",
            "  inflating: lol_dataset/our485/low/187.png  \n",
            "  inflating: lol_dataset/our485/low/92.png  \n",
            "  inflating: lol_dataset/our485/low/86.png  \n",
            "  inflating: lol_dataset/our485/low/150.png  \n",
            "  inflating: lol_dataset/our485/low/622.png  \n",
            "  inflating: lol_dataset/our485/low/144.png  \n",
            "  inflating: lol_dataset/our485/low/344.png  \n",
            "  inflating: lol_dataset/our485/low/634.png  \n",
            "  inflating: lol_dataset/our485/low/152.png  \n",
            "  inflating: lol_dataset/our485/low/620.png  \n",
            "  inflating: lol_dataset/our485/low/608.png  \n",
            "  inflating: lol_dataset/our485/low/84.png  \n",
            "  inflating: lol_dataset/our485/low/191.png  \n",
            "  inflating: lol_dataset/our485/low/185.png  \n",
            "  inflating: lol_dataset/our485/low/53.png  \n",
            "  inflating: lol_dataset/our485/low/47.png  \n",
            "  inflating: lol_dataset/our485/low/740.png  \n",
            "  inflating: lol_dataset/our485/low/783.png  \n",
            "  inflating: lol_dataset/our485/low/542.png  \n",
            "  inflating: lol_dataset/our485/low/556.png  \n",
            "  inflating: lol_dataset/our485/low/230.png  \n",
            "  inflating: lol_dataset/our485/low/595.png  \n",
            "  inflating: lol_dataset/our485/low/594.png  \n",
            "  inflating: lol_dataset/our485/low/580.png  \n",
            "  inflating: lol_dataset/our485/low/219.png  \n",
            "  inflating: lol_dataset/our485/low/557.png  \n",
            "  inflating: lol_dataset/our485/low/231.png  \n",
            "  inflating: lol_dataset/our485/low/225.png  \n",
            "  inflating: lol_dataset/our485/low/543.png  \n",
            "  inflating: lol_dataset/our485/low/782.png  \n",
            "  inflating: lol_dataset/our485/low/769.png  \n",
            "  inflating: lol_dataset/our485/low/741.png  \n",
            "  inflating: lol_dataset/our485/low/46.png  \n",
            "  inflating: lol_dataset/our485/low/52.png  \n",
            "  inflating: lol_dataset/our485/low/184.png  \n",
            "  inflating: lol_dataset/our485/low/91.png  \n",
            "  inflating: lol_dataset/our485/low/609.png  \n",
            "  inflating: lol_dataset/our485/low/147.png  \n",
            "  inflating: lol_dataset/our485/low/621.png  \n"
          ]
        }
      ]
    },
    {
      "cell_type": "markdown",
      "metadata": {
        "id": "cCcLSSMm9xu1"
      },
      "source": [
        "## Creating a TensorFlow Dataset\n",
        "\n",
        "We use 300 low-light images from the LoL Dataset training set for training, and we use\n",
        "the remaining 185 low-light images for validation. We resize the images to size `256 x\n",
        "256` to be used for both training and validation. Note that in order to train the DCE-Net,\n",
        "we will not require the corresponding enhanced images."
      ]
    },
    {
      "cell_type": "code",
      "execution_count": null,
      "metadata": {
        "id": "u3IHEVQv9xu2",
        "colab": {
          "base_uri": "https://localhost:8080/"
        },
        "outputId": "efe2a857-4a70-433e-a800-351715f82882"
      },
      "outputs": [
        {
          "output_type": "stream",
          "name": "stdout",
          "text": [
            "Train Dataset: <BatchDataset element_spec=TensorSpec(shape=(16, 256, 256, 3), dtype=tf.float32, name=None)>\n",
            "Validation Dataset: <BatchDataset element_spec=TensorSpec(shape=(16, 256, 256, 3), dtype=tf.float32, name=None)>\n"
          ]
        }
      ],
      "source": [
        "IMAGE_SIZE = 256\n",
        "BATCH_SIZE = 16\n",
        "MAX_TRAIN_IMAGES = 400\n",
        "\n",
        "\n",
        "def load_data(image_path):\n",
        "    image = tf.io.read_file(image_path)\n",
        "    image = tf.image.decode_png(image, channels=3)\n",
        "    image = tf.image.resize(images=image, size=[IMAGE_SIZE, IMAGE_SIZE])\n",
        "    image = image / 255.0\n",
        "    return image\n",
        "\n",
        "\n",
        "def data_generator(low_light_images):\n",
        "    dataset = tf.data.Dataset.from_tensor_slices((low_light_images))\n",
        "    dataset = dataset.map(load_data, num_parallel_calls=tf.data.AUTOTUNE)\n",
        "    dataset = dataset.batch(BATCH_SIZE, drop_remainder=True)\n",
        "    return dataset\n",
        "\n",
        "\n",
        "train_low_light_images = sorted(glob(\"./lol_dataset/our485/low/*\"))[:MAX_TRAIN_IMAGES]\n",
        "val_low_light_images = sorted(glob(\"./lol_dataset/our485/low/*\"))[MAX_TRAIN_IMAGES:]\n",
        "test_low_light_images = sorted(glob(\"./lol_dataset/eval15/low/*\"))\n",
        "\n",
        "\n",
        "train_dataset = data_generator(train_low_light_images)\n",
        "val_dataset = data_generator(val_low_light_images)\n",
        "\n",
        "print(\"Train Dataset:\", train_dataset)\n",
        "print(\"Validation Dataset:\", val_dataset)"
      ]
    },
    {
      "cell_type": "markdown",
      "source": [
        "# Visualizing 100 train images from the Lol (low light) dataset"
      ],
      "metadata": {
        "id": "kjH22-6d3h3l"
      }
    },
    {
      "cell_type": "code",
      "source": [
        "wandb.init(project=\"low_light_zero_DCE\", job_type=\"EDA\")\n",
        "\n",
        "table = wandb.Table(columns=[\"Low light\", \"High light\"])\n",
        "\n",
        "for img_path in train_low_light_images[:100]:\n",
        "  #print(img_path)\n",
        "  lowlight_image = Image.open(img_path)\n",
        "  highlight_image = Image.open(img_path.replace(\"low\", \"high\"))\n",
        "  table.add_data(\n",
        "        wandb.Image(np.array(lowlight_image)),\n",
        "        wandb.Image(np.array(highlight_image)),\n",
        "    )\n",
        "\n",
        "\n",
        "wandb.log({\"Dataset table\": table})\n",
        "\n",
        "wandb.finish()"
      ],
      "metadata": {
        "id": "06w2lRIRxZvG",
        "colab": {
          "base_uri": "https://localhost:8080/",
          "height": 243,
          "referenced_widgets": [
            "1f2b439b85cc42ceaa011e06a97bfaa6",
            "32577dbccb2041a1ba2565557105961a",
            "662a1c04a10c4c4aa99532e6bde721ee",
            "d1df1bd355c045a89e21ce09bae84906",
            "d674ea9b72ac4e868f60e81b556f571e",
            "19eb2477ac864e66b88c78e7aa869eb7",
            "b5bf854c87ff4e149a7f12e7913be7e0",
            "4027eda558f74bb19d917e631c6d38f8",
            "3fc837cba2e840d08d705062b33da3d4",
            "cd57b9d8041a4d26884e3a687adef631",
            "1585078c58874b6c861bf1f1dd5b92d6",
            "15a1ddafd59344edbebc588a00b2c11d",
            "15f01146bcc14bfaa00723056e142e73",
            "7d6574d5f8b1426aa63b0fc63b98df42",
            "ad765337e549419fb89b6e659b4f5c72",
            "7fa0efe36bd44027b17d6d117e608f8d"
          ]
        },
        "outputId": "8759ffd5-d8ee-4455-a9c0-8cfea1f85ba6"
      },
      "execution_count": null,
      "outputs": [
        {
          "output_type": "display_data",
          "data": {
            "text/plain": [
              "<IPython.core.display.HTML object>"
            ],
            "text/html": [
              "Finishing last run (ID:6j65vfsn) before initializing another..."
            ]
          },
          "metadata": {}
        },
        {
          "output_type": "display_data",
          "data": {
            "text/plain": [
              "<IPython.core.display.HTML object>"
            ],
            "text/html": [
              "Waiting for W&B process to finish... <strong style=\"color:green\">(success).</strong>"
            ]
          },
          "metadata": {}
        },
        {
          "output_type": "display_data",
          "data": {
            "text/plain": [
              "VBox(children=(Label(value='0.294 MB of 0.294 MB uploaded (0.000 MB deduped)\\r'), FloatProgress(value=1.0, max…"
            ],
            "application/vnd.jupyter.widget-view+json": {
              "version_major": 2,
              "version_minor": 0,
              "model_id": "1f2b439b85cc42ceaa011e06a97bfaa6"
            }
          },
          "metadata": {}
        },
        {
          "output_type": "display_data",
          "data": {
            "text/plain": [
              "<IPython.core.display.HTML object>"
            ],
            "text/html": [
              "Synced <strong style=\"color:#cdcd00\">dainty-firefly-50</strong>: <a href=\"https://wandb.ai/ivangoncharov/uncategorized/runs/6j65vfsn\" target=\"_blank\">https://wandb.ai/ivangoncharov/uncategorized/runs/6j65vfsn</a><br/>Synced 5 W&B file(s), 0 media file(s), 4 artifact file(s) and 1 other file(s)"
            ]
          },
          "metadata": {}
        },
        {
          "output_type": "display_data",
          "data": {
            "text/plain": [
              "<IPython.core.display.HTML object>"
            ],
            "text/html": [
              "Find logs at: <code>./wandb/run-20220530_004109-6j65vfsn/logs</code>"
            ]
          },
          "metadata": {}
        },
        {
          "output_type": "display_data",
          "data": {
            "text/plain": [
              "<IPython.core.display.HTML object>"
            ],
            "text/html": [
              "Successfully finished last run (ID:6j65vfsn). Initializing new run:<br/>"
            ]
          },
          "metadata": {}
        },
        {
          "output_type": "display_data",
          "data": {
            "text/plain": [
              "<IPython.core.display.HTML object>"
            ],
            "text/html": [
              "Tracking run with wandb version 0.12.17"
            ]
          },
          "metadata": {}
        },
        {
          "output_type": "display_data",
          "data": {
            "text/plain": [
              "<IPython.core.display.HTML object>"
            ],
            "text/html": [
              "Run data is saved locally in <code>/content/wandb/run-20220530_004137-1pab20ib</code>"
            ]
          },
          "metadata": {}
        },
        {
          "output_type": "display_data",
          "data": {
            "text/plain": [
              "<IPython.core.display.HTML object>"
            ],
            "text/html": [
              "Syncing run <strong><a href=\"https://wandb.ai/ivangoncharov/low_light_zero_DCE/runs/1pab20ib\" target=\"_blank\">feasible-wildflower-26</a></strong> to <a href=\"https://wandb.ai/ivangoncharov/low_light_zero_DCE\" target=\"_blank\">Weights & Biases</a> (<a href=\"https://wandb.me/run\" target=\"_blank\">docs</a>)<br/>"
            ]
          },
          "metadata": {}
        },
        {
          "output_type": "display_data",
          "data": {
            "text/plain": [
              "<IPython.core.display.HTML object>"
            ],
            "text/html": [
              "Waiting for W&B process to finish... <strong style=\"color:green\">(success).</strong>"
            ]
          },
          "metadata": {}
        },
        {
          "output_type": "display_data",
          "data": {
            "text/plain": [
              "VBox(children=(Label(value='60.488 MB of 60.490 MB uploaded (0.000 MB deduped)\\r'), FloatProgress(value=0.9999…"
            ],
            "application/vnd.jupyter.widget-view+json": {
              "version_major": 2,
              "version_minor": 0,
              "model_id": "3fc837cba2e840d08d705062b33da3d4"
            }
          },
          "metadata": {}
        },
        {
          "output_type": "display_data",
          "data": {
            "text/plain": [
              "<IPython.core.display.HTML object>"
            ],
            "text/html": [
              "Synced <strong style=\"color:#cdcd00\">feasible-wildflower-26</strong>: <a href=\"https://wandb.ai/ivangoncharov/low_light_zero_DCE/runs/1pab20ib\" target=\"_blank\">https://wandb.ai/ivangoncharov/low_light_zero_DCE/runs/1pab20ib</a><br/>Synced 4 W&B file(s), 1 media file(s), 201 artifact file(s) and 0 other file(s)"
            ]
          },
          "metadata": {}
        },
        {
          "output_type": "display_data",
          "data": {
            "text/plain": [
              "<IPython.core.display.HTML object>"
            ],
            "text/html": [
              "Find logs at: <code>./wandb/run-20220530_004137-1pab20ib/logs</code>"
            ]
          },
          "metadata": {}
        }
      ]
    },
    {
      "cell_type": "markdown",
      "metadata": {
        "id": "uwxcjOBd9xu3"
      },
      "source": [
        "## The Zero-DCE Framework\n",
        "\n",
        "The goal of DCE-Net is to estimate a set of best-fitting light-enhancement curves\n",
        "(LE-curves) given an input image. The framework then maps all pixels of the input’s RGB\n",
        "channels by applying the curves iteratively to obtain the final enhanced image.\n",
        "\n",
        "### Understanding light-enhancement curves\n",
        "\n",
        "A ligh-enhancement curve is a kind of curve that can map a low-light image\n",
        "to its enhanced version automatically,\n",
        "where the self-adaptive curve parameters are solely dependent on the input image.\n",
        "When designing such a curve, three objectives should be taken into account:\n",
        "\n",
        "- Each pixel value of the enhanced image should be in the normalized range `[0,1]`, in order to\n",
        "avoid information loss induced by overflow truncation.\n",
        "- It should be monotonous, to preserve the contrast between neighboring pixels.\n",
        "- The shape of this curve should be as simple as possible,\n",
        "and the curve should be differentiable to allow backpropagation.\n",
        "\n",
        "The light-enhancement curve is separately applied to three RGB channels instead of solely on the\n",
        "illumination channel. The three-channel adjustment can better preserve the inherent color and reduce\n",
        "the risk of over-saturation.\n",
        "\n",
        "![](https://li-chongyi.github.io/Zero-DCE_files/framework.png)\n",
        "\n",
        "### DCE-Net\n",
        "\n",
        "The DCE-Net is a lightweight deep neural network that learns the mapping between an input\n",
        "image and its best-fitting curve parameter maps. The input to the DCE-Net is a low-light\n",
        "image while the outputs are a set of pixel-wise curve parameter maps for corresponding\n",
        "higher-order curves. It is a plain CNN of seven convolutional layers with symmetrical\n",
        "concatenation. Each layer consists of 32 convolutional kernels of size 3×3 and stride 1\n",
        "followed by the ReLU activation function. The last convolutional layer is followed by the\n",
        "Tanh activation function, which produces 24 parameter maps for 8 iterations, where each\n",
        "iteration requires three curve parameter maps for the three channels.\n",
        "\n",
        "![](https://i.imgur.com/HtIg34W.png)"
      ]
    },
    {
      "cell_type": "code",
      "execution_count": null,
      "metadata": {
        "id": "SsGUKBqm9xu4"
      },
      "outputs": [],
      "source": [
        "\n",
        "def build_dce_net():\n",
        "    input_img = keras.Input(shape=[None, None, 3])\n",
        "    conv1 = layers.Conv2D(\n",
        "        32, (3, 3), strides=(1, 1), activation=\"relu\", padding=\"same\"\n",
        "    )(input_img)\n",
        "    conv2 = layers.Conv2D(\n",
        "        32, (3, 3), strides=(1, 1), activation=\"relu\", padding=\"same\"\n",
        "    )(conv1)\n",
        "    conv3 = layers.Conv2D(\n",
        "        32, (3, 3), strides=(1, 1), activation=\"relu\", padding=\"same\"\n",
        "    )(conv2)\n",
        "    conv4 = layers.Conv2D(\n",
        "        32, (3, 3), strides=(1, 1), activation=\"relu\", padding=\"same\"\n",
        "    )(conv3)\n",
        "    int_con1 = layers.Concatenate(axis=-1)([conv4, conv3])\n",
        "    conv5 = layers.Conv2D(\n",
        "        32, (3, 3), strides=(1, 1), activation=\"relu\", padding=\"same\"\n",
        "    )(int_con1)\n",
        "    int_con2 = layers.Concatenate(axis=-1)([conv5, conv2])\n",
        "    conv6 = layers.Conv2D(\n",
        "        32, (3, 3), strides=(1, 1), activation=\"relu\", padding=\"same\"\n",
        "    )(int_con2)\n",
        "    int_con3 = layers.Concatenate(axis=-1)([conv6, conv1])\n",
        "    x_r = layers.Conv2D(24, (3, 3), strides=(1, 1), activation=\"tanh\", padding=\"same\")(\n",
        "        int_con3\n",
        "    )\n",
        "    return keras.Model(inputs=input_img, outputs=x_r)\n"
      ]
    },
    {
      "cell_type": "markdown",
      "metadata": {
        "id": "0MYlhqv89xu5"
      },
      "source": [
        "## Loss functions\n",
        "\n",
        "To enable zero-reference learning in DCE-Net, we use a set of differentiable\n",
        "zero-reference losses that allow us to evaluate the quality of enhanced images."
      ]
    },
    {
      "cell_type": "markdown",
      "metadata": {
        "id": "Ayq0W0d-9xu6"
      },
      "source": [
        "### Color constancy loss\n",
        "\n",
        "The *color constancy loss* is used to correct the potential color deviations in the\n",
        "enhanced image."
      ]
    },
    {
      "cell_type": "code",
      "execution_count": null,
      "metadata": {
        "id": "0NkFH5vV9xu6"
      },
      "outputs": [],
      "source": [
        "\n",
        "def color_constancy_loss(x):\n",
        "    mean_rgb = tf.reduce_mean(x, axis=(1, 2), keepdims=True)\n",
        "    mr, mg, mb = mean_rgb[:, :, :, 0], mean_rgb[:, :, :, 1], mean_rgb[:, :, :, 2]\n",
        "    d_rg = tf.square(mr - mg)\n",
        "    d_rb = tf.square(mr - mb)\n",
        "    d_gb = tf.square(mb - mg)\n",
        "    return tf.sqrt(tf.square(d_rg) + tf.square(d_rb) + tf.square(d_gb))\n"
      ]
    },
    {
      "cell_type": "markdown",
      "metadata": {
        "id": "rBfuedQH9xu7"
      },
      "source": [
        "### Exposure loss\n",
        "\n",
        "To restrain under-/over-exposed regions, we use the *exposure control loss*.\n",
        "It measures the distance between the average intensity value of a local region\n",
        "and a preset well-exposedness level (set to `0.6`)."
      ]
    },
    {
      "cell_type": "code",
      "execution_count": null,
      "metadata": {
        "id": "WUDjCUN59xu7"
      },
      "outputs": [],
      "source": [
        "\n",
        "def exposure_loss(x, mean_val=0.6):\n",
        "    x = tf.reduce_mean(x, axis=3, keepdims=True)\n",
        "    mean = tf.nn.avg_pool2d(x, ksize=16, strides=16, padding=\"VALID\")\n",
        "    return tf.reduce_mean(tf.square(mean - mean_val))\n"
      ]
    },
    {
      "cell_type": "markdown",
      "metadata": {
        "id": "SjbJNd8p9xu8"
      },
      "source": [
        "### Illumination smoothness loss\n",
        "\n",
        "To preserve the monotonicity relations between neighboring pixels, the\n",
        "*illumination smoothness loss* is added to each curve parameter map."
      ]
    },
    {
      "cell_type": "code",
      "execution_count": null,
      "metadata": {
        "id": "OeM_h57e9xu8"
      },
      "outputs": [],
      "source": [
        "\n",
        "def illumination_smoothness_loss(x):\n",
        "    batch_size = tf.shape(x)[0]\n",
        "    h_x = tf.shape(x)[1]\n",
        "    w_x = tf.shape(x)[2]\n",
        "    count_h = (tf.shape(x)[2] - 1) * tf.shape(x)[3]\n",
        "    count_w = tf.shape(x)[2] * (tf.shape(x)[3] - 1)\n",
        "    h_tv = tf.reduce_sum(tf.square((x[:, 1:, :, :] - x[:, : h_x - 1, :, :])))\n",
        "    w_tv = tf.reduce_sum(tf.square((x[:, :, 1:, :] - x[:, :, : w_x - 1, :])))\n",
        "    batch_size = tf.cast(batch_size, dtype=tf.float32)\n",
        "    count_h = tf.cast(count_h, dtype=tf.float32)\n",
        "    count_w = tf.cast(count_w, dtype=tf.float32)\n",
        "    return 2 * (h_tv / count_h + w_tv / count_w) / batch_size\n"
      ]
    },
    {
      "cell_type": "markdown",
      "metadata": {
        "id": "X6rgcLhp9xu8"
      },
      "source": [
        "### Spatial consistency loss\n",
        "\n",
        "The *spatial consistency loss* encourages spatial coherence of the enhanced image by\n",
        "preserving the contrast between neighboring regions across the input image and its enhanced version."
      ]
    },
    {
      "cell_type": "code",
      "execution_count": null,
      "metadata": {
        "id": "NZ2Zc7kJ9xu9"
      },
      "outputs": [],
      "source": [
        "\n",
        "class SpatialConsistencyLoss(keras.losses.Loss):\n",
        "    def __init__(self, **kwargs):\n",
        "        super(SpatialConsistencyLoss, self).__init__(reduction=\"none\")\n",
        "\n",
        "        self.left_kernel = tf.constant(\n",
        "            [[[[0, 0, 0]], [[-1, 1, 0]], [[0, 0, 0]]]], dtype=tf.float32\n",
        "        )\n",
        "        self.right_kernel = tf.constant(\n",
        "            [[[[0, 0, 0]], [[0, 1, -1]], [[0, 0, 0]]]], dtype=tf.float32\n",
        "        )\n",
        "        self.up_kernel = tf.constant(\n",
        "            [[[[0, -1, 0]], [[0, 1, 0]], [[0, 0, 0]]]], dtype=tf.float32\n",
        "        )\n",
        "        self.down_kernel = tf.constant(\n",
        "            [[[[0, 0, 0]], [[0, 1, 0]], [[0, -1, 0]]]], dtype=tf.float32\n",
        "        )\n",
        "\n",
        "    def call(self, y_true, y_pred):\n",
        "\n",
        "        original_mean = tf.reduce_mean(y_true, 3, keepdims=True)\n",
        "        enhanced_mean = tf.reduce_mean(y_pred, 3, keepdims=True)\n",
        "        original_pool = tf.nn.avg_pool2d(\n",
        "            original_mean, ksize=4, strides=4, padding=\"VALID\"\n",
        "        )\n",
        "        enhanced_pool = tf.nn.avg_pool2d(\n",
        "            enhanced_mean, ksize=4, strides=4, padding=\"VALID\"\n",
        "        )\n",
        "\n",
        "        d_original_left = tf.nn.conv2d(\n",
        "            original_pool, self.left_kernel, strides=[1, 1, 1, 1], padding=\"SAME\"\n",
        "        )\n",
        "        d_original_right = tf.nn.conv2d(\n",
        "            original_pool, self.right_kernel, strides=[1, 1, 1, 1], padding=\"SAME\"\n",
        "        )\n",
        "        d_original_up = tf.nn.conv2d(\n",
        "            original_pool, self.up_kernel, strides=[1, 1, 1, 1], padding=\"SAME\"\n",
        "        )\n",
        "        d_original_down = tf.nn.conv2d(\n",
        "            original_pool, self.down_kernel, strides=[1, 1, 1, 1], padding=\"SAME\"\n",
        "        )\n",
        "\n",
        "        d_enhanced_left = tf.nn.conv2d(\n",
        "            enhanced_pool, self.left_kernel, strides=[1, 1, 1, 1], padding=\"SAME\"\n",
        "        )\n",
        "        d_enhanced_right = tf.nn.conv2d(\n",
        "            enhanced_pool, self.right_kernel, strides=[1, 1, 1, 1], padding=\"SAME\"\n",
        "        )\n",
        "        d_enhanced_up = tf.nn.conv2d(\n",
        "            enhanced_pool, self.up_kernel, strides=[1, 1, 1, 1], padding=\"SAME\"\n",
        "        )\n",
        "        d_enhanced_down = tf.nn.conv2d(\n",
        "            enhanced_pool, self.down_kernel, strides=[1, 1, 1, 1], padding=\"SAME\"\n",
        "        )\n",
        "\n",
        "        d_left = tf.square(d_original_left - d_enhanced_left)\n",
        "        d_right = tf.square(d_original_right - d_enhanced_right)\n",
        "        d_up = tf.square(d_original_up - d_enhanced_up)\n",
        "        d_down = tf.square(d_original_down - d_enhanced_down)\n",
        "        return d_left + d_right + d_up + d_down\n"
      ]
    },
    {
      "cell_type": "markdown",
      "metadata": {
        "id": "Lmk5gNK59xu9"
      },
      "source": [
        "### Deep curve estimation model\n",
        "\n",
        "We implement the Zero-DCE framework as a Keras subclassed model."
      ]
    },
    {
      "cell_type": "code",
      "execution_count": null,
      "metadata": {
        "id": "CiZV4Nan9xu9"
      },
      "outputs": [],
      "source": [
        "\n",
        "class ZeroDCE(keras.Model):\n",
        "    def __init__(self, **kwargs):\n",
        "        super(ZeroDCE, self).__init__(**kwargs)\n",
        "        self.dce_model = build_dce_net()\n",
        "\n",
        "    def compile(self, learning_rate, **kwargs):\n",
        "        super(ZeroDCE, self).compile(**kwargs)\n",
        "        self.optimizer = keras.optimizers.Adam(learning_rate=learning_rate)\n",
        "        self.spatial_constancy_loss = SpatialConsistencyLoss(reduction=\"none\")\n",
        "\n",
        "    def get_enhanced_image(self, data, output):\n",
        "        r1 = output[:, :, :, :3]\n",
        "        r2 = output[:, :, :, 3:6]\n",
        "        r3 = output[:, :, :, 6:9]\n",
        "        r4 = output[:, :, :, 9:12]\n",
        "        r5 = output[:, :, :, 12:15]\n",
        "        r6 = output[:, :, :, 15:18]\n",
        "        r7 = output[:, :, :, 18:21]\n",
        "        r8 = output[:, :, :, 21:24]\n",
        "        x = data + r1 * (tf.square(data) - data)\n",
        "        x = x + r2 * (tf.square(x) - x)\n",
        "        x = x + r3 * (tf.square(x) - x)\n",
        "        enhanced_image = x + r4 * (tf.square(x) - x)\n",
        "        x = enhanced_image + r5 * (tf.square(enhanced_image) - enhanced_image)\n",
        "        x = x + r6 * (tf.square(x) - x)\n",
        "        x = x + r7 * (tf.square(x) - x)\n",
        "        enhanced_image = x + r8 * (tf.square(x) - x)\n",
        "        return enhanced_image\n",
        "\n",
        "    def call(self, data):\n",
        "        dce_net_output = self.dce_model(data)\n",
        "        return self.get_enhanced_image(data, dce_net_output)\n",
        "\n",
        "    def compute_losses(self, data, output):\n",
        "        enhanced_image = self.get_enhanced_image(data, output)\n",
        "        loss_illumination = 200 * illumination_smoothness_loss(output)\n",
        "        loss_spatial_constancy = tf.reduce_mean(\n",
        "            self.spatial_constancy_loss(enhanced_image, data)\n",
        "        )\n",
        "        loss_color_constancy = 5 * tf.reduce_mean(color_constancy_loss(enhanced_image))\n",
        "        loss_exposure = 10 * tf.reduce_mean(exposure_loss(enhanced_image))\n",
        "        total_loss = (\n",
        "            loss_illumination\n",
        "            + loss_spatial_constancy\n",
        "            + loss_color_constancy\n",
        "            + loss_exposure\n",
        "        )\n",
        "        return {\n",
        "            \"total_loss\": total_loss,\n",
        "            \"illumination_smoothness_loss\": loss_illumination,\n",
        "            \"spatial_constancy_loss\": loss_spatial_constancy,\n",
        "            \"color_constancy_loss\": loss_color_constancy,\n",
        "            \"exposure_loss\": loss_exposure,\n",
        "        }\n",
        "\n",
        "    def train_step(self, data):\n",
        "        with tf.GradientTape() as tape:\n",
        "            output = self.dce_model(data)\n",
        "            losses = self.compute_losses(data, output)\n",
        "        gradients = tape.gradient(\n",
        "            losses[\"total_loss\"], self.dce_model.trainable_weights\n",
        "        )\n",
        "        self.optimizer.apply_gradients(zip(gradients, self.dce_model.trainable_weights))\n",
        "        return losses\n",
        "\n",
        "    def test_step(self, data):\n",
        "        output = self.dce_model(data)\n",
        "        return self.compute_losses(data, output)\n",
        "\n",
        "    def save_weights(self, filepath, overwrite=True, save_format=None, options=None):\n",
        "        \"\"\"While saving the weights, we simply save the weights of the DCE-Net\"\"\"\n",
        "        self.dce_model.save_weights(\n",
        "            filepath, overwrite=overwrite, save_format=save_format, options=options\n",
        "        )\n",
        "\n",
        "    def load_weights(self, filepath, by_name=False, skip_mismatch=False, options=None):\n",
        "        \"\"\"While loading the weights, we simply load the weights of the DCE-Net\"\"\"\n",
        "        self.dce_model.load_weights(\n",
        "            filepath=filepath,\n",
        "            by_name=by_name,\n",
        "            skip_mismatch=skip_mismatch,\n",
        "            options=options,\n",
        "        )\n"
      ]
    },
    {
      "cell_type": "code",
      "source": [
        "wandb.init(project=\"low_light_zero_DCE\", job_type=\"training\")"
      ],
      "metadata": {
        "colab": {
          "base_uri": "https://localhost:8080/",
          "height": 108
        },
        "id": "El-Ra8hL_Miz",
        "outputId": "7776c6ee-5f63-4ada-eabf-6e1583743f44"
      },
      "execution_count": null,
      "outputs": [
        {
          "output_type": "stream",
          "name": "stderr",
          "text": [
            "\u001b[34m\u001b[1mwandb\u001b[0m: Currently logged in as: \u001b[33mivangoncharov\u001b[0m. Use \u001b[1m`wandb login --relogin`\u001b[0m to force relogin\n"
          ]
        },
        {
          "output_type": "display_data",
          "data": {
            "text/plain": [
              "<IPython.core.display.HTML object>"
            ],
            "text/html": [
              "Tracking run with wandb version 0.12.17"
            ]
          },
          "metadata": {}
        },
        {
          "output_type": "display_data",
          "data": {
            "text/plain": [
              "<IPython.core.display.HTML object>"
            ],
            "text/html": [
              "Run data is saved locally in <code>/content/wandb/run-20220530_004230-2lhzi30e</code>"
            ]
          },
          "metadata": {}
        },
        {
          "output_type": "display_data",
          "data": {
            "text/plain": [
              "<IPython.core.display.HTML object>"
            ],
            "text/html": [
              "Syncing run <strong><a href=\"https://wandb.ai/ivangoncharov/low_light_zero_DCE/runs/2lhzi30e\" target=\"_blank\">lilac-shape-27</a></strong> to <a href=\"https://wandb.ai/ivangoncharov/low_light_zero_DCE\" target=\"_blank\">Weights & Biases</a> (<a href=\"https://wandb.me/run\" target=\"_blank\">docs</a>)<br/>"
            ]
          },
          "metadata": {}
        },
        {
          "output_type": "execute_result",
          "data": {
            "text/html": [
              "<button onClick=\"this.nextSibling.style.display='block';this.style.display='none';\">Display W&B run</button><iframe src=\"https://wandb.ai/ivangoncharov/low_light_zero_DCE/runs/2lhzi30e?jupyter=true\" style=\"border:none;width:100%;height:420px;display:none;\"></iframe>"
            ],
            "text/plain": [
              "<wandb.sdk.wandb_run.Run at 0x7f0393d18bd0>"
            ]
          },
          "metadata": {},
          "execution_count": 13
        }
      ]
    },
    {
      "cell_type": "markdown",
      "metadata": {
        "id": "lm5JPfFS9xu-"
      },
      "source": [
        "## Training"
      ]
    },
    {
      "cell_type": "code",
      "source": [
        "wandb.config.learning_rate = 1e-4 "
      ],
      "metadata": {
        "id": "8y0N3mgoB_gR"
      },
      "execution_count": null,
      "outputs": []
    },
    {
      "cell_type": "code",
      "execution_count": null,
      "metadata": {
        "id": "Sn1VWCMP9xu_",
        "colab": {
          "base_uri": "https://localhost:8080/",
          "height": 1000
        },
        "outputId": "46c3e53c-6085-4f82-d447-7463842d313a"
      },
      "outputs": [
        {
          "output_type": "stream",
          "name": "stderr",
          "text": [
            "\u001b[34m\u001b[1mwandb\u001b[0m: \u001b[33mWARNING\u001b[0m The save_model argument by default saves the model in the HDF5 format that cannot save custom objects like subclassed models and custom layers. This behavior will be deprecated in a future release in favor of the SavedModel format. Meanwhile, the HDF5 model is saved as W&B files and the SavedModel as W&B Artifacts.\n"
          ]
        },
        {
          "output_type": "stream",
          "name": "stdout",
          "text": [
            "Epoch 1/50\n",
            " 6/25 [======>.......................] - ETA: 4s - total_loss: 5.3328 - illumination_smoothness_loss: 2.2776 - spatial_constancy_loss: 4.8812e-06 - color_constancy_loss: 0.0025 - exposure_loss: 3.0527WARNING:tensorflow:Callback method `on_train_batch_end` is slow compared to the batch time (batch time: 0.0198s vs `on_train_batch_end` time: 0.2006s). Check your callbacks.\n",
            "25/25 [==============================] - 22s 303ms/step - total_loss: 5.9886 - illumination_smoothness_loss: 3.0585 - spatial_constancy_loss: 1.9968e-05 - color_constancy_loss: 0.0027 - exposure_loss: 2.9274 - val_total_loss: 5.1403 - val_illumination_smoothness_loss: 2.1393 - val_spatial_constancy_loss: 1.9763e-05 - val_color_constancy_loss: 4.0618e-04 - val_exposure_loss: 3.0005 - _timestamp: 1653871424.0000 - _runtime: 74.0000\n",
            "Epoch 2/50\n",
            "25/25 [==============================] - 7s 292ms/step - total_loss: 4.8340 - illumination_smoothness_loss: 1.9148 - spatial_constancy_loss: 3.5805e-05 - color_constancy_loss: 0.0028 - exposure_loss: 2.9164 - val_total_loss: 4.2994 - val_illumination_smoothness_loss: 1.3093 - val_spatial_constancy_loss: 3.7667e-05 - val_color_constancy_loss: 4.6147e-04 - val_exposure_loss: 2.9896 - _timestamp: 1653871431.0000 - _runtime: 81.0000\n",
            "Epoch 3/50\n",
            "25/25 [==============================] - 7s 289ms/step - total_loss: 4.2285 - illumination_smoothness_loss: 1.3242 - spatial_constancy_loss: 7.1736e-05 - color_constancy_loss: 0.0030 - exposure_loss: 2.9013 - val_total_loss: 3.8511 - val_illumination_smoothness_loss: 0.8755 - val_spatial_constancy_loss: 7.7699e-05 - val_color_constancy_loss: 5.2598e-04 - val_exposure_loss: 2.9750 - _timestamp: 1653871442.0000 - _runtime: 92.0000\n",
            "Epoch 4/50\n",
            "25/25 [==============================] - 7s 290ms/step - total_loss: 3.8767 - illumination_smoothness_loss: 0.9859 - spatial_constancy_loss: 1.1540e-04 - color_constancy_loss: 0.0031 - exposure_loss: 2.8875 - val_total_loss: 3.6069 - val_illumination_smoothness_loss: 0.6428 - val_spatial_constancy_loss: 1.1761e-04 - val_color_constancy_loss: 5.2384e-04 - val_exposure_loss: 2.9635 - _timestamp: 1653871452.0000 - _runtime: 102.0000\n",
            "Epoch 5/50\n",
            "25/25 [==============================] - 7s 292ms/step - total_loss: 3.6515 - illumination_smoothness_loss: 0.7737 - spatial_constancy_loss: 1.6650e-04 - color_constancy_loss: 0.0032 - exposure_loss: 2.8744 - val_total_loss: 3.4536 - val_illumination_smoothness_loss: 0.5016 - val_spatial_constancy_loss: 1.6866e-04 - val_color_constancy_loss: 5.2561e-04 - val_exposure_loss: 2.9513 - _timestamp: 1653871462.0000 - _runtime: 112.0000\n",
            "Epoch 6/50\n",
            "25/25 [==============================] - 8s 299ms/step - total_loss: 3.4963 - illumination_smoothness_loss: 0.6326 - spatial_constancy_loss: 2.3262e-04 - color_constancy_loss: 0.0032 - exposure_loss: 2.8602 - val_total_loss: 3.3475 - val_illumination_smoothness_loss: 0.4084 - val_spatial_constancy_loss: 2.3207e-04 - val_color_constancy_loss: 5.2571e-04 - val_exposure_loss: 2.9384 - _timestamp: 1653871473.0000 - _runtime: 123.0000\n",
            "Epoch 7/50\n",
            "25/25 [==============================] - 8s 300ms/step - total_loss: 3.3831 - illumination_smoothness_loss: 0.5341 - spatial_constancy_loss: 3.1179e-04 - color_constancy_loss: 0.0033 - exposure_loss: 2.8454 - val_total_loss: 3.2705 - val_illumination_smoothness_loss: 0.3446 - val_spatial_constancy_loss: 3.0660e-04 - val_color_constancy_loss: 5.2503e-04 - val_exposure_loss: 2.9250 - _timestamp: 1653871483.0000 - _runtime: 133.0000\n",
            "Epoch 8/50\n",
            "25/25 [==============================] - 8s 301ms/step - total_loss: 3.2959 - illumination_smoothness_loss: 0.4624 - spatial_constancy_loss: 4.0621e-04 - color_constancy_loss: 0.0034 - exposure_loss: 2.8297 - val_total_loss: 3.2105 - val_illumination_smoothness_loss: 0.2990 - val_spatial_constancy_loss: 3.9943e-04 - val_color_constancy_loss: 5.3823e-04 - val_exposure_loss: 2.9106 - _timestamp: 1653871493.0000 - _runtime: 143.0000\n",
            "Epoch 9/50\n",
            "25/25 [==============================] - 8s 300ms/step - total_loss: 3.2248 - illumination_smoothness_loss: 0.4078 - spatial_constancy_loss: 5.1856e-04 - color_constancy_loss: 0.0036 - exposure_loss: 2.8130 - val_total_loss: 3.1609 - val_illumination_smoothness_loss: 0.2646 - val_spatial_constancy_loss: 5.1026e-04 - val_color_constancy_loss: 5.6065e-04 - val_exposure_loss: 2.8951 - _timestamp: 1653871501.0000 - _runtime: 151.0000\n",
            "Epoch 10/50\n",
            "25/25 [==============================] - 8s 308ms/step - total_loss: 3.1646 - illumination_smoothness_loss: 0.3651 - spatial_constancy_loss: 6.5177e-04 - color_constancy_loss: 0.0037 - exposure_loss: 2.7951 - val_total_loss: 3.1185 - val_illumination_smoothness_loss: 0.2384 - val_spatial_constancy_loss: 6.4183e-04 - val_color_constancy_loss: 5.8867e-04 - val_exposure_loss: 2.8788 - _timestamp: 1653871511.0000 - _runtime: 161.0000\n",
            "Epoch 11/50\n",
            "25/25 [==============================] - 8s 307ms/step - total_loss: 3.1120 - illumination_smoothness_loss: 0.3311 - spatial_constancy_loss: 8.0966e-04 - color_constancy_loss: 0.0039 - exposure_loss: 2.7762 - val_total_loss: 3.0811 - val_illumination_smoothness_loss: 0.2182 - val_spatial_constancy_loss: 8.0017e-04 - val_color_constancy_loss: 6.2195e-04 - val_exposure_loss: 2.8614 - _timestamp: 1653871521.0000 - _runtime: 171.0000\n",
            "Epoch 12/50\n",
            "25/25 [==============================] - 8s 310ms/step - total_loss: 3.0650 - illumination_smoothness_loss: 0.3036 - spatial_constancy_loss: 9.9577e-04 - color_constancy_loss: 0.0041 - exposure_loss: 2.7563 - val_total_loss: 3.0471 - val_illumination_smoothness_loss: 0.2023 - val_spatial_constancy_loss: 9.8668e-04 - val_color_constancy_loss: 6.5829e-04 - val_exposure_loss: 2.8431 - _timestamp: 1653871532.0000 - _runtime: 182.0000\n",
            "Epoch 13/50\n",
            "25/25 [==============================] - 8s 310ms/step - total_loss: 3.0220 - illumination_smoothness_loss: 0.2812 - spatial_constancy_loss: 0.0012 - color_constancy_loss: 0.0044 - exposure_loss: 2.7352 - val_total_loss: 3.0153 - val_illumination_smoothness_loss: 0.1900 - val_spatial_constancy_loss: 0.0012 - val_color_constancy_loss: 7.0139e-04 - val_exposure_loss: 2.8235 - _timestamp: 1653871542.0000 - _runtime: 192.0000\n",
            "Epoch 14/50\n",
            "25/25 [==============================] - 8s 308ms/step - total_loss: 2.9815 - illumination_smoothness_loss: 0.2630 - spatial_constancy_loss: 0.0015 - color_constancy_loss: 0.0046 - exposure_loss: 2.7123 - val_total_loss: 2.9844 - val_illumination_smoothness_loss: 0.1803 - val_spatial_constancy_loss: 0.0015 - val_color_constancy_loss: 7.5144e-04 - val_exposure_loss: 2.8018 - _timestamp: 1653871550.0000 - _runtime: 200.0000\n",
            "Epoch 15/50\n",
            "25/25 [==============================] - 8s 306ms/step - total_loss: 2.9415 - illumination_smoothness_loss: 0.2481 - spatial_constancy_loss: 0.0018 - color_constancy_loss: 0.0050 - exposure_loss: 2.6866 - val_total_loss: 2.9524 - val_illumination_smoothness_loss: 0.1730 - val_spatial_constancy_loss: 0.0018 - val_color_constancy_loss: 8.1828e-04 - val_exposure_loss: 2.7768 - _timestamp: 1653871560.0000 - _runtime: 210.0000\n",
            "Epoch 16/50\n",
            "25/25 [==============================] - 8s 302ms/step - total_loss: 2.8995 - illumination_smoothness_loss: 0.2367 - spatial_constancy_loss: 0.0023 - color_constancy_loss: 0.0054 - exposure_loss: 2.6551 - val_total_loss: 2.9165 - val_illumination_smoothness_loss: 0.1692 - val_spatial_constancy_loss: 0.0024 - val_color_constancy_loss: 9.2125e-04 - val_exposure_loss: 2.7440 - _timestamp: 1653871570.0000 - _runtime: 220.0000\n",
            "Epoch 17/50\n",
            "25/25 [==============================] - 8s 305ms/step - total_loss: 2.8495 - illumination_smoothness_loss: 0.2299 - spatial_constancy_loss: 0.0030 - color_constancy_loss: 0.0060 - exposure_loss: 2.6105 - val_total_loss: 2.8694 - val_illumination_smoothness_loss: 0.1702 - val_spatial_constancy_loss: 0.0033 - val_color_constancy_loss: 0.0011 - val_exposure_loss: 2.6947 - _timestamp: 1653871578.0000 - _runtime: 228.0000\n",
            "Epoch 18/50\n",
            "25/25 [==============================] - 8s 302ms/step - total_loss: 2.7732 - illumination_smoothness_loss: 0.2313 - spatial_constancy_loss: 0.0047 - color_constancy_loss: 0.0073 - exposure_loss: 2.5299 - val_total_loss: 2.7835 - val_illumination_smoothness_loss: 0.1822 - val_spatial_constancy_loss: 0.0057 - val_color_constancy_loss: 0.0016 - val_exposure_loss: 2.5940 - _timestamp: 1653871588.0000 - _runtime: 238.0000\n",
            "Epoch 19/50\n",
            "25/25 [==============================] - 8s 307ms/step - total_loss: 2.5887 - illumination_smoothness_loss: 0.2585 - spatial_constancy_loss: 0.0118 - color_constancy_loss: 0.0115 - exposure_loss: 2.3069 - val_total_loss: 2.5191 - val_illumination_smoothness_loss: 0.2259 - val_spatial_constancy_loss: 0.0188 - val_color_constancy_loss: 0.0042 - val_exposure_loss: 2.2702 - _timestamp: 1653871598.0000 - _runtime: 248.0000\n",
            "Epoch 20/50\n",
            "25/25 [==============================] - 8s 305ms/step - total_loss: 1.9626 - illumination_smoothness_loss: 0.3325 - spatial_constancy_loss: 0.0844 - color_constancy_loss: 0.0361 - exposure_loss: 1.5095 - val_total_loss: 1.7571 - val_illumination_smoothness_loss: 0.3275 - val_spatial_constancy_loss: 0.1749 - val_color_constancy_loss: 0.0229 - val_exposure_loss: 1.2317 - _timestamp: 1653871609.0000 - _runtime: 259.0000\n",
            "Epoch 21/50\n",
            "25/25 [==============================] - 8s 305ms/step - total_loss: 1.4288 - illumination_smoothness_loss: 0.3277 - spatial_constancy_loss: 0.2770 - color_constancy_loss: 0.0830 - exposure_loss: 0.7411 - val_total_loss: 1.5978 - val_illumination_smoothness_loss: 0.2374 - val_spatial_constancy_loss: 0.2232 - val_color_constancy_loss: 0.0332 - val_exposure_loss: 1.1041 - _timestamp: 1653871619.0000 - _runtime: 269.0000\n",
            "Epoch 22/50\n",
            "25/25 [==============================] - 8s 304ms/step - total_loss: 1.3410 - illumination_smoothness_loss: 0.2536 - spatial_constancy_loss: 0.2628 - color_constancy_loss: 0.0722 - exposure_loss: 0.7524 - val_total_loss: 1.5577 - val_illumination_smoothness_loss: 0.2022 - val_spatial_constancy_loss: 0.2311 - val_color_constancy_loss: 0.0345 - val_exposure_loss: 1.0899 - _timestamp: 1653871626.0000 - _runtime: 276.0000\n",
            "Epoch 23/50\n",
            "25/25 [==============================] - 8s 307ms/step - total_loss: 1.3136 - illumination_smoothness_loss: 0.2317 - spatial_constancy_loss: 0.2753 - color_constancy_loss: 0.0741 - exposure_loss: 0.7326 - val_total_loss: 1.5383 - val_illumination_smoothness_loss: 0.1899 - val_spatial_constancy_loss: 0.2334 - val_color_constancy_loss: 0.0353 - val_exposure_loss: 1.0797 - _timestamp: 1653871637.0000 - _runtime: 287.0000\n",
            "Epoch 24/50\n",
            "25/25 [==============================] - 8s 303ms/step - total_loss: 1.2957 - illumination_smoothness_loss: 0.2150 - spatial_constancy_loss: 0.2753 - color_constancy_loss: 0.0739 - exposure_loss: 0.7314 - val_total_loss: 1.5247 - val_illumination_smoothness_loss: 0.1760 - val_spatial_constancy_loss: 0.2363 - val_color_constancy_loss: 0.0360 - val_exposure_loss: 1.0765 - _timestamp: 1653871647.0000 - _runtime: 297.0000\n",
            "Epoch 25/50\n",
            "25/25 [==============================] - 8s 306ms/step - total_loss: 1.2828 - illumination_smoothness_loss: 0.2032 - spatial_constancy_loss: 0.2776 - color_constancy_loss: 0.0744 - exposure_loss: 0.7276 - val_total_loss: 1.5154 - val_illumination_smoothness_loss: 0.1718 - val_spatial_constancy_loss: 0.2390 - val_color_constancy_loss: 0.0363 - val_exposure_loss: 1.0683 - _timestamp: 1653871657.0000 - _runtime: 307.0000\n",
            "Epoch 26/50\n",
            "25/25 [==============================] - 8s 306ms/step - total_loss: 1.2730 - illumination_smoothness_loss: 0.1929 - spatial_constancy_loss: 0.2783 - color_constancy_loss: 0.0747 - exposure_loss: 0.7270 - val_total_loss: 1.5091 - val_illumination_smoothness_loss: 0.1658 - val_spatial_constancy_loss: 0.2433 - val_color_constancy_loss: 0.0375 - val_exposure_loss: 1.0625 - _timestamp: 1653871667.0000 - _runtime: 317.0000\n",
            "Epoch 27/50\n",
            "25/25 [==============================] - 8s 307ms/step - total_loss: 1.2607 - illumination_smoothness_loss: 0.1817 - spatial_constancy_loss: 0.2795 - color_constancy_loss: 0.0750 - exposure_loss: 0.7245 - val_total_loss: 1.4981 - val_illumination_smoothness_loss: 0.1571 - val_spatial_constancy_loss: 0.2434 - val_color_constancy_loss: 0.0375 - val_exposure_loss: 1.0600 - _timestamp: 1653871675.0000 - _runtime: 325.0000\n",
            "Epoch 28/50\n",
            "25/25 [==============================] - 8s 305ms/step - total_loss: 1.2516 - illumination_smoothness_loss: 0.1733 - spatial_constancy_loss: 0.2812 - color_constancy_loss: 0.0755 - exposure_loss: 0.7216 - val_total_loss: 1.4884 - val_illumination_smoothness_loss: 0.1456 - val_spatial_constancy_loss: 0.2422 - val_color_constancy_loss: 0.0376 - val_exposure_loss: 1.0631 - _timestamp: 1653871685.0000 - _runtime: 335.0000\n",
            "Epoch 29/50\n",
            "25/25 [==============================] - 8s 303ms/step - total_loss: 1.2444 - illumination_smoothness_loss: 0.1662 - spatial_constancy_loss: 0.2812 - color_constancy_loss: 0.0754 - exposure_loss: 0.7216 - val_total_loss: 1.4824 - val_illumination_smoothness_loss: 0.1417 - val_spatial_constancy_loss: 0.2446 - val_color_constancy_loss: 0.0382 - val_exposure_loss: 1.0580 - _timestamp: 1653871696.0000 - _runtime: 346.0000\n",
            "Epoch 30/50\n",
            "25/25 [==============================] - 8s 302ms/step - total_loss: 1.2383 - illumination_smoothness_loss: 0.1603 - spatial_constancy_loss: 0.2825 - color_constancy_loss: 0.0759 - exposure_loss: 0.7196 - val_total_loss: 1.4782 - val_illumination_smoothness_loss: 0.1379 - val_spatial_constancy_loss: 0.2460 - val_color_constancy_loss: 0.0387 - val_exposure_loss: 1.0557 - _timestamp: 1653871706.0000 - _runtime: 356.0000\n",
            "Epoch 31/50\n",
            "25/25 [==============================] - 8s 304ms/step - total_loss: 1.2303 - illumination_smoothness_loss: 0.1518 - spatial_constancy_loss: 0.2830 - color_constancy_loss: 0.0760 - exposure_loss: 0.7195 - val_total_loss: 1.4697 - val_illumination_smoothness_loss: 0.1291 - val_spatial_constancy_loss: 0.2447 - val_color_constancy_loss: 0.0388 - val_exposure_loss: 1.0571 - _timestamp: 1653871714.0000 - _runtime: 364.0000\n",
            "Epoch 32/50\n",
            "25/25 [==============================] - 8s 306ms/step - total_loss: 1.2227 - illumination_smoothness_loss: 0.1445 - spatial_constancy_loss: 0.2838 - color_constancy_loss: 0.0759 - exposure_loss: 0.7184 - val_total_loss: 1.4669 - val_illumination_smoothness_loss: 0.1282 - val_spatial_constancy_loss: 0.2496 - val_color_constancy_loss: 0.0397 - val_exposure_loss: 1.0493 - _timestamp: 1653871724.0000 - _runtime: 374.0000\n",
            "Epoch 33/50\n",
            "25/25 [==============================] - 8s 302ms/step - total_loss: 1.2161 - illumination_smoothness_loss: 0.1384 - spatial_constancy_loss: 0.2848 - color_constancy_loss: 0.0762 - exposure_loss: 0.7167 - val_total_loss: 1.4615 - val_illumination_smoothness_loss: 0.1232 - val_spatial_constancy_loss: 0.2493 - val_color_constancy_loss: 0.0397 - val_exposure_loss: 1.0493 - _timestamp: 1653871734.0000 - _runtime: 384.0000\n",
            "Epoch 34/50\n",
            "25/25 [==============================] - 8s 306ms/step - total_loss: 1.2088 - illumination_smoothness_loss: 0.1309 - spatial_constancy_loss: 0.2858 - color_constancy_loss: 0.0763 - exposure_loss: 0.7158 - val_total_loss: 1.4539 - val_illumination_smoothness_loss: 0.1149 - val_spatial_constancy_loss: 0.2489 - val_color_constancy_loss: 0.0397 - val_exposure_loss: 1.0503 - _timestamp: 1653871744.0000 - _runtime: 394.0000\n",
            "Epoch 35/50\n",
            "25/25 [==============================] - 8s 303ms/step - total_loss: 1.2022 - illumination_smoothness_loss: 0.1245 - spatial_constancy_loss: 0.2865 - color_constancy_loss: 0.0764 - exposure_loss: 0.7148 - val_total_loss: 1.4491 - val_illumination_smoothness_loss: 0.1105 - val_spatial_constancy_loss: 0.2499 - val_color_constancy_loss: 0.0400 - val_exposure_loss: 1.0487 - _timestamp: 1653871754.0000 - _runtime: 404.0000\n",
            "Epoch 36/50\n",
            "25/25 [==============================] - 8s 303ms/step - total_loss: 1.1971 - illumination_smoothness_loss: 0.1192 - spatial_constancy_loss: 0.2868 - color_constancy_loss: 0.0764 - exposure_loss: 0.7147 - val_total_loss: 1.4455 - val_illumination_smoothness_loss: 0.1076 - val_spatial_constancy_loss: 0.2512 - val_color_constancy_loss: 0.0402 - val_exposure_loss: 1.0466 - _timestamp: 1653871765.0000 - _runtime: 415.0000\n",
            "Epoch 37/50\n",
            "25/25 [==============================] - 8s 307ms/step - total_loss: 1.1919 - illumination_smoothness_loss: 0.1138 - spatial_constancy_loss: 0.2881 - color_constancy_loss: 0.0767 - exposure_loss: 0.7132 - val_total_loss: 1.4393 - val_illumination_smoothness_loss: 0.1000 - val_spatial_constancy_loss: 0.2490 - val_color_constancy_loss: 0.0400 - val_exposure_loss: 1.0503 - _timestamp: 1653871775.0000 - _runtime: 425.0000\n",
            "Epoch 38/50\n",
            "25/25 [==============================] - 8s 303ms/step - total_loss: 1.1870 - illumination_smoothness_loss: 0.1089 - spatial_constancy_loss: 0.2881 - color_constancy_loss: 0.0764 - exposure_loss: 0.7136 - val_total_loss: 1.4361 - val_illumination_smoothness_loss: 0.0978 - val_spatial_constancy_loss: 0.2516 - val_color_constancy_loss: 0.0403 - val_exposure_loss: 1.0465 - _timestamp: 1653871783.0000 - _runtime: 433.0000\n",
            "Epoch 39/50\n",
            "25/25 [==============================] - 8s 300ms/step - total_loss: 1.1821 - illumination_smoothness_loss: 0.1041 - spatial_constancy_loss: 0.2889 - color_constancy_loss: 0.0766 - exposure_loss: 0.7125 - val_total_loss: 1.4304 - val_illumination_smoothness_loss: 0.0921 - val_spatial_constancy_loss: 0.2514 - val_color_constancy_loss: 0.0401 - val_exposure_loss: 1.0467 - _timestamp: 1653871793.0000 - _runtime: 443.0000\n",
            "Epoch 40/50\n",
            "25/25 [==============================] - 8s 306ms/step - total_loss: 1.1780 - illumination_smoothness_loss: 0.1001 - spatial_constancy_loss: 0.2896 - color_constancy_loss: 0.0769 - exposure_loss: 0.7114 - val_total_loss: 1.4283 - val_illumination_smoothness_loss: 0.0900 - val_spatial_constancy_loss: 0.2521 - val_color_constancy_loss: 0.0403 - val_exposure_loss: 1.0459 - _timestamp: 1653871803.0000 - _runtime: 453.0000\n",
            "Epoch 41/50\n",
            "25/25 [==============================] - 8s 305ms/step - total_loss: 1.1739 - illumination_smoothness_loss: 0.0957 - spatial_constancy_loss: 0.2898 - color_constancy_loss: 0.0769 - exposure_loss: 0.7115 - val_total_loss: 1.4240 - val_illumination_smoothness_loss: 0.0856 - val_spatial_constancy_loss: 0.2523 - val_color_constancy_loss: 0.0404 - val_exposure_loss: 1.0458 - _timestamp: 1653871813.0000 - _runtime: 463.0000\n",
            "Epoch 42/50\n",
            "25/25 [==============================] - 8s 301ms/step - total_loss: 1.1697 - illumination_smoothness_loss: 0.0915 - spatial_constancy_loss: 0.2907 - color_constancy_loss: 0.0769 - exposure_loss: 0.7106 - val_total_loss: 1.4199 - val_illumination_smoothness_loss: 0.0814 - val_spatial_constancy_loss: 0.2524 - val_color_constancy_loss: 0.0403 - val_exposure_loss: 1.0458 - _timestamp: 1653871824.0000 - _runtime: 474.0000\n",
            "Epoch 43/50\n",
            "25/25 [==============================] - 8s 306ms/step - total_loss: 1.1658 - illumination_smoothness_loss: 0.0874 - spatial_constancy_loss: 0.2908 - color_constancy_loss: 0.0769 - exposure_loss: 0.7107 - val_total_loss: 1.4156 - val_illumination_smoothness_loss: 0.0766 - val_spatial_constancy_loss: 0.2518 - val_color_constancy_loss: 0.0403 - val_exposure_loss: 1.0469 - _timestamp: 1653871834.0000 - _runtime: 484.0000\n",
            "Epoch 44/50\n",
            "25/25 [==============================] - 8s 301ms/step - total_loss: 1.1620 - illumination_smoothness_loss: 0.0838 - spatial_constancy_loss: 0.2912 - color_constancy_loss: 0.0769 - exposure_loss: 0.7101 - val_total_loss: 1.4131 - val_illumination_smoothness_loss: 0.0742 - val_spatial_constancy_loss: 0.2528 - val_color_constancy_loss: 0.0403 - val_exposure_loss: 1.0458 - _timestamp: 1653871844.0000 - _runtime: 494.0000\n",
            "Epoch 45/50\n",
            "25/25 [==============================] - 8s 304ms/step - total_loss: 1.1591 - illumination_smoothness_loss: 0.0807 - spatial_constancy_loss: 0.2921 - color_constancy_loss: 0.0771 - exposure_loss: 0.7092 - val_total_loss: 1.4098 - val_illumination_smoothness_loss: 0.0703 - val_spatial_constancy_loss: 0.2520 - val_color_constancy_loss: 0.0401 - val_exposure_loss: 1.0474 - _timestamp: 1653871852.0000 - _runtime: 502.0000\n",
            "Epoch 46/50\n",
            "25/25 [==============================] - 8s 306ms/step - total_loss: 1.1552 - illumination_smoothness_loss: 0.0763 - spatial_constancy_loss: 0.2918 - color_constancy_loss: 0.0770 - exposure_loss: 0.7102 - val_total_loss: 1.4069 - val_illumination_smoothness_loss: 0.0674 - val_spatial_constancy_loss: 0.2526 - val_color_constancy_loss: 0.0402 - val_exposure_loss: 1.0468 - _timestamp: 1653871862.0000 - _runtime: 512.0000\n",
            "Epoch 47/50\n",
            "25/25 [==============================] - 8s 304ms/step - total_loss: 1.1515 - illumination_smoothness_loss: 0.0729 - spatial_constancy_loss: 0.2932 - color_constancy_loss: 0.0772 - exposure_loss: 0.7082 - val_total_loss: 1.4035 - val_illumination_smoothness_loss: 0.0637 - val_spatial_constancy_loss: 0.2523 - val_color_constancy_loss: 0.0400 - val_exposure_loss: 1.0475 - _timestamp: 1653871872.0000 - _runtime: 522.0000\n",
            "Epoch 48/50\n",
            "25/25 [==============================] - 8s 300ms/step - total_loss: 1.1488 - illumination_smoothness_loss: 0.0696 - spatial_constancy_loss: 0.2928 - color_constancy_loss: 0.0770 - exposure_loss: 0.7093 - val_total_loss: 1.4017 - val_illumination_smoothness_loss: 0.0625 - val_spatial_constancy_loss: 0.2540 - val_color_constancy_loss: 0.0403 - val_exposure_loss: 1.0449 - _timestamp: 1653871882.0000 - _runtime: 532.0000\n",
            "Epoch 49/50\n",
            "25/25 [==============================] - 8s 299ms/step - total_loss: 1.1455 - illumination_smoothness_loss: 0.0663 - spatial_constancy_loss: 0.2940 - color_constancy_loss: 0.0773 - exposure_loss: 0.7078 - val_total_loss: 1.3986 - val_illumination_smoothness_loss: 0.0589 - val_spatial_constancy_loss: 0.2535 - val_color_constancy_loss: 0.0402 - val_exposure_loss: 1.0460 - _timestamp: 1653871893.0000 - _runtime: 543.0000\n",
            "Epoch 50/50\n",
            "25/25 [==============================] - 8s 304ms/step - total_loss: 1.1426 - illumination_smoothness_loss: 0.0636 - spatial_constancy_loss: 0.2936 - color_constancy_loss: 0.0772 - exposure_loss: 0.7082 - val_total_loss: 1.3968 - val_illumination_smoothness_loss: 0.0575 - val_spatial_constancy_loss: 0.2547 - val_color_constancy_loss: 0.0404 - val_exposure_loss: 1.0443 - _timestamp: 1653871903.0000 - _runtime: 553.0000\n"
          ]
        },
        {
          "output_type": "display_data",
          "data": {
            "text/plain": [
              "<Figure size 432x288 with 1 Axes>"
            ],
            "image/png": "[encoded data removed]"
          },
          "metadata": {
            "needs_background": "light"
          }
        },
        {
          "output_type": "display_data",
          "data": {
            "text/plain": [
              "<Figure size 432x288 with 1 Axes>"
            ],
            "image/png": "[encoded data removed]"
          },
          "metadata": {
            "needs_background": "light"
          }
        },
        {
          "output_type": "display_data",
          "data": {
            "text/plain": [
              "<Figure size 432x288 with 1 Axes>"
            ],
            "image/png": "[encoded data removed]"
          },
          "metadata": {
            "needs_background": "light"
          }
        },
        {
          "output_type": "display_data",
          "data": {
            "text/plain": [
              "<Figure size 432x288 with 1 Axes>"
            ],
            "image/png": "[encoded data removed]"
          },
          "metadata": {
            "needs_background": "light"
          }
        },
        {
          "output_type": "display_data",
          "data": {
            "text/plain": [
              "<Figure size 432x288 with 1 Axes>"
            ],
            "image/png": "[encoded data removed]"
          },
          "metadata": {
            "needs_background": "light"
          }
        }
      ],
      "source": [
        "zero_dce_model = ZeroDCE()\n",
        "zero_dce_model.compile(learning_rate=wandb.config.learning_rate) \n",
        "history = zero_dce_model.fit(train_dataset, validation_data=val_dataset, epochs=50, callbacks=[WandbCallback()])\n",
        "\n",
        "\n",
        "def plot_result(item):\n",
        "    plt.plot(history.history[item], label=item)\n",
        "    plt.plot(history.history[\"val_\" + item], label=\"val_\" + item)\n",
        "    plt.xlabel(\"Epochs\")\n",
        "    plt.ylabel(item)\n",
        "    plt.title(\"Train and Validation {} Over Epochs\".format(item), fontsize=14)\n",
        "    plt.legend()\n",
        "    plt.grid()\n",
        "    plt.show()\n",
        "\n",
        "\n",
        "plot_result(\"total_loss\")\n",
        "plot_result(\"illumination_smoothness_loss\")\n",
        "plot_result(\"spatial_constancy_loss\")\n",
        "plot_result(\"color_constancy_loss\")\n",
        "plot_result(\"exposure_loss\")"
      ]
    },
    {
      "cell_type": "markdown",
      "metadata": {
        "id": "JShU_Ceg9xu_"
      },
      "source": [
        "## Inference"
      ]
    },
    {
      "cell_type": "code",
      "execution_count": null,
      "metadata": {
        "id": "T1e0pTnj9xu_"
      },
      "outputs": [],
      "source": [
        "\n",
        "def plot_results(images, titles, figure_size=(12, 12)):\n",
        "    fig = plt.figure(figsize=figure_size)\n",
        "    for i in range(len(images)):\n",
        "        fig.add_subplot(1, len(images), i + 1).set_title(titles[i])\n",
        "        _ = plt.imshow(images[i])\n",
        "        plt.axis(\"off\")\n",
        "    plt.show()\n",
        "\n",
        "\n",
        "def infer(original_image):\n",
        "    image = keras.preprocessing.image.img_to_array(original_image)\n",
        "    image = image.astype(\"float32\") / 255.0\n",
        "    image = np.expand_dims(image, axis=0)\n",
        "    output_image = zero_dce_model(image)\n",
        "    output_image = tf.cast((output_image[0, :, :, :] * 255), dtype=np.uint8)\n",
        "    output_image = Image.fromarray(output_image.numpy())\n",
        "    return output_image\n"
      ]
    },
    {
      "cell_type": "markdown",
      "metadata": {
        "id": "cxj77FNp9xvA"
      },
      "source": [
        "### Inference on test images and visualize results using W&B Tables\n"
      ]
    },
    {
      "cell_type": "code",
      "execution_count": null,
      "metadata": {
        "id": "tQLzG-Av9xvA",
        "colab": {
          "base_uri": "https://localhost:8080/",
          "height": 905,
          "referenced_widgets": [
            "0d0abb02e4ea4dd0b9e44ac57d2d993f",
            "6165bcf477e040c780522aa67642f22d",
            "20d11e74eb194400a989eca49165ac26",
            "210dd5ef7ec448989e5aaa67f38f8d87",
            "f437acc0b19d4eb49d5a4982a732e766",
            "0023f7e10809410e8567f6e527a6519d",
            "a2bae219442f400ba43259239eaf9ec2",
            "8adf726f892444c9b3cfb87a956b191d",
            "35c1aaef200842098562662d4ad70cd7",
            "7aa1d1cf64cf4c7080d0a4f3c320c83d",
            "bff2f7f99f4341258805ef917d685424",
            "e586158feab64fee8f6cb0a665e74f58",
            "0639eb86171743e293b9733a39cb153e",
            "42dc5c4b9e1a48269b47e66d9468a7e2",
            "3ea5aefe1dfa44c4a7c5cc88d6708661",
            "62d2e23fd44a47a5ac9b9aa48fa876b0"
          ]
        },
        "outputId": "afb00f65-7453-4989-eb53-5f0eb99cb3b1"
      },
      "outputs": [
        {
          "output_type": "display_data",
          "data": {
            "text/plain": [
              "<IPython.core.display.HTML object>"
            ],
            "text/html": [
              "Finishing last run (ID:2lhzi30e) before initializing another..."
            ]
          },
          "metadata": {}
        },
        {
          "output_type": "display_data",
          "data": {
            "text/plain": [
              "<IPython.core.display.HTML object>"
            ],
            "text/html": [
              "Waiting for W&B process to finish... <strong style=\"color:green\">(success).</strong>"
            ]
          },
          "metadata": {}
        },
        {
          "output_type": "display_data",
          "data": {
            "text/plain": [
              "VBox(children=(Label(value='1.245 MB of 1.245 MB uploaded (0.000 MB deduped)\\r'), FloatProgress(value=1.0, max…"
            ],
            "application/vnd.jupyter.widget-view+json": {
              "version_major": 2,
              "version_minor": 0,
              "model_id": "0d0abb02e4ea4dd0b9e44ac57d2d993f"
            }
          },
          "metadata": {}
        },
        {
          "output_type": "display_data",
          "data": {
            "text/plain": [
              "<IPython.core.display.HTML object>"
            ],
            "text/html": [
              "<style>\n",
              "    table.wandb td:nth-child(1) { padding: 0 10px; text-align: left ; width: auto;} td:nth-child(2) {text-align: left ; width: 100%}\n",
              "    .wandb-row { display: flex; flex-direction: row; flex-wrap: wrap; justify-content: flex-start; width: 100% }\n",
              "    .wandb-col { display: flex; flex-direction: column; flex-basis: 100%; flex: 1; padding: 10px; }\n",
              "    </style>\n",
              "<div class=\"wandb-row\"><div class=\"wandb-col\"><h3>Run history:</h3><br/><table class=\"wandb\"><tr><td>color_constancy_loss</td><td>▁▁▁▁▁▁▁▁▁▁▁▁▁▁▁▂▇▇██████████████████████</td></tr><tr><td>epoch</td><td>▁▁▁▁▂▂▂▂▂▃▃▃▃▃▃▄▄▄▄▄▅▅▅▅▅▅▆▆▆▆▆▆▇▇▇▇▇███</td></tr><tr><td>exposure_loss</td><td>████████▇▇▇▇▇▇▆▅▁▁▁▁▁▁▁▁▁▁▁▁▁▁▁▁▁▁▁▁▁▁▁▁</td></tr><tr><td>illumination_smoothness_loss</td><td>█▆▄▃▂▂▂▂▂▂▂▂▁▁▁▁▁▁▁▁▁▁▁▁▁▁▁▁▁▁▁▁▁▁▁▁▁▁▁▁</td></tr><tr><td>spatial_constancy_loss</td><td>▁▁▁▁▁▁▁▁▁▁▁▁▁▁▁▂▇███████████████████████</td></tr><tr><td>total_loss</td><td>█▆▅▅▄▄▄▄▄▃▃▃▃▃▃▃▁▁▁▁▁▁▁▁▁▁▁▁▁▁▁▁▁▁▁▁▁▁▁▁</td></tr><tr><td>val_color_constancy_loss</td><td>▁▁▁▁▁▁▁▁▁▁▁▁▁▁▁▂▇▇▇▇▇███████████████████</td></tr><tr><td>val_exposure_loss</td><td>█████████▇▇▇▇▇▇▅▁▁▁▁▁▁▁▁▁▁▁▁▁▁▁▁▁▁▁▁▁▁▁▁</td></tr><tr><td>val_illumination_smoothness_loss</td><td>█▅▄▃▂▂▂▂▂▁▁▁▁▁▁▂▂▁▁▁▁▁▁▁▁▁▁▁▁▁▁▁▁▁▁▁▁▁▁▁</td></tr><tr><td>val_spatial_constancy_loss</td><td>▁▁▁▁▁▁▁▁▁▁▁▁▁▁▁▂▇▇▇▇████████████████████</td></tr><tr><td>val_total_loss</td><td>█▆▆▅▅▅▄▄▄▄▄▄▄▄▄▃▁▁▁▁▁▁▁▁▁▁▁▁▁▁▁▁▁▁▁▁▁▁▁▁</td></tr></table><br/></div><div class=\"wandb-col\"><h3>Run summary:</h3><br/><table class=\"wandb\"><tr><td>color_constancy_loss</td><td>0.09123</td></tr><tr><td>epoch</td><td>49</td></tr><tr><td>exposure_loss</td><td>0.50629</td></tr><tr><td>illumination_smoothness_loss</td><td>0.0794</td></tr><tr><td>spatial_constancy_loss</td><td>0.34693</td></tr><tr><td>total_loss</td><td>1.02384</td></tr><tr><td>val_color_constancy_loss</td><td>0.04036</td></tr><tr><td>val_exposure_loss</td><td>1.04433</td></tr><tr><td>val_illumination_smoothness_loss</td><td>0.05745</td></tr><tr><td>val_spatial_constancy_loss</td><td>0.25466</td></tr><tr><td>val_total_loss</td><td>1.39681</td></tr></table><br/></div></div>"
            ]
          },
          "metadata": {}
        },
        {
          "output_type": "display_data",
          "data": {
            "text/plain": [
              "<IPython.core.display.HTML object>"
            ],
            "text/html": [
              "Synced <strong style=\"color:#cdcd00\">lilac-shape-27</strong>: <a href=\"https://wandb.ai/ivangoncharov/low_light_zero_DCE/runs/2lhzi30e\" target=\"_blank\">https://wandb.ai/ivangoncharov/low_light_zero_DCE/runs/2lhzi30e</a><br/>Synced 5 W&B file(s), 1 media file(s), 7 artifact file(s) and 1 other file(s)"
            ]
          },
          "metadata": {}
        },
        {
          "output_type": "display_data",
          "data": {
            "text/plain": [
              "<IPython.core.display.HTML object>"
            ],
            "text/html": [
              "Find logs at: <code>./wandb/run-20220530_004230-2lhzi30e/logs</code>"
            ]
          },
          "metadata": {}
        },
        {
          "output_type": "display_data",
          "data": {
            "text/plain": [
              "<IPython.core.display.HTML object>"
            ],
            "text/html": [
              "Successfully finished last run (ID:2lhzi30e). Initializing new run:<br/>"
            ]
          },
          "metadata": {}
        },
        {
          "output_type": "display_data",
          "data": {
            "text/plain": [
              "<IPython.core.display.HTML object>"
            ],
            "text/html": [
              "Tracking run with wandb version 0.12.17"
            ]
          },
          "metadata": {}
        },
        {
          "output_type": "display_data",
          "data": {
            "text/plain": [
              "<IPython.core.display.HTML object>"
            ],
            "text/html": [
              "Run data is saved locally in <code>/content/wandb/run-20220530_005426-2qdz5ln1</code>"
            ]
          },
          "metadata": {}
        },
        {
          "output_type": "display_data",
          "data": {
            "text/plain": [
              "<IPython.core.display.HTML object>"
            ],
            "text/html": [
              "Syncing run <strong><a href=\"https://wandb.ai/ivangoncharov/low_light_zero_DCE/runs/2qdz5ln1\" target=\"_blank\">firm-capybara-28</a></strong> to <a href=\"https://wandb.ai/ivangoncharov/low_light_zero_DCE\" target=\"_blank\">Weights & Biases</a> (<a href=\"https://wandb.me/run\" target=\"_blank\">docs</a>)<br/>"
            ]
          },
          "metadata": {}
        },
        {
          "output_type": "display_data",
          "data": {
            "text/plain": [
              "<IPython.core.display.HTML object>"
            ],
            "text/html": [
              "Waiting for W&B process to finish... <strong style=\"color:green\">(success).</strong>"
            ]
          },
          "metadata": {}
        },
        {
          "output_type": "display_data",
          "data": {
            "text/plain": [
              "VBox(children=(Label(value='16.517 MB of 16.517 MB uploaded (0.000 MB deduped)\\r'), FloatProgress(value=0.9999…"
            ],
            "application/vnd.jupyter.widget-view+json": {
              "version_major": 2,
              "version_minor": 0,
              "model_id": "35c1aaef200842098562662d4ad70cd7"
            }
          },
          "metadata": {}
        },
        {
          "output_type": "display_data",
          "data": {
            "text/plain": [
              "<IPython.core.display.HTML object>"
            ],
            "text/html": [
              "Synced <strong style=\"color:#cdcd00\">firm-capybara-28</strong>: <a href=\"https://wandb.ai/ivangoncharov/low_light_zero_DCE/runs/2qdz5ln1\" target=\"_blank\">https://wandb.ai/ivangoncharov/low_light_zero_DCE/runs/2qdz5ln1</a><br/>Synced 4 W&B file(s), 1 media file(s), 44 artifact file(s) and 0 other file(s)"
            ]
          },
          "metadata": {}
        },
        {
          "output_type": "display_data",
          "data": {
            "text/plain": [
              "<IPython.core.display.HTML object>"
            ],
            "text/html": [
              "Find logs at: <code>./wandb/run-20220530_005426-2qdz5ln1/logs</code>"
            ]
          },
          "metadata": {}
        }
      ],
      "source": [
        "wandb.init(project=\"low_light_zero_DCE\", job_type=\"predictions\")\n",
        "\n",
        "table = wandb.Table(columns=[\"Original\", \"PIL Autocontrast\", \"Enhanced\"])\n",
        "for val_image_file in test_low_light_images:\n",
        "    original_image = Image.open(val_image_file)\n",
        "    enhanced_image = infer(original_image)\n",
        "    table.add_data(\n",
        "        wandb.Image(np.array(original_image)),\n",
        "        wandb.Image(np.array(ImageOps.autocontrast(original_image))),\n",
        "        wandb.Image(np.array(enhanced_image))\n",
        "    )\n",
        "\n",
        "wandb.log({\"Inference Table\": table})\n",
        "\n",
        "wandb.finish()\n",
        "    "
      ]
    },
    {
      "cell_type": "code",
      "source": [
        "zero_dce_model.dce_model.save(\"model.h5\")"
      ],
      "metadata": {
        "colab": {
          "base_uri": "https://localhost:8080/"
        },
        "id": "igIM_o5GF2gS",
        "outputId": "f0fb4f72-1364-4ad3-bed0-8383c8a88ca7"
      },
      "execution_count": null,
      "outputs": [
        {
          "output_type": "stream",
          "name": "stdout",
          "text": [
            "WARNING:tensorflow:Compiled the loaded model, but the compiled metrics have yet to be built. `model.compile_metrics` will be empty until you train or evaluate the model.\n"
          ]
        }
      ]
    }
  ],
  "metadata": {
    "colab": {
      "collapsed_sections": [],
      "name": "Zero-DCE Colab Keras(video)",
      "provenance": []
    },
    "kernelspec": {
      "display_name": "Python 3",
      "language": "python",
      "name": "python3"
    },
    "language_info": {
      "codemirror_mode": {
        "name": "ipython",
        "version": 3
      },
      "file_extension": ".py",
      "mimetype": "text/x-python",
      "name": "python",
      "nbconvert_exporter": "python",
      "pygments_lexer": "ipython3",
      "version": "3.7.0"
    },
    "accelerator": "GPU",
    "widgets": {
      "application/vnd.jupyter.widget-state+json": {
        "1f2b439b85cc42ceaa011e06a97bfaa6": {
          "model_module": "@jupyter-widgets/controls",
          "model_name": "VBoxModel",
          "model_module_version": "1.5.0",
          "state": {
            "_dom_classes": [],
            "_model_module": "@jupyter-widgets/controls",
            "_model_module_version": "1.5.0",
            "_model_name": "VBoxModel",
            "_view_count": null,
            "_view_module": "@jupyter-widgets/controls",
            "_view_module_version": "1.5.0",
            "_view_name": "VBoxView",
            "box_style": "",
            "children": [
              "IPY_MODEL_32577dbccb2041a1ba2565557105961a",
              "IPY_MODEL_662a1c04a10c4c4aa99532e6bde721ee"
            ],
            "layout": "IPY_MODEL_d1df1bd355c045a89e21ce09bae84906"
          }
        },
        "32577dbccb2041a1ba2565557105961a": {
          "model_module": "@jupyter-widgets/controls",
          "model_name": "LabelModel",
          "model_module_version": "1.5.0",
          "state": {
            "_dom_classes": [],
            "_model_module": "@jupyter-widgets/controls",
            "_model_module_version": "1.5.0",
            "_model_name": "LabelModel",
            "_view_count": null,
            "_view_module": "@jupyter-widgets/controls",
            "_view_module_version": "1.5.0",
            "_view_name": "LabelView",
            "description": "",
            "description_tooltip": null,
            "layout": "IPY_MODEL_d674ea9b72ac4e868f60e81b556f571e",
            "placeholder": "​",
            "style": "IPY_MODEL_19eb2477ac864e66b88c78e7aa869eb7",
            "value": "0.344 MB of 0.344 MB uploaded (0.000 MB deduped)\r"
          }
        },
        "662a1c04a10c4c4aa99532e6bde721ee": {
          "model_module": "@jupyter-widgets/controls",
          "model_name": "FloatProgressModel",
          "model_module_version": "1.5.0",
          "state": {
            "_dom_classes": [],
            "_model_module": "@jupyter-widgets/controls",
            "_model_module_version": "1.5.0",
            "_model_name": "FloatProgressModel",
            "_view_count": null,
            "_view_module": "@jupyter-widgets/controls",
            "_view_module_version": "1.5.0",
            "_view_name": "ProgressView",
            "bar_style": "",
            "description": "",
            "description_tooltip": null,
            "layout": "IPY_MODEL_b5bf854c87ff4e149a7f12e7913be7e0",
            "max": 1,
            "min": 0,
            "orientation": "horizontal",
            "style": "IPY_MODEL_4027eda558f74bb19d917e631c6d38f8",
            "value": 1
          }
        },
        "d1df1bd355c045a89e21ce09bae84906": {
          "model_module": "@jupyter-widgets/base",
          "model_name": "LayoutModel",
          "model_module_version": "1.2.0",
          "state": {
            "_model_module": "@jupyter-widgets/base",
            "_model_module_version": "1.2.0",
            "_model_name": "LayoutModel",
            "_view_count": null,
            "_view_module": "@jupyter-widgets/base",
            "_view_module_version": "1.2.0",
            "_view_name": "LayoutView",
            "align_content": null,
            "align_items": null,
            "align_self": null,
            "border": null,
            "bottom": null,
            "display": null,
            "flex": null,
            "flex_flow": null,
            "grid_area": null,
            "grid_auto_columns": null,
            "grid_auto_flow": null,
            "grid_auto_rows": null,
            "grid_column": null,
            "grid_gap": null,
            "grid_row": null,
            "grid_template_areas": null,
            "grid_template_columns": null,
            "grid_template_rows": null,
            "height": null,
            "justify_content": null,
            "justify_items": null,
            "left": null,
            "margin": null,
            "max_height": null,
            "max_width": null,
            "min_height": null,
            "min_width": null,
            "object_fit": null,
            "object_position": null,
            "order": null,
            "overflow": null,
            "overflow_x": null,
            "overflow_y": null,
            "padding": null,
            "right": null,
            "top": null,
            "visibility": null,
            "width": null
          }
        },
        "d674ea9b72ac4e868f60e81b556f571e": {
          "model_module": "@jupyter-widgets/base",
          "model_name": "LayoutModel",
          "model_module_version": "1.2.0",
          "state": {
            "_model_module": "@jupyter-widgets/base",
            "_model_module_version": "1.2.0",
            "_model_name": "LayoutModel",
            "_view_count": null,
            "_view_module": "@jupyter-widgets/base",
            "_view_module_version": "1.2.0",
            "_view_name": "LayoutView",
            "align_content": null,
            "align_items": null,
            "align_self": null,
            "border": null,
            "bottom": null,
            "display": null,
            "flex": null,
            "flex_flow": null,
            "grid_area": null,
            "grid_auto_columns": null,
            "grid_auto_flow": null,
            "grid_auto_rows": null,
            "grid_column": null,
            "grid_gap": null,
            "grid_row": null,
            "grid_template_areas": null,
            "grid_template_columns": null,
            "grid_template_rows": null,
            "height": null,
            "justify_content": null,
            "justify_items": null,
            "left": null,
            "margin": null,
            "max_height": null,
            "max_width": null,
            "min_height": null,
            "min_width": null,
            "object_fit": null,
            "object_position": null,
            "order": null,
            "overflow": null,
            "overflow_x": null,
            "overflow_y": null,
            "padding": null,
            "right": null,
            "top": null,
            "visibility": null,
            "width": null
          }
        },
        "19eb2477ac864e66b88c78e7aa869eb7": {
          "model_module": "@jupyter-widgets/controls",
          "model_name": "DescriptionStyleModel",
          "model_module_version": "1.5.0",
          "state": {
            "_model_module": "@jupyter-widgets/controls",
            "_model_module_version": "1.5.0",
            "_model_name": "DescriptionStyleModel",
            "_view_count": null,
            "_view_module": "@jupyter-widgets/base",
            "_view_module_version": "1.2.0",
            "_view_name": "StyleView",
            "description_width": ""
          }
        },
        "b5bf854c87ff4e149a7f12e7913be7e0": {
          "model_module": "@jupyter-widgets/base",
          "model_name": "LayoutModel",
          "model_module_version": "1.2.0",
          "state": {
            "_model_module": "@jupyter-widgets/base",
            "_model_module_version": "1.2.0",
            "_model_name": "LayoutModel",
            "_view_count": null,
            "_view_module": "@jupyter-widgets/base",
            "_view_module_version": "1.2.0",
            "_view_name": "LayoutView",
            "align_content": null,
            "align_items": null,
            "align_self": null,
            "border": null,
            "bottom": null,
            "display": null,
            "flex": null,
            "flex_flow": null,
            "grid_area": null,
            "grid_auto_columns": null,
            "grid_auto_flow": null,
            "grid_auto_rows": null,
            "grid_column": null,
            "grid_gap": null,
            "grid_row": null,
            "grid_template_areas": null,
            "grid_template_columns": null,
            "grid_template_rows": null,
            "height": null,
            "justify_content": null,
            "justify_items": null,
            "left": null,
            "margin": null,
            "max_height": null,
            "max_width": null,
            "min_height": null,
            "min_width": null,
            "object_fit": null,
            "object_position": null,
            "order": null,
            "overflow": null,
            "overflow_x": null,
            "overflow_y": null,
            "padding": null,
            "right": null,
            "top": null,
            "visibility": null,
            "width": null
          }
        },
        "4027eda558f74bb19d917e631c6d38f8": {
          "model_module": "@jupyter-widgets/controls",
          "model_name": "ProgressStyleModel",
          "model_module_version": "1.5.0",
          "state": {
            "_model_module": "@jupyter-widgets/controls",
            "_model_module_version": "1.5.0",
            "_model_name": "ProgressStyleModel",
            "_view_count": null,
            "_view_module": "@jupyter-widgets/base",
            "_view_module_version": "1.2.0",
            "_view_name": "StyleView",
            "bar_color": null,
            "description_width": ""
          }
        },
        "3fc837cba2e840d08d705062b33da3d4": {
          "model_module": "@jupyter-widgets/controls",
          "model_name": "VBoxModel",
          "model_module_version": "1.5.0",
          "state": {
            "_dom_classes": [],
            "_model_module": "@jupyter-widgets/controls",
            "_model_module_version": "1.5.0",
            "_model_name": "VBoxModel",
            "_view_count": null,
            "_view_module": "@jupyter-widgets/controls",
            "_view_module_version": "1.5.0",
            "_view_name": "VBoxView",
            "box_style": "",
            "children": [
              "IPY_MODEL_cd57b9d8041a4d26884e3a687adef631",
              "IPY_MODEL_1585078c58874b6c861bf1f1dd5b92d6"
            ],
            "layout": "IPY_MODEL_15a1ddafd59344edbebc588a00b2c11d"
          }
        },
        "cd57b9d8041a4d26884e3a687adef631": {
          "model_module": "@jupyter-widgets/controls",
          "model_name": "LabelModel",
          "model_module_version": "1.5.0",
          "state": {
            "_dom_classes": [],
            "_model_module": "@jupyter-widgets/controls",
            "_model_module_version": "1.5.0",
            "_model_name": "LabelModel",
            "_view_count": null,
            "_view_module": "@jupyter-widgets/controls",
            "_view_module_version": "1.5.0",
            "_view_name": "LabelView",
            "description": "",
            "description_tooltip": null,
            "layout": "IPY_MODEL_15f01146bcc14bfaa00723056e142e73",
            "placeholder": "​",
            "style": "IPY_MODEL_7d6574d5f8b1426aa63b0fc63b98df42",
            "value": "60.498 MB of 60.498 MB uploaded (0.000 MB deduped)\r"
          }
        },
        "1585078c58874b6c861bf1f1dd5b92d6": {
          "model_module": "@jupyter-widgets/controls",
          "model_name": "FloatProgressModel",
          "model_module_version": "1.5.0",
          "state": {
            "_dom_classes": [],
            "_model_module": "@jupyter-widgets/controls",
            "_model_module_version": "1.5.0",
            "_model_name": "FloatProgressModel",
            "_view_count": null,
            "_view_module": "@jupyter-widgets/controls",
            "_view_module_version": "1.5.0",
            "_view_name": "ProgressView",
            "bar_style": "",
            "description": "",
            "description_tooltip": null,
            "layout": "IPY_MODEL_ad765337e549419fb89b6e659b4f5c72",
            "max": 1,
            "min": 0,
            "orientation": "horizontal",
            "style": "IPY_MODEL_7fa0efe36bd44027b17d6d117e608f8d",
            "value": 1
          }
        },
        "15a1ddafd59344edbebc588a00b2c11d": {
          "model_module": "@jupyter-widgets/base",
          "model_name": "LayoutModel",
          "model_module_version": "1.2.0",
          "state": {
            "_model_module": "@jupyter-widgets/base",
            "_model_module_version": "1.2.0",
            "_model_name": "LayoutModel",
            "_view_count": null,
            "_view_module": "@jupyter-widgets/base",
            "_view_module_version": "1.2.0",
            "_view_name": "LayoutView",
            "align_content": null,
            "align_items": null,
            "align_self": null,
            "border": null,
            "bottom": null,
            "display": null,
            "flex": null,
            "flex_flow": null,
            "grid_area": null,
            "grid_auto_columns": null,
            "grid_auto_flow": null,
            "grid_auto_rows": null,
            "grid_column": null,
            "grid_gap": null,
            "grid_row": null,
            "grid_template_areas": null,
            "grid_template_columns": null,
            "grid_template_rows": null,
            "height": null,
            "justify_content": null,
            "justify_items": null,
            "left": null,
            "margin": null,
            "max_height": null,
            "max_width": null,
            "min_height": null,
            "min_width": null,
            "object_fit": null,
            "object_position": null,
            "order": null,
            "overflow": null,
            "overflow_x": null,
            "overflow_y": null,
            "padding": null,
            "right": null,
            "top": null,
            "visibility": null,
            "width": null
          }
        },
        "15f01146bcc14bfaa00723056e142e73": {
          "model_module": "@jupyter-widgets/base",
          "model_name": "LayoutModel",
          "model_module_version": "1.2.0",
          "state": {
            "_model_module": "@jupyter-widgets/base",
            "_model_module_version": "1.2.0",
            "_model_name": "LayoutModel",
            "_view_count": null,
            "_view_module": "@jupyter-widgets/base",
            "_view_module_version": "1.2.0",
            "_view_name": "LayoutView",
            "align_content": null,
            "align_items": null,
            "align_self": null,
            "border": null,
            "bottom": null,
            "display": null,
            "flex": null,
            "flex_flow": null,
            "grid_area": null,
            "grid_auto_columns": null,
            "grid_auto_flow": null,
            "grid_auto_rows": null,
            "grid_column": null,
            "grid_gap": null,
            "grid_row": null,
            "grid_template_areas": null,
            "grid_template_columns": null,
            "grid_template_rows": null,
            "height": null,
            "justify_content": null,
            "justify_items": null,
            "left": null,
            "margin": null,
            "max_height": null,
            "max_width": null,
            "min_height": null,
            "min_width": null,
            "object_fit": null,
            "object_position": null,
            "order": null,
            "overflow": null,
            "overflow_x": null,
            "overflow_y": null,
            "padding": null,
            "right": null,
            "top": null,
            "visibility": null,
            "width": null
          }
        },
        "7d6574d5f8b1426aa63b0fc63b98df42": {
          "model_module": "@jupyter-widgets/controls",
          "model_name": "DescriptionStyleModel",
          "model_module_version": "1.5.0",
          "state": {
            "_model_module": "@jupyter-widgets/controls",
            "_model_module_version": "1.5.0",
            "_model_name": "DescriptionStyleModel",
            "_view_count": null,
            "_view_module": "@jupyter-widgets/base",
            "_view_module_version": "1.2.0",
            "_view_name": "StyleView",
            "description_width": ""
          }
        },
        "ad765337e549419fb89b6e659b4f5c72": {
          "model_module": "@jupyter-widgets/base",
          "model_name": "LayoutModel",
          "model_module_version": "1.2.0",
          "state": {
            "_model_module": "@jupyter-widgets/base",
            "_model_module_version": "1.2.0",
            "_model_name": "LayoutModel",
            "_view_count": null,
            "_view_module": "@jupyter-widgets/base",
            "_view_module_version": "1.2.0",
            "_view_name": "LayoutView",
            "align_content": null,
            "align_items": null,
            "align_self": null,
            "border": null,
            "bottom": null,
            "display": null,
            "flex": null,
            "flex_flow": null,
            "grid_area": null,
            "grid_auto_columns": null,
            "grid_auto_flow": null,
            "grid_auto_rows": null,
            "grid_column": null,
            "grid_gap": null,
            "grid_row": null,
            "grid_template_areas": null,
            "grid_template_columns": null,
            "grid_template_rows": null,
            "height": null,
            "justify_content": null,
            "justify_items": null,
            "left": null,
            "margin": null,
            "max_height": null,
            "max_width": null,
            "min_height": null,
            "min_width": null,
            "object_fit": null,
            "object_position": null,
            "order": null,
            "overflow": null,
            "overflow_x": null,
            "overflow_y": null,
            "padding": null,
            "right": null,
            "top": null,
            "visibility": null,
            "width": null
          }
        },
        "7fa0efe36bd44027b17d6d117e608f8d": {
          "model_module": "@jupyter-widgets/controls",
          "model_name": "ProgressStyleModel",
          "model_module_version": "1.5.0",
          "state": {
            "_model_module": "@jupyter-widgets/controls",
            "_model_module_version": "1.5.0",
            "_model_name": "ProgressStyleModel",
            "_view_count": null,
            "_view_module": "@jupyter-widgets/base",
            "_view_module_version": "1.2.0",
            "_view_name": "StyleView",
            "bar_color": null,
            "description_width": ""
          }
        },
        "0d0abb02e4ea4dd0b9e44ac57d2d993f": {
          "model_module": "@jupyter-widgets/controls",
          "model_name": "VBoxModel",
          "model_module_version": "1.5.0",
          "state": {
            "_dom_classes": [],
            "_model_module": "@jupyter-widgets/controls",
            "_model_module_version": "1.5.0",
            "_model_name": "VBoxModel",
            "_view_count": null,
            "_view_module": "@jupyter-widgets/controls",
            "_view_module_version": "1.5.0",
            "_view_name": "VBoxView",
            "box_style": "",
            "children": [
              "IPY_MODEL_6165bcf477e040c780522aa67642f22d",
              "IPY_MODEL_20d11e74eb194400a989eca49165ac26"
            ],
            "layout": "IPY_MODEL_210dd5ef7ec448989e5aaa67f38f8d87"
          }
        },
        "6165bcf477e040c780522aa67642f22d": {
          "model_module": "@jupyter-widgets/controls",
          "model_name": "LabelModel",
          "model_module_version": "1.5.0",
          "state": {
            "_dom_classes": [],
            "_model_module": "@jupyter-widgets/controls",
            "_model_module_version": "1.5.0",
            "_model_name": "LabelModel",
            "_view_count": null,
            "_view_module": "@jupyter-widgets/controls",
            "_view_module_version": "1.5.0",
            "_view_name": "LabelView",
            "description": "",
            "description_tooltip": null,
            "layout": "IPY_MODEL_f437acc0b19d4eb49d5a4982a732e766",
            "placeholder": "​",
            "style": "IPY_MODEL_0023f7e10809410e8567f6e527a6519d",
            "value": "1.416 MB of 1.416 MB uploaded (0.000 MB deduped)\r"
          }
        },
        "20d11e74eb194400a989eca49165ac26": {
          "model_module": "@jupyter-widgets/controls",
          "model_name": "FloatProgressModel",
          "model_module_version": "1.5.0",
          "state": {
            "_dom_classes": [],
            "_model_module": "@jupyter-widgets/controls",
            "_model_module_version": "1.5.0",
            "_model_name": "FloatProgressModel",
            "_view_count": null,
            "_view_module": "@jupyter-widgets/controls",
            "_view_module_version": "1.5.0",
            "_view_name": "ProgressView",
            "bar_style": "",
            "description": "",
            "description_tooltip": null,
            "layout": "IPY_MODEL_a2bae219442f400ba43259239eaf9ec2",
            "max": 1,
            "min": 0,
            "orientation": "horizontal",
            "style": "IPY_MODEL_8adf726f892444c9b3cfb87a956b191d",
            "value": 1
          }
        },
        "210dd5ef7ec448989e5aaa67f38f8d87": {
          "model_module": "@jupyter-widgets/base",
          "model_name": "LayoutModel",
          "model_module_version": "1.2.0",
          "state": {
            "_model_module": "@jupyter-widgets/base",
            "_model_module_version": "1.2.0",
            "_model_name": "LayoutModel",
            "_view_count": null,
            "_view_module": "@jupyter-widgets/base",
            "_view_module_version": "1.2.0",
            "_view_name": "LayoutView",
            "align_content": null,
            "align_items": null,
            "align_self": null,
            "border": null,
            "bottom": null,
            "display": null,
            "flex": null,
            "flex_flow": null,
            "grid_area": null,
            "grid_auto_columns": null,
            "grid_auto_flow": null,
            "grid_auto_rows": null,
            "grid_column": null,
            "grid_gap": null,
            "grid_row": null,
            "grid_template_areas": null,
            "grid_template_columns": null,
            "grid_template_rows": null,
            "height": null,
            "justify_content": null,
            "justify_items": null,
            "left": null,
            "margin": null,
            "max_height": null,
            "max_width": null,
            "min_height": null,
            "min_width": null,
            "object_fit": null,
            "object_position": null,
            "order": null,
            "overflow": null,
            "overflow_x": null,
            "overflow_y": null,
            "padding": null,
            "right": null,
            "top": null,
            "visibility": null,
            "width": null
          }
        },
        "f437acc0b19d4eb49d5a4982a732e766": {
          "model_module": "@jupyter-widgets/base",
          "model_name": "LayoutModel",
          "model_module_version": "1.2.0",
          "state": {
            "_model_module": "@jupyter-widgets/base",
            "_model_module_version": "1.2.0",
            "_model_name": "LayoutModel",
            "_view_count": null,
            "_view_module": "@jupyter-widgets/base",
            "_view_module_version": "1.2.0",
            "_view_name": "LayoutView",
            "align_content": null,
            "align_items": null,
            "align_self": null,
            "border": null,
            "bottom": null,
            "display": null,
            "flex": null,
            "flex_flow": null,
            "grid_area": null,
            "grid_auto_columns": null,
            "grid_auto_flow": null,
            "grid_auto_rows": null,
            "grid_column": null,
            "grid_gap": null,
            "grid_row": null,
            "grid_template_areas": null,
            "grid_template_columns": null,
            "grid_template_rows": null,
            "height": null,
            "justify_content": null,
            "justify_items": null,
            "left": null,
            "margin": null,
            "max_height": null,
            "max_width": null,
            "min_height": null,
            "min_width": null,
            "object_fit": null,
            "object_position": null,
            "order": null,
            "overflow": null,
            "overflow_x": null,
            "overflow_y": null,
            "padding": null,
            "right": null,
            "top": null,
            "visibility": null,
            "width": null
          }
        },
        "0023f7e10809410e8567f6e527a6519d": {
          "model_module": "@jupyter-widgets/controls",
          "model_name": "DescriptionStyleModel",
          "model_module_version": "1.5.0",
          "state": {
            "_model_module": "@jupyter-widgets/controls",
            "_model_module_version": "1.5.0",
            "_model_name": "DescriptionStyleModel",
            "_view_count": null,
            "_view_module": "@jupyter-widgets/base",
            "_view_module_version": "1.2.0",
            "_view_name": "StyleView",
            "description_width": ""
          }
        },
        "a2bae219442f400ba43259239eaf9ec2": {
          "model_module": "@jupyter-widgets/base",
          "model_name": "LayoutModel",
          "model_module_version": "1.2.0",
          "state": {
            "_model_module": "@jupyter-widgets/base",
            "_model_module_version": "1.2.0",
            "_model_name": "LayoutModel",
            "_view_count": null,
            "_view_module": "@jupyter-widgets/base",
            "_view_module_version": "1.2.0",
            "_view_name": "LayoutView",
            "align_content": null,
            "align_items": null,
            "align_self": null,
            "border": null,
            "bottom": null,
            "display": null,
            "flex": null,
            "flex_flow": null,
            "grid_area": null,
            "grid_auto_columns": null,
            "grid_auto_flow": null,
            "grid_auto_rows": null,
            "grid_column": null,
            "grid_gap": null,
            "grid_row": null,
            "grid_template_areas": null,
            "grid_template_columns": null,
            "grid_template_rows": null,
            "height": null,
            "justify_content": null,
            "justify_items": null,
            "left": null,
            "margin": null,
            "max_height": null,
            "max_width": null,
            "min_height": null,
            "min_width": null,
            "object_fit": null,
            "object_position": null,
            "order": null,
            "overflow": null,
            "overflow_x": null,
            "overflow_y": null,
            "padding": null,
            "right": null,
            "top": null,
            "visibility": null,
            "width": null
          }
        },
        "8adf726f892444c9b3cfb87a956b191d": {
          "model_module": "@jupyter-widgets/controls",
          "model_name": "ProgressStyleModel",
          "model_module_version": "1.5.0",
          "state": {
            "_model_module": "@jupyter-widgets/controls",
            "_model_module_version": "1.5.0",
            "_model_name": "ProgressStyleModel",
            "_view_count": null,
            "_view_module": "@jupyter-widgets/base",
            "_view_module_version": "1.2.0",
            "_view_name": "StyleView",
            "bar_color": null,
            "description_width": ""
          }
        },
        "35c1aaef200842098562662d4ad70cd7": {
          "model_module": "@jupyter-widgets/controls",
          "model_name": "VBoxModel",
          "model_module_version": "1.5.0",
          "state": {
            "_dom_classes": [],
            "_model_module": "@jupyter-widgets/controls",
            "_model_module_version": "1.5.0",
            "_model_name": "VBoxModel",
            "_view_count": null,
            "_view_module": "@jupyter-widgets/controls",
            "_view_module_version": "1.5.0",
            "_view_name": "VBoxView",
            "box_style": "",
            "children": [
              "IPY_MODEL_7aa1d1cf64cf4c7080d0a4f3c320c83d",
              "IPY_MODEL_bff2f7f99f4341258805ef917d685424"
            ],
            "layout": "IPY_MODEL_e586158feab64fee8f6cb0a665e74f58"
          }
        },
        "7aa1d1cf64cf4c7080d0a4f3c320c83d": {
          "model_module": "@jupyter-widgets/controls",
          "model_name": "LabelModel",
          "model_module_version": "1.5.0",
          "state": {
            "_dom_classes": [],
            "_model_module": "@jupyter-widgets/controls",
            "_model_module_version": "1.5.0",
            "_model_name": "LabelModel",
            "_view_count": null,
            "_view_module": "@jupyter-widgets/controls",
            "_view_module_version": "1.5.0",
            "_view_name": "LabelView",
            "description": "",
            "description_tooltip": null,
            "layout": "IPY_MODEL_0639eb86171743e293b9733a39cb153e",
            "placeholder": "​",
            "style": "IPY_MODEL_42dc5c4b9e1a48269b47e66d9468a7e2",
            "value": "16.525 MB of 16.525 MB uploaded (0.000 MB deduped)\r"
          }
        },
        "bff2f7f99f4341258805ef917d685424": {
          "model_module": "@jupyter-widgets/controls",
          "model_name": "FloatProgressModel",
          "model_module_version": "1.5.0",
          "state": {
            "_dom_classes": [],
            "_model_module": "@jupyter-widgets/controls",
            "_model_module_version": "1.5.0",
            "_model_name": "FloatProgressModel",
            "_view_count": null,
            "_view_module": "@jupyter-widgets/controls",
            "_view_module_version": "1.5.0",
            "_view_name": "ProgressView",
            "bar_style": "",
            "description": "",
            "description_tooltip": null,
            "layout": "IPY_MODEL_3ea5aefe1dfa44c4a7c5cc88d6708661",
            "max": 1,
            "min": 0,
            "orientation": "horizontal",
            "style": "IPY_MODEL_62d2e23fd44a47a5ac9b9aa48fa876b0",
            "value": 1
          }
        },
        "e586158feab64fee8f6cb0a665e74f58": {
          "model_module": "@jupyter-widgets/base",
          "model_name": "LayoutModel",
          "model_module_version": "1.2.0",
          "state": {
            "_model_module": "@jupyter-widgets/base",
            "_model_module_version": "1.2.0",
            "_model_name": "LayoutModel",
            "_view_count": null,
            "_view_module": "@jupyter-widgets/base",
            "_view_module_version": "1.2.0",
            "_view_name": "LayoutView",
            "align_content": null,
            "align_items": null,
            "align_self": null,
            "border": null,
            "bottom": null,
            "display": null,
            "flex": null,
            "flex_flow": null,
            "grid_area": null,
            "grid_auto_columns": null,
            "grid_auto_flow": null,
            "grid_auto_rows": null,
            "grid_column": null,
            "grid_gap": null,
            "grid_row": null,
            "grid_template_areas": null,
            "grid_template_columns": null,
            "grid_template_rows": null,
            "height": null,
            "justify_content": null,
            "justify_items": null,
            "left": null,
            "margin": null,
            "max_height": null,
            "max_width": null,
            "min_height": null,
            "min_width": null,
            "object_fit": null,
            "object_position": null,
            "order": null,
            "overflow": null,
            "overflow_x": null,
            "overflow_y": null,
            "padding": null,
            "right": null,
            "top": null,
            "visibility": null,
            "width": null
          }
        },
        "0639eb86171743e293b9733a39cb153e": {
          "model_module": "@jupyter-widgets/base",
          "model_name": "LayoutModel",
          "model_module_version": "1.2.0",
          "state": {
            "_model_module": "@jupyter-widgets/base",
            "_model_module_version": "1.2.0",
            "_model_name": "LayoutModel",
            "_view_count": null,
            "_view_module": "@jupyter-widgets/base",
            "_view_module_version": "1.2.0",
            "_view_name": "LayoutView",
            "align_content": null,
            "align_items": null,
            "align_self": null,
            "border": null,
            "bottom": null,
            "display": null,
            "flex": null,
            "flex_flow": null,
            "grid_area": null,
            "grid_auto_columns": null,
            "grid_auto_flow": null,
            "grid_auto_rows": null,
            "grid_column": null,
            "grid_gap": null,
            "grid_row": null,
            "grid_template_areas": null,
            "grid_template_columns": null,
            "grid_template_rows": null,
            "height": null,
            "justify_content": null,
            "justify_items": null,
            "left": null,
            "margin": null,
            "max_height": null,
            "max_width": null,
            "min_height": null,
            "min_width": null,
            "object_fit": null,
            "object_position": null,
            "order": null,
            "overflow": null,
            "overflow_x": null,
            "overflow_y": null,
            "padding": null,
            "right": null,
            "top": null,
            "visibility": null,
            "width": null
          }
        },
        "42dc5c4b9e1a48269b47e66d9468a7e2": {
          "model_module": "@jupyter-widgets/controls",
          "model_name": "DescriptionStyleModel",
          "model_module_version": "1.5.0",
          "state": {
            "_model_module": "@jupyter-widgets/controls",
            "_model_module_version": "1.5.0",
            "_model_name": "DescriptionStyleModel",
            "_view_count": null,
            "_view_module": "@jupyter-widgets/base",
            "_view_module_version": "1.2.0",
            "_view_name": "StyleView",
            "description_width": ""
          }
        },
        "3ea5aefe1dfa44c4a7c5cc88d6708661": {
          "model_module": "@jupyter-widgets/base",
          "model_name": "LayoutModel",
          "model_module_version": "1.2.0",
          "state": {
            "_model_module": "@jupyter-widgets/base",
            "_model_module_version": "1.2.0",
            "_model_name": "LayoutModel",
            "_view_count": null,
            "_view_module": "@jupyter-widgets/base",
            "_view_module_version": "1.2.0",
            "_view_name": "LayoutView",
            "align_content": null,
            "align_items": null,
            "align_self": null,
            "border": null,
            "bottom": null,
            "display": null,
            "flex": null,
            "flex_flow": null,
            "grid_area": null,
            "grid_auto_columns": null,
            "grid_auto_flow": null,
            "grid_auto_rows": null,
            "grid_column": null,
            "grid_gap": null,
            "grid_row": null,
            "grid_template_areas": null,
            "grid_template_columns": null,
            "grid_template_rows": null,
            "height": null,
            "justify_content": null,
            "justify_items": null,
            "left": null,
            "margin": null,
            "max_height": null,
            "max_width": null,
            "min_height": null,
            "min_width": null,
            "object_fit": null,
            "object_position": null,
            "order": null,
            "overflow": null,
            "overflow_x": null,
            "overflow_y": null,
            "padding": null,
            "right": null,
            "top": null,
            "visibility": null,
            "width": null
          }
        },
        "62d2e23fd44a47a5ac9b9aa48fa876b0": {
          "model_module": "@jupyter-widgets/controls",
          "model_name": "ProgressStyleModel",
          "model_module_version": "1.5.0",
          "state": {
            "_model_module": "@jupyter-widgets/controls",
            "_model_module_version": "1.5.0",
            "_model_name": "ProgressStyleModel",
            "_view_count": null,
            "_view_module": "@jupyter-widgets/base",
            "_view_module_version": "1.2.0",
            "_view_name": "StyleView",
            "bar_color": null,
            "description_width": ""
          }
        }
      }
    }
  },
  "nbformat": 4,
  "nbformat_minor": 0
}