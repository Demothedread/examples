{
 "cells": [
  {
   "cell_type": "markdown",
   "metadata": {},
   "source": [
    "<a href=\"https://colab.research.google.com/github/wandb/examples/blob/master/colabs/keras/dreambooth/train.ipynb\" target=\"_parent\"><img src=\"https://colab.research.google.com/assets/colab-badge.svg\" alt=\"Open In Colab\"/></a>\n",
    "<!--- @wandbcode{dreambooth-keras-train} -->"
   ]
  },
  {
   "attachments": {},
   "cell_type": "markdown",
   "metadata": {},
   "source": [
    "# 🧨 Dreambooth-Keras + WandB 🪄🐝\n",
    "\n",
    "[![](https://colab.research.google.com/assets/colab-badge.svg)](https://colab.research.google.com/github/soumik12345/dreambooth-keras/blob/main/notebooks/inference_wandb.ipynb)\n",
    "\n",
    "<!--- @wandbcode{dreambooth-keras-train} -->\n",
    "\n",
    "This notebook shows how to train a DreamBooth model for fine-tuning Stable Diffusion on a new visual concept."
   ]
  },
  {
   "attachments": {},
   "cell_type": "markdown",
   "metadata": {},
   "source": [
    "## 🌈 Install Dreambooth-Keras\n",
    "\n",
    "We would use [soumik12345/dreambooth-keras](https://github.com/soumik12345/dreambooth-keras) which is a fork of [sayakpaul/dreambooth-keras](https://github.com/sayakpaul/dreambooth-keras) developed by [**Sayak Paul**](https://github.com/sayakpaul) and [**Chansung Park**](https://github.com/deep-diver)."
   ]
  },
  {
   "cell_type": "code",
   "execution_count": null,
   "metadata": {},
   "outputs": [],
   "source": [
    "!pip install -q git+https://github.com/soumik12345/dreambooth-keras.git"
   ]
  },
  {
   "attachments": {},
   "cell_type": "markdown",
   "metadata": {},
   "source": [
    "Train using the CLI!!!"
   ]
  },
  {
   "cell_type": "code",
   "execution_count": null,
   "metadata": {},
   "outputs": [],
   "source": [
    "!python train_dreambooth.py \\\n",
    "    --instance_images_url geekyrakshit/dreambooth-keras/monkey-instance-images:v0 \\\n",
    "    --class_images_url geekyrakshit/dreambooth-keras/monkey-class-images:v0 \\\n",
    "    --class_category monkey \\\n",
    "    --img_resolution 256 \\\n",
    "    --mp \\\n",
    "    --log_wandb \\\n",
    "    --lr 5e-06 \\\n",
    "    --num_diffusion_steps 100 \\\n",
    "    --max_train_steps 1000 \\\n",
    "    --validation_prompts \\\n",
    "        \"a photo of sks monkey with a cat\" \\\n",
    "        \"a photo of sks monkey riding a bicycle\" \\\n",
    "        \"a photo of sks monkey as an astronaut\" \\\n",
    "        \"a photo of sks monkey in front of the taj mahal\" \\\n",
    "        \"a photo of sks monkey wearing sunglasses\" \\\n",
    "        \"a photo of sks monkey in the style of Rembrandt\" \\"
   ]
  }
 ],
 "metadata": {
  "accelerator": "GPU",
  "colab": {
   "include_colab_link": true,
   "provenance": [],
   "toc_visible": true
  },
  "kernelspec": {
   "display_name": "Python 3",
   "name": "python3"
  }
 },
 "nbformat": 4,
 "nbformat_minor": 2
}
