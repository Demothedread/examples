{
 "cells": [
  {
   "attachments": {},
   "cell_type": "markdown",
   "metadata": {},
   "source": [
    "# 🧨 Dreambooth-Keras + WandB 🪄🐝\n",
    "\n",
    "[![](https://colab.research.google.com/assets/colab-badge.svg)](https://colab.research.google.com/github/soumik12345/dreambooth-keras/blob/main/notebooks/inference_wandb.ipynb)\n",
    "\n",
    "<!--- @wandbcode{dreambooth-keras-train} -->\n",
    "\n",
    "This notebook shows how to train a DreamBooth model for fine-tuning Stable Diffusion on a new visual concept."
   ]
  },
  {
   "attachments": {},
   "cell_type": "markdown",
   "metadata": {},
   "source": [
    "## 🌈 Install Dreambooth-Keras\n",
    "\n",
    "We would use [soumik12345/dreambooth-keras](https://github.com/soumik12345/dreambooth-keras) which is a fork of [sayakpaul/dreambooth-keras](https://github.com/sayakpaul/dreambooth-keras) developed by [**Sayak Paul**](https://github.com/sayakpaul) and [**Chansung Park**](https://github.com/deep-diver)."
   ]
  },
  {
   "cell_type": "code",
   "execution_count": null,
   "metadata": {},
   "outputs": [],
   "source": [
    "!pip install -q git+https://github.com/soumik12345/dreambooth-keras.git"
   ]
  },
  {
   "attachments": {},
   "cell_type": "markdown",
   "metadata": {},
   "source": [
    "Train using the CLI!!!"
   ]
  },
  {
   "cell_type": "code",
   "execution_count": null,
   "metadata": {},
   "outputs": [],
   "source": [
    "!python train_dreambooth.py \\\n",
    "    --instance_images_url geekyrakshit/dreambooth-keras/monkey-instance-images:v0 \\\n",
    "    --class_images_url geekyrakshit/dreambooth-keras/monkey-class-images:v0 \\\n",
    "    --class_category monkey \\\n",
    "    --img_resolution 256 \\\n",
    "    --mp \\\n",
    "    --log_wandb \\\n",
    "    --lr 5e-06 \\\n",
    "    --num_diffusion_steps 100 \\\n",
    "    --max_train_steps 1000 \\\n",
    "    --validation_prompts \\\n",
    "        \"a photo of sks monkey with a cat\" \\\n",
    "        \"a photo of sks monkey riding a bicycle\" \\\n",
    "        \"a photo of sks monkey as an astronaut\" \\\n",
    "        \"a photo of sks monkey in front of the taj mahal\" \\\n",
    "        \"a photo of sks monkey wearing sunglasses\" \\\n",
    "        \"a photo of sks monkey in the style of Rembrandt\" \\"
   ]
  }
 ],
 "metadata": {
  "kernelspec": {
   "display_name": "base",
   "language": "python",
   "name": "python3"
  },
  "language_info": {
   "codemirror_mode": {
    "name": "ipython",
    "version": 3
   },
   "file_extension": ".py",
   "mimetype": "text/x-python",
   "name": "python",
   "nbconvert_exporter": "python",
   "pygments_lexer": "ipython3",
   "version": "3.7.12"
  },
  "orig_nbformat": 4,
  "vscode": {
   "interpreter": {
    "hash": "d4d1e4263499bec80672ea0156c357c1ee493ec2b1c70f0acce89fc37c4a6abe"
   }
  }
 },
 "nbformat": 4,
 "nbformat_minor": 2
}
