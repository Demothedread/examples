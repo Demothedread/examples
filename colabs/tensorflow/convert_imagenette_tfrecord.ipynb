{
 "cells": [
  {
   "cell_type": "markdown",
   "metadata": {},
   "source": [
    "<a href=\"https://colab.research.google.com/github/wandb/examples/blob/master/colabs/tensorflow/convert_imagenette_tfrecord.ipynb\" target=\"_parent\"><img src=\"https://colab.research.google.com/assets/colab-badge.svg\" alt=\"Open In Colab\"/></a>\n"
   ]
  },
  {
   "cell_type": "code",
   "execution_count": null,
   "metadata": {},
   "outputs": [],
   "source": [
    "!pip install -q wandb\n",
    "!wget https://s3.amazonaws.com/fast-ai-imageclas/imagenette2-320.tgz\n",
    "!tar -xzf imagenette2-320.tgz\n",
    "!rm imagenette2-320.tgz"
   ]
  },
  {
   "cell_type": "code",
   "execution_count": null,
   "metadata": {},
   "outputs": [],
   "source": [
    "import os\n",
    "import cv2\n",
    "import math\n",
    "import wandb\n",
    "import random\n",
    "import numpy as np\n",
    "from glob import glob\n",
    "from PIL import Image\n",
    "import tensorflow as tf\n",
    "from tqdm.auto import tqdm\n",
    "import matplotlib.pyplot as plt"
   ]
  },
  {
   "cell_type": "code",
   "execution_count": null,
   "metadata": {},
   "outputs": [],
   "source": [
    "LABEL_DICT = {\n",
    "    \"n01440764\": [\"tench\", 0],\n",
    "    \"n02102040\": [\"english_springer\", 1],\n",
    "    \"n02979186\": [\"cassette_player\", 2],\n",
    "    \"n03000684\": [\"chain_saw\", 3],\n",
    "    \"n03028079\": [\"church\", 4],\n",
    "    \"n03394916\": [\"french_horn\", 5],\n",
    "    \"n03417042\": [\"grabage_truck\", 6],\n",
    "    \"n03425413\": [\"gas_pump\", 7],\n",
    "    \"n03445777\": [\"golf_ball\", 8],\n",
    "    \"n03888257\": [\"parachute\", 9]\n",
    "}"
   ]
  },
  {
   "cell_type": "code",
   "execution_count": null,
   "metadata": {},
   "outputs": [],
   "source": [
    "wandb.init(\n",
    "    project=\"simple-training-loop\",\n",
    "    entity=\"jax-series\",\n",
    "    job_type=\"tfrecord\"\n",
    ")"
   ]
  },
  {
   "cell_type": "code",
   "execution_count": null,
   "metadata": {},
   "outputs": [],
   "source": [
    "def create_example(image_file, label):\n",
    "    feature = {\n",
    "        \"image\": tf.train.Feature(\n",
    "            bytes_list=tf.train.BytesList(\n",
    "                value=[tf.io.read_file(image_file).numpy()]\n",
    "            )\n",
    "        ),\n",
    "        \"label\": tf.train.Feature(\n",
    "            int64_list=tf.train.Int64List(value=[LABEL_DICT[label][1]])\n",
    "        ),\n",
    "        \"label_name\": tf.train.Feature(\n",
    "            bytes_list=tf.train.BytesList(\n",
    "                value=[LABEL_DICT[label][0].encode('utf8')]\n",
    "            )\n",
    "        )\n",
    "    }\n",
    "    return tf.train.Example(\n",
    "        features=tf.train.Features(feature=feature)\n",
    "    )"
   ]
  },
  {
   "cell_type": "code",
   "execution_count": null,
   "metadata": {},
   "outputs": [],
   "source": [
    "train_images = glob(os.path.join(\"imagenette2-320\", \"train/*/*.JPEG\"))\n",
    "random.shuffle(train_images)\n",
    "train_labels = [img.split(\"/\")[-2] for img in train_images]\n",
    "\n",
    "val_images = glob(os.path.join(\"imagenette2-320\", \"val/*/*.JPEG\"))\n",
    "random.shuffle(val_images)\n",
    "val_labels = [img.split(\"/\")[-2] for img in val_images]"
   ]
  },
  {
   "cell_type": "code",
   "execution_count": null,
   "metadata": {},
   "outputs": [],
   "source": [
    "def chunkify(input_list, chunk_size):\n",
    "    chunk_size = max(1, chunk_size)\n",
    "    return [\n",
    "        input_list[i: i + chunk_size]\n",
    "        for i in range(0, len(input_list), chunk_size)\n",
    "    ]\n",
    "\n",
    "\n",
    "def create_tfrecords(images, labels, max_chunk_size: int, dump_dir: str):\n",
    "    os.makedirs(dump_dir)\n",
    "    num_chunks = math.ceil(len(images) / max_chunk_size)\n",
    "    print(\"Total number of image-label pairs:\", len(images))\n",
    "    print(\"Total number of image-label pair chunks:\", num_chunks)\n",
    "    image_chunks = chunkify(images, max_chunk_size)\n",
    "    label_chunks = chunkify(labels, max_chunk_size)\n",
    "    table = wandb.Table(columns=[\n",
    "        \"Image\", \"Label-Name\", \"Label-ID\", \"Split-Name\", \"Chunk-ID\"\n",
    "    ])\n",
    "    for idx in range(num_chunks):\n",
    "        image_chunk = image_chunks[idx]\n",
    "        label_chunk = label_chunks[idx]\n",
    "        current_chunk_size = len(image_chunk)\n",
    "        file_name = \"%.2i-%.3i.tfrec\" % (idx + 1, current_chunk_size)\n",
    "        tfrecord_file = os.path.join(dump_dir, file_name)\n",
    "        writer = tf.io.TFRecordWriter(tfrecord_file)\n",
    "        progress_bar = tqdm(\n",
    "            range(current_chunk_size),\n",
    "            desc=f\"Writing {file_name}\"\n",
    "        )\n",
    "        for chunk_idx in progress_bar:\n",
    "            image = Image.open(image_chunk[chunk_idx])\n",
    "            table.add_data(\n",
    "                wandb.Image(image),\n",
    "                LABEL_DICT[label_chunk[chunk_idx]][0],\n",
    "                LABEL_DICT[label_chunk[chunk_idx]][1],\n",
    "                dump_dir.split(\"/\")[-1],\n",
    "                idx\n",
    "            )\n",
    "            example = create_example(\n",
    "                image_chunk[chunk_idx], label_chunk[chunk_idx]\n",
    "            )\n",
    "            writer.write(example.SerializeToString())\n",
    "        writer.close()\n",
    "    return table"
   ]
  },
  {
   "cell_type": "code",
   "execution_count": null,
   "metadata": {},
   "outputs": [],
   "source": [
    "print(\"Creating TFRecords for train data...\")\n",
    "train_table = create_tfrecords(\n",
    "    train_images,\n",
    "    train_labels,\n",
    "    max_chunk_size=512,\n",
    "    dump_dir=\"tfrecords/train\"\n",
    ")\n",
    "\n",
    "print(\"Creating TFRecords for validation data...\")\n",
    "val_table = create_tfrecords(\n",
    "    val_images,\n",
    "    val_labels,\n",
    "    max_chunk_size=512,\n",
    "    dump_dir=\"tfrecords/val\"\n",
    ")"
   ]
  },
  {
   "cell_type": "code",
   "execution_count": null,
   "metadata": {},
   "outputs": [],
   "source": [
    "wandb.log({\"Train-Data\": train_table})\n",
    "wandb.log({\"Validation-Data\": val_table})"
   ]
  },
  {
   "cell_type": "code",
   "execution_count": null,
   "metadata": {},
   "outputs": [],
   "source": [
    "def parse_tfrecord(example):\n",
    "    example = tf.io.parse_single_example(\n",
    "        example, {\n",
    "            \"image\": tf.io.FixedLenFeature([], tf.string),\n",
    "            \"label\": tf.io.VarLenFeature(tf.int64),\n",
    "            \"label_name\": tf.io.VarLenFeature(tf.string)\n",
    "        }\n",
    "    )\n",
    "    example[\"image\"] = tf.io.decode_jpeg(example[\"image\"], channels=3)\n",
    "    example[\"label\"] = tf.sparse.to_dense(example[\"label\"])\n",
    "    example[\"label_name\"] = tf.sparse.to_dense(example[\"label_name\"])\n",
    "    return example\n",
    "\n",
    "\n",
    "raw_dataset = tf.data.TFRecordDataset(glob(\"./tfrecords/train/*\"))\n",
    "parsed_dataset = raw_dataset.map(parse_tfrecord)"
   ]
  },
  {
   "cell_type": "code",
   "execution_count": null,
   "metadata": {},
   "outputs": [],
   "source": [
    "for features in parsed_dataset.take(1):\n",
    "    plt.imshow(features[\"image\"].numpy())\n",
    "    label = features[\"label\"].numpy()\n",
    "    label_name = features[\"label_name\"].numpy()\n",
    "    plt.title(f\"{label}-{label_name}\")\n",
    "    plt.show()"
   ]
  },
  {
   "cell_type": "code",
   "execution_count": null,
   "metadata": {},
   "outputs": [],
   "source": [
    "artifact = wandb.Artifact(\n",
    "    'imagenette-tfrecords',\n",
    "    type='dataset',\n",
    "    metadata={\n",
    "        \"author\": \"Jeremy Howard\",\n",
    "        \"title\": \"imagenette\",\n",
    "        \"url\": \"https://github.com/fastai/imagenette/\",\n",
    "        \"source\": \"https://s3.amazonaws.com/fast-ai-imageclas/imagenette2-320.tgz\"\n",
    "    }\n",
    ")\n",
    "artifact.add_dir('tfrecords')\n",
    "wandb.log_artifact(artifact, aliases=[\"320px\"])"
   ]
  },
  {
   "cell_type": "code",
   "execution_count": null,
   "metadata": {},
   "outputs": [],
   "source": [
    "wandb.finish()"
   ]
  },
  {
   "cell_type": "code",
   "execution_count": null,
   "metadata": {},
   "outputs": [],
   "source": []
  }
 ],
 "metadata": {
  "accelerator": "GPU",
  "colab": {
   "include_colab_link": true,
   "provenance": [],
   "toc_visible": true
  },
  "kernelspec": {
   "display_name": "Python 3",
   "name": "python3"
  }
 },
 "nbformat": 4,
 "nbformat_minor": 0
}
