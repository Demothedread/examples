{
  "nbformat": 4,
  "nbformat_minor": 0,
  "metadata": {
    "colab": {
      "name": "Hyperparameter Optimization in TensorFlow using W&B Sweeps",
      "private_outputs": true,
      "provenance": [],
      "collapsed_sections": [],
      "toc_visible": true,
      "include_colab_link": true
    },
    "kernelspec": {
      "display_name": "Python 3",
      "language": "python",
      "name": "python3"
    },
    "accelerator": "GPU"
  },
  "cells": [
    {
      "cell_type": "markdown",
      "metadata": {
        "id": "view-in-github",
        "colab_type": "text"
      },
      "source": [
        "<a href=\"https://colab.research.google.com/github/wandb/examples/blob/master/colabs/tensorflow/Hyperparameter_Optimization_in_TensorFlow_using_W%26B_Sweeps.ipynb\" target=\"_parent\"><img src=\"https://colab.research.google.com/assets/colab-badge.svg\" alt=\"Open In Colab\"/></a>"
      ]
    },
    {
      "cell_type": "markdown",
      "metadata": {
        "id": "4fAJo_LiBLWF"
      },
      "source": [
        "<img src=\"https://i.imgur.com/gb6B4ig.png\" width=\"400\" alt=\"Weights & Biases\" />\n",
        "\n",
        "# 🧹 Weights & Biases Sweep + ‍🌊 TensorFlow 2.x\n",
        "Use Weights & Biases for machine learning experiment tracking, dataset versioning, and project collaboration.\n"
      ]
    },
    {
      "cell_type": "markdown",
      "metadata": {
        "id": "h-i9WRI0V9zJ"
      },
      "source": [
        "\n",
        "<div><img /></div>\n",
        "\n",
        "<img src=\"http://wandb.me/mini-diagram\" width=\"650\" alt=\"Weights & Biases\" />\n",
        "\n",
        "<div><img /></div>\n",
        "\n",
        "Use Weights & Biases Sweeps to automate hyperparameter optimization and explore the space of possible models.\n",
        "\n",
        "<div><img /></div>\n",
        "\n",
        "![central sweep server 3.png](https://gblobscdn.gitbook.com/assets%2F-Lqya5RvLedGEWPhtkjU%2F-LyfPCyvV8By5YBltxfh%2F-LyfQsxswLC-6WKGgfGj%2Fcentral%20sweep%20server%203.png)\n",
        "\n",
        "<div><img /></div>\n"
      ]
    },
    {
      "cell_type": "markdown",
      "metadata": {
        "id": "4Z3v6tplWot3"
      },
      "source": [
        "\n",
        "## 🤔 Why Should I Use Sweeps?\n",
        "\n",
        "* **Quick setup**: With just a few lines of code you can run W&B sweeps.\n",
        "* **Transparent**: We cite all the algorithms we're using, and [our code is open source](https://github.com/wandb/client/tree/master/wandb/sweeps).\n",
        "* **Powerful**: Our sweeps are completely customizable and configurable. You can launch a sweep across dozens of machines, and it's just as easy as starting a sweep on your laptop.\n",
        "\n",
        "\n",
        "## What this notebook covers\n"
      ]
    },
    {
      "cell_type": "markdown",
      "metadata": {
        "id": "AeYakxL2WqUc"
      },
      "source": [
        "\n",
        "* Simple steps to get started with W&B Sweep with custom training loop in TensorFlow.\n",
        "* We will find best hyperparameters for our image classification task.\n",
        "\n",
        "**Note**: Sections starting with _Step_ are all you need to perform hyperparameter sweep in existing code.\n",
        "The rest of the code is there to set up a simple example.\n",
        "\n",
        "**[Check out the official documentation $\\rightarrow$](https://docs.wandb.com/sweeps)**\n",
        "\n"
      ]
    },
    {
      "cell_type": "markdown",
      "metadata": {
        "id": "PIIQxWeVW4Pj"
      },
      "source": [
        "# 🚀 Install, Import, and Log in"
      ]
    },
    {
      "cell_type": "markdown",
      "metadata": {
        "id": "wmlhYoBlOxYd"
      },
      "source": [
        "### Step 0️⃣: Install W&B"
      ]
    },
    {
      "cell_type": "code",
      "metadata": {
        "id": "sAZBTFNQq0ys"
      },
      "source": [
        "%%capture\n",
        "!pip install wandb"
      ],
      "execution_count": null,
      "outputs": []
    },
    {
      "cell_type": "markdown",
      "metadata": {
        "id": "Tu-KHLAeO3wi"
      },
      "source": [
        "### Step 1️⃣: Import W&B and Login"
      ]
    },
    {
      "cell_type": "code",
      "metadata": {
        "id": "jkWTZxIyysDm"
      },
      "source": [
        "import tensorflow as tf\n",
        "from tensorflow import keras\n",
        "from tensorflow.keras.datasets import cifar10\n",
        "\n",
        "import os\n",
        "import numpy as np\n",
        "import pandas as pd\n",
        "import matplotlib.pyplot as plt\n",
        "\n",
        "%matplotlib inline"
      ],
      "execution_count": null,
      "outputs": []
    },
    {
      "cell_type": "code",
      "metadata": {
        "id": "XmVkQbw_q_07"
      },
      "source": [
        "import wandb\n",
        "from wandb.keras import WandbCallback\n",
        "\n",
        "wandb.login()"
      ],
      "execution_count": null,
      "outputs": []
    },
    {
      "cell_type": "markdown",
      "metadata": {
        "id": "hNw4gP_Oqx7c"
      },
      "source": [
        "> Side note: If this is your first time using W&B or you are not logged in, the link that appears after running `wandb.login()` will take you to sign-up/login page. Signing up is as easy as a few clicks."
      ]
    },
    {
      "cell_type": "markdown",
      "metadata": {
        "id": "Nhe7pVMlwv4H"
      },
      "source": [
        "# 👩‍🍳 Prepare Dataset"
      ]
    },
    {
      "cell_type": "code",
      "metadata": {
        "id": "xnxsNbPmMvqr"
      },
      "source": [
        "# Prepare the training dataset\n",
        "(x_train, y_train), (x_test, y_test) = keras.datasets.mnist.load_data()\n",
        "\n",
        "x_train = x_train/255.\n",
        "x_test = x_test/255.\n",
        "x_train = np.reshape(x_train, (-1, 784))\n",
        "x_test = np.reshape(x_test, (-1, 784))"
      ],
      "execution_count": null,
      "outputs": []
    },
    {
      "cell_type": "markdown",
      "metadata": {
        "id": "ftU5d82stSdV"
      },
      "source": [
        "# 🧠 Define the Model and Training Loop"
      ]
    },
    {
      "cell_type": "markdown",
      "metadata": {
        "id": "aBQZ87FiXkFl"
      },
      "source": [
        "## 🏗️ Build a Simple Classifier MLP"
      ]
    },
    {
      "cell_type": "code",
      "metadata": {
        "id": "Xd8GpFudzEiU"
      },
      "source": [
        "def Model():\n",
        "    inputs = keras.Input(shape=(784,), name=\"digits\")\n",
        "    x1 = keras.layers.Dense(64, activation=\"relu\")(inputs)\n",
        "    x2 = keras.layers.Dense(64, activation=\"relu\")(x1)\n",
        "    outputs = keras.layers.Dense(10, name=\"predictions\")(x2)\n",
        "\n",
        "    return keras.Model(inputs=inputs, outputs=outputs)\n",
        "\n",
        "    \n",
        "def train_step(x, y, model, optimizer, loss_fn, train_acc_metric):\n",
        "    with tf.GradientTape() as tape:\n",
        "        logits = model(x, training=True)\n",
        "        loss_value = loss_fn(y, logits)\n",
        "\n",
        "    grads = tape.gradient(loss_value, model.trainable_weights)\n",
        "    optimizer.apply_gradients(zip(grads, model.trainable_weights))\n",
        "\n",
        "    train_acc_metric.update_state(y, logits)\n",
        "\n",
        "    return loss_value\n",
        "\n",
        "    \n",
        "def test_step(x, y, model, loss_fn, val_acc_metric):\n",
        "    val_logits = model(x, training=False)\n",
        "    loss_value = loss_fn(y, val_logits)\n",
        "    val_acc_metric.update_state(y, val_logits)\n",
        "\n",
        "    return loss_value"
      ],
      "execution_count": null,
      "outputs": []
    },
    {
      "cell_type": "markdown",
      "metadata": {
        "id": "BDzAX1Uc82Ll"
      },
      "source": [
        "## 🔁 Write a Training Loop"
      ]
    },
    {
      "cell_type": "markdown",
      "metadata": {
        "id": "d5Qe-ZTcYiAn"
      },
      "source": [
        "### Step 3️⃣: Log metrics with `wandb.log`"
      ]
    },
    {
      "cell_type": "code",
      "metadata": {
        "id": "jb12E4zoBDOy"
      },
      "source": [
        "def train(train_dataset,\n",
        "          val_dataset, \n",
        "          model,\n",
        "          optimizer,\n",
        "          loss_fn,\n",
        "          train_acc_metric,\n",
        "          val_acc_metric,\n",
        "          epochs=10, \n",
        "          log_step=200, \n",
        "          val_log_step=50):\n",
        "  \n",
        "    for epoch in range(epochs):\n",
        "        print(\"\\nStart of epoch %d\" % (epoch,))\n",
        "\n",
        "        train_loss = []   \n",
        "        val_loss = []\n",
        "\n",
        "        # Iterate over the batches of the dataset\n",
        "        for step, (x_batch_train, y_batch_train) in enumerate(train_dataset):\n",
        "            loss_value = train_step(x_batch_train, y_batch_train, \n",
        "                                    model, optimizer, \n",
        "                                    loss_fn, train_acc_metric)\n",
        "            train_loss.append(float(loss_value))\n",
        "\n",
        "        # Run a validation loop at the end of each epoch\n",
        "        for step, (x_batch_val, y_batch_val) in enumerate(val_dataset):\n",
        "            val_loss_value = test_step(x_batch_val, y_batch_val, \n",
        "                                       model, loss_fn, \n",
        "                                       val_acc_metric)\n",
        "            val_loss.append(float(val_loss_value))\n",
        "            \n",
        "        # Display metrics at the end of each epoch\n",
        "        train_acc = train_acc_metric.result()\n",
        "        print(\"Training acc over epoch: %.4f\" % (float(train_acc),))\n",
        "\n",
        "        val_acc = val_acc_metric.result()\n",
        "        print(\"Validation acc: %.4f\" % (float(val_acc),))\n",
        "\n",
        "        # Reset metrics at the end of each epoch\n",
        "        train_acc_metric.reset_states()\n",
        "        val_acc_metric.reset_states()\n",
        "\n",
        "        # 3️⃣ log metrics using wandb.log\n",
        "        wandb.log({'epochs': epoch,\n",
        "                   'loss': np.mean(train_loss),\n",
        "                   'acc': float(train_acc), \n",
        "                   'val_loss': np.mean(val_loss),\n",
        "                   'val_acc':float(val_acc)})"
      ],
      "execution_count": null,
      "outputs": []
    },
    {
      "cell_type": "markdown",
      "metadata": {
        "id": "qIkUJh4XB-10"
      },
      "source": [
        "# Step 4️⃣: Configure the Sweep\n",
        "\n",
        "This is where you will:\n",
        "* Define the hyperparameters you're sweeping over\n",
        "* Provide your hyperparameter optimization method. We have `random`, `grid` and `bayes` methods.\n",
        "* Provide an objective and a `metric` if using `bayes`, for example to `minimize` the `val_loss`.\n",
        "* Use `hyperband` for early termination of poorly-performing runs\n",
        "\n",
        "#### [Check out more on Sweep Configs $\\rightarrow$](https://docs.wandb.com/sweeps/configuration)"
      ]
    },
    {
      "cell_type": "code",
      "metadata": {
        "id": "TI_JI2HBZs10"
      },
      "source": [
        "sweep_config = {\n",
        "  'method': 'bayes', \n",
        "  'metric': {\n",
        "      'name': 'val_loss',\n",
        "      'goal': 'minimize'\n",
        "  },\n",
        "  'early_terminate':{\n",
        "      'type': 'hyperband',\n",
        "      'min_iter': 5\n",
        "  },\n",
        "  'parameters': {\n",
        "      'batch_size': {\n",
        "          'values': [8, 16, 32, 64, 128, 256]\n",
        "      },\n",
        "      'learning_rate':{\n",
        "          'values': [0.01, 0.005, 0.001, 0.0005, 0.0001]\n",
        "      }\n",
        "  }\n",
        "}"
      ],
      "execution_count": null,
      "outputs": []
    },
    {
      "cell_type": "markdown",
      "metadata": {
        "id": "uXRNVUqia07w"
      },
      "source": [
        "# Step 5️⃣: Wrap the Training Loop\n",
        "\n",
        "You'll need a function, like `sweep_train` below,\n",
        "that uses `wandb.config` to set the hyperparameters\n",
        "before `train` gets called."
      ]
    },
    {
      "cell_type": "code",
      "metadata": {
        "id": "98pkZByxC4Pl"
      },
      "source": [
        "def sweep_train():\n",
        "    # Specify the hyperparameter to be tuned along with\n",
        "    # an initial value\n",
        "    config_defaults = {\n",
        "        'batch_size': 8,\n",
        "        'learning_rate': 0.01\n",
        "    }\n",
        "\n",
        "    # Initialize wandb with a sample project name\n",
        "    wandb.init(config=config_defaults)  # this gets over-written in the Sweep\n",
        "\n",
        "    # Specify the other hyperparameters to the configuration, if any\n",
        "    wandb.config.epochs = 7\n",
        "    wandb.config.log_step = 200\n",
        "    wandb.config.val_log_step = 50\n",
        "    wandb.config.architecture_name = \"CNN\"\n",
        "    wandb.config.dataset_name = \"CIFAR-10\"\n",
        "\n",
        "    # build input pipeline using tf.data\n",
        "    train_dataset = tf.data.Dataset.from_tensor_slices((x_train, y_train))\n",
        "    train_dataset = train_dataset.shuffle(buffer_size=1024).batch(wandb.config.batch_size)\n",
        "\n",
        "    val_dataset = tf.data.Dataset.from_tensor_slices((x_test, y_test))\n",
        "    val_dataset = val_dataset.batch(wandb.config.batch_size)\n",
        "\n",
        "    # initialize model\n",
        "    model = Model()\n",
        "\n",
        "    # Instantiate an optimizer to train the model.\n",
        "    optimizer = keras.optimizers.SGD(learning_rate=wandb.config.learning_rate)\n",
        "    # Instantiate a loss function.\n",
        "    loss_fn = keras.losses.SparseCategoricalCrossentropy(from_logits=True)\n",
        "\n",
        "    # Prepare the metrics.\n",
        "    train_acc_metric = keras.metrics.SparseCategoricalAccuracy()\n",
        "    val_acc_metric = keras.metrics.SparseCategoricalAccuracy()\n",
        "\n",
        "    train(train_dataset,\n",
        "          val_dataset, \n",
        "          model,\n",
        "          optimizer,\n",
        "          loss_fn,\n",
        "          train_acc_metric,\n",
        "          val_acc_metric,\n",
        "          epochs=wandb.config.epochs, \n",
        "          log_step=wandb.config.log_step, \n",
        "          val_log_step=wandb.config.val_log_step)"
      ],
      "execution_count": null,
      "outputs": []
    },
    {
      "cell_type": "markdown",
      "metadata": {
        "id": "BOReo0keGlbf"
      },
      "source": [
        "# Step 6️⃣: Initialize Sweep and Run Agent "
      ]
    },
    {
      "cell_type": "code",
      "metadata": {
        "id": "LWpCLwGqncdF"
      },
      "source": [
        "sweep_id = wandb.sweep(sweep_config, project=\"sweeps-tensorflow\")"
      ],
      "execution_count": null,
      "outputs": []
    },
    {
      "cell_type": "code",
      "metadata": {
        "id": "goZ3Z7A8nbpn"
      },
      "source": [
        "wandb.agent(sweep_id, function=sweep_train, count=30)"
      ],
      "execution_count": null,
      "outputs": []
    },
    {
      "cell_type": "markdown",
      "metadata": {
        "id": "ALGl_CS0GCLJ"
      },
      "source": [
        "# 👀 Visualize Results\n",
        "\n",
        "Click on the **Sweep URL** link above to see your live results.\n",
        "\n",
        "<img src=\"https://i.imgur.com/6eWHZhg.png\" alt=\"Sweep Result\" />\n"
      ]
    },
    {
      "cell_type": "markdown",
      "metadata": {
        "id": "ZiunZZ3AGUY3"
      },
      "source": [
        "# 🎨 Example Gallery\n",
        "\n",
        "See examples of projects tracked and visualized with W&B in our [Gallery →](https://app.wandb.ai/gallery)"
      ]
    },
    {
      "cell_type": "markdown",
      "metadata": {
        "id": "qWERarlyGL1V"
      },
      "source": [
        "# 📏 Best Practices\n",
        "1. **Projects**: Log multiple runs to a project to compare them. `wandb.init(project=\"project-name\")`\n",
        "2. **Groups**: For multiple processes or cross validation folds, log each process as a runs and group them together. `wandb.init(group='experiment-1')`\n",
        "3. **Tags**: Add tags to track your current baseline or production model.\n",
        "4. **Notes**: Type notes in the table to track the changes between runs.\n",
        "5. **Reports**: Take quick notes on progress to share with colleagues and make dashboards and snapshots of your ML projects."
      ]
    },
    {
      "cell_type": "markdown",
      "metadata": {
        "id": "eY39JyftGYqA"
      },
      "source": [
        "# 🤓 Advanced Setup\n",
        "1. [Environment variables](https://docs.wandb.com/library/environment-variables): Set API keys in environment variables so you can run training on a managed cluster.\n",
        "2. [Offline mode](https://docs.wandb.com/library/technical-faq#can-i-run-wandb-offline): Use `dryrun` mode to train offline and sync results later.\n",
        "3. [On-prem](https://docs.wandb.com/self-hosted): Install W&B in a private cloud or air-gapped servers in your own infrastructure. We have local installations for everyone from academics to enterprise teams."
      ]
    }
  ]
}