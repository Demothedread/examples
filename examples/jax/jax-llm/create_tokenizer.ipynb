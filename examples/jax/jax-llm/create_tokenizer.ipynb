{
 "cells": [
  {
   "cell_type": "code",
   "execution_count": null,
   "id": "eedce872-2204-49f8-8a52-ef338f7a6654",
   "metadata": {},
   "outputs": [],
   "source": [
    "from tokenizers import SentencePieceBPETokenizer, SentencePieceUnigramTokenizer\n",
    "from tokenizers.trainers import UnigramTrainer\n",
    "from tokenizers.processors import BertProcessing\n",
    "from transformers import PreTrainedTokenizerFast, PreTrainedTokenizer\n",
    "import datasets\n",
    "import pandas as pd\n",
    "from datasets import load_from_disk\n",
    "from pathlib import Path\n",
    "\n",
    "import wandb"
   ]
  },
  {
   "cell_type": "code",
   "execution_count": null,
   "id": "2f30468d-36f7-448c-8a09-6e2637dc5c3c",
   "metadata": {},
   "outputs": [],
   "source": [
    "run = wandb.init(project='protobert', job_type=\"tokenizer_train\")"
   ]
  },
  {
   "cell_type": "code",
   "execution_count": null,
   "id": "db2f7eeb-9178-4fa9-9156-1a86072add3e",
   "metadata": {},
   "outputs": [],
   "source": [
    "data_at = run.use_artifact('uniref_1m:latest')\n",
    "dataset_dir = Path(data_at.download())"
   ]
  },
  {
   "cell_type": "code",
   "execution_count": null,
   "id": "80520842-7460-4f0b-bf6c-c586506f8bc8",
   "metadata": {},
   "outputs": [],
   "source": [
    "sample_dataset = load_from_disk(dataset_dir/'uniref_1m')"
   ]
  },
  {
   "cell_type": "code",
   "execution_count": null,
   "id": "7216dd5d-25bf-4b6d-b677-157eb7e85756",
   "metadata": {},
   "outputs": [],
   "source": [
    "%%time\n",
    "tokenizer = SentencePieceBPETokenizer()\n",
    "tokenizer.train_from_iterator(sample_dataset[\"text\"], vocab_size=1000, min_frequency=2, special_tokens=[\n",
    "    \"<s>\",\n",
    "    \"<pad>\",\n",
    "    \"</s>\",\n",
    "    \"<unk>\",\n",
    "    \"<mask>\",\n",
    "])"
   ]
  },
  {
   "cell_type": "code",
   "execution_count": null,
   "id": "49ff186a-ecfc-4492-b457-053734ed5970",
   "metadata": {},
   "outputs": [],
   "source": [
    "ls"
   ]
  },
  {
   "cell_type": "code",
   "execution_count": null,
   "id": "2a2fffc0-8bd5-4558-b0db-655271ced251",
   "metadata": {},
   "outputs": [],
   "source": [
    "tokenizer.save('proteins-tmp')\n",
    "tokenizer = PreTrainedTokenizerFast(tokenizer_file='proteins-tmp')\n",
    "tokenizer._tokenizer.post_processor = BertProcessing(\n",
    "    (\"</s>\", 2),\n",
    "    (\"<s>\", 0),\n",
    ")\n",
    "tokenizer.mask_token = \"<mask>\"\n",
    "tokenizer.cls_token = \"</s>\"\n",
    "tokenizer.sep_token = \"<s>\"\n",
    "tokenizer.pad_token = \"<pad>\"\n",
    "tokenizer.unk_token = \"<unk>\"\n",
    "\n",
    "tokenizer.save_pretrained('proteins-base')"
   ]
  },
  {
   "cell_type": "code",
   "execution_count": null,
   "id": "6784b4d7-22dc-4726-bedf-a655a7ae2982",
   "metadata": {},
   "outputs": [],
   "source": [
    "o = tokenizer('ASDFAFDGADFGADFGHAG')\n",
    "tokenizer.decode(o['input_ids'])\n",
    "for i in o['input_ids']:\n",
    "    print(f'{i}: {tokenizer.decode(i)}')"
   ]
  },
  {
   "cell_type": "code",
   "execution_count": null,
   "id": "7d9804dd-3fb1-42f5-80cc-9d392c9a229a",
   "metadata": {},
   "outputs": [],
   "source": [
    "tok_at = wandb.Artifact('uniref_1m_tokenizer', type=\"tokenizer\")"
   ]
  },
  {
   "cell_type": "code",
   "execution_count": null,
   "id": "e2298511-f2ba-4863-95dd-f592c78499ed",
   "metadata": {},
   "outputs": [],
   "source": [
    "tok_at.add_dir('proteins-base', name='uniref_1m_tokenizer')"
   ]
  },
  {
   "cell_type": "code",
   "execution_count": null,
   "id": "b5ed4e7f-3218-4f72-b407-4369dd9df3d2",
   "metadata": {},
   "outputs": [],
   "source": [
    "run.log_artifact(tok_at)"
   ]
  },
  {
   "cell_type": "code",
   "execution_count": null,
   "id": "aa0fb355-304b-48be-8585-ba246a553ad4",
   "metadata": {},
   "outputs": [],
   "source": [
    "run.finish()"
   ]
  }
 ],
 "metadata": {
  "kernelspec": {
   "display_name": "Python 3",
   "language": "python",
   "name": "python3"
  },
  "language_info": {
   "codemirror_mode": {
    "name": "ipython",
    "version": 3
   },
   "file_extension": ".py",
   "mimetype": "text/x-python",
   "name": "python",
   "nbconvert_exporter": "python",
   "pygments_lexer": "ipython3",
   "version": "3.8.10"
  },
  "vscode": {
   "interpreter": {
    "hash": "916dbcbb3f70747c44a77c7bcd40155683ae19c65e1c03b4aa3499c5328201f1"
   }
  }
 },
 "nbformat": 4,
 "nbformat_minor": 5
}
