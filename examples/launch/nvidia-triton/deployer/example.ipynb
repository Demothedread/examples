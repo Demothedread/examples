{
 "cells": [
  {
   "cell_type": "code",
   "execution_count": 10,
   "metadata": {},
   "outputs": [],
   "source": [
    "import boto3"
   ]
  },
  {
   "cell_type": "code",
   "execution_count": 11,
   "metadata": {},
   "outputs": [],
   "source": [
    "session = boto3.Session()\n",
    "s3 = session.resource('s3')\n",
    "bucket = s3.Bucket(\"andrew-triton-bucket\")"
   ]
  },
  {
   "cell_type": "code",
   "execution_count": 6,
   "metadata": {},
   "outputs": [
    {
     "name": "stdout",
     "output_type": "stream",
     "text": [
      "model.graphdef\n"
     ]
    }
   ],
   "source": [
    "for item in bucket.objects.all():\n",
    "    print(item.key)"
   ]
  },
  {
   "attachments": {},
   "cell_type": "markdown",
   "metadata": {},
   "source": [
    "# Example with Deployer"
   ]
  },
  {
   "cell_type": "code",
   "execution_count": 1,
   "metadata": {},
   "outputs": [],
   "source": [
    "import wandb\n",
    "import os\n",
    "import tensorflow as tf"
   ]
  },
  {
   "cell_type": "code",
   "execution_count": 2,
   "metadata": {},
   "outputs": [
    {
     "name": "stderr",
     "output_type": "stream",
     "text": [
      "\u001b[34m\u001b[1mwandb\u001b[0m: Currently logged in as: \u001b[33mmegatruong\u001b[0m. Use \u001b[1m`wandb login --relogin`\u001b[0m to force relogin\n"
     ]
    },
    {
     "data": {
      "text/html": [
       "Tracking run with wandb version 0.13.8"
      ],
      "text/plain": [
       "<IPython.core.display.HTML object>"
      ]
     },
     "metadata": {},
     "output_type": "display_data"
    },
    {
     "data": {
      "text/html": [
       "Run data is saved locally in <code>/Users/andrewtruong/repos/examples/examples/launch/nvidia-triton-alt/deployer/wandb/run-20230110_205310-iknh2ue1</code>"
      ],
      "text/plain": [
       "<IPython.core.display.HTML object>"
      ]
     },
     "metadata": {},
     "output_type": "display_data"
    },
    {
     "data": {
      "text/html": [
       "Syncing run <strong><a href=\"https://wandb.ai/megatruong/examples-examples_launch_nvidia-triton-alt_deployer/runs/iknh2ue1\" target=\"_blank\">cosmic-jazz-2</a></strong> to <a href=\"https://wandb.ai/megatruong/examples-examples_launch_nvidia-triton-alt_deployer\" target=\"_blank\">Weights & Biases</a> (<a href=\"https://wandb.me/run\" target=\"_blank\">docs</a>)<br/>"
      ],
      "text/plain": [
       "<IPython.core.display.HTML object>"
      ]
     },
     "metadata": {},
     "output_type": "display_data"
    },
    {
     "data": {
      "text/html": [
       " View project at <a href=\"https://wandb.ai/megatruong/examples-examples_launch_nvidia-triton-alt_deployer\" target=\"_blank\">https://wandb.ai/megatruong/examples-examples_launch_nvidia-triton-alt_deployer</a>"
      ],
      "text/plain": [
       "<IPython.core.display.HTML object>"
      ]
     },
     "metadata": {},
     "output_type": "display_data"
    },
    {
     "data": {
      "text/html": [
       " View run at <a href=\"https://wandb.ai/megatruong/examples-examples_launch_nvidia-triton-alt_deployer/runs/iknh2ue1\" target=\"_blank\">https://wandb.ai/megatruong/examples-examples_launch_nvidia-triton-alt_deployer/runs/iknh2ue1</a>"
      ],
      "text/plain": [
       "<IPython.core.display.HTML object>"
      ]
     },
     "metadata": {},
     "output_type": "display_data"
    }
   ],
   "source": [
    "config = {\n",
    "    \"entity\": \"megatruong\",\n",
    "    \"project\": \"fashion-mnist-keras-triton\",\n",
    "    \"artifact_name\": \"model-sage-feather-1\",\n",
    "    \"artifact_version\": 1,\n",
    "    \"triton_url\": \"localhost:8000\",\n",
    "}\n",
    "\n",
    "assert isinstance(\n",
    "    config[\"artifact_version\"], int\n",
    "), \"Triton requires model version to be an integer\"\n",
    "assert \"triton_url\" in config, \"Triton URL must be specified in config\"\n",
    "\n",
    "run = wandb.init(config=config, job_type='deploy_to_triton')"
   ]
  },
  {
   "cell_type": "code",
   "execution_count": 3,
   "metadata": {},
   "outputs": [],
   "source": [
    "import shutil\n",
    "\n",
    "def copy_to_new_path(old_path, new_path):\n",
    "    \"\"\"Copy a directory to a new path, creating the new path if it doesn't exist.\"\"\"\n",
    "    os.makedirs(new_path, exist_ok=True)\n",
    "    shutil.copytree(old_path, new_path, dirs_exist_ok=True)\n",
    "\n",
    "\n",
    "def make_triton_compatible_name(name):\n",
    "    \"\"\"Convert wandb artifact name to Triton-compatible name\"\"\"\n",
    "    return name.replace(\"-\", \"_\")"
   ]
  },
  {
   "cell_type": "code",
   "execution_count": 4,
   "metadata": {},
   "outputs": [],
   "source": [
    "wandb_artifact_str = (\n",
    "    \"{entity}/{project}/{artifact_name}:v{artifact_version}\".format(**run.config)\n",
    ")"
   ]
  },
  {
   "cell_type": "code",
   "execution_count": 5,
   "metadata": {},
   "outputs": [
    {
     "data": {
      "text/plain": [
       "'megatruong/fashion-mnist-keras-triton/model-sage-feather-1:v1'"
      ]
     },
     "execution_count": 5,
     "metadata": {},
     "output_type": "execute_result"
    }
   ],
   "source": [
    "wandb_artifact_str"
   ]
  },
  {
   "cell_type": "code",
   "execution_count": 6,
   "metadata": {},
   "outputs": [
    {
     "name": "stderr",
     "output_type": "stream",
     "text": [
      "\u001b[34m\u001b[1mwandb\u001b[0m: Downloading large artifact model-sage-feather-1:v1, 273.69MB. 4 files... \n",
      "\u001b[34m\u001b[1mwandb\u001b[0m:   4 of 4 files downloaded.  \n",
      "Done. 0:0:0.1\n"
     ]
    }
   ],
   "source": [
    "art = run.use_artifact(wandb_artifact_str)\n",
    "artifact_path = art.download()"
   ]
  },
  {
   "cell_type": "code",
   "execution_count": 7,
   "metadata": {},
   "outputs": [
    {
     "data": {
      "text/plain": [
       "'./artifacts/model-sage-feather-1:v1'"
      ]
     },
     "execution_count": 7,
     "metadata": {},
     "output_type": "execute_result"
    }
   ],
   "source": [
    "artifact_path"
   ]
  },
  {
   "cell_type": "code",
   "execution_count": 8,
   "metadata": {},
   "outputs": [
    {
     "name": "stderr",
     "output_type": "stream",
     "text": [
      "WARNING:absl:Found untraced functions such as _jit_compiled_convolution_op, _jit_compiled_convolution_op, _jit_compiled_convolution_op, _jit_compiled_convolution_op, _jit_compiled_convolution_op while saving (showing 5 of 53). These functions will not be directly callable after loading.\n"
     ]
    },
    {
     "name": "stdout",
     "output_type": "stream",
     "text": [
      "INFO:tensorflow:Assets written to: ./models/model_sage_feather_1/1/model.savedmodel/assets\n"
     ]
    },
    {
     "name": "stderr",
     "output_type": "stream",
     "text": [
      "INFO:tensorflow:Assets written to: ./models/model_sage_feather_1/1/model.savedmodel/assets\n"
     ]
    }
   ],
   "source": [
    "model = tf.keras.models.load_model(artifact_path)\n",
    "model_name = make_triton_compatible_name(run.config[\"artifact_name\"])\n",
    "tf.keras.models.save_model(model, os.path.join(\"./models\", model_name, str(run.config['artifact_version']), \"model.savedmodel\"))"
   ]
  },
  {
   "cell_type": "code",
   "execution_count": 21,
   "metadata": {},
   "outputs": [
    {
     "name": "stdout",
     "output_type": "stream",
     "text": [
      "./models/model_sage_feather_1/1/model.savedmodel\n",
      "./models/model_sage_feather_1/1/model.savedmodel\n",
      "./models/model_sage_feather_1/1/model.savedmodel/variables\n",
      "./models/model_sage_feather_1/1/model.savedmodel/variables\n"
     ]
    }
   ],
   "source": [
    "for root, dir, files in os.walk('./models'):\n",
    "    for f in files:\n",
    "        print(root)"
   ]
  },
  {
   "cell_type": "code",
   "execution_count": null,
   "metadata": {},
   "outputs": [],
   "source": [
    "s3_client = boto3.client('s3')"
   ]
  },
  {
   "cell_type": "code",
   "execution_count": 27,
   "metadata": {},
   "outputs": [
    {
     "name": "stdout",
     "output_type": "stream",
     "text": [
      "models/model_sage_feather_1/1/model.savedmodel/keras_metadata.pb\n",
      "models/model_sage_feather_1/1/model.savedmodel/saved_model.pb\n",
      "models/model_sage_feather_1/1/model.savedmodel/variables/variables.data-00000-of-00001\n",
      "models/model_sage_feather_1/1/model.savedmodel/variables/variables.index\n"
     ]
    }
   ],
   "source": [
    "path = 'models'\n",
    "\n",
    "for root, _, files in os.walk(path):\n",
    "    for f in files:\n",
    "        full_path = os.path.join(root, f)\n",
    "        print(full_path)\n",
    "        s3_client.upload_file(full_path, 'andrew-triton-bucket', full_path)\n",
    "        # full_path = os.path.join(root, f)\n",
    "        # rel_path = os.path.relpath(full_path, path)\n",
    "        # remote_obj_path = os.path.join(remote_path, rel_path)\n",
    "        # print(f\"Uploading {rel_path} to {remote_obj_path}\")\n",
    "        # s3_client.upload_file(full_path, config[\"triton_bucket\"], remote_obj_path)"
   ]
  },
  {
   "cell_type": "code",
   "execution_count": 16,
   "metadata": {},
   "outputs": [],
   "source": []
  },
  {
   "cell_type": "code",
   "execution_count": 13,
   "metadata": {},
   "outputs": [
    {
     "ename": "AttributeError",
     "evalue": "'s3.ServiceResource' object has no attribute 'upload_file'",
     "output_type": "error",
     "traceback": [
      "\u001b[0;31m---------------------------------------------------------------------------\u001b[0m",
      "\u001b[0;31mAttributeError\u001b[0m                            Traceback (most recent call last)",
      "Cell \u001b[0;32mIn [13], line 1\u001b[0m\n\u001b[0;32m----> 1\u001b[0m uploadDirectory(\u001b[39m'\u001b[39;49m\u001b[39m./models\u001b[39;49m\u001b[39m'\u001b[39;49m, \u001b[39m'\u001b[39;49m\u001b[39mandrew-triton-bucket\u001b[39;49m\u001b[39m'\u001b[39;49m)\n",
      "Cell \u001b[0;32mIn [12], line 4\u001b[0m, in \u001b[0;36muploadDirectory\u001b[0;34m(path, bucketname)\u001b[0m\n\u001b[1;32m      2\u001b[0m \u001b[39mfor\u001b[39;00m root,dirs,files \u001b[39min\u001b[39;00m os\u001b[39m.\u001b[39mwalk(path):\n\u001b[1;32m      3\u001b[0m     \u001b[39mfor\u001b[39;00m f \u001b[39min\u001b[39;00m files:\n\u001b[0;32m----> 4\u001b[0m         s3\u001b[39m.\u001b[39;49mupload_file(os\u001b[39m.\u001b[39mpath\u001b[39m.\u001b[39mjoin(root,f),bucketname,f)\n",
      "\u001b[0;31mAttributeError\u001b[0m: 's3.ServiceResource' object has no attribute 'upload_file'"
     ]
    }
   ],
   "source": [
    "uploadDirectory('./models', 'andrew-triton-bucket')"
   ]
  },
  {
   "cell_type": "code",
   "execution_count": 14,
   "metadata": {},
   "outputs": [
    {
     "ename": "ModuleNotFoundError",
     "evalue": "No module named 's3fs'",
     "output_type": "error",
     "traceback": [
      "\u001b[0;31m---------------------------------------------------------------------------\u001b[0m",
      "\u001b[0;31mModuleNotFoundError\u001b[0m                       Traceback (most recent call last)",
      "Cell \u001b[0;32mIn [14], line 1\u001b[0m\n\u001b[0;32m----> 1\u001b[0m \u001b[39mimport\u001b[39;00m \u001b[39ms3fs\u001b[39;00m\n",
      "\u001b[0;31mModuleNotFoundError\u001b[0m: No module named 's3fs'"
     ]
    }
   ],
   "source": [
    "import s3fs"
   ]
  },
  {
   "attachments": {},
   "cell_type": "markdown",
   "metadata": {},
   "source": [
    "# Interact with Tritonserver"
   ]
  },
  {
   "cell_type": "code",
   "execution_count": 12,
   "metadata": {},
   "outputs": [],
   "source": [
    "import tritonclient.http as httpclient"
   ]
  },
  {
   "cell_type": "code",
   "execution_count": 13,
   "metadata": {},
   "outputs": [],
   "source": [
    "client = httpclient.InferenceServerClient(url=\"localhost:8000\", verbose=True)"
   ]
  },
  {
   "cell_type": "code",
   "execution_count": 29,
   "metadata": {},
   "outputs": [],
   "source": [
    "from rich import print"
   ]
  },
  {
   "cell_type": "code",
   "execution_count": 40,
   "metadata": {},
   "outputs": [
    {
     "name": "stdout",
     "output_type": "stream",
     "text": [
      "GET /v2/models/model-sage-feather-1/config, headers None\n",
      "<HTTPSocketPoolResponse status=200 headers={'content-type': 'application/json', 'content-length': '1116'}>\n",
      "bytearray(b'{\"name\":\"model-sage-feather-1\",\"platform\":\"tensorflow_savedmodel\",\"backend\":\"tensorflow\",\"version_policy\":{\"specific\":{\"versions\":[1]}},\"max_batch_size\":8,\"input\":[{\"name\":\"input_1\",\"data_type\":\"TYPE_FP32\",\"format\":\"FORMAT_NONE\",\"dims\":[32,32,3],\"is_shape_tensor\":false,\"allow_ragged_batch\":false,\"optional\":false}],\"output\":[{\"name\":\"conv5_block3_out\",\"data_type\":\"TYPE_FP32\",\"dims\":[1,1,2048],\"label_filename\":\"\",\"is_shape_tensor\":false}],\"batch_input\":[],\"batch_output\":[],\"optimization\":{\"priority\":\"PRIORITY_DEFAULT\",\"input_pinned_memory\":{\"enable\":true},\"output_pinned_memory\":{\"enable\":true},\"gather_kernel_buffer_threshold\":0,\"eager_batching\":false},\"dynamic_batching\":{\"preferred_batch_size\":[8],\"max_queue_delay_microseconds\":0,\"preserve_ordering\":false,\"priority_levels\":0,\"default_priority_level\":0,\"priority_queue_policy\":{}},\"instance_group\":[{\"name\":\"model-sage-feather-1\",\"kind\":\"KIND_CPU\",\"count\":2,\"gpus\":[],\"secondary_devices\":[],\"profile\":[],\"passive\":false,\"host_policy\":\"\"}],\"default_model_filename\":\"model.savedmodel\",\"cc_model_filenames\":{},\"metric_tags\":{},\"parameters\":{},\"model_warmup\":[]}')\n"
     ]
    }
   ],
   "source": [
    "config = client.get_model_config(\"model-sage-feather-1\")"
   ]
  },
  {
   "cell_type": "code",
   "execution_count": 44,
   "metadata": {},
   "outputs": [
    {
     "name": "stdout",
     "output_type": "stream",
     "text": [
      "POST /v2/repository/index, headers None\n",
      "\n",
      "<HTTPSocketPoolResponse status=200 headers={'content-type': 'application/json', 'content-length': '302'}>\n",
      "bytearray(b'[{\"name\":\"model-sage-feather-1\",\"version\":\"1\",\"state\":\"READY\"},{\"name\":\"model-sage-feather-1_copy_0\",\"version\":\"1\",\"state\":\"READY\"},{\"name\":\"model-sage-feather-1_copy_1\",\"version\":\"1\",\"state\":\"READY\"},{\"name\":\"model-sage-feather-1_copy_2\",\"version\":\"1\",\"state\":\"READY\"},{\"name\":\"model_sage_feather_1\"}]')\n"
     ]
    },
    {
     "data": {
      "text/plain": [
       "[{'name': 'model-sage-feather-1', 'version': '1', 'state': 'READY'},\n",
       " {'name': 'model-sage-feather-1_copy_0', 'version': '1', 'state': 'READY'},\n",
       " {'name': 'model-sage-feather-1_copy_1', 'version': '1', 'state': 'READY'},\n",
       " {'name': 'model-sage-feather-1_copy_2', 'version': '1', 'state': 'READY'},\n",
       " {'name': 'model_sage_feather_1'}]"
      ]
     },
     "execution_count": 44,
     "metadata": {},
     "output_type": "execute_result"
    }
   ],
   "source": [
    "client.get_model_repository_index()"
   ]
  },
  {
   "cell_type": "code",
   "execution_count": 35,
   "metadata": {},
   "outputs": [],
   "source": [
    "from google.protobuf.json_format import ParseDict"
   ]
  },
  {
   "cell_type": "code",
   "execution_count": 33,
   "metadata": {},
   "outputs": [
    {
     "ename": "AttributeError",
     "evalue": "'dict' object has no attribute 'DESCRIPTOR'",
     "output_type": "error",
     "traceback": [
      "\u001b[0;31m---------------------------------------------------------------------------\u001b[0m",
      "\u001b[0;31mAttributeError\u001b[0m                            Traceback (most recent call last)",
      "Cell \u001b[0;32mIn[33], line 2\u001b[0m\n\u001b[1;32m      1\u001b[0m \u001b[39mwith\u001b[39;00m \u001b[39mopen\u001b[39m(\u001b[39m\"\u001b[39m\u001b[39mconfig.pbtxt\u001b[39m\u001b[39m\"\u001b[39m, \u001b[39m'\u001b[39m\u001b[39mw\u001b[39m\u001b[39m'\u001b[39m) \u001b[39mas\u001b[39;00m f:\n\u001b[0;32m----> 2\u001b[0m     text_format\u001b[39m.\u001b[39;49mPrintMessage(config, f)\n",
      "File \u001b[0;32m~/.python/current/lib/python3.10/site-packages/google/protobuf/text_format.py:239\u001b[0m, in \u001b[0;36mPrintMessage\u001b[0;34m(message, out, indent, as_utf8, as_one_line, use_short_repeated_primitives, pointy_brackets, use_index_order, float_format, double_format, use_field_number, descriptor_pool, message_formatter, print_unknown_fields, force_colon)\u001b[0m\n\u001b[1;32m    211\u001b[0m \u001b[39mdef\u001b[39;00m \u001b[39mPrintMessage\u001b[39m(message,\n\u001b[1;32m    212\u001b[0m                  out,\n\u001b[1;32m    213\u001b[0m                  indent\u001b[39m=\u001b[39m\u001b[39m0\u001b[39m,\n\u001b[0;32m   (...)\u001b[0m\n\u001b[1;32m    224\u001b[0m                  print_unknown_fields\u001b[39m=\u001b[39m\u001b[39mFalse\u001b[39;00m,\n\u001b[1;32m    225\u001b[0m                  force_colon\u001b[39m=\u001b[39m\u001b[39mFalse\u001b[39;00m):\n\u001b[1;32m    226\u001b[0m   printer \u001b[39m=\u001b[39m _Printer(\n\u001b[1;32m    227\u001b[0m       out\u001b[39m=\u001b[39mout, indent\u001b[39m=\u001b[39mindent, as_utf8\u001b[39m=\u001b[39mas_utf8,\n\u001b[1;32m    228\u001b[0m       as_one_line\u001b[39m=\u001b[39mas_one_line,\n\u001b[0;32m   (...)\u001b[0m\n\u001b[1;32m    237\u001b[0m       print_unknown_fields\u001b[39m=\u001b[39mprint_unknown_fields,\n\u001b[1;32m    238\u001b[0m       force_colon\u001b[39m=\u001b[39mforce_colon)\n\u001b[0;32m--> 239\u001b[0m   printer\u001b[39m.\u001b[39;49mPrintMessage(message)\n",
      "File \u001b[0;32m~/.python/current/lib/python3.10/site-packages/google/protobuf/text_format.py:428\u001b[0m, in \u001b[0;36m_Printer.PrintMessage\u001b[0;34m(self, message)\u001b[0m\n\u001b[1;32m    426\u001b[0m \u001b[39mif\u001b[39;00m \u001b[39mself\u001b[39m\u001b[39m.\u001b[39mmessage_formatter \u001b[39mand\u001b[39;00m \u001b[39mself\u001b[39m\u001b[39m.\u001b[39m_TryCustomFormatMessage(message):\n\u001b[1;32m    427\u001b[0m   \u001b[39mreturn\u001b[39;00m\n\u001b[0;32m--> 428\u001b[0m \u001b[39mif\u001b[39;00m (message\u001b[39m.\u001b[39;49mDESCRIPTOR\u001b[39m.\u001b[39mfull_name \u001b[39m==\u001b[39m _ANY_FULL_TYPE_NAME \u001b[39mand\u001b[39;00m\n\u001b[1;32m    429\u001b[0m     \u001b[39mself\u001b[39m\u001b[39m.\u001b[39m_TryPrintAsAnyMessage(message)):\n\u001b[1;32m    430\u001b[0m   \u001b[39mreturn\u001b[39;00m\n\u001b[1;32m    431\u001b[0m fields \u001b[39m=\u001b[39m message\u001b[39m.\u001b[39mListFields()\n",
      "\u001b[0;31mAttributeError\u001b[0m: 'dict' object has no attribute 'DESCRIPTOR'"
     ]
    }
   ],
   "source": [
    "ParseDict(config)"
   ]
  },
  {
   "cell_type": "code",
   "execution_count": 31,
   "metadata": {},
   "outputs": [
    {
     "data": {
      "text/html": [
       "<pre style=\"white-space:pre;overflow-x:auto;line-height:normal;font-family:Menlo,'DejaVu Sans Mono',consolas,'Courier New',monospace\"><span style=\"font-weight: bold\">{</span>\n",
       "    <span style=\"color: #008000; text-decoration-color: #008000\">'name'</span>: <span style=\"color: #008000; text-decoration-color: #008000\">'model_sage_feather_1'</span>,\n",
       "    <span style=\"color: #008000; text-decoration-color: #008000\">'platform'</span>: <span style=\"color: #008000; text-decoration-color: #008000\">'tensorflow_savedmodel'</span>,\n",
       "    <span style=\"color: #008000; text-decoration-color: #008000\">'backend'</span>: <span style=\"color: #008000; text-decoration-color: #008000\">'tensorflow'</span>,\n",
       "    <span style=\"color: #008000; text-decoration-color: #008000\">'version_policy'</span>: <span style=\"font-weight: bold\">{</span><span style=\"color: #008000; text-decoration-color: #008000\">'latest'</span>: <span style=\"font-weight: bold\">{</span><span style=\"color: #008000; text-decoration-color: #008000\">'num_versions'</span>: <span style=\"color: #008080; text-decoration-color: #008080; font-weight: bold\">1</span><span style=\"font-weight: bold\">}}</span>,\n",
       "    <span style=\"color: #008000; text-decoration-color: #008000\">'max_batch_size'</span>: <span style=\"color: #008080; text-decoration-color: #008080; font-weight: bold\">8</span>,\n",
       "    <span style=\"color: #008000; text-decoration-color: #008000\">'input'</span>: <span style=\"font-weight: bold\">[</span>\n",
       "        <span style=\"font-weight: bold\">{</span>\n",
       "            <span style=\"color: #008000; text-decoration-color: #008000\">'name'</span>: <span style=\"color: #008000; text-decoration-color: #008000\">'input_1'</span>,\n",
       "            <span style=\"color: #008000; text-decoration-color: #008000\">'data_type'</span>: <span style=\"color: #008000; text-decoration-color: #008000\">'TYPE_FP32'</span>,\n",
       "            <span style=\"color: #008000; text-decoration-color: #008000\">'format'</span>: <span style=\"color: #008000; text-decoration-color: #008000\">'FORMAT_NONE'</span>,\n",
       "            <span style=\"color: #008000; text-decoration-color: #008000\">'dims'</span>: <span style=\"font-weight: bold\">[</span><span style=\"color: #008080; text-decoration-color: #008080; font-weight: bold\">32</span>, <span style=\"color: #008080; text-decoration-color: #008080; font-weight: bold\">32</span>, <span style=\"color: #008080; text-decoration-color: #008080; font-weight: bold\">3</span><span style=\"font-weight: bold\">]</span>,\n",
       "            <span style=\"color: #008000; text-decoration-color: #008000\">'is_shape_tensor'</span>: <span style=\"color: #ff0000; text-decoration-color: #ff0000; font-style: italic\">False</span>,\n",
       "            <span style=\"color: #008000; text-decoration-color: #008000\">'allow_ragged_batch'</span>: <span style=\"color: #ff0000; text-decoration-color: #ff0000; font-style: italic\">False</span>,\n",
       "            <span style=\"color: #008000; text-decoration-color: #008000\">'optional'</span>: <span style=\"color: #ff0000; text-decoration-color: #ff0000; font-style: italic\">False</span>\n",
       "        <span style=\"font-weight: bold\">}</span>\n",
       "    <span style=\"font-weight: bold\">]</span>,\n",
       "    <span style=\"color: #008000; text-decoration-color: #008000\">'output'</span>: <span style=\"font-weight: bold\">[</span>\n",
       "        <span style=\"font-weight: bold\">{</span>\n",
       "            <span style=\"color: #008000; text-decoration-color: #008000\">'name'</span>: <span style=\"color: #008000; text-decoration-color: #008000\">'conv5_block3_out'</span>,\n",
       "            <span style=\"color: #008000; text-decoration-color: #008000\">'data_type'</span>: <span style=\"color: #008000; text-decoration-color: #008000\">'TYPE_FP32'</span>,\n",
       "            <span style=\"color: #008000; text-decoration-color: #008000\">'dims'</span>: <span style=\"font-weight: bold\">[</span><span style=\"color: #008080; text-decoration-color: #008080; font-weight: bold\">1</span>, <span style=\"color: #008080; text-decoration-color: #008080; font-weight: bold\">1</span>, <span style=\"color: #008080; text-decoration-color: #008080; font-weight: bold\">2048</span><span style=\"font-weight: bold\">]</span>,\n",
       "            <span style=\"color: #008000; text-decoration-color: #008000\">'label_filename'</span>: <span style=\"color: #008000; text-decoration-color: #008000\">''</span>,\n",
       "            <span style=\"color: #008000; text-decoration-color: #008000\">'is_shape_tensor'</span>: <span style=\"color: #ff0000; text-decoration-color: #ff0000; font-style: italic\">False</span>\n",
       "        <span style=\"font-weight: bold\">}</span>\n",
       "    <span style=\"font-weight: bold\">]</span>,\n",
       "    <span style=\"color: #008000; text-decoration-color: #008000\">'batch_input'</span>: <span style=\"font-weight: bold\">[]</span>,\n",
       "    <span style=\"color: #008000; text-decoration-color: #008000\">'batch_output'</span>: <span style=\"font-weight: bold\">[]</span>,\n",
       "    <span style=\"color: #008000; text-decoration-color: #008000\">'optimization'</span>: <span style=\"font-weight: bold\">{</span>\n",
       "        <span style=\"color: #008000; text-decoration-color: #008000\">'priority'</span>: <span style=\"color: #008000; text-decoration-color: #008000\">'PRIORITY_DEFAULT'</span>,\n",
       "        <span style=\"color: #008000; text-decoration-color: #008000\">'input_pinned_memory'</span>: <span style=\"font-weight: bold\">{</span><span style=\"color: #008000; text-decoration-color: #008000\">'enable'</span>: <span style=\"color: #00ff00; text-decoration-color: #00ff00; font-style: italic\">True</span><span style=\"font-weight: bold\">}</span>,\n",
       "        <span style=\"color: #008000; text-decoration-color: #008000\">'output_pinned_memory'</span>: <span style=\"font-weight: bold\">{</span><span style=\"color: #008000; text-decoration-color: #008000\">'enable'</span>: <span style=\"color: #00ff00; text-decoration-color: #00ff00; font-style: italic\">True</span><span style=\"font-weight: bold\">}</span>,\n",
       "        <span style=\"color: #008000; text-decoration-color: #008000\">'gather_kernel_buffer_threshold'</span>: <span style=\"color: #008080; text-decoration-color: #008080; font-weight: bold\">0</span>,\n",
       "        <span style=\"color: #008000; text-decoration-color: #008000\">'eager_batching'</span>: <span style=\"color: #ff0000; text-decoration-color: #ff0000; font-style: italic\">False</span>\n",
       "    <span style=\"font-weight: bold\">}</span>,\n",
       "    <span style=\"color: #008000; text-decoration-color: #008000\">'dynamic_batching'</span>: <span style=\"font-weight: bold\">{</span>\n",
       "        <span style=\"color: #008000; text-decoration-color: #008000\">'preferred_batch_size'</span>: <span style=\"font-weight: bold\">[</span><span style=\"color: #008080; text-decoration-color: #008080; font-weight: bold\">8</span><span style=\"font-weight: bold\">]</span>,\n",
       "        <span style=\"color: #008000; text-decoration-color: #008000\">'max_queue_delay_microseconds'</span>: <span style=\"color: #008080; text-decoration-color: #008080; font-weight: bold\">0</span>,\n",
       "        <span style=\"color: #008000; text-decoration-color: #008000\">'preserve_ordering'</span>: <span style=\"color: #ff0000; text-decoration-color: #ff0000; font-style: italic\">False</span>,\n",
       "        <span style=\"color: #008000; text-decoration-color: #008000\">'priority_levels'</span>: <span style=\"color: #008080; text-decoration-color: #008080; font-weight: bold\">0</span>,\n",
       "        <span style=\"color: #008000; text-decoration-color: #008000\">'default_priority_level'</span>: <span style=\"color: #008080; text-decoration-color: #008080; font-weight: bold\">0</span>,\n",
       "        <span style=\"color: #008000; text-decoration-color: #008000\">'priority_queue_policy'</span>: <span style=\"font-weight: bold\">{}</span>\n",
       "    <span style=\"font-weight: bold\">}</span>,\n",
       "    <span style=\"color: #008000; text-decoration-color: #008000\">'instance_group'</span>: <span style=\"font-weight: bold\">[</span>\n",
       "        <span style=\"font-weight: bold\">{</span>\n",
       "            <span style=\"color: #008000; text-decoration-color: #008000\">'name'</span>: <span style=\"color: #008000; text-decoration-color: #008000\">'model_sage_feather_1'</span>,\n",
       "            <span style=\"color: #008000; text-decoration-color: #008000\">'kind'</span>: <span style=\"color: #008000; text-decoration-color: #008000\">'KIND_CPU'</span>,\n",
       "            <span style=\"color: #008000; text-decoration-color: #008000\">'count'</span>: <span style=\"color: #008080; text-decoration-color: #008080; font-weight: bold\">2</span>,\n",
       "            <span style=\"color: #008000; text-decoration-color: #008000\">'gpus'</span>: <span style=\"font-weight: bold\">[]</span>,\n",
       "            <span style=\"color: #008000; text-decoration-color: #008000\">'secondary_devices'</span>: <span style=\"font-weight: bold\">[]</span>,\n",
       "            <span style=\"color: #008000; text-decoration-color: #008000\">'profile'</span>: <span style=\"font-weight: bold\">[]</span>,\n",
       "            <span style=\"color: #008000; text-decoration-color: #008000\">'passive'</span>: <span style=\"color: #ff0000; text-decoration-color: #ff0000; font-style: italic\">False</span>,\n",
       "            <span style=\"color: #008000; text-decoration-color: #008000\">'host_policy'</span>: <span style=\"color: #008000; text-decoration-color: #008000\">''</span>\n",
       "        <span style=\"font-weight: bold\">}</span>\n",
       "    <span style=\"font-weight: bold\">]</span>,\n",
       "    <span style=\"color: #008000; text-decoration-color: #008000\">'default_model_filename'</span>: <span style=\"color: #008000; text-decoration-color: #008000\">'model.savedmodel'</span>,\n",
       "    <span style=\"color: #008000; text-decoration-color: #008000\">'cc_model_filenames'</span>: <span style=\"font-weight: bold\">{}</span>,\n",
       "    <span style=\"color: #008000; text-decoration-color: #008000\">'metric_tags'</span>: <span style=\"font-weight: bold\">{}</span>,\n",
       "    <span style=\"color: #008000; text-decoration-color: #008000\">'parameters'</span>: <span style=\"font-weight: bold\">{}</span>,\n",
       "    <span style=\"color: #008000; text-decoration-color: #008000\">'model_warmup'</span>: <span style=\"font-weight: bold\">[]</span>\n",
       "<span style=\"font-weight: bold\">}</span>\n",
       "</pre>\n"
      ],
      "text/plain": [
       "\u001b[1m{\u001b[0m\n",
       "    \u001b[32m'name'\u001b[0m: \u001b[32m'model_sage_feather_1'\u001b[0m,\n",
       "    \u001b[32m'platform'\u001b[0m: \u001b[32m'tensorflow_savedmodel'\u001b[0m,\n",
       "    \u001b[32m'backend'\u001b[0m: \u001b[32m'tensorflow'\u001b[0m,\n",
       "    \u001b[32m'version_policy'\u001b[0m: \u001b[1m{\u001b[0m\u001b[32m'latest'\u001b[0m: \u001b[1m{\u001b[0m\u001b[32m'num_versions'\u001b[0m: \u001b[1;36m1\u001b[0m\u001b[1m}\u001b[0m\u001b[1m}\u001b[0m,\n",
       "    \u001b[32m'max_batch_size'\u001b[0m: \u001b[1;36m8\u001b[0m,\n",
       "    \u001b[32m'input'\u001b[0m: \u001b[1m[\u001b[0m\n",
       "        \u001b[1m{\u001b[0m\n",
       "            \u001b[32m'name'\u001b[0m: \u001b[32m'input_1'\u001b[0m,\n",
       "            \u001b[32m'data_type'\u001b[0m: \u001b[32m'TYPE_FP32'\u001b[0m,\n",
       "            \u001b[32m'format'\u001b[0m: \u001b[32m'FORMAT_NONE'\u001b[0m,\n",
       "            \u001b[32m'dims'\u001b[0m: \u001b[1m[\u001b[0m\u001b[1;36m32\u001b[0m, \u001b[1;36m32\u001b[0m, \u001b[1;36m3\u001b[0m\u001b[1m]\u001b[0m,\n",
       "            \u001b[32m'is_shape_tensor'\u001b[0m: \u001b[3;91mFalse\u001b[0m,\n",
       "            \u001b[32m'allow_ragged_batch'\u001b[0m: \u001b[3;91mFalse\u001b[0m,\n",
       "            \u001b[32m'optional'\u001b[0m: \u001b[3;91mFalse\u001b[0m\n",
       "        \u001b[1m}\u001b[0m\n",
       "    \u001b[1m]\u001b[0m,\n",
       "    \u001b[32m'output'\u001b[0m: \u001b[1m[\u001b[0m\n",
       "        \u001b[1m{\u001b[0m\n",
       "            \u001b[32m'name'\u001b[0m: \u001b[32m'conv5_block3_out'\u001b[0m,\n",
       "            \u001b[32m'data_type'\u001b[0m: \u001b[32m'TYPE_FP32'\u001b[0m,\n",
       "            \u001b[32m'dims'\u001b[0m: \u001b[1m[\u001b[0m\u001b[1;36m1\u001b[0m, \u001b[1;36m1\u001b[0m, \u001b[1;36m2048\u001b[0m\u001b[1m]\u001b[0m,\n",
       "            \u001b[32m'label_filename'\u001b[0m: \u001b[32m''\u001b[0m,\n",
       "            \u001b[32m'is_shape_tensor'\u001b[0m: \u001b[3;91mFalse\u001b[0m\n",
       "        \u001b[1m}\u001b[0m\n",
       "    \u001b[1m]\u001b[0m,\n",
       "    \u001b[32m'batch_input'\u001b[0m: \u001b[1m[\u001b[0m\u001b[1m]\u001b[0m,\n",
       "    \u001b[32m'batch_output'\u001b[0m: \u001b[1m[\u001b[0m\u001b[1m]\u001b[0m,\n",
       "    \u001b[32m'optimization'\u001b[0m: \u001b[1m{\u001b[0m\n",
       "        \u001b[32m'priority'\u001b[0m: \u001b[32m'PRIORITY_DEFAULT'\u001b[0m,\n",
       "        \u001b[32m'input_pinned_memory'\u001b[0m: \u001b[1m{\u001b[0m\u001b[32m'enable'\u001b[0m: \u001b[3;92mTrue\u001b[0m\u001b[1m}\u001b[0m,\n",
       "        \u001b[32m'output_pinned_memory'\u001b[0m: \u001b[1m{\u001b[0m\u001b[32m'enable'\u001b[0m: \u001b[3;92mTrue\u001b[0m\u001b[1m}\u001b[0m,\n",
       "        \u001b[32m'gather_kernel_buffer_threshold'\u001b[0m: \u001b[1;36m0\u001b[0m,\n",
       "        \u001b[32m'eager_batching'\u001b[0m: \u001b[3;91mFalse\u001b[0m\n",
       "    \u001b[1m}\u001b[0m,\n",
       "    \u001b[32m'dynamic_batching'\u001b[0m: \u001b[1m{\u001b[0m\n",
       "        \u001b[32m'preferred_batch_size'\u001b[0m: \u001b[1m[\u001b[0m\u001b[1;36m8\u001b[0m\u001b[1m]\u001b[0m,\n",
       "        \u001b[32m'max_queue_delay_microseconds'\u001b[0m: \u001b[1;36m0\u001b[0m,\n",
       "        \u001b[32m'preserve_ordering'\u001b[0m: \u001b[3;91mFalse\u001b[0m,\n",
       "        \u001b[32m'priority_levels'\u001b[0m: \u001b[1;36m0\u001b[0m,\n",
       "        \u001b[32m'default_priority_level'\u001b[0m: \u001b[1;36m0\u001b[0m,\n",
       "        \u001b[32m'priority_queue_policy'\u001b[0m: \u001b[1m{\u001b[0m\u001b[1m}\u001b[0m\n",
       "    \u001b[1m}\u001b[0m,\n",
       "    \u001b[32m'instance_group'\u001b[0m: \u001b[1m[\u001b[0m\n",
       "        \u001b[1m{\u001b[0m\n",
       "            \u001b[32m'name'\u001b[0m: \u001b[32m'model_sage_feather_1'\u001b[0m,\n",
       "            \u001b[32m'kind'\u001b[0m: \u001b[32m'KIND_CPU'\u001b[0m,\n",
       "            \u001b[32m'count'\u001b[0m: \u001b[1;36m2\u001b[0m,\n",
       "            \u001b[32m'gpus'\u001b[0m: \u001b[1m[\u001b[0m\u001b[1m]\u001b[0m,\n",
       "            \u001b[32m'secondary_devices'\u001b[0m: \u001b[1m[\u001b[0m\u001b[1m]\u001b[0m,\n",
       "            \u001b[32m'profile'\u001b[0m: \u001b[1m[\u001b[0m\u001b[1m]\u001b[0m,\n",
       "            \u001b[32m'passive'\u001b[0m: \u001b[3;91mFalse\u001b[0m,\n",
       "            \u001b[32m'host_policy'\u001b[0m: \u001b[32m''\u001b[0m\n",
       "        \u001b[1m}\u001b[0m\n",
       "    \u001b[1m]\u001b[0m,\n",
       "    \u001b[32m'default_model_filename'\u001b[0m: \u001b[32m'model.savedmodel'\u001b[0m,\n",
       "    \u001b[32m'cc_model_filenames'\u001b[0m: \u001b[1m{\u001b[0m\u001b[1m}\u001b[0m,\n",
       "    \u001b[32m'metric_tags'\u001b[0m: \u001b[1m{\u001b[0m\u001b[1m}\u001b[0m,\n",
       "    \u001b[32m'parameters'\u001b[0m: \u001b[1m{\u001b[0m\u001b[1m}\u001b[0m,\n",
       "    \u001b[32m'model_warmup'\u001b[0m: \u001b[1m[\u001b[0m\u001b[1m]\u001b[0m\n",
       "\u001b[1m}\u001b[0m\n"
      ]
     },
     "metadata": {},
     "output_type": "display_data"
    }
   ],
   "source": [
    "print(config)"
   ]
  },
  {
   "cell_type": "code",
   "execution_count": 18,
   "metadata": {},
   "outputs": [],
   "source": [
    "config.update(max_batch_size=8)"
   ]
  },
  {
   "cell_type": "code",
   "execution_count": 22,
   "metadata": {},
   "outputs": [],
   "source": [
    "import json"
   ]
  },
  {
   "cell_type": "code",
   "execution_count": 23,
   "metadata": {},
   "outputs": [
    {
     "name": "stdout",
     "output_type": "stream",
     "text": [
      "POST /v2/repository/models/model_sage_feather_1/load, headers None\n",
      "{\"parameters\":{\"config\":\"{\\\"name\\\": \\\"model_sage_feather_1\\\", \\\"platform\\\": \\\"tensorflow_savedmodel\\\", \\\"backend\\\": \\\"tensorflow\\\", \\\"version_policy\\\": {\\\"latest\\\": {\\\"num_versions\\\": 1}}, \\\"max_batch_size\\\": 8, \\\"input\\\": [{\\\"name\\\": \\\"input_1\\\", \\\"data_type\\\": \\\"TYPE_FP32\\\", \\\"format\\\": \\\"FORMAT_NONE\\\", \\\"dims\\\": [32, 32, 3], \\\"is_shape_tensor\\\": false, \\\"allow_ragged_batch\\\": false, \\\"optional\\\": false}], \\\"output\\\": [{\\\"name\\\": \\\"conv5_block3_out\\\", \\\"data_type\\\": \\\"TYPE_FP32\\\", \\\"dims\\\": [1, 1, 2048], \\\"label_filename\\\": \\\"\\\", \\\"is_shape_tensor\\\": false}], \\\"batch_input\\\": [], \\\"batch_output\\\": [], \\\"optimization\\\": {\\\"priority\\\": \\\"PRIORITY_DEFAULT\\\", \\\"input_pinned_memory\\\": {\\\"enable\\\": true}, \\\"output_pinned_memory\\\": {\\\"enable\\\": true}, \\\"gather_kernel_buffer_threshold\\\": 0, \\\"eager_batching\\\": false}, \\\"dynamic_batching\\\": {\\\"preferred_batch_size\\\": [4], \\\"max_queue_delay_microseconds\\\": 0, \\\"preserve_ordering\\\": false, \\\"priority_levels\\\": 0, \\\"default_priority_level\\\": 0, \\\"priority_queue_policy\\\": {}}, \\\"instance_group\\\": [{\\\"name\\\": \\\"model_sage_feather_1\\\", \\\"kind\\\": \\\"KIND_CPU\\\", \\\"count\\\": 2, \\\"gpus\\\": [], \\\"secondary_devices\\\": [], \\\"profile\\\": [], \\\"passive\\\": false, \\\"host_policy\\\": \\\"\\\"}], \\\"default_model_filename\\\": \\\"model.savedmodel\\\", \\\"cc_model_filenames\\\": {}, \\\"metric_tags\\\": {}, \\\"parameters\\\": {}, \\\"model_warmup\\\": []}\"}}\n",
      "<HTTPSocketPoolResponse status=200 headers={'content-type': 'application/json', 'content-length': '0'}>\n",
      "Loaded model 'model_sage_feather_1'\n"
     ]
    }
   ],
   "source": [
    "client.load_model('model_sage_feather_1', config=json.dumps(config))"
   ]
  },
  {
   "cell_type": "code",
   "execution_count": null,
   "metadata": {},
   "outputs": [],
   "source": [
    "def deploy_n_times(model, n):\n",
    "    client.load_model('')"
   ]
  },
  {
   "cell_type": "code",
   "execution_count": 1,
   "metadata": {},
   "outputs": [],
   "source": [
    "# test async"
   ]
  },
  {
   "cell_type": "code",
   "execution_count": 2,
   "metadata": {},
   "outputs": [],
   "source": [
    "import tritonclient.http.aio as asyncclient"
   ]
  },
  {
   "cell_type": "code",
   "execution_count": 4,
   "metadata": {},
   "outputs": [],
   "source": [
    "client = asyncclient.InferenceServerClient(url=\"localhost:8000\", verbose=True)"
   ]
  },
  {
   "cell_type": "code",
   "execution_count": 9,
   "metadata": {},
   "outputs": [
    {
     "name": "stdout",
     "output_type": "stream",
     "text": [
      "POST http://localhost:8000/v2/repository/models/model-sage-feather-1_copy_0/load, headers None\n",
      "{}\n",
      "<ClientResponse(http://localhost:8000/v2/repository/models/model-sage-feather-1_copy_0/load) [200 OK]>\n",
      "<CIMultiDictProxy('Content-Type': 'application/json', 'Content-Length': '0')>\n",
      "\n",
      "Loaded model 'model-sage-feather-1_copy_0'\n",
      "POST http://localhost:8000/v2/repository/models/model-sage-feather-1_copy_1/load, headers None\n",
      "{}\n",
      "<ClientResponse(http://localhost:8000/v2/repository/models/model-sage-feather-1_copy_1/load) [200 OK]>\n",
      "<CIMultiDictProxy('Content-Type': 'application/json', 'Content-Length': '0')>\n",
      "\n",
      "Loaded model 'model-sage-feather-1_copy_1'\n",
      "POST http://localhost:8000/v2/repository/models/model-sage-feather-1_copy_2/load, headers None\n",
      "{}\n",
      "<ClientResponse(http://localhost:8000/v2/repository/models/model-sage-feather-1_copy_2/load) [200 OK]>\n",
      "<CIMultiDictProxy('Content-Type': 'application/json', 'Content-Length': '0')>\n",
      "\n",
      "Loaded model 'model-sage-feather-1_copy_2'\n"
     ]
    }
   ],
   "source": [
    "await client.load_model('model-sage-feather-1_copy_0')\n",
    "await client.load_model('model-sage-feather-1_copy_1')\n",
    "await client.load_model('model-sage-feather-1_copy_2')"
   ]
  },
  {
   "cell_type": "code",
   "execution_count": 10,
   "metadata": {},
   "outputs": [],
   "source": [
    "jobs = [f'model-sage-feather-1_copy_{i}' for i in range(3)]"
   ]
  },
  {
   "cell_type": "code",
   "execution_count": 16,
   "metadata": {},
   "outputs": [],
   "source": [
    "def do_work(j):\n",
    "    return client.load_model(j)"
   ]
  },
  {
   "cell_type": "code",
   "execution_count": 21,
   "metadata": {},
   "outputs": [
    {
     "name": "stdout",
     "output_type": "stream",
     "text": [
      "POST /v2/repository/models/model-sage-feather-1_copy_0/load, headers None\n",
      "{}\n",
      "POST /v2/repository/models/model-sage-feather-1_copy_1/load, headers None\n",
      "{}\n",
      "POST /v2/repository/models/model-sage-feather-1_copy_2/load, headers None\n",
      "{}\n"
     ]
    },
    {
     "ename": "KeyboardInterrupt",
     "evalue": "",
     "output_type": "error",
     "traceback": [
      "\u001b[0;31m---------------------------------------------------------------------------\u001b[0m",
      "\u001b[0;31mKeyboardInterrupt\u001b[0m                         Traceback (most recent call last)",
      "Cell \u001b[0;32mIn[21], line 3\u001b[0m\n\u001b[1;32m      1\u001b[0m \u001b[39mfrom\u001b[39;00m \u001b[39mconcurrent\u001b[39;00m\u001b[39m.\u001b[39;00m\u001b[39mfutures\u001b[39;00m \u001b[39mimport\u001b[39;00m ProcessPoolExecutor\n\u001b[0;32m----> 3\u001b[0m \u001b[39mwith\u001b[39;00m ProcessPoolExecutor() \u001b[39mas\u001b[39;00m exc:\n\u001b[1;32m      4\u001b[0m     exc\u001b[39m.\u001b[39mmap(do_work, jobs)\n",
      "File \u001b[0;32m~/.python/current/lib/python3.10/concurrent/futures/_base.py:637\u001b[0m, in \u001b[0;36mExecutor.__exit__\u001b[0;34m(self, exc_type, exc_val, exc_tb)\u001b[0m\n\u001b[1;32m    636\u001b[0m \u001b[39mdef\u001b[39;00m \u001b[39m__exit__\u001b[39m(\u001b[39mself\u001b[39m, exc_type, exc_val, exc_tb):\n\u001b[0;32m--> 637\u001b[0m     \u001b[39mself\u001b[39;49m\u001b[39m.\u001b[39;49mshutdown(wait\u001b[39m=\u001b[39;49m\u001b[39mTrue\u001b[39;49;00m)\n\u001b[1;32m    638\u001b[0m     \u001b[39mreturn\u001b[39;00m \u001b[39mFalse\u001b[39;00m\n",
      "File \u001b[0;32m~/.python/current/lib/python3.10/concurrent/futures/process.py:748\u001b[0m, in \u001b[0;36mProcessPoolExecutor.shutdown\u001b[0;34m(self, wait, cancel_futures)\u001b[0m\n\u001b[1;32m    745\u001b[0m         \u001b[39mself\u001b[39m\u001b[39m.\u001b[39m_executor_manager_thread_wakeup\u001b[39m.\u001b[39mwakeup()\n\u001b[1;32m    747\u001b[0m \u001b[39mif\u001b[39;00m \u001b[39mself\u001b[39m\u001b[39m.\u001b[39m_executor_manager_thread \u001b[39mis\u001b[39;00m \u001b[39mnot\u001b[39;00m \u001b[39mNone\u001b[39;00m \u001b[39mand\u001b[39;00m wait:\n\u001b[0;32m--> 748\u001b[0m     \u001b[39mself\u001b[39;49m\u001b[39m.\u001b[39;49m_executor_manager_thread\u001b[39m.\u001b[39;49mjoin()\n\u001b[1;32m    749\u001b[0m \u001b[39m# To reduce the risk of opening too many files, remove references to\u001b[39;00m\n\u001b[1;32m    750\u001b[0m \u001b[39m# objects that use file descriptors.\u001b[39;00m\n\u001b[1;32m    751\u001b[0m \u001b[39mself\u001b[39m\u001b[39m.\u001b[39m_executor_manager_thread \u001b[39m=\u001b[39m \u001b[39mNone\u001b[39;00m\n",
      "File \u001b[0;32m~/.python/current/lib/python3.10/threading.py:1089\u001b[0m, in \u001b[0;36mThread.join\u001b[0;34m(self, timeout)\u001b[0m\n\u001b[1;32m   1086\u001b[0m     \u001b[39mraise\u001b[39;00m \u001b[39mRuntimeError\u001b[39;00m(\u001b[39m\"\u001b[39m\u001b[39mcannot join current thread\u001b[39m\u001b[39m\"\u001b[39m)\n\u001b[1;32m   1088\u001b[0m \u001b[39mif\u001b[39;00m timeout \u001b[39mis\u001b[39;00m \u001b[39mNone\u001b[39;00m:\n\u001b[0;32m-> 1089\u001b[0m     \u001b[39mself\u001b[39;49m\u001b[39m.\u001b[39;49m_wait_for_tstate_lock()\n\u001b[1;32m   1090\u001b[0m \u001b[39melse\u001b[39;00m:\n\u001b[1;32m   1091\u001b[0m     \u001b[39m# the behavior of a negative timeout isn't documented, but\u001b[39;00m\n\u001b[1;32m   1092\u001b[0m     \u001b[39m# historically .join(timeout=x) for x<0 has acted as if timeout=0\u001b[39;00m\n\u001b[1;32m   1093\u001b[0m     \u001b[39mself\u001b[39m\u001b[39m.\u001b[39m_wait_for_tstate_lock(timeout\u001b[39m=\u001b[39m\u001b[39mmax\u001b[39m(timeout, \u001b[39m0\u001b[39m))\n",
      "File \u001b[0;32m~/.python/current/lib/python3.10/threading.py:1109\u001b[0m, in \u001b[0;36mThread._wait_for_tstate_lock\u001b[0;34m(self, block, timeout)\u001b[0m\n\u001b[1;32m   1106\u001b[0m     \u001b[39mreturn\u001b[39;00m\n\u001b[1;32m   1108\u001b[0m \u001b[39mtry\u001b[39;00m:\n\u001b[0;32m-> 1109\u001b[0m     \u001b[39mif\u001b[39;00m lock\u001b[39m.\u001b[39;49macquire(block, timeout):\n\u001b[1;32m   1110\u001b[0m         lock\u001b[39m.\u001b[39mrelease()\n\u001b[1;32m   1111\u001b[0m         \u001b[39mself\u001b[39m\u001b[39m.\u001b[39m_stop()\n",
      "\u001b[0;31mKeyboardInterrupt\u001b[0m: "
     ]
    }
   ],
   "source": [
    "from concurrent.futures import ProcessPoolExecutor\n",
    "\n",
    "with ProcessPoolExecutor() as exc:\n",
    "    exc.map(do_work, jobs)"
   ]
  },
  {
   "cell_type": "code",
   "execution_count": 20,
   "metadata": {},
   "outputs": [
    {
     "name": "stdout",
     "output_type": "stream",
     "text": [
      "POST /v2/repository/models/model-sage-feather-1_copy_0/load, headers None\n",
      "{}\n",
      "<HTTPSocketPoolResponse status=200 headers={'content-type': 'application/json', 'content-length': '0'}>\n",
      "Loaded model 'model-sage-feather-1_copy_0'\n",
      "POST /v2/repository/models/model-sage-feather-1_copy_1/load, headers None\n",
      "{}\n",
      "<HTTPSocketPoolResponse status=200 headers={'content-type': 'application/json', 'content-length': '0'}>\n",
      "Loaded model 'model-sage-feather-1_copy_1'\n",
      "POST /v2/repository/models/model-sage-feather-1_copy_2/load, headers None\n",
      "{}\n",
      "<HTTPSocketPoolResponse status=200 headers={'content-type': 'application/json', 'content-length': '0'}>\n",
      "Loaded model 'model-sage-feather-1_copy_2'\n"
     ]
    }
   ],
   "source": [
    "for j in jobs:\n",
    "    do_work(j)"
   ]
  },
  {
   "cell_type": "code",
   "execution_count": 26,
   "metadata": {},
   "outputs": [
    {
     "name": "stdout",
     "output_type": "stream",
     "text": [
      "GET /v2/models/model-sage-feather-1_copy_0/config, headers None\n",
      "<HTTPSocketPoolResponse status=200 headers={'content-type': 'application/json', 'content-length': '1130'}>\n",
      "bytearray(b'{\"name\":\"model-sage-feather-1_copy_0\",\"platform\":\"tensorflow_savedmodel\",\"backend\":\"tensorflow\",\"version_policy\":{\"specific\":{\"versions\":[1]}},\"max_batch_size\":8,\"input\":[{\"name\":\"input_1\",\"data_type\":\"TYPE_FP32\",\"format\":\"FORMAT_NONE\",\"dims\":[32,32,3],\"is_shape_tensor\":false,\"allow_ragged_batch\":false,\"optional\":false}],\"output\":[{\"name\":\"conv5_block3_out\",\"data_type\":\"TYPE_FP32\",\"dims\":[1,1,2048],\"label_filename\":\"\",\"is_shape_tensor\":false}],\"batch_input\":[],\"batch_output\":[],\"optimization\":{\"priority\":\"PRIORITY_DEFAULT\",\"input_pinned_memory\":{\"enable\":true},\"output_pinned_memory\":{\"enable\":true},\"gather_kernel_buffer_threshold\":0,\"eager_batching\":false},\"dynamic_batching\":{\"preferred_batch_size\":[8],\"max_queue_delay_microseconds\":0,\"preserve_ordering\":false,\"priority_levels\":0,\"default_priority_level\":0,\"priority_queue_policy\":{}},\"instance_group\":[{\"name\":\"model-sage-feather-1_copy_0\",\"kind\":\"KIND_CPU\",\"count\":2,\"gpus\":[],\"secondary_devices\":[],\"profile\":[],\"passive\":false,\"host_policy\":\"\"}],\"default_model_filename\":\"model.savedmodel\",\"cc_model_filenames\":{},\"metric_tags\":{},\"parameters\":{},\"model_warmup\":[]}')\n"
     ]
    }
   ],
   "source": [
    "config = client.get_model_config(\"model-sage-feather-1_copy_0\")"
   ]
  },
  {
   "cell_type": "code",
   "execution_count": 33,
   "metadata": {},
   "outputs": [],
   "source": [
    "from google.protobuf.json_format import Parse, ParseDict\n",
    "from google.protobuf import any_pb2"
   ]
  },
  {
   "cell_type": "code",
   "execution_count": 35,
   "metadata": {},
   "outputs": [],
   "source": [
    "from rich import print"
   ]
  },
  {
   "cell_type": "code",
   "execution_count": 63,
   "metadata": {},
   "outputs": [
    {
     "name": "stdout",
     "output_type": "stream",
     "text": [
      "GET /v2/models/model-sage-feather-1_copy_0/config, headers None\n",
      "<HTTPSocketPoolResponse status=200 headers={'content-type': 'application/json', 'content-length': '1132'}>\n",
      "bytearray(b'{\"name\":\"model-sage-feather-1_copy_0\",\"platform\":\"tensorflow_savedmodel\",\"backend\":\"tensorflow\",\"version_policy\":{\"latest\":{\"num_versions\":1}},\"max_batch_size\":16,\"input\":[{\"name\":\"input_1\",\"data_type\":\"TYPE_FP32\",\"format\":\"FORMAT_NONE\",\"dims\":[32,32,3],\"is_shape_tensor\":false,\"allow_ragged_batch\":false,\"optional\":false}],\"output\":[{\"name\":\"conv5_block3_out\",\"data_type\":\"TYPE_FP32\",\"dims\":[1,1,2048],\"label_filename\":\"\",\"is_shape_tensor\":false}],\"batch_input\":[],\"batch_output\":[],\"optimization\":{\"priority\":\"PRIORITY_DEFAULT\",\"input_pinned_memory\":{\"enable\":true},\"output_pinned_memory\":{\"enable\":true},\"gather_kernel_buffer_threshold\":0,\"eager_batching\":false},\"dynamic_batching\":{\"preferred_batch_size\":[16],\"max_queue_delay_microseconds\":0,\"preserve_ordering\":false,\"priority_levels\":0,\"default_priority_level\":0,\"priority_queue_policy\":{}},\"instance_group\":[{\"name\":\"model-sage-feather-1_copy_0\",\"kind\":\"KIND_CPU\",\"count\":2,\"gpus\":[],\"secondary_devices\":[],\"profile\":[],\"passive\":false,\"host_policy\":\"\"}],\"default_model_filename\":\"model.savedmodel\",\"cc_model_filenames\":{},\"metric_tags\":{},\"parameters\":{},\"model_warmup\":[]}')\n"
     ]
    },
    {
     "data": {
      "text/plain": [
       "[16]"
      ]
     },
     "execution_count": 63,
     "metadata": {},
     "output_type": "execute_result"
    }
   ],
   "source": [
    "configs = [client.get_model_config(f\"model-sage-feather-1_copy_{i}\") for i in range(1)]\n",
    "bs = [c.get('max_batch_size') for c in configs]\n",
    "\n",
    "bs"
   ]
  },
  {
   "cell_type": "code",
   "execution_count": 64,
   "metadata": {},
   "outputs": [
    {
     "data": {
      "text/html": [
       "<pre style=\"white-space:pre;overflow-x:auto;line-height:normal;font-family:Menlo,'DejaVu Sans Mono',consolas,'Courier New',monospace\"><span style=\"font-weight: bold\">{</span>\n",
       "    <span style=\"color: #008000; text-decoration-color: #008000\">'name'</span>: <span style=\"color: #008000; text-decoration-color: #008000\">'model-sage-feather-1_copy_0'</span>,\n",
       "    <span style=\"color: #008000; text-decoration-color: #008000\">'platform'</span>: <span style=\"color: #008000; text-decoration-color: #008000\">'tensorflow_savedmodel'</span>,\n",
       "    <span style=\"color: #008000; text-decoration-color: #008000\">'backend'</span>: <span style=\"color: #008000; text-decoration-color: #008000\">'tensorflow'</span>,\n",
       "    <span style=\"color: #008000; text-decoration-color: #008000\">'version_policy'</span>: <span style=\"font-weight: bold\">{</span><span style=\"color: #008000; text-decoration-color: #008000\">'latest'</span>: <span style=\"font-weight: bold\">{</span><span style=\"color: #008000; text-decoration-color: #008000\">'num_versions'</span>: <span style=\"color: #008080; text-decoration-color: #008080; font-weight: bold\">1</span><span style=\"font-weight: bold\">}}</span>,\n",
       "    <span style=\"color: #008000; text-decoration-color: #008000\">'max_batch_size'</span>: <span style=\"color: #008080; text-decoration-color: #008080; font-weight: bold\">16</span>,\n",
       "    <span style=\"color: #008000; text-decoration-color: #008000\">'input'</span>: <span style=\"font-weight: bold\">[</span>\n",
       "        <span style=\"font-weight: bold\">{</span>\n",
       "            <span style=\"color: #008000; text-decoration-color: #008000\">'name'</span>: <span style=\"color: #008000; text-decoration-color: #008000\">'input_1'</span>,\n",
       "            <span style=\"color: #008000; text-decoration-color: #008000\">'data_type'</span>: <span style=\"color: #008000; text-decoration-color: #008000\">'TYPE_FP32'</span>,\n",
       "            <span style=\"color: #008000; text-decoration-color: #008000\">'format'</span>: <span style=\"color: #008000; text-decoration-color: #008000\">'FORMAT_NONE'</span>,\n",
       "            <span style=\"color: #008000; text-decoration-color: #008000\">'dims'</span>: <span style=\"font-weight: bold\">[</span><span style=\"color: #008080; text-decoration-color: #008080; font-weight: bold\">32</span>, <span style=\"color: #008080; text-decoration-color: #008080; font-weight: bold\">32</span>, <span style=\"color: #008080; text-decoration-color: #008080; font-weight: bold\">3</span><span style=\"font-weight: bold\">]</span>,\n",
       "            <span style=\"color: #008000; text-decoration-color: #008000\">'is_shape_tensor'</span>: <span style=\"color: #ff0000; text-decoration-color: #ff0000; font-style: italic\">False</span>,\n",
       "            <span style=\"color: #008000; text-decoration-color: #008000\">'allow_ragged_batch'</span>: <span style=\"color: #ff0000; text-decoration-color: #ff0000; font-style: italic\">False</span>,\n",
       "            <span style=\"color: #008000; text-decoration-color: #008000\">'optional'</span>: <span style=\"color: #ff0000; text-decoration-color: #ff0000; font-style: italic\">False</span>\n",
       "        <span style=\"font-weight: bold\">}</span>\n",
       "    <span style=\"font-weight: bold\">]</span>,\n",
       "    <span style=\"color: #008000; text-decoration-color: #008000\">'output'</span>: <span style=\"font-weight: bold\">[</span>\n",
       "        <span style=\"font-weight: bold\">{</span>\n",
       "            <span style=\"color: #008000; text-decoration-color: #008000\">'name'</span>: <span style=\"color: #008000; text-decoration-color: #008000\">'conv5_block3_out'</span>,\n",
       "            <span style=\"color: #008000; text-decoration-color: #008000\">'data_type'</span>: <span style=\"color: #008000; text-decoration-color: #008000\">'TYPE_FP32'</span>,\n",
       "            <span style=\"color: #008000; text-decoration-color: #008000\">'dims'</span>: <span style=\"font-weight: bold\">[</span><span style=\"color: #008080; text-decoration-color: #008080; font-weight: bold\">1</span>, <span style=\"color: #008080; text-decoration-color: #008080; font-weight: bold\">1</span>, <span style=\"color: #008080; text-decoration-color: #008080; font-weight: bold\">2048</span><span style=\"font-weight: bold\">]</span>,\n",
       "            <span style=\"color: #008000; text-decoration-color: #008000\">'label_filename'</span>: <span style=\"color: #008000; text-decoration-color: #008000\">''</span>,\n",
       "            <span style=\"color: #008000; text-decoration-color: #008000\">'is_shape_tensor'</span>: <span style=\"color: #ff0000; text-decoration-color: #ff0000; font-style: italic\">False</span>\n",
       "        <span style=\"font-weight: bold\">}</span>\n",
       "    <span style=\"font-weight: bold\">]</span>,\n",
       "    <span style=\"color: #008000; text-decoration-color: #008000\">'batch_input'</span>: <span style=\"font-weight: bold\">[]</span>,\n",
       "    <span style=\"color: #008000; text-decoration-color: #008000\">'batch_output'</span>: <span style=\"font-weight: bold\">[]</span>,\n",
       "    <span style=\"color: #008000; text-decoration-color: #008000\">'optimization'</span>: <span style=\"font-weight: bold\">{</span>\n",
       "        <span style=\"color: #008000; text-decoration-color: #008000\">'priority'</span>: <span style=\"color: #008000; text-decoration-color: #008000\">'PRIORITY_DEFAULT'</span>,\n",
       "        <span style=\"color: #008000; text-decoration-color: #008000\">'input_pinned_memory'</span>: <span style=\"font-weight: bold\">{</span><span style=\"color: #008000; text-decoration-color: #008000\">'enable'</span>: <span style=\"color: #00ff00; text-decoration-color: #00ff00; font-style: italic\">True</span><span style=\"font-weight: bold\">}</span>,\n",
       "        <span style=\"color: #008000; text-decoration-color: #008000\">'output_pinned_memory'</span>: <span style=\"font-weight: bold\">{</span><span style=\"color: #008000; text-decoration-color: #008000\">'enable'</span>: <span style=\"color: #00ff00; text-decoration-color: #00ff00; font-style: italic\">True</span><span style=\"font-weight: bold\">}</span>,\n",
       "        <span style=\"color: #008000; text-decoration-color: #008000\">'gather_kernel_buffer_threshold'</span>: <span style=\"color: #008080; text-decoration-color: #008080; font-weight: bold\">0</span>,\n",
       "        <span style=\"color: #008000; text-decoration-color: #008000\">'eager_batching'</span>: <span style=\"color: #ff0000; text-decoration-color: #ff0000; font-style: italic\">False</span>\n",
       "    <span style=\"font-weight: bold\">}</span>,\n",
       "    <span style=\"color: #008000; text-decoration-color: #008000\">'dynamic_batching'</span>: <span style=\"font-weight: bold\">{</span>\n",
       "        <span style=\"color: #008000; text-decoration-color: #008000\">'preferred_batch_size'</span>: <span style=\"font-weight: bold\">[</span><span style=\"color: #008080; text-decoration-color: #008080; font-weight: bold\">16</span><span style=\"font-weight: bold\">]</span>,\n",
       "        <span style=\"color: #008000; text-decoration-color: #008000\">'max_queue_delay_microseconds'</span>: <span style=\"color: #008080; text-decoration-color: #008080; font-weight: bold\">0</span>,\n",
       "        <span style=\"color: #008000; text-decoration-color: #008000\">'preserve_ordering'</span>: <span style=\"color: #ff0000; text-decoration-color: #ff0000; font-style: italic\">False</span>,\n",
       "        <span style=\"color: #008000; text-decoration-color: #008000\">'priority_levels'</span>: <span style=\"color: #008080; text-decoration-color: #008080; font-weight: bold\">0</span>,\n",
       "        <span style=\"color: #008000; text-decoration-color: #008000\">'default_priority_level'</span>: <span style=\"color: #008080; text-decoration-color: #008080; font-weight: bold\">0</span>,\n",
       "        <span style=\"color: #008000; text-decoration-color: #008000\">'priority_queue_policy'</span>: <span style=\"font-weight: bold\">{}</span>\n",
       "    <span style=\"font-weight: bold\">}</span>,\n",
       "    <span style=\"color: #008000; text-decoration-color: #008000\">'instance_group'</span>: <span style=\"font-weight: bold\">[</span>\n",
       "        <span style=\"font-weight: bold\">{</span>\n",
       "            <span style=\"color: #008000; text-decoration-color: #008000\">'name'</span>: <span style=\"color: #008000; text-decoration-color: #008000\">'model-sage-feather-1_copy_0'</span>,\n",
       "            <span style=\"color: #008000; text-decoration-color: #008000\">'kind'</span>: <span style=\"color: #008000; text-decoration-color: #008000\">'KIND_CPU'</span>,\n",
       "            <span style=\"color: #008000; text-decoration-color: #008000\">'count'</span>: <span style=\"color: #008080; text-decoration-color: #008080; font-weight: bold\">2</span>,\n",
       "            <span style=\"color: #008000; text-decoration-color: #008000\">'gpus'</span>: <span style=\"font-weight: bold\">[]</span>,\n",
       "            <span style=\"color: #008000; text-decoration-color: #008000\">'secondary_devices'</span>: <span style=\"font-weight: bold\">[]</span>,\n",
       "            <span style=\"color: #008000; text-decoration-color: #008000\">'profile'</span>: <span style=\"font-weight: bold\">[]</span>,\n",
       "            <span style=\"color: #008000; text-decoration-color: #008000\">'passive'</span>: <span style=\"color: #ff0000; text-decoration-color: #ff0000; font-style: italic\">False</span>,\n",
       "            <span style=\"color: #008000; text-decoration-color: #008000\">'host_policy'</span>: <span style=\"color: #008000; text-decoration-color: #008000\">''</span>\n",
       "        <span style=\"font-weight: bold\">}</span>\n",
       "    <span style=\"font-weight: bold\">]</span>,\n",
       "    <span style=\"color: #008000; text-decoration-color: #008000\">'default_model_filename'</span>: <span style=\"color: #008000; text-decoration-color: #008000\">'model.savedmodel'</span>,\n",
       "    <span style=\"color: #008000; text-decoration-color: #008000\">'cc_model_filenames'</span>: <span style=\"font-weight: bold\">{}</span>,\n",
       "    <span style=\"color: #008000; text-decoration-color: #008000\">'metric_tags'</span>: <span style=\"font-weight: bold\">{}</span>,\n",
       "    <span style=\"color: #008000; text-decoration-color: #008000\">'parameters'</span>: <span style=\"font-weight: bold\">{}</span>,\n",
       "    <span style=\"color: #008000; text-decoration-color: #008000\">'model_warmup'</span>: <span style=\"font-weight: bold\">[]</span>\n",
       "<span style=\"font-weight: bold\">}</span>\n",
       "</pre>\n"
      ],
      "text/plain": [
       "\u001b[1m{\u001b[0m\n",
       "    \u001b[32m'name'\u001b[0m: \u001b[32m'model-sage-feather-1_copy_0'\u001b[0m,\n",
       "    \u001b[32m'platform'\u001b[0m: \u001b[32m'tensorflow_savedmodel'\u001b[0m,\n",
       "    \u001b[32m'backend'\u001b[0m: \u001b[32m'tensorflow'\u001b[0m,\n",
       "    \u001b[32m'version_policy'\u001b[0m: \u001b[1m{\u001b[0m\u001b[32m'latest'\u001b[0m: \u001b[1m{\u001b[0m\u001b[32m'num_versions'\u001b[0m: \u001b[1;36m1\u001b[0m\u001b[1m}\u001b[0m\u001b[1m}\u001b[0m,\n",
       "    \u001b[32m'max_batch_size'\u001b[0m: \u001b[1;36m16\u001b[0m,\n",
       "    \u001b[32m'input'\u001b[0m: \u001b[1m[\u001b[0m\n",
       "        \u001b[1m{\u001b[0m\n",
       "            \u001b[32m'name'\u001b[0m: \u001b[32m'input_1'\u001b[0m,\n",
       "            \u001b[32m'data_type'\u001b[0m: \u001b[32m'TYPE_FP32'\u001b[0m,\n",
       "            \u001b[32m'format'\u001b[0m: \u001b[32m'FORMAT_NONE'\u001b[0m,\n",
       "            \u001b[32m'dims'\u001b[0m: \u001b[1m[\u001b[0m\u001b[1;36m32\u001b[0m, \u001b[1;36m32\u001b[0m, \u001b[1;36m3\u001b[0m\u001b[1m]\u001b[0m,\n",
       "            \u001b[32m'is_shape_tensor'\u001b[0m: \u001b[3;91mFalse\u001b[0m,\n",
       "            \u001b[32m'allow_ragged_batch'\u001b[0m: \u001b[3;91mFalse\u001b[0m,\n",
       "            \u001b[32m'optional'\u001b[0m: \u001b[3;91mFalse\u001b[0m\n",
       "        \u001b[1m}\u001b[0m\n",
       "    \u001b[1m]\u001b[0m,\n",
       "    \u001b[32m'output'\u001b[0m: \u001b[1m[\u001b[0m\n",
       "        \u001b[1m{\u001b[0m\n",
       "            \u001b[32m'name'\u001b[0m: \u001b[32m'conv5_block3_out'\u001b[0m,\n",
       "            \u001b[32m'data_type'\u001b[0m: \u001b[32m'TYPE_FP32'\u001b[0m,\n",
       "            \u001b[32m'dims'\u001b[0m: \u001b[1m[\u001b[0m\u001b[1;36m1\u001b[0m, \u001b[1;36m1\u001b[0m, \u001b[1;36m2048\u001b[0m\u001b[1m]\u001b[0m,\n",
       "            \u001b[32m'label_filename'\u001b[0m: \u001b[32m''\u001b[0m,\n",
       "            \u001b[32m'is_shape_tensor'\u001b[0m: \u001b[3;91mFalse\u001b[0m\n",
       "        \u001b[1m}\u001b[0m\n",
       "    \u001b[1m]\u001b[0m,\n",
       "    \u001b[32m'batch_input'\u001b[0m: \u001b[1m[\u001b[0m\u001b[1m]\u001b[0m,\n",
       "    \u001b[32m'batch_output'\u001b[0m: \u001b[1m[\u001b[0m\u001b[1m]\u001b[0m,\n",
       "    \u001b[32m'optimization'\u001b[0m: \u001b[1m{\u001b[0m\n",
       "        \u001b[32m'priority'\u001b[0m: \u001b[32m'PRIORITY_DEFAULT'\u001b[0m,\n",
       "        \u001b[32m'input_pinned_memory'\u001b[0m: \u001b[1m{\u001b[0m\u001b[32m'enable'\u001b[0m: \u001b[3;92mTrue\u001b[0m\u001b[1m}\u001b[0m,\n",
       "        \u001b[32m'output_pinned_memory'\u001b[0m: \u001b[1m{\u001b[0m\u001b[32m'enable'\u001b[0m: \u001b[3;92mTrue\u001b[0m\u001b[1m}\u001b[0m,\n",
       "        \u001b[32m'gather_kernel_buffer_threshold'\u001b[0m: \u001b[1;36m0\u001b[0m,\n",
       "        \u001b[32m'eager_batching'\u001b[0m: \u001b[3;91mFalse\u001b[0m\n",
       "    \u001b[1m}\u001b[0m,\n",
       "    \u001b[32m'dynamic_batching'\u001b[0m: \u001b[1m{\u001b[0m\n",
       "        \u001b[32m'preferred_batch_size'\u001b[0m: \u001b[1m[\u001b[0m\u001b[1;36m16\u001b[0m\u001b[1m]\u001b[0m,\n",
       "        \u001b[32m'max_queue_delay_microseconds'\u001b[0m: \u001b[1;36m0\u001b[0m,\n",
       "        \u001b[32m'preserve_ordering'\u001b[0m: \u001b[3;91mFalse\u001b[0m,\n",
       "        \u001b[32m'priority_levels'\u001b[0m: \u001b[1;36m0\u001b[0m,\n",
       "        \u001b[32m'default_priority_level'\u001b[0m: \u001b[1;36m0\u001b[0m,\n",
       "        \u001b[32m'priority_queue_policy'\u001b[0m: \u001b[1m{\u001b[0m\u001b[1m}\u001b[0m\n",
       "    \u001b[1m}\u001b[0m,\n",
       "    \u001b[32m'instance_group'\u001b[0m: \u001b[1m[\u001b[0m\n",
       "        \u001b[1m{\u001b[0m\n",
       "            \u001b[32m'name'\u001b[0m: \u001b[32m'model-sage-feather-1_copy_0'\u001b[0m,\n",
       "            \u001b[32m'kind'\u001b[0m: \u001b[32m'KIND_CPU'\u001b[0m,\n",
       "            \u001b[32m'count'\u001b[0m: \u001b[1;36m2\u001b[0m,\n",
       "            \u001b[32m'gpus'\u001b[0m: \u001b[1m[\u001b[0m\u001b[1m]\u001b[0m,\n",
       "            \u001b[32m'secondary_devices'\u001b[0m: \u001b[1m[\u001b[0m\u001b[1m]\u001b[0m,\n",
       "            \u001b[32m'profile'\u001b[0m: \u001b[1m[\u001b[0m\u001b[1m]\u001b[0m,\n",
       "            \u001b[32m'passive'\u001b[0m: \u001b[3;91mFalse\u001b[0m,\n",
       "            \u001b[32m'host_policy'\u001b[0m: \u001b[32m''\u001b[0m\n",
       "        \u001b[1m}\u001b[0m\n",
       "    \u001b[1m]\u001b[0m,\n",
       "    \u001b[32m'default_model_filename'\u001b[0m: \u001b[32m'model.savedmodel'\u001b[0m,\n",
       "    \u001b[32m'cc_model_filenames'\u001b[0m: \u001b[1m{\u001b[0m\u001b[1m}\u001b[0m,\n",
       "    \u001b[32m'metric_tags'\u001b[0m: \u001b[1m{\u001b[0m\u001b[1m}\u001b[0m,\n",
       "    \u001b[32m'parameters'\u001b[0m: \u001b[1m{\u001b[0m\u001b[1m}\u001b[0m,\n",
       "    \u001b[32m'model_warmup'\u001b[0m: \u001b[1m[\u001b[0m\u001b[1m]\u001b[0m\n",
       "\u001b[1m}\u001b[0m\n"
      ]
     },
     "metadata": {},
     "output_type": "display_data"
    }
   ],
   "source": [
    "print(configs[0])"
   ]
  },
  {
   "cell_type": "code",
   "execution_count": 54,
   "metadata": {},
   "outputs": [
    {
     "data": {
      "text/html": [
       "<pre style=\"white-space:pre;overflow-x:auto;line-height:normal;font-family:Menlo,'DejaVu Sans Mono',consolas,'Courier New',monospace\"><span style=\"color: #008080; text-decoration-color: #008080; font-weight: bold\">4</span>\n",
       "</pre>\n"
      ],
      "text/plain": [
       "\u001b[1;36m4\u001b[0m\n"
      ]
     },
     "metadata": {},
     "output_type": "display_data"
    }
   ],
   "source": [
    "for c in configs:\n",
    "    print(c.get('max_batch_size'))"
   ]
  },
  {
   "cell_type": "code",
   "execution_count": 56,
   "metadata": {},
   "outputs": [],
   "source": [
    "from google.protobuf.json_format import MessageToDict"
   ]
  },
  {
   "cell_type": "code",
   "execution_count": 62,
   "metadata": {},
   "outputs": [
    {
     "ename": "ImportError",
     "evalue": "cannot import name 'config_pb2' from 'tensorflow.core.framework' (/home/codespace/.python/current/lib/python3.10/site-packages/tensorflow/core/framework/__init__.py)",
     "output_type": "error",
     "traceback": [
      "\u001b[0;31m---------------------------------------------------------------------------\u001b[0m",
      "\u001b[0;31mImportError\u001b[0m                               Traceback (most recent call last)",
      "Cell \u001b[0;32mIn[62], line 1\u001b[0m\n\u001b[0;32m----> 1\u001b[0m \u001b[39mfrom\u001b[39;00m \u001b[39mtensorflow\u001b[39;00m\u001b[39m.\u001b[39;00m\u001b[39mcore\u001b[39;00m\u001b[39m.\u001b[39;00m\u001b[39mframework\u001b[39;00m \u001b[39mimport\u001b[39;00m config_pb2 \n",
      "\u001b[0;31mImportError\u001b[0m: cannot import name 'config_pb2' from 'tensorflow.core.framework' (/home/codespace/.python/current/lib/python3.10/site-packages/tensorflow/core/framework/__init__.py)"
     ]
    },
    {
     "name": "stderr",
     "output_type": "stream",
     "text": [
      "Bad pipe message: %s [b'\\xb2V\\x86$\\xf5\\x99\\x92\\x00U\\xdcUU\\xd9\\xac\\x08\\xe0\\x06^ \\xb34\\x0b{\\xc2Ql\\xe9\\xd8\\xc8\\xae~\\x88\\x85|\\xaa3\\x8e\\xe3\\xaf\\xa87\\x88\\x8a>Y.\\xb5', b'\\xdcJ\\x00\\x08\\x13\\x02\\x13\\x03\\x13\\x01\\x00\\xff\\x01\\x00\\x00\\x8f\\x00\\x00\\x00\\x0e\\x00\\x0c\\x00\\x00\\t127.0.0.1\\x00\\x0b\\x00\\x04\\x03\\x00\\x01\\x02\\x00\\n\\x00\\x0c\\x00\\n\\x00\\x1d\\x00\\x17\\x00\\x1e\\x00\\x19\\x00\\x18\\x00#\\x00']\n",
      "Bad pipe message: %s [b'\\x157\\x95\\xe3\\xed)\\xea\\x83T|~\\x13*\\x08\\x00\\x97a\\x16 \\xbe\\x95\\x10{\\xd8u \\xb9\\x9b\\xeb;\\xe1\\x9bf\\t\"\\xee\\xf5{\\x01k\\\\\\xb4 \\xc1\\xdd\\xfb\\xc51\\xb6\\xcb\\xac\\x00\\x08\\x13\\x02\\x13\\x03\\x13\\x01\\x00\\xff\\x01\\x00\\x00\\x8f\\x00\\x00\\x00\\x0e\\x00\\x0c\\x00\\x00\\t127.0.0.1\\x00\\x0b\\x00\\x04\\x03\\x00\\x01\\x02\\x00\\n\\x00\\x0c\\x00\\n\\x00\\x1d\\x00\\x17\\x00\\x1e\\x00\\x19\\x00\\x18\\x00#\\x00\\x00\\x00\\x16\\x00\\x00\\x00\\x17\\x00\\x00\\x00\\r\\x00\\x1e\\x00\\x1c\\x04\\x03\\x05\\x03\\x06\\x03\\x08\\x07\\x08\\x08\\x08\\t\\x08\\n\\x08', b'\\x04\\x08\\x05\\x08\\x06\\x04\\x01\\x05\\x01\\x06']\n",
      "Bad pipe message: %s [b'']\n",
      "Bad pipe message: %s [b\"0\\xbd'Q\\xf33\\xf2\\xa38\\xd8\\x0bEk\\xd6V<\\x0c \\x00\\x00\\xa6\\xc0,\\xc00\\x00\\xa3\\x00\\x9f\\xcc\\xa9\\xcc\\xa8\\xcc\\xaa\\xc0\\xaf\\xc0\\xad\\xc0\\xa3\\xc0\\x9f\\xc0]\\xc0a\\xc0W\\xc0S\\xc0+\\xc0/\\x00\\xa2\\x00\\x9e\\xc0\\xae\\xc0\\xac\\xc0\\xa2\\xc0\\x9e\\xc0\\\\\\xc0`\\xc0V\\xc0R\\xc0$\\xc0(\\x00k\\x00j\\xc0s\\xc0w\\x00\\xc4\\x00\\xc3\\xc0#\\xc0'\\x00g\\x00@\\xc0r\\xc0v\\x00\\xbe\\x00\\xbd\\xc0\\n\\xc0\\x14\\x009\\x008\\x00\\x88\\x00\\x87\\xc0\\t\\xc0\\x13\\x003\\x002\\x00\\x9a\\x00\\x99\\x00E\\x00D\\xc0\\x07\\xc0\\x11\\xc0\\x08\\xc0\\x12\\x00\\x16\\x00\\x13\\x00\\x9d\\xc0\\xa1\\xc0\\x9d\\xc0Q\\x00\\x9c\\xc0\\xa0\\xc0\\x9c\\xc0P\\x00=\\x00\\xc0\\x00<\\x00\\xba\\x005\\x00\\x84\\x00/\\x00\\x96\\x00A\\x00\\x05\\x00\\n\\x00\\xff\\x01\\x00\\x00j\\x00\\x00\\x00\\x0e\\x00\\x0c\\x00\\x00\\t127.0.0.1\\x00\\x0b\\x00\\x04\\x03\\x00\\x01\\x02\\x00\\n\\x00\\x0c\\x00\\n\\x00\\x1d\\x00\\x17\\x00\\x1e\\x00\\x19\\x00\\x18\\x00#\\x00\\x00\\x00\\x16\\x00\\x00\\x00\\x17\\x00\\x00\\x00\\r\\x000\\x00.\\x04\\x03\", b'\\x06\\x03\\x08\\x07', b'\\x08\\t\\x08\\n\\x08\\x0b\\x08']\n",
      "Bad pipe message: %s [b'\\x03\\x02\\x03\\x04\\x00-\\x00\\x02\\x01\\x01\\x003\\x00&\\x00$\\x00\\x1d\\x00 \\xc4\\xceU\\x074\\x0e\\x8c\\xf6]\\xcf7/T.\\x96\\x13\\xb7\\xb2v\\x16\\xa0_']\n",
      "Bad pipe message: %s [b'\\x05\\x08\\x06']\n",
      "Bad pipe message: %s [b'\\xe6;\\xa5\\xbc\\x08?\\x96t\\x83\\x9b\\xda\\xb9\\x97\\x87pSg\\xe2\\x00\\x00>\\xc0\\x14\\xc0\\n\\x009\\x008\\x00']\n",
      "Bad pipe message: %s [b'6\\xc0\\x0f\\xc0\\x05\\x005\\xc0\\x13\\xc0\\t\\x003\\x002\\x001\\x000\\xc0\\x0e\\xc0\\x04\\x00/\\x00\\x9a\\x00\\x99\\x00\\x98\\x00\\x97\\x00\\x96\\x00\\x07\\xc0\\x11\\xc0\\x07\\xc0\\x0c\\xc0\\x02\\x00\\x05\\x00\\x04\\x00\\xff\\x02\\x01\\x00']\n",
      "Bad pipe message: %s [b'\\x05\\x01\\x06', b'', b'\\x03\\x03']\n",
      "Bad pipe message: %s [b'']\n",
      "Bad pipe message: %s [b'', b'\\x02']\n",
      "Bad pipe message: %s [b'\\x05\\x02\\x06']\n",
      "Bad pipe message: %s [b'.\\x12F D;#\\xc5x\\xde+9;\\xc5k\\n\\x865\\x00\\x00>\\xc0\\x14\\xc0\\n\\x009\\x008\\x007\\x006\\xc0\\x0f\\xc0\\x05\\x005\\xc0\\x13\\xc0\\t\\x003\\x002\\x001\\x000\\xc0\\x0e\\xc0\\x04\\x00/\\x00\\x9a\\x00\\x99\\x00\\x98\\x00\\x97\\x00\\x96\\x00\\x07\\xc0\\x11\\xc0\\x07\\xc0']\n",
      "Bad pipe message: %s [b'\\x02\\x00\\x05\\x00\\x04\\x00\\xff\\x02\\x01\\x00\\x00']\n",
      "Bad pipe message: %s [b'\\x00\\x00\\x0e\\x00\\x0c\\x00\\x00\\t127.0.0.1\\x00\\x0b\\x00\\x04\\x03\\x00\\x01\\x02\\x00\\n\\x00\\x1c\\x00\\x1a\\x00\\x17\\x00\\x19\\x00\\x1c\\x00\\x1b\\x00\\x18\\x00\\x1a\\x00\\x16\\x00\\x0e\\x00\\r\\x00\\x0b\\x00\\x0c\\x00\\t\\x00\\n\\x00#\\x00\\x00\\x00\\x0f\\x00\\x01\\x01']\n",
      "Bad pipe message: %s [b\"-\\x7f\\x99z\\x9e\\xbdf'\\x07\\xb3\\xe3\\xe1\\xfd3\\xf9\\xad\\x08;\\x00\\x00\\xa2\\xc0\\x14\\xc0\\n\\x009\\x008\\x007\\x006\\x00\\x88\\x00\\x87\\x00\\x86\\x00\\x85\\xc0\\x19\\x00:\\x00\\x89\\xc0\\x0f\\xc0\\x05\\x005\\x00\\x84\\xc0\\x13\\xc0\"]\n",
      "Bad pipe message: %s [b'3\\x002\\x001\\x000\\x00']\n",
      "Bad pipe message: %s [b\"\\x1c\\xd1\\xf1\\xba\\xf2w\\xc2|\\xe0\\xe1\\x17AW\\xf9\\xe35'\\xe4\\x00\\x00\\xf4\\xc00\\xc0,\\xc0(\\xc0$\\xc0\\x14\\xc0\\n\\x00\\xa5\\x00\\xa3\\x00\\xa1\\x00\\x9f\\x00k\\x00j\\x00i\\x00h\\x009\\x008\\x007\\x006\\x00\\x88\"]\n"
     ]
    }
   ],
   "source": [
    "from tensorflow.core.framework import config_pb2 "
   ]
  },
  {
   "cell_type": "code",
   "execution_count": 60,
   "metadata": {},
   "outputs": [
    {
     "ename": "ParseError",
     "evalue": "1:1 : Message type \"tensorflow.GraphDef\" has no field named \"name\".",
     "output_type": "error",
     "traceback": [
      "\u001b[0;31m---------------------------------------------------------------------------\u001b[0m",
      "\u001b[0;31mParseError\u001b[0m                                Traceback (most recent call last)",
      "Cell \u001b[0;32mIn[60], line 6\u001b[0m\n\u001b[1;32m      3\u001b[0m gdef \u001b[39m=\u001b[39m gpb\u001b[39m.\u001b[39mGraphDef()\n\u001b[1;32m      5\u001b[0m \u001b[39mwith\u001b[39;00m \u001b[39mopen\u001b[39m(\u001b[39m'\u001b[39m\u001b[39mconfig.pbtxt\u001b[39m\u001b[39m'\u001b[39m) \u001b[39mas\u001b[39;00m f:\n\u001b[0;32m----> 6\u001b[0m     text_format\u001b[39m.\u001b[39;49mParse(f\u001b[39m.\u001b[39;49mread(), gdef)\n",
      "File \u001b[0;32m~/.python/current/lib/python3.10/site-packages/google/protobuf/text_format.py:682\u001b[0m, in \u001b[0;36mParse\u001b[0;34m(text, message, allow_unknown_extension, allow_field_number, descriptor_pool, allow_unknown_field)\u001b[0m\n\u001b[1;32m    632\u001b[0m \u001b[39mdef\u001b[39;00m \u001b[39mParse\u001b[39m(text,\n\u001b[1;32m    633\u001b[0m           message,\n\u001b[1;32m    634\u001b[0m           allow_unknown_extension\u001b[39m=\u001b[39m\u001b[39mFalse\u001b[39;00m,\n\u001b[1;32m    635\u001b[0m           allow_field_number\u001b[39m=\u001b[39m\u001b[39mFalse\u001b[39;00m,\n\u001b[1;32m    636\u001b[0m           descriptor_pool\u001b[39m=\u001b[39m\u001b[39mNone\u001b[39;00m,\n\u001b[1;32m    637\u001b[0m           allow_unknown_field\u001b[39m=\u001b[39m\u001b[39mFalse\u001b[39;00m):\n\u001b[1;32m    638\u001b[0m   \u001b[39m\"\"\"Parses a text representation of a protocol message into a message.\u001b[39;00m\n\u001b[1;32m    639\u001b[0m \n\u001b[1;32m    640\u001b[0m \u001b[39m  NOTE: for historical reasons this function does not clear the input\u001b[39;00m\n\u001b[0;32m   (...)\u001b[0m\n\u001b[1;32m    680\u001b[0m \u001b[39m    ParseError: On text parsing problems.\u001b[39;00m\n\u001b[1;32m    681\u001b[0m \u001b[39m  \"\"\"\u001b[39;00m\n\u001b[0;32m--> 682\u001b[0m   \u001b[39mreturn\u001b[39;00m ParseLines(text\u001b[39m.\u001b[39;49msplit(\u001b[39mb\u001b[39;49m\u001b[39m'\u001b[39;49m\u001b[39m\\n\u001b[39;49;00m\u001b[39m'\u001b[39;49m \u001b[39mif\u001b[39;49;00m \u001b[39misinstance\u001b[39;49m(text, \u001b[39mbytes\u001b[39;49m) \u001b[39melse\u001b[39;49;00m \u001b[39mu\u001b[39;49m\u001b[39m'\u001b[39;49m\u001b[39m\\n\u001b[39;49;00m\u001b[39m'\u001b[39;49m),\n\u001b[1;32m    683\u001b[0m                     message,\n\u001b[1;32m    684\u001b[0m                     allow_unknown_extension,\n\u001b[1;32m    685\u001b[0m                     allow_field_number,\n\u001b[1;32m    686\u001b[0m                     descriptor_pool\u001b[39m=\u001b[39;49mdescriptor_pool,\n\u001b[1;32m    687\u001b[0m                     allow_unknown_field\u001b[39m=\u001b[39;49mallow_unknown_field)\n",
      "File \u001b[0;32m~/.python/current/lib/python3.10/site-packages/google/protobuf/text_format.py:759\u001b[0m, in \u001b[0;36mParseLines\u001b[0;34m(lines, message, allow_unknown_extension, allow_field_number, descriptor_pool, allow_unknown_field)\u001b[0m\n\u001b[1;32m    734\u001b[0m \u001b[39m\"\"\"Parses a text representation of a protocol message into a message.\u001b[39;00m\n\u001b[1;32m    735\u001b[0m \n\u001b[1;32m    736\u001b[0m \u001b[39mSee Parse() for caveats.\u001b[39;00m\n\u001b[0;32m   (...)\u001b[0m\n\u001b[1;32m    753\u001b[0m \u001b[39m  ParseError: On text parsing problems.\u001b[39;00m\n\u001b[1;32m    754\u001b[0m \u001b[39m\"\"\"\u001b[39;00m\n\u001b[1;32m    755\u001b[0m parser \u001b[39m=\u001b[39m _Parser(allow_unknown_extension,\n\u001b[1;32m    756\u001b[0m                  allow_field_number,\n\u001b[1;32m    757\u001b[0m                  descriptor_pool\u001b[39m=\u001b[39mdescriptor_pool,\n\u001b[1;32m    758\u001b[0m                  allow_unknown_field\u001b[39m=\u001b[39mallow_unknown_field)\n\u001b[0;32m--> 759\u001b[0m \u001b[39mreturn\u001b[39;00m parser\u001b[39m.\u001b[39;49mParseLines(lines, message)\n",
      "File \u001b[0;32m~/.python/current/lib/python3.10/site-packages/google/protobuf/text_format.py:812\u001b[0m, in \u001b[0;36m_Parser.ParseLines\u001b[0;34m(self, lines, message)\u001b[0m\n\u001b[1;32m    810\u001b[0m \u001b[39m\"\"\"Parses a text representation of a protocol message into a message.\"\"\"\u001b[39;00m\n\u001b[1;32m    811\u001b[0m \u001b[39mself\u001b[39m\u001b[39m.\u001b[39m_allow_multiple_scalars \u001b[39m=\u001b[39m \u001b[39mFalse\u001b[39;00m\n\u001b[0;32m--> 812\u001b[0m \u001b[39mself\u001b[39;49m\u001b[39m.\u001b[39;49m_ParseOrMerge(lines, message)\n\u001b[1;32m    813\u001b[0m \u001b[39mreturn\u001b[39;00m message\n",
      "File \u001b[0;32m~/.python/current/lib/python3.10/site-packages/google/protobuf/text_format.py:837\u001b[0m, in \u001b[0;36m_Parser._ParseOrMerge\u001b[0;34m(self, lines, message)\u001b[0m\n\u001b[1;32m    835\u001b[0m tokenizer \u001b[39m=\u001b[39m Tokenizer(str_lines)\n\u001b[1;32m    836\u001b[0m \u001b[39mwhile\u001b[39;00m \u001b[39mnot\u001b[39;00m tokenizer\u001b[39m.\u001b[39mAtEnd():\n\u001b[0;32m--> 837\u001b[0m   \u001b[39mself\u001b[39;49m\u001b[39m.\u001b[39;49m_MergeField(tokenizer, message)\n",
      "File \u001b[0;32m~/.python/current/lib/python3.10/site-packages/google/protobuf/text_format.py:932\u001b[0m, in \u001b[0;36m_Parser._MergeField\u001b[0;34m(self, tokenizer, message)\u001b[0m\n\u001b[1;32m    929\u001b[0m       field \u001b[39m=\u001b[39m \u001b[39mNone\u001b[39;00m\n\u001b[1;32m    931\u001b[0m   \u001b[39mif\u001b[39;00m \u001b[39mnot\u001b[39;00m field \u001b[39mand\u001b[39;00m \u001b[39mnot\u001b[39;00m \u001b[39mself\u001b[39m\u001b[39m.\u001b[39mallow_unknown_field:\n\u001b[0;32m--> 932\u001b[0m     \u001b[39mraise\u001b[39;00m tokenizer\u001b[39m.\u001b[39mParseErrorPreviousToken(\n\u001b[1;32m    933\u001b[0m         \u001b[39m'\u001b[39m\u001b[39mMessage type \u001b[39m\u001b[39m\"\u001b[39m\u001b[39m%s\u001b[39;00m\u001b[39m\"\u001b[39m\u001b[39m has no field named \u001b[39m\u001b[39m\"\u001b[39m\u001b[39m%s\u001b[39;00m\u001b[39m\"\u001b[39m\u001b[39m.\u001b[39m\u001b[39m'\u001b[39m \u001b[39m%\u001b[39m\n\u001b[1;32m    934\u001b[0m         (message_descriptor\u001b[39m.\u001b[39mfull_name, name))\n\u001b[1;32m    936\u001b[0m \u001b[39mif\u001b[39;00m field:\n\u001b[1;32m    937\u001b[0m   \u001b[39mif\u001b[39;00m \u001b[39mnot\u001b[39;00m \u001b[39mself\u001b[39m\u001b[39m.\u001b[39m_allow_multiple_scalars \u001b[39mand\u001b[39;00m field\u001b[39m.\u001b[39mcontaining_oneof:\n\u001b[1;32m    938\u001b[0m     \u001b[39m# Check if there's a different field set in this oneof.\u001b[39;00m\n\u001b[1;32m    939\u001b[0m     \u001b[39m# Note that we ignore the case if the same field was set before, and we\u001b[39;00m\n\u001b[1;32m    940\u001b[0m     \u001b[39m# apply _allow_multiple_scalars to non-scalar fields as well.\u001b[39;00m\n",
      "\u001b[0;31mParseError\u001b[0m: 1:1 : Message type \"tensorflow.GraphDef\" has no field named \"name\"."
     ]
    }
   ],
   "source": [
    "from tensorflow.core.framework import graph_pb2 as gpb\n",
    "\n",
    "gdef = gpb.GraphDef()\n",
    "\n",
    "with open('config.pbtxt') as f:\n",
    "    text_format.Parse(f.read(), gdef)"
   ]
  },
  {
   "cell_type": "code",
   "execution_count": 59,
   "metadata": {},
   "outputs": [
    {
     "ename": "AttributeError",
     "evalue": "'str' object has no attribute 'DESCRIPTOR'",
     "output_type": "error",
     "traceback": [
      "\u001b[0;31m---------------------------------------------------------------------------\u001b[0m",
      "\u001b[0;31mAttributeError\u001b[0m                            Traceback (most recent call last)",
      "Cell \u001b[0;32mIn[59], line 1\u001b[0m\n\u001b[0;32m----> 1\u001b[0m MessageToDict(\u001b[39m'\u001b[39;49m\u001b[39mconfig.pbtxt\u001b[39;49m\u001b[39m'\u001b[39;49m)\n",
      "File \u001b[0;32m~/.python/current/lib/python3.10/site-packages/google/protobuf/json_format.py:165\u001b[0m, in \u001b[0;36mMessageToDict\u001b[0;34m(message, including_default_value_fields, preserving_proto_field_name, use_integers_for_enums, descriptor_pool, float_precision)\u001b[0m\n\u001b[1;32m    158\u001b[0m printer \u001b[39m=\u001b[39m _Printer(\n\u001b[1;32m    159\u001b[0m     including_default_value_fields,\n\u001b[1;32m    160\u001b[0m     preserving_proto_field_name,\n\u001b[1;32m    161\u001b[0m     use_integers_for_enums,\n\u001b[1;32m    162\u001b[0m     descriptor_pool,\n\u001b[1;32m    163\u001b[0m     float_precision\u001b[39m=\u001b[39mfloat_precision)\n\u001b[1;32m    164\u001b[0m \u001b[39m# pylint: disable=protected-access\u001b[39;00m\n\u001b[0;32m--> 165\u001b[0m \u001b[39mreturn\u001b[39;00m printer\u001b[39m.\u001b[39;49m_MessageToJsonObject(message)\n",
      "File \u001b[0;32m~/.python/current/lib/python3.10/site-packages/google/protobuf/json_format.py:199\u001b[0m, in \u001b[0;36m_Printer._MessageToJsonObject\u001b[0;34m(self, message)\u001b[0m\n\u001b[1;32m    197\u001b[0m \u001b[39mdef\u001b[39;00m \u001b[39m_MessageToJsonObject\u001b[39m(\u001b[39mself\u001b[39m, message):\n\u001b[1;32m    198\u001b[0m   \u001b[39m\"\"\"Converts message to an object according to Proto3 JSON Specification.\"\"\"\u001b[39;00m\n\u001b[0;32m--> 199\u001b[0m   message_descriptor \u001b[39m=\u001b[39m message\u001b[39m.\u001b[39;49mDESCRIPTOR\n\u001b[1;32m    200\u001b[0m   full_name \u001b[39m=\u001b[39m message_descriptor\u001b[39m.\u001b[39mfull_name\n\u001b[1;32m    201\u001b[0m   \u001b[39mif\u001b[39;00m _IsWrapperMessage(message_descriptor):\n",
      "\u001b[0;31mAttributeError\u001b[0m: 'str' object has no attribute 'DESCRIPTOR'"
     ]
    }
   ],
   "source": [
    "MessageToDict('config.pbtxt')"
   ]
  },
  {
   "cell_type": "code",
   "execution_count": null,
   "metadata": {},
   "outputs": [],
   "source": []
  }
 ],
 "metadata": {
  "kernelspec": {
   "display_name": "Python 3",
   "language": "python",
   "name": "python3"
  },
  "language_info": {
   "codemirror_mode": {
    "name": "ipython",
    "version": 3
   },
   "file_extension": ".py",
   "mimetype": "text/x-python",
   "name": "python",
   "nbconvert_exporter": "python",
   "pygments_lexer": "ipython3",
   "version": "3.10.4"
  },
  "orig_nbformat": 4,
  "vscode": {
   "interpreter": {
    "hash": "3ad933181bd8a04b432d3370b9dc3b0662ad032c4dfaa4e4f1596c548f763858"
   }
  }
 },
 "nbformat": 4,
 "nbformat_minor": 2
}
