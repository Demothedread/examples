{
 "cells": [
  {
   "cell_type": "markdown",
   "id": "f25c7d58-101e-4858-b424-0d65b743e0da",
   "metadata": {
    "tags": []
   },
   "source": [
    "# In this demo we will set up a launch agent that\n",
    "\n",
    "* retrains your model nightly\n",
    "\n",
    "* retrains your model when a git commit is pushed"
   ]
  },
  {
   "cell_type": "code",
   "execution_count": 1,
   "id": "dcf83968-5495-4ec4-bd9e-1a0db330a098",
   "metadata": {},
   "outputs": [
    {
     "name": "stdout",
     "output_type": "stream",
     "text": [
      "cuda\n"
     ]
    }
   ],
   "source": [
    "import typing\n",
    "from datetime import datetime\n",
    "import PIL\n",
    "import os\n",
    "\n",
    "import pprint\n",
    "import torch\n",
    "import torch.optim as optim\n",
    "import torch.nn.functional as F\n",
    "import torch.nn as nn\n",
    "from torchvision import datasets, transforms\n",
    "\n",
    "DEVICE = torch.device(\"cuda\" if torch.cuda.is_available() else \"cpu\")\n",
    "print(DEVICE)"
   ]
  },
  {
   "cell_type": "code",
   "execution_count": 5,
   "id": "58a54ab4-b349-4046-89c7-c4a624bd42a1",
   "metadata": {},
   "outputs": [
    {
     "name": "stdout",
     "output_type": "stream",
     "text": [
      "Found existing installation: wandb 0.12.20\n",
      "Uninstalling wandb-0.12.20:\n",
      "  Successfully uninstalled wandb-0.12.20\n",
      "\u001b[33mWARNING: Running pip as the 'root' user can result in broken permissions and conflicting behaviour with the system package manager. It is recommended to use a virtual environment instead: https://pip.pypa.io/warnings/venv\u001b[0m\u001b[33m\n",
      "\u001b[0m"
     ]
    }
   ],
   "source": [
    "!python3 -m pip uninstall -y wandb\n",
    "!python3 -m pip install \"wandb[launch]\" -qqq"
   ]
  },
  {
   "cell_type": "code",
   "execution_count": 6,
   "id": "a5e12ed9-ed57-4d43-ab2f-89a0cee6b9f2",
   "metadata": {},
   "outputs": [
    {
     "name": "stderr",
     "output_type": "stream",
     "text": [
      "\u001b[34m\u001b[1mwandb\u001b[0m: Logging into wandb.ai. (Learn how to deploy a W&B server locally: https://wandb.me/wandb-server)\n",
      "\u001b[34m\u001b[1mwandb\u001b[0m: You can find your API key in your browser here: https://wandb.ai/authorize\n"
     ]
    },
    {
     "name": "stdin",
     "output_type": "stream",
     "text": [
      "\u001b[34m\u001b[1mwandb\u001b[0m: Paste an API key from your profile and hit enter, or press ctrl+c to quit:  ········································\n"
     ]
    },
    {
     "name": "stderr",
     "output_type": "stream",
     "text": [
      "\u001b[34m\u001b[1mwandb\u001b[0m: Appending key for api.wandb.ai to your netrc file: /root/.netrc\n"
     ]
    },
    {
     "data": {
      "text/plain": [
       "True"
      ]
     },
     "execution_count": 6,
     "metadata": {},
     "output_type": "execute_result"
    }
   ],
   "source": [
    "import wandb\n",
    "wandb.login()"
   ]
  },
  {
   "cell_type": "code",
   "execution_count": 6,
   "id": "8e3b8d27-b932-42b5-aacf-cc1f188253d6",
   "metadata": {},
   "outputs": [
    {
     "name": "stdout",
     "output_type": "stream",
     "text": [
      "<class 'dict'>\n",
      "<class 'dict'>\n"
     ]
    }
   ],
   "source": [
    "import json"
   ]
  },
  {
   "cell_type": "code",
   "execution_count": 7,
   "id": "4f310e4f-6c18-473e-a5f4-82fbb09e157d",
   "metadata": {
    "tags": []
   },
   "outputs": [],
   "source": [
    "def get_transform():\n",
    "    transform = transforms.Compose(\n",
    "        [transforms.ToTensor(),\n",
    "         transforms.Normalize((0.1307,), (0.3081,))])\n",
    "    return transform\n",
    "\n",
    "\n",
    "def build_dataset(batch_size=100, train=True):\n",
    "    dataset = datasets.MNIST(\".\", train=train, download=False,\n",
    "        transform=get_transform())\n",
    "    if batch_size is None:\n",
    "        batch_size = dataset.data.shape[0]\n",
    "    loader = torch.utils.data.DataLoader(dataset, batch_size=batch_size)\n",
    "    return loader\n",
    "\n",
    "\n",
    "def build_network(fc_layer_size, dropout):\n",
    "    network = nn.Sequential(  # fully-connected, single hidden layer\n",
    "        nn.Flatten(),\n",
    "        nn.Linear(784, fc_layer_size), nn.ReLU(),\n",
    "        nn.Dropout(dropout),\n",
    "        nn.Linear(fc_layer_size, 10),\n",
    "        nn.LogSoftmax(dim=1))\n",
    "    return network.to(DEVICE)\n",
    "        \n",
    "\n",
    "def build_optimizer(network, optimizer, learning_rate):\n",
    "    optimizer = optim.Adam(network.parameters(),\n",
    "        lr=learning_rate)\n",
    "    return optimizer\n",
    "\n",
    "\n",
    "def train_epoch(network, loader, optimizer):\n",
    "    cumu_loss = 0\n",
    "    for _, (data, target) in enumerate(loader):\n",
    "        data, target = data.to(DEVICE), target.to(DEVICE)\n",
    "        optimizer.zero_grad()\n",
    "        loss = F.nll_loss(network(data), target)\n",
    "        cumu_loss += loss.item()\n",
    "        loss.backward()\n",
    "        optimizer.step()\n",
    "        wandb.log({\"batch loss\": loss.item()})\n",
    "    return cumu_loss / len(loader)\n",
    "\n",
    "\n",
    "def train(project='mnist_train', config=None):\n",
    "    with wandb.init(project=project, config=config):\n",
    "        config = wandb.config\n",
    "        loader = build_dataset(config.batch_size)\n",
    "        network = build_network(config.fc_layer_size, config.dropout)\n",
    "        optimizer = build_optimizer(network, config.optimizer, config.learning_rate)\n",
    "        for epoch in range(config.epochs):\n",
    "            avg_loss = train_epoch(network, loader, optimizer)\n",
    "            wandb.log({\"loss\": avg_loss, \"epoch\": epoch})\n",
    "    return network"
   ]
  },
  {
   "cell_type": "code",
   "execution_count": 10,
   "id": "e44c3488-d38e-4fb5-9604-f4a8f0e291cd",
   "metadata": {},
   "outputs": [],
   "source": [
    "entity = 'dpaiton'\n",
    "project = 'launch-mnist'\n",
    "\n",
    "# setup a git repo for the demo\n",
    "# push requirements (from docker dotfiles), \n",
    "# push a training script (above) & dataset script\n",
    "    # download mnist & upload as an artifact in a create_dataset run\n",
    "    # in the train script get the artifact\n",
    "# setup a cronjob shell script that runs the launch command nightly\n",
    "    # use my docker container\n",
    "    # retrain on mnist"
   ]
  },
  {
   "cell_type": "code",
   "execution_count": 7,
   "id": "6d9c8105-babc-480e-81ce-b0c91aa1565a",
   "metadata": {},
   "outputs": [
    {
     "name": "stdout",
     "output_type": "stream",
     "text": [
      "--2022-06-21 19:54:02--  http://www.di.ens.fr/~lelarge/MNIST.tar.gz\n",
      "Resolving www.di.ens.fr (www.di.ens.fr)... 129.199.99.14\n",
      "Connecting to www.di.ens.fr (www.di.ens.fr)|129.199.99.14|:80... connected.\n",
      "HTTP request sent, awaiting response... 302 Found\n",
      "Location: https://www.di.ens.fr/~lelarge/MNIST.tar.gz [following]\n",
      "--2022-06-21 19:54:03--  https://www.di.ens.fr/~lelarge/MNIST.tar.gz\n",
      "Connecting to www.di.ens.fr (www.di.ens.fr)|129.199.99.14|:443... connected.\n",
      "HTTP request sent, awaiting response... 200 OK\n",
      "Length: unspecified [application/x-gzip]\n",
      "Saving to: ‘MNIST.tar.gz’\n",
      "\n",
      "MNIST.tar.gz            [             <=>    ]  33.20M  11.3MB/s    in 2.9s    \n",
      "\n",
      "2022-06-21 19:54:07 (11.3 MB/s) - ‘MNIST.tar.gz’ saved [34813078]\n",
      "\n",
      "MNIST/\n",
      "MNIST/raw/\n",
      "MNIST/raw/train-labels-idx1-ubyte\n",
      "MNIST/raw/t10k-labels-idx1-ubyte.gz\n",
      "MNIST/raw/t10k-labels-idx1-ubyte\n",
      "MNIST/raw/t10k-images-idx3-ubyte.gz\n",
      "MNIST/raw/train-images-idx3-ubyte\n",
      "MNIST/raw/train-labels-idx1-ubyte.gz\n",
      "MNIST/raw/t10k-images-idx3-ubyte\n",
      "MNIST/raw/train-images-idx3-ubyte.gz\n",
      "MNIST/processed/\n",
      "MNIST/processed/training.pt\n",
      "MNIST/processed/test.pt\n"
     ]
    }
   ],
   "source": [
    "# workaround to fetch MNIST data\n",
    "if not os.path.exists('./MNIST'):\n",
    "    !wget www.di.ens.fr/~lelarge/MNIST.tar.gz\n",
    "    !tar -zxvf MNIST.tar.gz"
   ]
  },
  {
   "cell_type": "code",
   "execution_count": 8,
   "id": "d9a54590-5d5d-40ec-957a-abd5691c3186",
   "metadata": {},
   "outputs": [],
   "source": [
    "config = {\n",
    "    'fc_layer_size': 256,\n",
    "    'dropout': 0.5,\n",
    "    'epochs': 50,\n",
    "    'learning_rate': 0.005,\n",
    "    'batch_size': 128,\n",
    "    'optimizer': 'adam'\n",
    "}"
   ]
  },
  {
   "cell_type": "code",
   "execution_count": 9,
   "id": "436c33cb-6bee-4567-aaf7-c83a21803572",
   "metadata": {},
   "outputs": [
    {
     "name": "stderr",
     "output_type": "stream",
     "text": [
      "\u001b[34m\u001b[1mwandb\u001b[0m: Currently logged in as: \u001b[33mdpaiton\u001b[0m. Use \u001b[1m`wandb login --relogin`\u001b[0m to force relogin\n"
     ]
    },
    {
     "data": {
      "text/html": [
       "wandb version 0.12.18 is available!  To upgrade, please run:\n",
       " $ pip install wandb --upgrade"
      ],
      "text/plain": [
       "<IPython.core.display.HTML object>"
      ]
     },
     "metadata": {},
     "output_type": "display_data"
    },
    {
     "data": {
      "text/html": [
       "Tracking run with wandb version 0.12.17"
      ],
      "text/plain": [
       "<IPython.core.display.HTML object>"
      ]
     },
     "metadata": {},
     "output_type": "display_data"
    },
    {
     "data": {
      "text/html": [
       "Run data is saved locally in <code>/projects/wandb/run-20220621_195415-3iyjctgf</code>"
      ],
      "text/plain": [
       "<IPython.core.display.HTML object>"
      ]
     },
     "metadata": {},
     "output_type": "display_data"
    },
    {
     "data": {
      "text/html": [
       "Syncing run <strong><a href=\"https://wandb.ai/dpaiton/uncategorized/runs/3iyjctgf\" target=\"_blank\">resilient-field-1</a></strong> to <a href=\"https://wandb.ai/dpaiton/uncategorized\" target=\"_blank\">Weights & Biases</a> (<a href=\"https://wandb.me/run\" target=\"_blank\">docs</a>)<br/>"
      ],
      "text/plain": [
       "<IPython.core.display.HTML object>"
      ]
     },
     "metadata": {},
     "output_type": "display_data"
    },
    {
     "data": {
      "text/html": [
       "Waiting for W&B process to finish... <strong style=\"color:green\">(success).</strong>"
      ],
      "text/plain": [
       "<IPython.core.display.HTML object>"
      ]
     },
     "metadata": {},
     "output_type": "display_data"
    },
    {
     "data": {
      "application/vnd.jupyter.widget-view+json": {
       "model_id": "",
       "version_major": 2,
       "version_minor": 0
      },
      "text/plain": [
       "VBox(children=(Label(value='0.000 MB of 0.000 MB uploaded (0.000 MB deduped)\\r'), FloatProgress(value=1.0, max…"
      ]
     },
     "metadata": {},
     "output_type": "display_data"
    },
    {
     "data": {
      "text/html": [
       "<style>\n",
       "    table.wandb td:nth-child(1) { padding: 0 10px; text-align: left ; width: auto;} td:nth-child(2) {text-align: left ; width: 100%}\n",
       "    .wandb-row { display: flex; flex-direction: row; flex-wrap: wrap; justify-content: flex-start; width: 100% }\n",
       "    .wandb-col { display: flex; flex-direction: column; flex-basis: 100%; flex: 1; padding: 10px; }\n",
       "    </style>\n",
       "<div class=\"wandb-row\"><div class=\"wandb-col\"><h3>Run history:</h3><br/><table class=\"wandb\"><tr><td>batch loss</td><td>▄▅▃▄▃▃▃▄▄▂▃▁▃▅▃▃▂▃▃▄▁▃▃▃▂▃▃▂▂▁▃▃▄▂▅█▁▁▃▂</td></tr><tr><td>epoch</td><td>▁▁▁▁▂▂▂▂▂▃▃▃▃▃▃▄▄▄▄▄▅▅▅▅▅▅▆▆▆▆▆▆▇▇▇▇▇███</td></tr><tr><td>loss</td><td>█▅▄▄▃▃▃▃▃▃▂▂▂▂▂▂▂▂▂▂▂▁▂▂▂▂▁▂▁▁▂▂▁▁▁▁▁▁▁▁</td></tr></table><br/></div><div class=\"wandb-col\"><h3>Run summary:</h3><br/><table class=\"wandb\"><tr><td>batch loss</td><td>0.14563</td></tr><tr><td>epoch</td><td>49</td></tr><tr><td>loss</td><td>0.1713</td></tr></table><br/></div></div>"
      ],
      "text/plain": [
       "<IPython.core.display.HTML object>"
      ]
     },
     "metadata": {},
     "output_type": "display_data"
    },
    {
     "data": {
      "text/html": [
       "Synced <strong style=\"color:#cdcd00\">resilient-field-1</strong>: <a href=\"https://wandb.ai/dpaiton/uncategorized/runs/3iyjctgf\" target=\"_blank\">https://wandb.ai/dpaiton/uncategorized/runs/3iyjctgf</a><br/>Synced 4 W&B file(s), 0 media file(s), 0 artifact file(s) and 1 other file(s)"
      ],
      "text/plain": [
       "<IPython.core.display.HTML object>"
      ]
     },
     "metadata": {},
     "output_type": "display_data"
    },
    {
     "data": {
      "text/html": [
       "Find logs at: <code>./wandb/run-20220621_195415-3iyjctgf/logs</code>"
      ],
      "text/plain": [
       "<IPython.core.display.HTML object>"
      ]
     },
     "metadata": {},
     "output_type": "display_data"
    }
   ],
   "source": [
    "network = train(config=config)"
   ]
  },
  {
   "cell_type": "code",
   "execution_count": 12,
   "id": "49c46661-e986-4214-b9a6-d1aeb1897ac1",
   "metadata": {},
   "outputs": [
    {
     "name": "stdout",
     "output_type": "stream",
     "text": [
      "Network accuracy is 94.26%\n"
     ]
    }
   ],
   "source": [
    "test_loader = build_dataset(batch_size=None, train=False)\n",
    "test_images, test_labels = next(iter(test_loader))\n",
    "inferred_labels = network(test_images.to(DEVICE))\n",
    "\n",
    "_, predicted = torch.max(inferred_labels.data, 1)\n",
    "correct = (predicted == test_labels.to(DEVICE)).sum().item()\n",
    "accuracy = correct / test_labels.size(0)\n",
    "\n",
    "print(f'Network accuracy is {100 * accuracy}%')"
   ]
  },
  {
   "cell_type": "code",
   "execution_count": null,
   "id": "1c97dbe7-643d-4b9b-a618-6a94c7586178",
   "metadata": {},
   "outputs": [],
   "source": []
  }
 ],
 "metadata": {
  "kernelspec": {
   "display_name": "Python 3 (ipykernel)",
   "language": "python",
   "name": "python3"
  },
  "language_info": {
   "codemirror_mode": {
    "name": "ipython",
    "version": 3
   },
   "file_extension": ".py",
   "mimetype": "text/x-python",
   "name": "python",
   "nbconvert_exporter": "python",
   "pygments_lexer": "ipython3",
   "version": "3.8.10"
  }
 },
 "nbformat": 4,
 "nbformat_minor": 5
}
