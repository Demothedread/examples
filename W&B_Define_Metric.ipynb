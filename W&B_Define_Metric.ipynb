{
  "nbformat": 4,
  "nbformat_minor": 0,
  "metadata": {
    "colab": {
      "name": "W&B: Define Metric",
      "private_outputs": true,
      "provenance": [],
      "authorship_tag": "ABX9TyPJrYf3hl4LU8GlZzlYg/sO",
      "include_colab_link": true
    },
    "kernelspec": {
      "name": "python3",
      "display_name": "Python 3"
    },
    "language_info": {
      "name": "python"
    }
  },
  "cells": [
    {
      "cell_type": "markdown",
      "metadata": {
        "id": "view-in-github",
        "colab_type": "text"
      },
      "source": [
        "<a href=\"https://colab.research.google.com/github/wandb/examples/blob/master/W%26B_Define_Metric.ipynb\" target=\"_parent\"><img src=\"https://colab.research.google.com/assets/colab-badge.svg\" alt=\"Open In Colab\"/></a>"
      ]
    },
    {
      "cell_type": "markdown",
      "metadata": {
        "id": "MgJuQYWQThIn"
      },
      "source": [
        "# W&B Define Metric\n",
        "\n",
        "<!--- @wandbcode{define_metric} -->\n",
        "\n",
        "Use `define_metric` to set custom x-axes or capture the min and max values of your metrics. \n",
        "\n",
        "For more details, [see the docs](https://docs.wandb.ai/guides/track/log/plots#advanced-metric-logging). "
      ]
    },
    {
      "cell_type": "code",
      "metadata": {
        "id": "FKY00IgYTRd1"
      },
      "source": [
        "# Run this cell to set up the notebook imports\n",
        "!pip install wandb -qqq\n",
        "\n",
        "import wandb\n",
        "import random"
      ],
      "execution_count": null,
      "outputs": []
    },
    {
      "cell_type": "markdown",
      "metadata": {
        "id": "pX4xYbCce5DR"
      },
      "source": [
        "## Custom X Axis\n",
        "\n",
        "Here's how to set a custom step so your charts have a custom x-axis:\n",
        "```\n",
        "wandb.define_metric(\"my-metric\", step_metric='my-custom-x-axis')\n",
        "```"
      ]
    },
    {
      "cell_type": "code",
      "metadata": {
        "id": "4v1EnlLjTVv3"
      },
      "source": [
        "# Initalize a new run\n",
        "wandb.init(project=\"define-metric-demo\", notes=\"custom step\")\n",
        "\n",
        "# Define the custom x axis metric\n",
        "wandb.define_metric(\"custom_step\")\n",
        "\n",
        "# Define which metrics to plot against that x-axis\n",
        "wandb.define_metric(\"validation_loss\", step_metric='custom_step')\n",
        "for i in range(10):\n",
        "  log_dict = {\n",
        "      \"train_loss\": 1/(i+1),\n",
        "      \"custom_step\": i**2,\n",
        "      \"validation_loss\": 1/(i+1)   \n",
        "  }\n",
        "  wandb.log(log_dict)\n",
        "\n",
        "# Use this in the context of a jupyter notebook to mark a run finished\n",
        "wandb.finish()"
      ],
      "execution_count": null,
      "outputs": []
    },
    {
      "cell_type": "markdown",
      "metadata": {
        "id": "On62UEPZaSgz"
      },
      "source": [
        "Run the cell above and click on the link that prints out to see the dashboard. It will look something like this:\n",
        "- `train_loss` is plotted against the standard W&B internal step\n",
        "- `custom_step` is plotted too, so you can see how it increases over the W&B internal step\n",
        "- `validation_loss` is plotted against the `custom_step`, replacing the default with the x-axis as the W&B internal step\n",
        "\n",
        "\n",
        "![](https://i.imgur.com/jGcoAIV.png)"
      ]
    },
    {
      "cell_type": "markdown",
      "metadata": {
        "id": "gNjWWwF1fJ2N"
      },
      "source": [
        "## Min/Max of Metrics\n",
        "\n",
        "Each time you call `wandb.log()` to log a metric, you're writing to run `history`. The run `summary` saves a single value for each metric. By default, `summary` captures the final step of `history`. So if you log accuracy for 100 steps, your `history` will have all 100 steps and your `summary` will have just the final value for accuracy.\n",
        "\n",
        "Sometimes, you want to get the _best_ value instead of the _last_ value for a metric and save that to `summary`. That's where Define Metric comes in.\n",
        "\n",
        "Here, you can set `summary=` to either `max` or `min`.\n",
        "\n",
        "```\n",
        "wandb.define_metric(\"my-metric\", summary=\"max\")\n",
        "```"
      ]
    },
    {
      "cell_type": "code",
      "metadata": {
        "id": "lILtS8mMfSU7"
      },
      "source": [
        "random.seed(1)\n",
        "\n",
        "# Start a new run\n",
        "wandb.init(project=\"define-metric-demo\", notes=\"min of loss, max of acc\")\n",
        "\n",
        "# For loss, capture the min value from history in summary\n",
        "wandb.define_metric(\"loss\", summary=\"min\")\n",
        "\n",
        "# For acc, capture the max value from history in summary\n",
        "wandb.define_metric(\"acc\", summary=\"max\")\n",
        "\n",
        "# Simulate a training loop where we're logging metrics\n",
        "for i in range(10):\n",
        "  log_dict = {\n",
        "      \"loss\": random.uniform(0,1/(i+1)),\n",
        "      \"acc\": random.uniform(1/(i+1),1),\n",
        "  }\n",
        "  wandb.log(log_dict)\n",
        "\n",
        "# Mark the run as finished, useful in the context of Jupyter notebooks\n",
        "wandb.finish()"
      ],
      "execution_count": null,
      "outputs": []
    },
    {
      "cell_type": "markdown",
      "metadata": {
        "id": "edfi4qLVlgVH"
      },
      "source": [
        "Run the cell above and click on the link that prints out to see the dashboard. It will look something like this:\n",
        "- `acc.max` is visible in the sidebar, saved in the run summary\n",
        "- `loss.min` is visible in the sidebar, saved in the run summary\n",
        "\n",
        "You can see the summary values in the Project Page Table. Here I've pinned two columns in the sidebar, which you can see on the left.\n",
        "![](https://i.imgur.com/VaO9w25.png)"
      ]
    }
  ]
}