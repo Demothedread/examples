{
  "nbformat": 4,
  "nbformat_minor": 0,
  "metadata": {
    "colab": {
      "name": "W&B: Define Metric",
      "private_outputs": true,
      "provenance": [],
      "authorship_tag": "ABX9TyM3FtJrs/UnEmKq7+kgsKb4",
      "include_colab_link": true
    },
    "kernelspec": {
      "name": "python3",
      "display_name": "Python 3"
    },
    "language_info": {
      "name": "python"
    }
  },
  "cells": [
    {
      "cell_type": "markdown",
      "metadata": {
        "id": "view-in-github",
        "colab_type": "text"
      },
      "source": [
        "<a href=\"https://colab.research.google.com/github/wandb/examples/blob/master/W%26B_Define_Metric.ipynb\" target=\"_parent\"><img src=\"https://colab.research.google.com/assets/colab-badge.svg\" alt=\"Open In Colab\"/></a>"
      ]
    },
    {
      "cell_type": "markdown",
      "metadata": {
        "id": "MgJuQYWQThIn"
      },
      "source": [
        "# W&B Define Metric\n",
        "\n",
        "Use `define_metric` to set custom x-axes or capture the min and max values of your metrics. For more details, [see the docs](https://docs.wandb.ai/guides/track/log/plots#advanced-metric-logging). "
      ]
    },
    {
      "cell_type": "code",
      "metadata": {
        "id": "FKY00IgYTRd1"
      },
      "source": [
        "# Run this cell to set up the notebook imports\n",
        "!pip install wandb -qqq\n",
        "\n",
        "import wandb\n",
        "import random"
      ],
      "execution_count": null,
      "outputs": []
    },
    {
      "cell_type": "code",
      "metadata": {
        "id": "4v1EnlLjTVv3"
      },
      "source": [
        "# Initalize a new run\n",
        "wandb.init(project=\"define-metric-demo\")\n",
        "\n",
        "# Define the custom x axis metric\n",
        "wandb.define_metric(\"custom_step\")\n",
        "\n",
        "# Define which metrics to plot against that x-axis\n",
        "wandb.define_metric(\"validation_loss\", step_metric='custom_step')\n",
        "for i in range(10):\n",
        "  log_dict = {\n",
        "      \"train_loss\": 1/(i+1),\n",
        "      \"custom_step\": i**2,\n",
        "      \"validation_loss\": 1/(i+1)   \n",
        "  }\n",
        "  wandb.log(log_dict)\n",
        "\n",
        "# Use this in the context of a jupyter notebook to mark a run finished\n",
        "wandb.finish()"
      ],
      "execution_count": null,
      "outputs": []
    }
  ]
}